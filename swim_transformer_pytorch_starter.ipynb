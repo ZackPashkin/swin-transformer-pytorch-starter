{
  "nbformat": 4,
  "nbformat_minor": 0,
  "metadata": {
    "kernelspec": {
      "display_name": "Python 3",
      "language": "python",
      "name": "python3"
    },
    "language_info": {
      "codemirror_mode": {
        "name": "ipython",
        "version": 3
      },
      "file_extension": ".py",
      "mimetype": "text/x-python",
      "name": "python",
      "nbconvert_exporter": "python",
      "pygments_lexer": "ipython3",
      "version": "3.6.12"
    },
    "colab": {
      "name": "swim transformer pytorch starter.ipynb",
      "provenance": [],
      "include_colab_link": true
    },
    "accelerator": "GPU",
    "widgets": {
      "application/vnd.jupyter.widget-state+json": {
        "3047cd98e0c246d08b5900378db2c2f3": {
          "model_module": "@jupyter-widgets/controls",
          "model_name": "HBoxModel",
          "state": {
            "_view_name": "HBoxView",
            "_dom_classes": [],
            "_model_name": "HBoxModel",
            "_view_module": "@jupyter-widgets/controls",
            "_model_module_version": "1.5.0",
            "_view_count": null,
            "_view_module_version": "1.5.0",
            "box_style": "",
            "layout": "IPY_MODEL_f95e327f3e044c6bbc8d01541ad44c4b",
            "_model_module": "@jupyter-widgets/controls",
            "children": [
              "IPY_MODEL_b37dcec9350f4b34811bbd98e04b405d",
              "IPY_MODEL_c5674bbff87d490f8047c0e382aabd9f"
            ]
          }
        },
        "f95e327f3e044c6bbc8d01541ad44c4b": {
          "model_module": "@jupyter-widgets/base",
          "model_name": "LayoutModel",
          "state": {
            "_view_name": "LayoutView",
            "grid_template_rows": null,
            "right": null,
            "justify_content": null,
            "_view_module": "@jupyter-widgets/base",
            "overflow": null,
            "_model_module_version": "1.2.0",
            "_view_count": null,
            "flex_flow": null,
            "width": null,
            "min_width": null,
            "border": null,
            "align_items": null,
            "bottom": null,
            "_model_module": "@jupyter-widgets/base",
            "top": null,
            "grid_column": null,
            "overflow_y": null,
            "overflow_x": null,
            "grid_auto_flow": null,
            "grid_area": null,
            "grid_template_columns": null,
            "flex": null,
            "_model_name": "LayoutModel",
            "justify_items": null,
            "grid_row": null,
            "max_height": null,
            "align_content": null,
            "visibility": null,
            "align_self": null,
            "height": null,
            "min_height": null,
            "padding": null,
            "grid_auto_rows": null,
            "grid_gap": null,
            "max_width": null,
            "order": null,
            "_view_module_version": "1.2.0",
            "grid_template_areas": null,
            "object_position": null,
            "object_fit": null,
            "grid_auto_columns": null,
            "margin": null,
            "display": null,
            "left": null
          }
        },
        "b37dcec9350f4b34811bbd98e04b405d": {
          "model_module": "@jupyter-widgets/controls",
          "model_name": "FloatProgressModel",
          "state": {
            "_view_name": "ProgressView",
            "style": "IPY_MODEL_91c4dadb8a954c5fb0cbc80e7a089ba8",
            "_dom_classes": [],
            "description": "",
            "_model_name": "FloatProgressModel",
            "bar_style": "success",
            "max": 170498071,
            "_view_module": "@jupyter-widgets/controls",
            "_model_module_version": "1.5.0",
            "value": 170498071,
            "_view_count": null,
            "_view_module_version": "1.5.0",
            "orientation": "horizontal",
            "min": 0,
            "description_tooltip": null,
            "_model_module": "@jupyter-widgets/controls",
            "layout": "IPY_MODEL_0114bfefeeaf4177b9c5efedd4296162"
          }
        },
        "c5674bbff87d490f8047c0e382aabd9f": {
          "model_module": "@jupyter-widgets/controls",
          "model_name": "HTMLModel",
          "state": {
            "_view_name": "HTMLView",
            "style": "IPY_MODEL_3faa3f2c62be4b02a2bf67a02013c17b",
            "_dom_classes": [],
            "description": "",
            "_model_name": "HTMLModel",
            "placeholder": "​",
            "_view_module": "@jupyter-widgets/controls",
            "_model_module_version": "1.5.0",
            "value": " 170499072/? [00:08&lt;00:00, 20145993.77it/s]",
            "_view_count": null,
            "_view_module_version": "1.5.0",
            "description_tooltip": null,
            "_model_module": "@jupyter-widgets/controls",
            "layout": "IPY_MODEL_915fc9aab0204644bf458ec69f269a3b"
          }
        },
        "91c4dadb8a954c5fb0cbc80e7a089ba8": {
          "model_module": "@jupyter-widgets/controls",
          "model_name": "ProgressStyleModel",
          "state": {
            "_view_name": "StyleView",
            "_model_name": "ProgressStyleModel",
            "description_width": "initial",
            "_view_module": "@jupyter-widgets/base",
            "_model_module_version": "1.5.0",
            "_view_count": null,
            "_view_module_version": "1.2.0",
            "bar_color": null,
            "_model_module": "@jupyter-widgets/controls"
          }
        },
        "0114bfefeeaf4177b9c5efedd4296162": {
          "model_module": "@jupyter-widgets/base",
          "model_name": "LayoutModel",
          "state": {
            "_view_name": "LayoutView",
            "grid_template_rows": null,
            "right": null,
            "justify_content": null,
            "_view_module": "@jupyter-widgets/base",
            "overflow": null,
            "_model_module_version": "1.2.0",
            "_view_count": null,
            "flex_flow": null,
            "width": null,
            "min_width": null,
            "border": null,
            "align_items": null,
            "bottom": null,
            "_model_module": "@jupyter-widgets/base",
            "top": null,
            "grid_column": null,
            "overflow_y": null,
            "overflow_x": null,
            "grid_auto_flow": null,
            "grid_area": null,
            "grid_template_columns": null,
            "flex": null,
            "_model_name": "LayoutModel",
            "justify_items": null,
            "grid_row": null,
            "max_height": null,
            "align_content": null,
            "visibility": null,
            "align_self": null,
            "height": null,
            "min_height": null,
            "padding": null,
            "grid_auto_rows": null,
            "grid_gap": null,
            "max_width": null,
            "order": null,
            "_view_module_version": "1.2.0",
            "grid_template_areas": null,
            "object_position": null,
            "object_fit": null,
            "grid_auto_columns": null,
            "margin": null,
            "display": null,
            "left": null
          }
        },
        "3faa3f2c62be4b02a2bf67a02013c17b": {
          "model_module": "@jupyter-widgets/controls",
          "model_name": "DescriptionStyleModel",
          "state": {
            "_view_name": "StyleView",
            "_model_name": "DescriptionStyleModel",
            "description_width": "",
            "_view_module": "@jupyter-widgets/base",
            "_model_module_version": "1.5.0",
            "_view_count": null,
            "_view_module_version": "1.2.0",
            "_model_module": "@jupyter-widgets/controls"
          }
        },
        "915fc9aab0204644bf458ec69f269a3b": {
          "model_module": "@jupyter-widgets/base",
          "model_name": "LayoutModel",
          "state": {
            "_view_name": "LayoutView",
            "grid_template_rows": null,
            "right": null,
            "justify_content": null,
            "_view_module": "@jupyter-widgets/base",
            "overflow": null,
            "_model_module_version": "1.2.0",
            "_view_count": null,
            "flex_flow": null,
            "width": null,
            "min_width": null,
            "border": null,
            "align_items": null,
            "bottom": null,
            "_model_module": "@jupyter-widgets/base",
            "top": null,
            "grid_column": null,
            "overflow_y": null,
            "overflow_x": null,
            "grid_auto_flow": null,
            "grid_area": null,
            "grid_template_columns": null,
            "flex": null,
            "_model_name": "LayoutModel",
            "justify_items": null,
            "grid_row": null,
            "max_height": null,
            "align_content": null,
            "visibility": null,
            "align_self": null,
            "height": null,
            "min_height": null,
            "padding": null,
            "grid_auto_rows": null,
            "grid_gap": null,
            "max_width": null,
            "order": null,
            "_view_module_version": "1.2.0",
            "grid_template_areas": null,
            "object_position": null,
            "object_fit": null,
            "grid_auto_columns": null,
            "margin": null,
            "display": null,
            "left": null
          }
        },
        "a196af826d9d44ac87658ed78b1952a1": {
          "model_module": "@jupyter-widgets/controls",
          "model_name": "HBoxModel",
          "state": {
            "_view_name": "HBoxView",
            "_dom_classes": [],
            "_model_name": "HBoxModel",
            "_view_module": "@jupyter-widgets/controls",
            "_model_module_version": "1.5.0",
            "_view_count": null,
            "_view_module_version": "1.5.0",
            "box_style": "",
            "layout": "IPY_MODEL_ffdb05f8346645a5b818c74ef998d7da",
            "_model_module": "@jupyter-widgets/controls",
            "children": [
              "IPY_MODEL_59540e2401d24eae9f202d6b016497fb",
              "IPY_MODEL_b616f37c162d461bb24887ce804ab945"
            ]
          }
        },
        "ffdb05f8346645a5b818c74ef998d7da": {
          "model_module": "@jupyter-widgets/base",
          "model_name": "LayoutModel",
          "state": {
            "_view_name": "LayoutView",
            "grid_template_rows": null,
            "right": null,
            "justify_content": null,
            "_view_module": "@jupyter-widgets/base",
            "overflow": null,
            "_model_module_version": "1.2.0",
            "_view_count": null,
            "flex_flow": null,
            "width": null,
            "min_width": null,
            "border": null,
            "align_items": null,
            "bottom": null,
            "_model_module": "@jupyter-widgets/base",
            "top": null,
            "grid_column": null,
            "overflow_y": null,
            "overflow_x": null,
            "grid_auto_flow": null,
            "grid_area": null,
            "grid_template_columns": null,
            "flex": null,
            "_model_name": "LayoutModel",
            "justify_items": null,
            "grid_row": null,
            "max_height": null,
            "align_content": null,
            "visibility": null,
            "align_self": null,
            "height": null,
            "min_height": null,
            "padding": null,
            "grid_auto_rows": null,
            "grid_gap": null,
            "max_width": null,
            "order": null,
            "_view_module_version": "1.2.0",
            "grid_template_areas": null,
            "object_position": null,
            "object_fit": null,
            "grid_auto_columns": null,
            "margin": null,
            "display": null,
            "left": null
          }
        },
        "59540e2401d24eae9f202d6b016497fb": {
          "model_module": "@jupyter-widgets/controls",
          "model_name": "FloatProgressModel",
          "state": {
            "_view_name": "ProgressView",
            "style": "IPY_MODEL_4d45b885ccff42b9a15ce197d4ef0a14",
            "_dom_classes": [],
            "description": "Epoch:  10%",
            "_model_name": "FloatProgressModel",
            "bar_style": "",
            "max": 10,
            "_view_module": "@jupyter-widgets/controls",
            "_model_module_version": "1.5.0",
            "value": 1,
            "_view_count": null,
            "_view_module_version": "1.5.0",
            "orientation": "horizontal",
            "min": 0,
            "description_tooltip": null,
            "_model_module": "@jupyter-widgets/controls",
            "layout": "IPY_MODEL_ff70ae561daa4064a221c8d3127283b7"
          }
        },
        "b616f37c162d461bb24887ce804ab945": {
          "model_module": "@jupyter-widgets/controls",
          "model_name": "HTMLModel",
          "state": {
            "_view_name": "HTMLView",
            "style": "IPY_MODEL_8d2746a7f42248f1a64cf29748a4ead1",
            "_dom_classes": [],
            "description": "",
            "_model_name": "HTMLModel",
            "placeholder": "​",
            "_view_module": "@jupyter-widgets/controls",
            "_model_module_version": "1.5.0",
            "value": " 1/10 [07:52&lt;1:10:53, 472.58s/it]",
            "_view_count": null,
            "_view_module_version": "1.5.0",
            "description_tooltip": null,
            "_model_module": "@jupyter-widgets/controls",
            "layout": "IPY_MODEL_4f4dd19df77449ee973ba7c9da112673"
          }
        },
        "4d45b885ccff42b9a15ce197d4ef0a14": {
          "model_module": "@jupyter-widgets/controls",
          "model_name": "ProgressStyleModel",
          "state": {
            "_view_name": "StyleView",
            "_model_name": "ProgressStyleModel",
            "description_width": "initial",
            "_view_module": "@jupyter-widgets/base",
            "_model_module_version": "1.5.0",
            "_view_count": null,
            "_view_module_version": "1.2.0",
            "bar_color": null,
            "_model_module": "@jupyter-widgets/controls"
          }
        },
        "ff70ae561daa4064a221c8d3127283b7": {
          "model_module": "@jupyter-widgets/base",
          "model_name": "LayoutModel",
          "state": {
            "_view_name": "LayoutView",
            "grid_template_rows": null,
            "right": null,
            "justify_content": null,
            "_view_module": "@jupyter-widgets/base",
            "overflow": null,
            "_model_module_version": "1.2.0",
            "_view_count": null,
            "flex_flow": null,
            "width": null,
            "min_width": null,
            "border": null,
            "align_items": null,
            "bottom": null,
            "_model_module": "@jupyter-widgets/base",
            "top": null,
            "grid_column": null,
            "overflow_y": null,
            "overflow_x": null,
            "grid_auto_flow": null,
            "grid_area": null,
            "grid_template_columns": null,
            "flex": null,
            "_model_name": "LayoutModel",
            "justify_items": null,
            "grid_row": null,
            "max_height": null,
            "align_content": null,
            "visibility": null,
            "align_self": null,
            "height": null,
            "min_height": null,
            "padding": null,
            "grid_auto_rows": null,
            "grid_gap": null,
            "max_width": null,
            "order": null,
            "_view_module_version": "1.2.0",
            "grid_template_areas": null,
            "object_position": null,
            "object_fit": null,
            "grid_auto_columns": null,
            "margin": null,
            "display": null,
            "left": null
          }
        },
        "8d2746a7f42248f1a64cf29748a4ead1": {
          "model_module": "@jupyter-widgets/controls",
          "model_name": "DescriptionStyleModel",
          "state": {
            "_view_name": "StyleView",
            "_model_name": "DescriptionStyleModel",
            "description_width": "",
            "_view_module": "@jupyter-widgets/base",
            "_model_module_version": "1.5.0",
            "_view_count": null,
            "_view_module_version": "1.2.0",
            "_model_module": "@jupyter-widgets/controls"
          }
        },
        "4f4dd19df77449ee973ba7c9da112673": {
          "model_module": "@jupyter-widgets/base",
          "model_name": "LayoutModel",
          "state": {
            "_view_name": "LayoutView",
            "grid_template_rows": null,
            "right": null,
            "justify_content": null,
            "_view_module": "@jupyter-widgets/base",
            "overflow": null,
            "_model_module_version": "1.2.0",
            "_view_count": null,
            "flex_flow": null,
            "width": null,
            "min_width": null,
            "border": null,
            "align_items": null,
            "bottom": null,
            "_model_module": "@jupyter-widgets/base",
            "top": null,
            "grid_column": null,
            "overflow_y": null,
            "overflow_x": null,
            "grid_auto_flow": null,
            "grid_area": null,
            "grid_template_columns": null,
            "flex": null,
            "_model_name": "LayoutModel",
            "justify_items": null,
            "grid_row": null,
            "max_height": null,
            "align_content": null,
            "visibility": null,
            "align_self": null,
            "height": null,
            "min_height": null,
            "padding": null,
            "grid_auto_rows": null,
            "grid_gap": null,
            "max_width": null,
            "order": null,
            "_view_module_version": "1.2.0",
            "grid_template_areas": null,
            "object_position": null,
            "object_fit": null,
            "grid_auto_columns": null,
            "margin": null,
            "display": null,
            "left": null
          }
        },
        "84d5e993227d4201b00c2c7e1204e0af": {
          "model_module": "@jupyter-widgets/controls",
          "model_name": "HBoxModel",
          "state": {
            "_view_name": "HBoxView",
            "_dom_classes": [],
            "_model_name": "HBoxModel",
            "_view_module": "@jupyter-widgets/controls",
            "_model_module_version": "1.5.0",
            "_view_count": null,
            "_view_module_version": "1.5.0",
            "box_style": "",
            "layout": "IPY_MODEL_33b88c37cff646ffaba7a81d0ebe6f37",
            "_model_module": "@jupyter-widgets/controls",
            "children": [
              "IPY_MODEL_724834f732304ab3a8df2f06e61afd96",
              "IPY_MODEL_cbbdcadac07c41eca9694f4d98550103"
            ]
          }
        },
        "33b88c37cff646ffaba7a81d0ebe6f37": {
          "model_module": "@jupyter-widgets/base",
          "model_name": "LayoutModel",
          "state": {
            "_view_name": "LayoutView",
            "grid_template_rows": null,
            "right": null,
            "justify_content": null,
            "_view_module": "@jupyter-widgets/base",
            "overflow": null,
            "_model_module_version": "1.2.0",
            "_view_count": null,
            "flex_flow": null,
            "width": null,
            "min_width": null,
            "border": null,
            "align_items": null,
            "bottom": null,
            "_model_module": "@jupyter-widgets/base",
            "top": null,
            "grid_column": null,
            "overflow_y": null,
            "overflow_x": null,
            "grid_auto_flow": null,
            "grid_area": null,
            "grid_template_columns": null,
            "flex": null,
            "_model_name": "LayoutModel",
            "justify_items": null,
            "grid_row": null,
            "max_height": null,
            "align_content": null,
            "visibility": null,
            "align_self": null,
            "height": null,
            "min_height": null,
            "padding": null,
            "grid_auto_rows": null,
            "grid_gap": null,
            "max_width": null,
            "order": null,
            "_view_module_version": "1.2.0",
            "grid_template_areas": null,
            "object_position": null,
            "object_fit": null,
            "grid_auto_columns": null,
            "margin": null,
            "display": null,
            "left": null
          }
        },
        "724834f732304ab3a8df2f06e61afd96": {
          "model_module": "@jupyter-widgets/controls",
          "model_name": "FloatProgressModel",
          "state": {
            "_view_name": "ProgressView",
            "style": "IPY_MODEL_204b15f265184dbe839777265c515667",
            "_dom_classes": [],
            "description": "Train step: 100%",
            "_model_name": "FloatProgressModel",
            "bar_style": "success",
            "max": 391,
            "_view_module": "@jupyter-widgets/controls",
            "_model_module_version": "1.5.0",
            "value": 391,
            "_view_count": null,
            "_view_module_version": "1.5.0",
            "orientation": "horizontal",
            "min": 0,
            "description_tooltip": null,
            "_model_module": "@jupyter-widgets/controls",
            "layout": "IPY_MODEL_f175e6c03ebe483982e5fbfc824bde65"
          }
        },
        "cbbdcadac07c41eca9694f4d98550103": {
          "model_module": "@jupyter-widgets/controls",
          "model_name": "HTMLModel",
          "state": {
            "_view_name": "HTMLView",
            "style": "IPY_MODEL_8e3f691ee4674454a2ef6490d026e0e6",
            "_dom_classes": [],
            "description": "",
            "_model_name": "HTMLModel",
            "placeholder": "​",
            "_view_module": "@jupyter-widgets/controls",
            "_model_module_version": "1.5.0",
            "value": " 391/391 [07:20&lt;00:00,  1.13s/it, loss=1.67]",
            "_view_count": null,
            "_view_module_version": "1.5.0",
            "description_tooltip": null,
            "_model_module": "@jupyter-widgets/controls",
            "layout": "IPY_MODEL_19b9c3395f524e1da9fff9bf36e86395"
          }
        },
        "204b15f265184dbe839777265c515667": {
          "model_module": "@jupyter-widgets/controls",
          "model_name": "ProgressStyleModel",
          "state": {
            "_view_name": "StyleView",
            "_model_name": "ProgressStyleModel",
            "description_width": "initial",
            "_view_module": "@jupyter-widgets/base",
            "_model_module_version": "1.5.0",
            "_view_count": null,
            "_view_module_version": "1.2.0",
            "bar_color": null,
            "_model_module": "@jupyter-widgets/controls"
          }
        },
        "f175e6c03ebe483982e5fbfc824bde65": {
          "model_module": "@jupyter-widgets/base",
          "model_name": "LayoutModel",
          "state": {
            "_view_name": "LayoutView",
            "grid_template_rows": null,
            "right": null,
            "justify_content": null,
            "_view_module": "@jupyter-widgets/base",
            "overflow": null,
            "_model_module_version": "1.2.0",
            "_view_count": null,
            "flex_flow": null,
            "width": null,
            "min_width": null,
            "border": null,
            "align_items": null,
            "bottom": null,
            "_model_module": "@jupyter-widgets/base",
            "top": null,
            "grid_column": null,
            "overflow_y": null,
            "overflow_x": null,
            "grid_auto_flow": null,
            "grid_area": null,
            "grid_template_columns": null,
            "flex": null,
            "_model_name": "LayoutModel",
            "justify_items": null,
            "grid_row": null,
            "max_height": null,
            "align_content": null,
            "visibility": null,
            "align_self": null,
            "height": null,
            "min_height": null,
            "padding": null,
            "grid_auto_rows": null,
            "grid_gap": null,
            "max_width": null,
            "order": null,
            "_view_module_version": "1.2.0",
            "grid_template_areas": null,
            "object_position": null,
            "object_fit": null,
            "grid_auto_columns": null,
            "margin": null,
            "display": null,
            "left": null
          }
        },
        "8e3f691ee4674454a2ef6490d026e0e6": {
          "model_module": "@jupyter-widgets/controls",
          "model_name": "DescriptionStyleModel",
          "state": {
            "_view_name": "StyleView",
            "_model_name": "DescriptionStyleModel",
            "description_width": "",
            "_view_module": "@jupyter-widgets/base",
            "_model_module_version": "1.5.0",
            "_view_count": null,
            "_view_module_version": "1.2.0",
            "_model_module": "@jupyter-widgets/controls"
          }
        },
        "19b9c3395f524e1da9fff9bf36e86395": {
          "model_module": "@jupyter-widgets/base",
          "model_name": "LayoutModel",
          "state": {
            "_view_name": "LayoutView",
            "grid_template_rows": null,
            "right": null,
            "justify_content": null,
            "_view_module": "@jupyter-widgets/base",
            "overflow": null,
            "_model_module_version": "1.2.0",
            "_view_count": null,
            "flex_flow": null,
            "width": null,
            "min_width": null,
            "border": null,
            "align_items": null,
            "bottom": null,
            "_model_module": "@jupyter-widgets/base",
            "top": null,
            "grid_column": null,
            "overflow_y": null,
            "overflow_x": null,
            "grid_auto_flow": null,
            "grid_area": null,
            "grid_template_columns": null,
            "flex": null,
            "_model_name": "LayoutModel",
            "justify_items": null,
            "grid_row": null,
            "max_height": null,
            "align_content": null,
            "visibility": null,
            "align_self": null,
            "height": null,
            "min_height": null,
            "padding": null,
            "grid_auto_rows": null,
            "grid_gap": null,
            "max_width": null,
            "order": null,
            "_view_module_version": "1.2.0",
            "grid_template_areas": null,
            "object_position": null,
            "object_fit": null,
            "grid_auto_columns": null,
            "margin": null,
            "display": null,
            "left": null
          }
        },
        "4c8196c64fc54916b8819c62f78d735a": {
          "model_module": "@jupyter-widgets/controls",
          "model_name": "HBoxModel",
          "state": {
            "_view_name": "HBoxView",
            "_dom_classes": [],
            "_model_name": "HBoxModel",
            "_view_module": "@jupyter-widgets/controls",
            "_model_module_version": "1.5.0",
            "_view_count": null,
            "_view_module_version": "1.5.0",
            "box_style": "",
            "layout": "IPY_MODEL_e6ac17a6aef543aaad4e4d5bd38be4df",
            "_model_module": "@jupyter-widgets/controls",
            "children": [
              "IPY_MODEL_3d9df8e82e164130b33529248f6d896e",
              "IPY_MODEL_0af16f16125a4d4697f38d92f9f0c184"
            ]
          }
        },
        "e6ac17a6aef543aaad4e4d5bd38be4df": {
          "model_module": "@jupyter-widgets/base",
          "model_name": "LayoutModel",
          "state": {
            "_view_name": "LayoutView",
            "grid_template_rows": null,
            "right": null,
            "justify_content": null,
            "_view_module": "@jupyter-widgets/base",
            "overflow": null,
            "_model_module_version": "1.2.0",
            "_view_count": null,
            "flex_flow": null,
            "width": null,
            "min_width": null,
            "border": null,
            "align_items": null,
            "bottom": null,
            "_model_module": "@jupyter-widgets/base",
            "top": null,
            "grid_column": null,
            "overflow_y": null,
            "overflow_x": null,
            "grid_auto_flow": null,
            "grid_area": null,
            "grid_template_columns": null,
            "flex": null,
            "_model_name": "LayoutModel",
            "justify_items": null,
            "grid_row": null,
            "max_height": null,
            "align_content": null,
            "visibility": null,
            "align_self": null,
            "height": null,
            "min_height": null,
            "padding": null,
            "grid_auto_rows": null,
            "grid_gap": null,
            "max_width": null,
            "order": null,
            "_view_module_version": "1.2.0",
            "grid_template_areas": null,
            "object_position": null,
            "object_fit": null,
            "grid_auto_columns": null,
            "margin": null,
            "display": null,
            "left": null
          }
        },
        "3d9df8e82e164130b33529248f6d896e": {
          "model_module": "@jupyter-widgets/controls",
          "model_name": "FloatProgressModel",
          "state": {
            "_view_name": "ProgressView",
            "style": "IPY_MODEL_b8690d9ea6474eee88303684174087e0",
            "_dom_classes": [],
            "description": "Val step: 100%",
            "_model_name": "FloatProgressModel",
            "bar_style": "success",
            "max": 79,
            "_view_module": "@jupyter-widgets/controls",
            "_model_module_version": "1.5.0",
            "value": 79,
            "_view_count": null,
            "_view_module_version": "1.5.0",
            "orientation": "horizontal",
            "min": 0,
            "description_tooltip": null,
            "_model_module": "@jupyter-widgets/controls",
            "layout": "IPY_MODEL_b23fe04ef254495089d4b3abd5e58f87"
          }
        },
        "0af16f16125a4d4697f38d92f9f0c184": {
          "model_module": "@jupyter-widgets/controls",
          "model_name": "HTMLModel",
          "state": {
            "_view_name": "HTMLView",
            "style": "IPY_MODEL_e16861fa05b142f4a91cfe7d959fd281",
            "_dom_classes": [],
            "description": "",
            "_model_name": "HTMLModel",
            "placeholder": "​",
            "_view_module": "@jupyter-widgets/controls",
            "_model_module_version": "1.5.0",
            "value": " 79/79 [00:31&lt;00:00,  2.47it/s, loss=1.8]",
            "_view_count": null,
            "_view_module_version": "1.5.0",
            "description_tooltip": null,
            "_model_module": "@jupyter-widgets/controls",
            "layout": "IPY_MODEL_6f2067007494480e9b13add1e3b60b55"
          }
        },
        "b8690d9ea6474eee88303684174087e0": {
          "model_module": "@jupyter-widgets/controls",
          "model_name": "ProgressStyleModel",
          "state": {
            "_view_name": "StyleView",
            "_model_name": "ProgressStyleModel",
            "description_width": "initial",
            "_view_module": "@jupyter-widgets/base",
            "_model_module_version": "1.5.0",
            "_view_count": null,
            "_view_module_version": "1.2.0",
            "bar_color": null,
            "_model_module": "@jupyter-widgets/controls"
          }
        },
        "b23fe04ef254495089d4b3abd5e58f87": {
          "model_module": "@jupyter-widgets/base",
          "model_name": "LayoutModel",
          "state": {
            "_view_name": "LayoutView",
            "grid_template_rows": null,
            "right": null,
            "justify_content": null,
            "_view_module": "@jupyter-widgets/base",
            "overflow": null,
            "_model_module_version": "1.2.0",
            "_view_count": null,
            "flex_flow": null,
            "width": null,
            "min_width": null,
            "border": null,
            "align_items": null,
            "bottom": null,
            "_model_module": "@jupyter-widgets/base",
            "top": null,
            "grid_column": null,
            "overflow_y": null,
            "overflow_x": null,
            "grid_auto_flow": null,
            "grid_area": null,
            "grid_template_columns": null,
            "flex": null,
            "_model_name": "LayoutModel",
            "justify_items": null,
            "grid_row": null,
            "max_height": null,
            "align_content": null,
            "visibility": null,
            "align_self": null,
            "height": null,
            "min_height": null,
            "padding": null,
            "grid_auto_rows": null,
            "grid_gap": null,
            "max_width": null,
            "order": null,
            "_view_module_version": "1.2.0",
            "grid_template_areas": null,
            "object_position": null,
            "object_fit": null,
            "grid_auto_columns": null,
            "margin": null,
            "display": null,
            "left": null
          }
        },
        "e16861fa05b142f4a91cfe7d959fd281": {
          "model_module": "@jupyter-widgets/controls",
          "model_name": "DescriptionStyleModel",
          "state": {
            "_view_name": "StyleView",
            "_model_name": "DescriptionStyleModel",
            "description_width": "",
            "_view_module": "@jupyter-widgets/base",
            "_model_module_version": "1.5.0",
            "_view_count": null,
            "_view_module_version": "1.2.0",
            "_model_module": "@jupyter-widgets/controls"
          }
        },
        "6f2067007494480e9b13add1e3b60b55": {
          "model_module": "@jupyter-widgets/base",
          "model_name": "LayoutModel",
          "state": {
            "_view_name": "LayoutView",
            "grid_template_rows": null,
            "right": null,
            "justify_content": null,
            "_view_module": "@jupyter-widgets/base",
            "overflow": null,
            "_model_module_version": "1.2.0",
            "_view_count": null,
            "flex_flow": null,
            "width": null,
            "min_width": null,
            "border": null,
            "align_items": null,
            "bottom": null,
            "_model_module": "@jupyter-widgets/base",
            "top": null,
            "grid_column": null,
            "overflow_y": null,
            "overflow_x": null,
            "grid_auto_flow": null,
            "grid_area": null,
            "grid_template_columns": null,
            "flex": null,
            "_model_name": "LayoutModel",
            "justify_items": null,
            "grid_row": null,
            "max_height": null,
            "align_content": null,
            "visibility": null,
            "align_self": null,
            "height": null,
            "min_height": null,
            "padding": null,
            "grid_auto_rows": null,
            "grid_gap": null,
            "max_width": null,
            "order": null,
            "_view_module_version": "1.2.0",
            "grid_template_areas": null,
            "object_position": null,
            "object_fit": null,
            "grid_auto_columns": null,
            "margin": null,
            "display": null,
            "left": null
          }
        },
        "ad5aa7a02fc34bcdbf088a650560af32": {
          "model_module": "@jupyter-widgets/controls",
          "model_name": "HBoxModel",
          "state": {
            "_view_name": "HBoxView",
            "_dom_classes": [],
            "_model_name": "HBoxModel",
            "_view_module": "@jupyter-widgets/controls",
            "_model_module_version": "1.5.0",
            "_view_count": null,
            "_view_module_version": "1.5.0",
            "box_style": "",
            "layout": "IPY_MODEL_f8b109f06d5a4f64a81200696fac2032",
            "_model_module": "@jupyter-widgets/controls",
            "children": [
              "IPY_MODEL_eff20b1739434dcc8c19cf7b837be1f6",
              "IPY_MODEL_439e0fe4b7854d8fbc5bd7096d31d43a"
            ]
          }
        },
        "f8b109f06d5a4f64a81200696fac2032": {
          "model_module": "@jupyter-widgets/base",
          "model_name": "LayoutModel",
          "state": {
            "_view_name": "LayoutView",
            "grid_template_rows": null,
            "right": null,
            "justify_content": null,
            "_view_module": "@jupyter-widgets/base",
            "overflow": null,
            "_model_module_version": "1.2.0",
            "_view_count": null,
            "flex_flow": null,
            "width": null,
            "min_width": null,
            "border": null,
            "align_items": null,
            "bottom": null,
            "_model_module": "@jupyter-widgets/base",
            "top": null,
            "grid_column": null,
            "overflow_y": null,
            "overflow_x": null,
            "grid_auto_flow": null,
            "grid_area": null,
            "grid_template_columns": null,
            "flex": null,
            "_model_name": "LayoutModel",
            "justify_items": null,
            "grid_row": null,
            "max_height": null,
            "align_content": null,
            "visibility": null,
            "align_self": null,
            "height": null,
            "min_height": null,
            "padding": null,
            "grid_auto_rows": null,
            "grid_gap": null,
            "max_width": null,
            "order": null,
            "_view_module_version": "1.2.0",
            "grid_template_areas": null,
            "object_position": null,
            "object_fit": null,
            "grid_auto_columns": null,
            "margin": null,
            "display": null,
            "left": null
          }
        },
        "eff20b1739434dcc8c19cf7b837be1f6": {
          "model_module": "@jupyter-widgets/controls",
          "model_name": "FloatProgressModel",
          "state": {
            "_view_name": "ProgressView",
            "style": "IPY_MODEL_cc051e64bea84e8eb7a0226fc032722f",
            "_dom_classes": [],
            "description": "Train step:  11%",
            "_model_name": "FloatProgressModel",
            "bar_style": "",
            "max": 391,
            "_view_module": "@jupyter-widgets/controls",
            "_model_module_version": "1.5.0",
            "value": 43,
            "_view_count": null,
            "_view_module_version": "1.5.0",
            "orientation": "horizontal",
            "min": 0,
            "description_tooltip": null,
            "_model_module": "@jupyter-widgets/controls",
            "layout": "IPY_MODEL_4666ab1565904a4eb276bc0a88aad0be"
          }
        },
        "439e0fe4b7854d8fbc5bd7096d31d43a": {
          "model_module": "@jupyter-widgets/controls",
          "model_name": "HTMLModel",
          "state": {
            "_view_name": "HTMLView",
            "style": "IPY_MODEL_e7f7a5cc743f4dc89263451c0ab8da0a",
            "_dom_classes": [],
            "description": "",
            "_model_name": "HTMLModel",
            "placeholder": "​",
            "_view_module": "@jupyter-widgets/controls",
            "_model_module_version": "1.5.0",
            "value": " 43/391 [00:48&lt;06:33,  1.13s/it, loss=1.69]",
            "_view_count": null,
            "_view_module_version": "1.5.0",
            "description_tooltip": null,
            "_model_module": "@jupyter-widgets/controls",
            "layout": "IPY_MODEL_13067fb140e34fe4916393f1daf4ea29"
          }
        },
        "cc051e64bea84e8eb7a0226fc032722f": {
          "model_module": "@jupyter-widgets/controls",
          "model_name": "ProgressStyleModel",
          "state": {
            "_view_name": "StyleView",
            "_model_name": "ProgressStyleModel",
            "description_width": "initial",
            "_view_module": "@jupyter-widgets/base",
            "_model_module_version": "1.5.0",
            "_view_count": null,
            "_view_module_version": "1.2.0",
            "bar_color": null,
            "_model_module": "@jupyter-widgets/controls"
          }
        },
        "4666ab1565904a4eb276bc0a88aad0be": {
          "model_module": "@jupyter-widgets/base",
          "model_name": "LayoutModel",
          "state": {
            "_view_name": "LayoutView",
            "grid_template_rows": null,
            "right": null,
            "justify_content": null,
            "_view_module": "@jupyter-widgets/base",
            "overflow": null,
            "_model_module_version": "1.2.0",
            "_view_count": null,
            "flex_flow": null,
            "width": null,
            "min_width": null,
            "border": null,
            "align_items": null,
            "bottom": null,
            "_model_module": "@jupyter-widgets/base",
            "top": null,
            "grid_column": null,
            "overflow_y": null,
            "overflow_x": null,
            "grid_auto_flow": null,
            "grid_area": null,
            "grid_template_columns": null,
            "flex": null,
            "_model_name": "LayoutModel",
            "justify_items": null,
            "grid_row": null,
            "max_height": null,
            "align_content": null,
            "visibility": null,
            "align_self": null,
            "height": null,
            "min_height": null,
            "padding": null,
            "grid_auto_rows": null,
            "grid_gap": null,
            "max_width": null,
            "order": null,
            "_view_module_version": "1.2.0",
            "grid_template_areas": null,
            "object_position": null,
            "object_fit": null,
            "grid_auto_columns": null,
            "margin": null,
            "display": null,
            "left": null
          }
        },
        "e7f7a5cc743f4dc89263451c0ab8da0a": {
          "model_module": "@jupyter-widgets/controls",
          "model_name": "DescriptionStyleModel",
          "state": {
            "_view_name": "StyleView",
            "_model_name": "DescriptionStyleModel",
            "description_width": "",
            "_view_module": "@jupyter-widgets/base",
            "_model_module_version": "1.5.0",
            "_view_count": null,
            "_view_module_version": "1.2.0",
            "_model_module": "@jupyter-widgets/controls"
          }
        },
        "13067fb140e34fe4916393f1daf4ea29": {
          "model_module": "@jupyter-widgets/base",
          "model_name": "LayoutModel",
          "state": {
            "_view_name": "LayoutView",
            "grid_template_rows": null,
            "right": null,
            "justify_content": null,
            "_view_module": "@jupyter-widgets/base",
            "overflow": null,
            "_model_module_version": "1.2.0",
            "_view_count": null,
            "flex_flow": null,
            "width": null,
            "min_width": null,
            "border": null,
            "align_items": null,
            "bottom": null,
            "_model_module": "@jupyter-widgets/base",
            "top": null,
            "grid_column": null,
            "overflow_y": null,
            "overflow_x": null,
            "grid_auto_flow": null,
            "grid_area": null,
            "grid_template_columns": null,
            "flex": null,
            "_model_name": "LayoutModel",
            "justify_items": null,
            "grid_row": null,
            "max_height": null,
            "align_content": null,
            "visibility": null,
            "align_self": null,
            "height": null,
            "min_height": null,
            "padding": null,
            "grid_auto_rows": null,
            "grid_gap": null,
            "max_width": null,
            "order": null,
            "_view_module_version": "1.2.0",
            "grid_template_areas": null,
            "object_position": null,
            "object_fit": null,
            "grid_auto_columns": null,
            "margin": null,
            "display": null,
            "left": null
          }
        }
      }
    }
  },
  "cells": [
    {
      "cell_type": "markdown",
      "metadata": {
        "id": "view-in-github",
        "colab_type": "text"
      },
      "source": [
        "<a href=\"https://colab.research.google.com/github/ZackPashkin/swin-transformer-pytorch-starter/blob/main/swim_transformer_pytorch_starter.ipynb\" target=\"_parent\"><img src=\"https://colab.research.google.com/assets/colab-badge.svg\" alt=\"Open In Colab\"/></a>"
      ]
    },
    {
      "cell_type": "code",
      "metadata": {
        "colab": {
          "base_uri": "https://localhost:8080/"
        },
        "id": "3rxA3IT-LdVt",
        "outputId": "b37b03b3-c1b0-44c6-d86a-fc19db469a7e"
      },
      "source": [
        "!nvidia-smi"
      ],
      "execution_count": 1,
      "outputs": [
        {
          "output_type": "stream",
          "text": [
            "Tue Jul 20 03:33:57 2021       \n",
            "+-----------------------------------------------------------------------------+\n",
            "| NVIDIA-SMI 470.42.01    Driver Version: 460.32.03    CUDA Version: 11.2     |\n",
            "|-------------------------------+----------------------+----------------------+\n",
            "| GPU  Name        Persistence-M| Bus-Id        Disp.A | Volatile Uncorr. ECC |\n",
            "| Fan  Temp  Perf  Pwr:Usage/Cap|         Memory-Usage | GPU-Util  Compute M. |\n",
            "|                               |                      |               MIG M. |\n",
            "|===============================+======================+======================|\n",
            "|   0  Tesla P100-PCIE...  Off  | 00000000:00:04.0 Off |                    0 |\n",
            "| N/A   37C    P0    28W / 250W |      0MiB / 16280MiB |      0%      Default |\n",
            "|                               |                      |                  N/A |\n",
            "+-------------------------------+----------------------+----------------------+\n",
            "                                                                               \n",
            "+-----------------------------------------------------------------------------+\n",
            "| Processes:                                                                  |\n",
            "|  GPU   GI   CI        PID   Type   Process name                  GPU Memory |\n",
            "|        ID   ID                                                   Usage      |\n",
            "|=============================================================================|\n",
            "|  No running processes found                                                 |\n",
            "+-----------------------------------------------------------------------------+\n"
          ],
          "name": "stdout"
        }
      ]
    },
    {
      "cell_type": "code",
      "metadata": {
        "colab": {
          "base_uri": "https://localhost:8080/"
        },
        "id": "MOW4xCeNIF1Z",
        "outputId": "3b54af9c-4ed9-4c36-f5fc-37f18bf49e7b"
      },
      "source": [
        "!pip install swin_transformer_pytorch"
      ],
      "execution_count": 2,
      "outputs": [
        {
          "output_type": "stream",
          "text": [
            "Collecting swin_transformer_pytorch\n",
            "  Downloading swin_transformer_pytorch-0.4.1-py3-none-any.whl (11 kB)\n",
            "Collecting einops>=0.3.0\n",
            "  Downloading einops-0.3.0-py2.py3-none-any.whl (25 kB)\n",
            "Requirement already satisfied: torch>=1.8.1 in /usr/local/lib/python3.7/dist-packages (from swin_transformer_pytorch) (1.9.0+cu102)\n",
            "Requirement already satisfied: typing-extensions in /usr/local/lib/python3.7/dist-packages (from torch>=1.8.1->swin_transformer_pytorch) (3.7.4.3)\n",
            "Installing collected packages: einops, swin-transformer-pytorch\n",
            "Successfully installed einops-0.3.0 swin-transformer-pytorch-0.4.1\n"
          ],
          "name": "stdout"
        }
      ]
    },
    {
      "cell_type": "code",
      "metadata": {
        "id": "BRN28LmUAJyE"
      },
      "source": [
        "%matplotlib inline"
      ],
      "execution_count": 3,
      "outputs": []
    },
    {
      "cell_type": "code",
      "metadata": {
        "id": "Bb0WI13yAJyI"
      },
      "source": [
        "import torch\n",
        "import torchvision\n",
        "import torchvision.transforms as transforms\n",
        "import torch.nn as nn\n",
        "\n",
        "from swin_transformer_pytorch import SwinTransformer\n",
        "\n",
        "import matplotlib.pyplot as plt\n",
        "import numpy as np"
      ],
      "execution_count": 4,
      "outputs": []
    },
    {
      "cell_type": "code",
      "metadata": {
        "id": "vVHzEHkrEBzP"
      },
      "source": [
        "device = torch.device(\"cuda:0\" if torch.cuda.is_available() else \"cpu\")\n",
        "batch_size = 128\n",
        "epochs = 10"
      ],
      "execution_count": 5,
      "outputs": []
    },
    {
      "cell_type": "code",
      "metadata": {
        "id": "7Ew6WPmyAJyJ",
        "colab": {
          "base_uri": "https://localhost:8080/",
          "height": 117,
          "referenced_widgets": [
            "3047cd98e0c246d08b5900378db2c2f3",
            "f95e327f3e044c6bbc8d01541ad44c4b",
            "b37dcec9350f4b34811bbd98e04b405d",
            "c5674bbff87d490f8047c0e382aabd9f",
            "91c4dadb8a954c5fb0cbc80e7a089ba8",
            "0114bfefeeaf4177b9c5efedd4296162",
            "3faa3f2c62be4b02a2bf67a02013c17b",
            "915fc9aab0204644bf458ec69f269a3b"
          ]
        },
        "outputId": "70844c59-86fa-4621-8fb7-d0b9e8de26df"
      },
      "source": [
        "transform = transforms.Compose(\n",
        "    [transforms.Resize((224,224)),\n",
        "     transforms.ToTensor(),\n",
        "     transforms.Normalize((0.5, 0.5, 0.5), (0.5, 0.5, 0.5))])\n",
        "\n",
        "\n",
        "trainset = torchvision.datasets.CIFAR10(root='./data', train=True,\n",
        "                                        download=True, transform=transform)\n",
        "\n",
        "trainloader = torch.utils.data.DataLoader(trainset, batch_size=batch_size,\n",
        "                                          shuffle=True, num_workers=2)\n",
        "\n",
        "\n",
        "valset = torchvision.datasets.CIFAR10(root='./data', train=False,\n",
        "                                       download=True, transform=transform)\n",
        "\n",
        "valloader = torch.utils.data.DataLoader(valset, batch_size=batch_size,\n",
        "                                         shuffle=False, num_workers=2)\n",
        "\n",
        "classes = ('plane', 'car', 'bird', 'cat',\n",
        "           'deer', 'dog', 'frog', 'horse', 'ship', 'truck')"
      ],
      "execution_count": 6,
      "outputs": [
        {
          "output_type": "stream",
          "text": [
            "Downloading https://www.cs.toronto.edu/~kriz/cifar-10-python.tar.gz to ./data/cifar-10-python.tar.gz\n"
          ],
          "name": "stdout"
        },
        {
          "output_type": "display_data",
          "data": {
            "application/vnd.jupyter.widget-view+json": {
              "model_id": "3047cd98e0c246d08b5900378db2c2f3",
              "version_minor": 0,
              "version_major": 2
            },
            "text/plain": [
              "HBox(children=(FloatProgress(value=0.0, max=170498071.0), HTML(value='')))"
            ]
          },
          "metadata": {
            "tags": []
          }
        },
        {
          "output_type": "stream",
          "text": [
            "\n",
            "Extracting ./data/cifar-10-python.tar.gz to ./data\n",
            "Files already downloaded and verified\n"
          ],
          "name": "stdout"
        }
      ]
    },
    {
      "cell_type": "code",
      "metadata": {
        "id": "1B20jtiOAJyK",
        "colab": {
          "base_uri": "https://localhost:8080/",
          "height": 306
        },
        "outputId": "3cd684dd-3c7f-4a1b-8228-12eacf919915"
      },
      "source": [
        "def imshow(img):\n",
        "    img = img / 2 + 0.5     # unnormalize\n",
        "    npimg = img.numpy()\n",
        "    plt.imshow(np.transpose(npimg, (1, 2, 0)))\n",
        "    plt.show()\n",
        "\n",
        "\n",
        "# get some random training images\n",
        "dataiter = iter(trainloader)\n",
        "images, labels = dataiter.next()\n",
        "\n",
        "# show images\n",
        "imshow(torchvision.utils.make_grid(images))\n",
        "# print labels\n",
        "print(' '.join('%5s' % classes[labels[j]] for j in range(batch_size)))"
      ],
      "execution_count": 7,
      "outputs": [
        {
          "output_type": "display_data",
          "data": {
            "image/png": "[encoded data removed]",
            "text/plain": [
              "<Figure size 432x288 with 1 Axes>"
            ]
          },
          "metadata": {
            "tags": [],
            "needs_background": "light"
          }
        },
        {
          "output_type": "stream",
          "text": [
            "truck   dog  frog  frog  bird   cat  frog horse horse   cat truck   car horse truck plane  bird   car horse  bird horse horse plane  deer  deer horse truck  deer   cat  bird  frog plane truck plane   cat  frog   cat  deer   dog   dog   car   dog   cat  ship  bird  frog  ship   dog  deer truck  deer truck  bird  ship  frog   car  frog horse   dog truck  deer  deer plane  ship   cat horse plane   dog   cat  frog   dog  deer  deer   car  ship   cat  deer plane  ship horse plane  frog   cat  bird   car  bird  deer  frog horse   dog   dog  frog   car   cat plane  bird   dog  bird   car horse horse   car   cat  ship  deer horse  ship  bird truck   car  ship  deer  ship  frog truck   car truck   car   car   car truck  ship   car plane   dog plane   car  bird  deer\n"
          ],
          "name": "stdout"
        }
      ]
    },
    {
      "cell_type": "code",
      "metadata": {
        "id": "ZOqJdc5_B_en"
      },
      "source": [
        "net = SwinTransformer(\n",
        "    hidden_dim=96,\n",
        "    layers=(2, 2, 6, 2),\n",
        "    heads=(3, 6, 12, 24),\n",
        "    channels=3,\n",
        "    num_classes=10,\n",
        "    head_dim=32,\n",
        "    window_size=7,\n",
        "    downscaling_factors=(4, 2, 2, 2),\n",
        "    relative_pos_embedding=True\n",
        ")\n",
        "dummy_x = torch.randn(1, 3, 224, 224)\n",
        "logits = net(dummy_x)  # (1,3)\n",
        "net = net.to(device)"
      ],
      "execution_count": 8,
      "outputs": []
    },
    {
      "cell_type": "code",
      "metadata": {
        "id": "nrjPYpdsIWj6"
      },
      "source": [
        "# print(net)\n",
        "# print(logits)"
      ],
      "execution_count": 9,
      "outputs": []
    },
    {
      "cell_type": "code",
      "metadata": {
        "colab": {
          "base_uri": "https://localhost:8080/"
        },
        "id": "a8lwq9-yH9bv",
        "outputId": "bd32baeb-d992-4696-d6cd-df4d4feef6aa"
      },
      "source": [
        "# model description\n",
        "from torchsummary import summary\n",
        "summary(net,(3, 224, 224))"
      ],
      "execution_count": 10,
      "outputs": [
        {
          "output_type": "stream",
          "text": [
            "----------------------------------------------------------------\n",
            "        Layer (type)               Output Shape         Param #\n",
            "================================================================\n",
            "            Unfold-1             [-1, 48, 3136]               0\n",
            "            Linear-2           [-1, 56, 56, 96]           4,704\n",
            "      PatchMerging-3           [-1, 56, 56, 96]               0\n",
            "         LayerNorm-4           [-1, 56, 56, 96]             192\n",
            "            Linear-5          [-1, 56, 56, 288]          27,648\n",
            "            Linear-6           [-1, 56, 56, 96]           9,312\n",
            "   WindowAttention-7           [-1, 56, 56, 96]               0\n",
            "           PreNorm-8           [-1, 56, 56, 96]               0\n",
            "          Residual-9           [-1, 56, 56, 96]               0\n",
            "        LayerNorm-10           [-1, 56, 56, 96]             192\n",
            "           Linear-11          [-1, 56, 56, 384]          37,248\n",
            "             GELU-12          [-1, 56, 56, 384]               0\n",
            "           Linear-13           [-1, 56, 56, 96]          36,960\n",
            "      FeedForward-14           [-1, 56, 56, 96]               0\n",
            "          PreNorm-15           [-1, 56, 56, 96]               0\n",
            "         Residual-16           [-1, 56, 56, 96]               0\n",
            "        SwinBlock-17           [-1, 56, 56, 96]               0\n",
            "        LayerNorm-18           [-1, 56, 56, 96]             192\n",
            "      CyclicShift-19           [-1, 56, 56, 96]               0\n",
            "           Linear-20          [-1, 56, 56, 288]          27,648\n",
            "           Linear-21           [-1, 56, 56, 96]           9,312\n",
            "      CyclicShift-22           [-1, 56, 56, 96]               0\n",
            "  WindowAttention-23           [-1, 56, 56, 96]               0\n",
            "          PreNorm-24           [-1, 56, 56, 96]               0\n",
            "         Residual-25           [-1, 56, 56, 96]               0\n",
            "        LayerNorm-26           [-1, 56, 56, 96]             192\n",
            "           Linear-27          [-1, 56, 56, 384]          37,248\n",
            "             GELU-28          [-1, 56, 56, 384]               0\n",
            "           Linear-29           [-1, 56, 56, 96]          36,960\n",
            "      FeedForward-30           [-1, 56, 56, 96]               0\n",
            "          PreNorm-31           [-1, 56, 56, 96]               0\n",
            "         Residual-32           [-1, 56, 56, 96]               0\n",
            "        SwinBlock-33           [-1, 56, 56, 96]               0\n",
            "      StageModule-34           [-1, 96, 56, 56]               0\n",
            "           Unfold-35             [-1, 384, 784]               0\n",
            "           Linear-36          [-1, 28, 28, 192]          73,920\n",
            "     PatchMerging-37          [-1, 28, 28, 192]               0\n",
            "        LayerNorm-38          [-1, 28, 28, 192]             384\n",
            "           Linear-39          [-1, 28, 28, 576]         110,592\n",
            "           Linear-40          [-1, 28, 28, 192]          37,056\n",
            "  WindowAttention-41          [-1, 28, 28, 192]               0\n",
            "          PreNorm-42          [-1, 28, 28, 192]               0\n",
            "         Residual-43          [-1, 28, 28, 192]               0\n",
            "        LayerNorm-44          [-1, 28, 28, 192]             384\n",
            "           Linear-45          [-1, 28, 28, 768]         148,224\n",
            "             GELU-46          [-1, 28, 28, 768]               0\n",
            "           Linear-47          [-1, 28, 28, 192]         147,648\n",
            "      FeedForward-48          [-1, 28, 28, 192]               0\n",
            "          PreNorm-49          [-1, 28, 28, 192]               0\n",
            "         Residual-50          [-1, 28, 28, 192]               0\n",
            "        SwinBlock-51          [-1, 28, 28, 192]               0\n",
            "        LayerNorm-52          [-1, 28, 28, 192]             384\n",
            "      CyclicShift-53          [-1, 28, 28, 192]               0\n",
            "           Linear-54          [-1, 28, 28, 576]         110,592\n",
            "           Linear-55          [-1, 28, 28, 192]          37,056\n",
            "      CyclicShift-56          [-1, 28, 28, 192]               0\n",
            "  WindowAttention-57          [-1, 28, 28, 192]               0\n",
            "          PreNorm-58          [-1, 28, 28, 192]               0\n",
            "         Residual-59          [-1, 28, 28, 192]               0\n",
            "        LayerNorm-60          [-1, 28, 28, 192]             384\n",
            "           Linear-61          [-1, 28, 28, 768]         148,224\n",
            "             GELU-62          [-1, 28, 28, 768]               0\n",
            "           Linear-63          [-1, 28, 28, 192]         147,648\n",
            "      FeedForward-64          [-1, 28, 28, 192]               0\n",
            "          PreNorm-65          [-1, 28, 28, 192]               0\n",
            "         Residual-66          [-1, 28, 28, 192]               0\n",
            "        SwinBlock-67          [-1, 28, 28, 192]               0\n",
            "      StageModule-68          [-1, 192, 28, 28]               0\n",
            "           Unfold-69             [-1, 768, 196]               0\n",
            "           Linear-70          [-1, 14, 14, 384]         295,296\n",
            "     PatchMerging-71          [-1, 14, 14, 384]               0\n",
            "        LayerNorm-72          [-1, 14, 14, 384]             768\n",
            "           Linear-73         [-1, 14, 14, 1152]         442,368\n",
            "           Linear-74          [-1, 14, 14, 384]         147,840\n",
            "  WindowAttention-75          [-1, 14, 14, 384]               0\n",
            "          PreNorm-76          [-1, 14, 14, 384]               0\n",
            "         Residual-77          [-1, 14, 14, 384]               0\n",
            "        LayerNorm-78          [-1, 14, 14, 384]             768\n",
            "           Linear-79         [-1, 14, 14, 1536]         591,360\n",
            "             GELU-80         [-1, 14, 14, 1536]               0\n",
            "           Linear-81          [-1, 14, 14, 384]         590,208\n",
            "      FeedForward-82          [-1, 14, 14, 384]               0\n",
            "          PreNorm-83          [-1, 14, 14, 384]               0\n",
            "         Residual-84          [-1, 14, 14, 384]               0\n",
            "        SwinBlock-85          [-1, 14, 14, 384]               0\n",
            "        LayerNorm-86          [-1, 14, 14, 384]             768\n",
            "      CyclicShift-87          [-1, 14, 14, 384]               0\n",
            "           Linear-88         [-1, 14, 14, 1152]         442,368\n",
            "           Linear-89          [-1, 14, 14, 384]         147,840\n",
            "      CyclicShift-90          [-1, 14, 14, 384]               0\n",
            "  WindowAttention-91          [-1, 14, 14, 384]               0\n",
            "          PreNorm-92          [-1, 14, 14, 384]               0\n",
            "         Residual-93          [-1, 14, 14, 384]               0\n",
            "        LayerNorm-94          [-1, 14, 14, 384]             768\n",
            "           Linear-95         [-1, 14, 14, 1536]         591,360\n",
            "             GELU-96         [-1, 14, 14, 1536]               0\n",
            "           Linear-97          [-1, 14, 14, 384]         590,208\n",
            "      FeedForward-98          [-1, 14, 14, 384]               0\n",
            "          PreNorm-99          [-1, 14, 14, 384]               0\n",
            "        Residual-100          [-1, 14, 14, 384]               0\n",
            "       SwinBlock-101          [-1, 14, 14, 384]               0\n",
            "       LayerNorm-102          [-1, 14, 14, 384]             768\n",
            "          Linear-103         [-1, 14, 14, 1152]         442,368\n",
            "          Linear-104          [-1, 14, 14, 384]         147,840\n",
            " WindowAttention-105          [-1, 14, 14, 384]               0\n",
            "         PreNorm-106          [-1, 14, 14, 384]               0\n",
            "        Residual-107          [-1, 14, 14, 384]               0\n",
            "       LayerNorm-108          [-1, 14, 14, 384]             768\n",
            "          Linear-109         [-1, 14, 14, 1536]         591,360\n",
            "            GELU-110         [-1, 14, 14, 1536]               0\n",
            "          Linear-111          [-1, 14, 14, 384]         590,208\n",
            "     FeedForward-112          [-1, 14, 14, 384]               0\n",
            "         PreNorm-113          [-1, 14, 14, 384]               0\n",
            "        Residual-114          [-1, 14, 14, 384]               0\n",
            "       SwinBlock-115          [-1, 14, 14, 384]               0\n",
            "       LayerNorm-116          [-1, 14, 14, 384]             768\n",
            "     CyclicShift-117          [-1, 14, 14, 384]               0\n",
            "          Linear-118         [-1, 14, 14, 1152]         442,368\n",
            "          Linear-119          [-1, 14, 14, 384]         147,840\n",
            "     CyclicShift-120          [-1, 14, 14, 384]               0\n",
            " WindowAttention-121          [-1, 14, 14, 384]               0\n",
            "         PreNorm-122          [-1, 14, 14, 384]               0\n",
            "        Residual-123          [-1, 14, 14, 384]               0\n",
            "       LayerNorm-124          [-1, 14, 14, 384]             768\n",
            "          Linear-125         [-1, 14, 14, 1536]         591,360\n",
            "            GELU-126         [-1, 14, 14, 1536]               0\n",
            "          Linear-127          [-1, 14, 14, 384]         590,208\n",
            "     FeedForward-128          [-1, 14, 14, 384]               0\n",
            "         PreNorm-129          [-1, 14, 14, 384]               0\n",
            "        Residual-130          [-1, 14, 14, 384]               0\n",
            "       SwinBlock-131          [-1, 14, 14, 384]               0\n",
            "       LayerNorm-132          [-1, 14, 14, 384]             768\n",
            "          Linear-133         [-1, 14, 14, 1152]         442,368\n",
            "          Linear-134          [-1, 14, 14, 384]         147,840\n",
            " WindowAttention-135          [-1, 14, 14, 384]               0\n",
            "         PreNorm-136          [-1, 14, 14, 384]               0\n",
            "        Residual-137          [-1, 14, 14, 384]               0\n",
            "       LayerNorm-138          [-1, 14, 14, 384]             768\n",
            "          Linear-139         [-1, 14, 14, 1536]         591,360\n",
            "            GELU-140         [-1, 14, 14, 1536]               0\n",
            "          Linear-141          [-1, 14, 14, 384]         590,208\n",
            "     FeedForward-142          [-1, 14, 14, 384]               0\n",
            "         PreNorm-143          [-1, 14, 14, 384]               0\n",
            "        Residual-144          [-1, 14, 14, 384]               0\n",
            "       SwinBlock-145          [-1, 14, 14, 384]               0\n",
            "       LayerNorm-146          [-1, 14, 14, 384]             768\n",
            "     CyclicShift-147          [-1, 14, 14, 384]               0\n",
            "          Linear-148         [-1, 14, 14, 1152]         442,368\n",
            "          Linear-149          [-1, 14, 14, 384]         147,840\n",
            "     CyclicShift-150          [-1, 14, 14, 384]               0\n",
            " WindowAttention-151          [-1, 14, 14, 384]               0\n",
            "         PreNorm-152          [-1, 14, 14, 384]               0\n",
            "        Residual-153          [-1, 14, 14, 384]               0\n",
            "       LayerNorm-154          [-1, 14, 14, 384]             768\n",
            "          Linear-155         [-1, 14, 14, 1536]         591,360\n",
            "            GELU-156         [-1, 14, 14, 1536]               0\n",
            "          Linear-157          [-1, 14, 14, 384]         590,208\n",
            "     FeedForward-158          [-1, 14, 14, 384]               0\n",
            "         PreNorm-159          [-1, 14, 14, 384]               0\n",
            "        Residual-160          [-1, 14, 14, 384]               0\n",
            "       SwinBlock-161          [-1, 14, 14, 384]               0\n",
            "     StageModule-162          [-1, 384, 14, 14]               0\n",
            "          Unfold-163             [-1, 1536, 49]               0\n",
            "          Linear-164            [-1, 7, 7, 768]       1,180,416\n",
            "    PatchMerging-165            [-1, 7, 7, 768]               0\n",
            "       LayerNorm-166            [-1, 7, 7, 768]           1,536\n",
            "          Linear-167           [-1, 7, 7, 2304]       1,769,472\n",
            "          Linear-168            [-1, 7, 7, 768]         590,592\n",
            " WindowAttention-169            [-1, 7, 7, 768]               0\n",
            "         PreNorm-170            [-1, 7, 7, 768]               0\n",
            "        Residual-171            [-1, 7, 7, 768]               0\n",
            "       LayerNorm-172            [-1, 7, 7, 768]           1,536\n",
            "          Linear-173           [-1, 7, 7, 3072]       2,362,368\n",
            "            GELU-174           [-1, 7, 7, 3072]               0\n",
            "          Linear-175            [-1, 7, 7, 768]       2,360,064\n",
            "     FeedForward-176            [-1, 7, 7, 768]               0\n",
            "         PreNorm-177            [-1, 7, 7, 768]               0\n",
            "        Residual-178            [-1, 7, 7, 768]               0\n",
            "       SwinBlock-179            [-1, 7, 7, 768]               0\n",
            "       LayerNorm-180            [-1, 7, 7, 768]           1,536\n",
            "     CyclicShift-181            [-1, 7, 7, 768]               0\n",
            "          Linear-182           [-1, 7, 7, 2304]       1,769,472\n",
            "          Linear-183            [-1, 7, 7, 768]         590,592\n",
            "     CyclicShift-184            [-1, 7, 7, 768]               0\n",
            " WindowAttention-185            [-1, 7, 7, 768]               0\n",
            "         PreNorm-186            [-1, 7, 7, 768]               0\n",
            "        Residual-187            [-1, 7, 7, 768]               0\n",
            "       LayerNorm-188            [-1, 7, 7, 768]           1,536\n",
            "          Linear-189           [-1, 7, 7, 3072]       2,362,368\n",
            "            GELU-190           [-1, 7, 7, 3072]               0\n",
            "          Linear-191            [-1, 7, 7, 768]       2,360,064\n",
            "     FeedForward-192            [-1, 7, 7, 768]               0\n",
            "         PreNorm-193            [-1, 7, 7, 768]               0\n",
            "        Residual-194            [-1, 7, 7, 768]               0\n",
            "       SwinBlock-195            [-1, 7, 7, 768]               0\n",
            "     StageModule-196            [-1, 768, 7, 7]               0\n",
            "       LayerNorm-197                  [-1, 768]           1,536\n",
            "          Linear-198                   [-1, 10]           7,690\n",
            "================================================================\n",
            "Total params: 27,486,250\n",
            "Trainable params: 27,486,250\n",
            "Non-trainable params: 0\n",
            "----------------------------------------------------------------\n",
            "Input size (MB): 0.57\n",
            "Forward/backward pass size (MB): 269.03\n",
            "Params size (MB): 104.85\n",
            "Estimated Total Size (MB): 374.45\n",
            "----------------------------------------------------------------\n"
          ],
          "name": "stdout"
        }
      ]
    },
    {
      "cell_type": "code",
      "metadata": {
        "id": "WyhPsy4WAJyM"
      },
      "source": [
        "import torch.optim as optim\n",
        "\n",
        "criterion = nn.CrossEntropyLoss()\n",
        "optimizer = optim.SGD(net.parameters(), lr=0.001, momentum=0.9)"
      ],
      "execution_count": 11,
      "outputs": []
    },
    {
      "cell_type": "code",
      "metadata": {
        "id": "OyPySHxtAJyM",
        "colab": {
          "base_uri": "https://localhost:8080/",
          "height": 383,
          "referenced_widgets": [
            "a196af826d9d44ac87658ed78b1952a1",
            "ffdb05f8346645a5b818c74ef998d7da",
            "59540e2401d24eae9f202d6b016497fb",
            "b616f37c162d461bb24887ce804ab945",
            "4d45b885ccff42b9a15ce197d4ef0a14",
            "ff70ae561daa4064a221c8d3127283b7",
            "8d2746a7f42248f1a64cf29748a4ead1",
            "4f4dd19df77449ee973ba7c9da112673",
            "84d5e993227d4201b00c2c7e1204e0af",
            "33b88c37cff646ffaba7a81d0ebe6f37",
            "724834f732304ab3a8df2f06e61afd96",
            "cbbdcadac07c41eca9694f4d98550103",
            "204b15f265184dbe839777265c515667",
            "f175e6c03ebe483982e5fbfc824bde65",
            "8e3f691ee4674454a2ef6490d026e0e6",
            "19b9c3395f524e1da9fff9bf36e86395",
            "4c8196c64fc54916b8819c62f78d735a",
            "e6ac17a6aef543aaad4e4d5bd38be4df",
            "3d9df8e82e164130b33529248f6d896e",
            "0af16f16125a4d4697f38d92f9f0c184",
            "b8690d9ea6474eee88303684174087e0",
            "b23fe04ef254495089d4b3abd5e58f87",
            "e16861fa05b142f4a91cfe7d959fd281",
            "6f2067007494480e9b13add1e3b60b55",
            "ad5aa7a02fc34bcdbf088a650560af32",
            "f8b109f06d5a4f64a81200696fac2032",
            "eff20b1739434dcc8c19cf7b837be1f6",
            "439e0fe4b7854d8fbc5bd7096d31d43a",
            "cc051e64bea84e8eb7a0226fc032722f",
            "4666ab1565904a4eb276bc0a88aad0be",
            "e7f7a5cc743f4dc89263451c0ab8da0a",
            "13067fb140e34fe4916393f1daf4ea29"
          ]
        },
        "outputId": "4f338535-46cb-45af-fb13-056d9af20ecb"
      },
      "source": [
        "from tqdm.notebook import tqdm\n",
        "for epoch in tqdm(range(epochs), \"Epoch: \"):  \n",
        "\n",
        "    running_loss = 0.0\n",
        "    tqdm_train = tqdm(enumerate(trainloader, 0), \"Train step: \", total=len(trainloader))\n",
        "    for i, data in tqdm_train:\n",
        "\n",
        "        inputs, labels = data[0].to(device), data[1].to(device)\n",
        "\n",
        "        # zero the parameter gradients\n",
        "        optimizer.zero_grad()\n",
        "\n",
        "        # forward + backward + optimize\n",
        "        outputs = net(inputs)\n",
        "        loss = criterion(outputs, labels)\n",
        "        loss.backward()\n",
        "        optimizer.step()\n",
        "\n",
        "        # print statistics\n",
        "        running_loss += loss.item()\n",
        "        tqdm_train.set_postfix(loss=loss.item())\n",
        "\n",
        "    print('[%d, %5d] Train loss: %.3f' %\n",
        "          (epoch + 1, i + 1, running_loss / len(trainloader)))\n",
        "   \n",
        "\n",
        "    running_loss = 0.0\n",
        "    correct_pred = {classname: 0 for classname in classes}\n",
        "    total_pred = {classname: 0 for classname in classes}\n",
        "    with torch.no_grad():\n",
        "        tqdm_val = tqdm(enumerate(valloader, 0), \"Val step: \", total=len(valloader))\n",
        "        for i, data in tqdm_val:\n",
        "            inputs, labels = data[0].to(device), data[1].to(device)  \n",
        "            outputs = net(inputs)\n",
        "            loss = criterion(outputs, labels)\n",
        "            # print statistics\n",
        "            running_loss += loss.item()\n",
        "            tqdm_val.set_postfix(loss=loss.item())\n",
        "     \n",
        "\n",
        "            _, predictions = torch.max(outputs, 1)\n",
        "            # collect the correct predictions for each class\n",
        "            for label, prediction in zip(labels, predictions):\n",
        "                if label == prediction:\n",
        "                    correct_pred[classes[label]] += 1\n",
        "                total_pred[classes[label]] += 1 \n",
        "                \n",
        "    print('[%d, %5d] Val loss: %.3f' %\n",
        "      (epoch + 1, i + 1, running_loss / len(valloader)))\n",
        "    # print accuracy for each class\n",
        "    for classname, correct_count in correct_pred.items():\n",
        "        accuracy = 100 * float(correct_count) / total_pred[classname]\n",
        "        print(\"Accuracy for class {:5s} is: {:.1f} %\".format(classname, \n",
        "                                                      accuracy))  \n",
        "\n",
        "\n",
        "print('Training comleted')"
      ],
      "execution_count": null,
      "outputs": [
        {
          "output_type": "display_data",
          "data": {
            "application/vnd.jupyter.widget-view+json": {
              "model_id": "a196af826d9d44ac87658ed78b1952a1",
              "version_minor": 0,
              "version_major": 2
            },
            "text/plain": [
              "HBox(children=(FloatProgress(value=0.0, description='Epoch: ', max=10.0, style=ProgressStyle(description_width…"
            ]
          },
          "metadata": {
            "tags": []
          }
        },
        {
          "output_type": "display_data",
          "data": {
            "application/vnd.jupyter.widget-view+json": {
              "model_id": "84d5e993227d4201b00c2c7e1204e0af",
              "version_minor": 0,
              "version_major": 2
            },
            "text/plain": [
              "HBox(children=(FloatProgress(value=0.0, description='Train step: ', max=391.0, style=ProgressStyle(description…"
            ]
          },
          "metadata": {
            "tags": []
          }
        },
        {
          "output_type": "stream",
          "text": [
            "\n",
            "[1,   391] Train loss: 1.867\n"
          ],
          "name": "stdout"
        },
        {
          "output_type": "display_data",
          "data": {
            "application/vnd.jupyter.widget-view+json": {
              "model_id": "4c8196c64fc54916b8819c62f78d735a",
              "version_minor": 0,
              "version_major": 2
            },
            "text/plain": [
              "HBox(children=(FloatProgress(value=0.0, description='Val step: ', max=79.0, style=ProgressStyle(description_wi…"
            ]
          },
          "metadata": {
            "tags": []
          }
        },
        {
          "output_type": "stream",
          "text": [
            "\n",
            "[1,    79] Val loss: 1.668\n",
            "Accuracy for class plane is: 50.2 %\n",
            "Accuracy for class car   is: 45.8 %\n",
            "Accuracy for class bird  is: 27.7 %\n",
            "Accuracy for class cat   is: 39.0 %\n",
            "Accuracy for class deer  is: 15.3 %\n",
            "Accuracy for class dog   is: 30.7 %\n",
            "Accuracy for class frog  is: 51.1 %\n",
            "Accuracy for class horse is: 36.3 %\n",
            "Accuracy for class ship  is: 53.9 %\n",
            "Accuracy for class truck is: 51.3 %\n"
          ],
          "name": "stdout"
        },
        {
          "output_type": "display_data",
          "data": {
            "application/vnd.jupyter.widget-view+json": {
              "model_id": "ad5aa7a02fc34bcdbf088a650560af32",
              "version_minor": 0,
              "version_major": 2
            },
            "text/plain": [
              "HBox(children=(FloatProgress(value=0.0, description='Train step: ', max=391.0, style=ProgressStyle(description…"
            ]
          },
          "metadata": {
            "tags": []
          }
        }
      ]
    },
    {
      "cell_type": "code",
      "metadata": {
        "id": "ncSixb9iAJyN"
      },
      "source": [
        "PATH = './model.pt'\n",
        "torch.save(net.state_dict(), PATH)"
      ],
      "execution_count": null,
      "outputs": []
    },
    {
      "cell_type": "code",
      "metadata": {
        "id": "KZUN9MxdAJyO"
      },
      "source": [
        "dataiter = iter(valloader)\n",
        "images, labels = dataiter.next()\n",
        "\n",
        "# print images\n",
        "imshow(torchvision.utils.make_grid(images))\n",
        "print('GroundTruth: ', ' '.join('%5s' % classes[labels[j]] for j in range(4)))"
      ],
      "execution_count": null,
      "outputs": []
    },
    {
      "cell_type": "code",
      "metadata": {
        "id": "u7IT8DjqAJyO"
      },
      "source": [
        "net = Net()\n",
        "net.load_state_dict(torch.load(PATH))"
      ],
      "execution_count": null,
      "outputs": []
    },
    {
      "cell_type": "code",
      "metadata": {
        "id": "5IJCaF7ZAJyO"
      },
      "source": [
        "outputs = net(images)"
      ],
      "execution_count": null,
      "outputs": []
    },
    {
      "cell_type": "code",
      "metadata": {
        "id": "8ehbINgTAJyP"
      },
      "source": [
        "_, predicted = torch.max(outputs, 1)\n",
        "\n",
        "print('Predicted: ', ' '.join('%5s' % classes[predicted[j]]\n",
        "                              for j in range(4)))"
      ],
      "execution_count": null,
      "outputs": []
    },
    {
      "cell_type": "markdown",
      "metadata": {
        "id": "528G3Uij-oHd"
      },
      "source": [
        "# Note: \n",
        "## model specs\n",
        "\n",
        "Total params: 27,486,250\n",
        "Trainable params: 27,486,250\n",
        "Non-trainable params: 0\n",
        "----------------------------------------------------------------\n",
        "Input size (MB): 0.57\n",
        "Forward/backward pass size (MB): 269.03\n",
        "Params size (MB): 104.85\n",
        "Estimated Total Size (MB): 374.45\n",
        "\n",
        "Not pretrained \n",
        "See available weights here https://github.com/microsoft/Swin-Transformer\n",
        "\n"
      ]
    },
    {
      "cell_type": "markdown",
      "metadata": {
        "id": "oHxpQG2s_NL1"
      },
      "source": [
        "# Reference\n",
        "\n",
        "\n",
        "https://github.com/sksq96/pytorch-summary#multiple-inputs\n",
        "\n",
        "https://github.com/berniwal/swin-transformer-pytorch\n",
        "\n",
        "https://arxiv.org/pdf/2103.14030.pdf"
      ]
    },
    {
      "cell_type": "code",
      "metadata": {
        "id": "DroAy-8R-noL"
      },
      "source": [
        ""
      ],
      "execution_count": null,
      "outputs": []
    }
  ]
}