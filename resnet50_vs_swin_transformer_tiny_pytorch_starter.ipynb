{
  "nbformat": 4,
  "nbformat_minor": 0,
  "metadata": {
    "accelerator": "GPU",
    "colab": {
      "name": "resnet50 vs swin transformer tiny pytorch starter.ipynb",
      "provenance": [],
      "collapsed_sections": [],
      "include_colab_link": true
    },
    "kernelspec": {
      "display_name": "Python 3",
      "language": "python",
      "name": "python3"
    },
    "language_info": {
      "codemirror_mode": {
        "name": "ipython",
        "version": 3
      },
      "file_extension": ".py",
      "mimetype": "text/x-python",
      "name": "python",
      "nbconvert_exporter": "python",
      "pygments_lexer": "ipython3",
      "version": "3.6.12"
    },
    "widgets": {
      "application/vnd.jupyter.widget-state+json": {
        "162598b9db7a4ffaa0b6bdf0b20bd426": {
          "model_module": "@jupyter-widgets/controls",
          "model_name": "HBoxModel",
          "state": {
            "_dom_classes": [],
            "_model_module": "@jupyter-widgets/controls",
            "_model_module_version": "1.5.0",
            "_model_name": "HBoxModel",
            "_view_count": null,
            "_view_module": "@jupyter-widgets/controls",
            "_view_module_version": "1.5.0",
            "_view_name": "HBoxView",
            "box_style": "",
            "children": [
              "IPY_MODEL_c8343def71c14d42972a005479678b75",
              "IPY_MODEL_aa2f92ceba8b4a4eadd79891e718055d"
            ],
            "layout": "IPY_MODEL_447a4fa6ec5d48b4be8aa364988916b6"
          }
        },
        "c8343def71c14d42972a005479678b75": {
          "model_module": "@jupyter-widgets/controls",
          "model_name": "FloatProgressModel",
          "state": {
            "_dom_classes": [],
            "_model_module": "@jupyter-widgets/controls",
            "_model_module_version": "1.5.0",
            "_model_name": "FloatProgressModel",
            "_view_count": null,
            "_view_module": "@jupyter-widgets/controls",
            "_view_module_version": "1.5.0",
            "_view_name": "ProgressView",
            "bar_style": "",
            "description": "Epoch:  35%",
            "description_tooltip": null,
            "layout": "IPY_MODEL_d327137e40e44ff2bda0dfc61fd7149e",
            "max": 20,
            "min": 0,
            "orientation": "horizontal",
            "style": "IPY_MODEL_02dfd4b3e62347d1ba8530dc4d5defb5",
            "value": 7
          }
        },
        "aa2f92ceba8b4a4eadd79891e718055d": {
          "model_module": "@jupyter-widgets/controls",
          "model_name": "HTMLModel",
          "state": {
            "_dom_classes": [],
            "_model_module": "@jupyter-widgets/controls",
            "_model_module_version": "1.5.0",
            "_model_name": "HTMLModel",
            "_view_count": null,
            "_view_module": "@jupyter-widgets/controls",
            "_view_module_version": "1.5.0",
            "_view_name": "HTMLView",
            "description": "",
            "description_tooltip": null,
            "layout": "IPY_MODEL_0548b31ef7bd42619bd71a73fc40b4f7",
            "placeholder": "​",
            "style": "IPY_MODEL_c08cf0b5e34042d1bf8deb9578f75de4",
            "value": " 7/20 [20:52&lt;38:53, 179.50s/it]"
          }
        },
        "447a4fa6ec5d48b4be8aa364988916b6": {
          "model_module": "@jupyter-widgets/base",
          "model_name": "LayoutModel",
          "state": {
            "_model_module": "@jupyter-widgets/base",
            "_model_module_version": "1.2.0",
            "_model_name": "LayoutModel",
            "_view_count": null,
            "_view_module": "@jupyter-widgets/base",
            "_view_module_version": "1.2.0",
            "_view_name": "LayoutView",
            "align_content": null,
            "align_items": null,
            "align_self": null,
            "border": null,
            "bottom": null,
            "display": null,
            "flex": null,
            "flex_flow": null,
            "grid_area": null,
            "grid_auto_columns": null,
            "grid_auto_flow": null,
            "grid_auto_rows": null,
            "grid_column": null,
            "grid_gap": null,
            "grid_row": null,
            "grid_template_areas": null,
            "grid_template_columns": null,
            "grid_template_rows": null,
            "height": null,
            "justify_content": null,
            "justify_items": null,
            "left": null,
            "margin": null,
            "max_height": null,
            "max_width": null,
            "min_height": null,
            "min_width": null,
            "object_fit": null,
            "object_position": null,
            "order": null,
            "overflow": null,
            "overflow_x": null,
            "overflow_y": null,
            "padding": null,
            "right": null,
            "top": null,
            "visibility": null,
            "width": null
          }
        },
        "d327137e40e44ff2bda0dfc61fd7149e": {
          "model_module": "@jupyter-widgets/base",
          "model_name": "LayoutModel",
          "state": {
            "_model_module": "@jupyter-widgets/base",
            "_model_module_version": "1.2.0",
            "_model_name": "LayoutModel",
            "_view_count": null,
            "_view_module": "@jupyter-widgets/base",
            "_view_module_version": "1.2.0",
            "_view_name": "LayoutView",
            "align_content": null,
            "align_items": null,
            "align_self": null,
            "border": null,
            "bottom": null,
            "display": null,
            "flex": null,
            "flex_flow": null,
            "grid_area": null,
            "grid_auto_columns": null,
            "grid_auto_flow": null,
            "grid_auto_rows": null,
            "grid_column": null,
            "grid_gap": null,
            "grid_row": null,
            "grid_template_areas": null,
            "grid_template_columns": null,
            "grid_template_rows": null,
            "height": null,
            "justify_content": null,
            "justify_items": null,
            "left": null,
            "margin": null,
            "max_height": null,
            "max_width": null,
            "min_height": null,
            "min_width": null,
            "object_fit": null,
            "object_position": null,
            "order": null,
            "overflow": null,
            "overflow_x": null,
            "overflow_y": null,
            "padding": null,
            "right": null,
            "top": null,
            "visibility": null,
            "width": null
          }
        },
        "02dfd4b3e62347d1ba8530dc4d5defb5": {
          "model_module": "@jupyter-widgets/controls",
          "model_name": "ProgressStyleModel",
          "state": {
            "_model_module": "@jupyter-widgets/controls",
            "_model_module_version": "1.5.0",
            "_model_name": "ProgressStyleModel",
            "_view_count": null,
            "_view_module": "@jupyter-widgets/base",
            "_view_module_version": "1.2.0",
            "_view_name": "StyleView",
            "bar_color": null,
            "description_width": "initial"
          }
        },
        "0548b31ef7bd42619bd71a73fc40b4f7": {
          "model_module": "@jupyter-widgets/base",
          "model_name": "LayoutModel",
          "state": {
            "_model_module": "@jupyter-widgets/base",
            "_model_module_version": "1.2.0",
            "_model_name": "LayoutModel",
            "_view_count": null,
            "_view_module": "@jupyter-widgets/base",
            "_view_module_version": "1.2.0",
            "_view_name": "LayoutView",
            "align_content": null,
            "align_items": null,
            "align_self": null,
            "border": null,
            "bottom": null,
            "display": null,
            "flex": null,
            "flex_flow": null,
            "grid_area": null,
            "grid_auto_columns": null,
            "grid_auto_flow": null,
            "grid_auto_rows": null,
            "grid_column": null,
            "grid_gap": null,
            "grid_row": null,
            "grid_template_areas": null,
            "grid_template_columns": null,
            "grid_template_rows": null,
            "height": null,
            "justify_content": null,
            "justify_items": null,
            "left": null,
            "margin": null,
            "max_height": null,
            "max_width": null,
            "min_height": null,
            "min_width": null,
            "object_fit": null,
            "object_position": null,
            "order": null,
            "overflow": null,
            "overflow_x": null,
            "overflow_y": null,
            "padding": null,
            "right": null,
            "top": null,
            "visibility": null,
            "width": null
          }
        },
        "c08cf0b5e34042d1bf8deb9578f75de4": {
          "model_module": "@jupyter-widgets/controls",
          "model_name": "DescriptionStyleModel",
          "state": {
            "_model_module": "@jupyter-widgets/controls",
            "_model_module_version": "1.5.0",
            "_model_name": "DescriptionStyleModel",
            "_view_count": null,
            "_view_module": "@jupyter-widgets/base",
            "_view_module_version": "1.2.0",
            "_view_name": "StyleView",
            "description_width": ""
          }
        },
        "9c65f01c623e43a696286573351274e8": {
          "model_module": "@jupyter-widgets/controls",
          "model_name": "HBoxModel",
          "state": {
            "_dom_classes": [],
            "_model_module": "@jupyter-widgets/controls",
            "_model_module_version": "1.5.0",
            "_model_name": "HBoxModel",
            "_view_count": null,
            "_view_module": "@jupyter-widgets/controls",
            "_view_module_version": "1.5.0",
            "_view_name": "HBoxView",
            "box_style": "",
            "children": [
              "IPY_MODEL_8f930a7d7d1849ef842c5c553046de88",
              "IPY_MODEL_1102ab0b61fa4b799640f29142a334f4"
            ],
            "layout": "IPY_MODEL_a732f811364d4836821082ca8d1d5fec"
          }
        },
        "8f930a7d7d1849ef842c5c553046de88": {
          "model_module": "@jupyter-widgets/controls",
          "model_name": "FloatProgressModel",
          "state": {
            "_dom_classes": [],
            "_model_module": "@jupyter-widgets/controls",
            "_model_module_version": "1.5.0",
            "_model_name": "FloatProgressModel",
            "_view_count": null,
            "_view_module": "@jupyter-widgets/controls",
            "_view_module_version": "1.5.0",
            "_view_name": "ProgressView",
            "bar_style": "success",
            "description": "Train step: 100%",
            "description_tooltip": null,
            "layout": "IPY_MODEL_bbbec94eb2994102ad46c6feb70ee010",
            "max": 391,
            "min": 0,
            "orientation": "horizontal",
            "style": "IPY_MODEL_fc91c65cc1304dafb394f484f6129d33",
            "value": 391
          }
        },
        "1102ab0b61fa4b799640f29142a334f4": {
          "model_module": "@jupyter-widgets/controls",
          "model_name": "HTMLModel",
          "state": {
            "_dom_classes": [],
            "_model_module": "@jupyter-widgets/controls",
            "_model_module_version": "1.5.0",
            "_model_name": "HTMLModel",
            "_view_count": null,
            "_view_module": "@jupyter-widgets/controls",
            "_view_module_version": "1.5.0",
            "_view_name": "HTMLView",
            "description": "",
            "description_tooltip": null,
            "layout": "IPY_MODEL_bca29274d1084336999e8ce4fb0350e6",
            "placeholder": "​",
            "style": "IPY_MODEL_4511a95e917c4165b016265fdf6b0763",
            "value": " 391/391 [02:38&lt;00:00,  2.47it/s, loss=0.521]"
          }
        },
        "a732f811364d4836821082ca8d1d5fec": {
          "model_module": "@jupyter-widgets/base",
          "model_name": "LayoutModel",
          "state": {
            "_model_module": "@jupyter-widgets/base",
            "_model_module_version": "1.2.0",
            "_model_name": "LayoutModel",
            "_view_count": null,
            "_view_module": "@jupyter-widgets/base",
            "_view_module_version": "1.2.0",
            "_view_name": "LayoutView",
            "align_content": null,
            "align_items": null,
            "align_self": null,
            "border": null,
            "bottom": null,
            "display": null,
            "flex": null,
            "flex_flow": null,
            "grid_area": null,
            "grid_auto_columns": null,
            "grid_auto_flow": null,
            "grid_auto_rows": null,
            "grid_column": null,
            "grid_gap": null,
            "grid_row": null,
            "grid_template_areas": null,
            "grid_template_columns": null,
            "grid_template_rows": null,
            "height": null,
            "justify_content": null,
            "justify_items": null,
            "left": null,
            "margin": null,
            "max_height": null,
            "max_width": null,
            "min_height": null,
            "min_width": null,
            "object_fit": null,
            "object_position": null,
            "order": null,
            "overflow": null,
            "overflow_x": null,
            "overflow_y": null,
            "padding": null,
            "right": null,
            "top": null,
            "visibility": null,
            "width": null
          }
        },
        "bbbec94eb2994102ad46c6feb70ee010": {
          "model_module": "@jupyter-widgets/base",
          "model_name": "LayoutModel",
          "state": {
            "_model_module": "@jupyter-widgets/base",
            "_model_module_version": "1.2.0",
            "_model_name": "LayoutModel",
            "_view_count": null,
            "_view_module": "@jupyter-widgets/base",
            "_view_module_version": "1.2.0",
            "_view_name": "LayoutView",
            "align_content": null,
            "align_items": null,
            "align_self": null,
            "border": null,
            "bottom": null,
            "display": null,
            "flex": null,
            "flex_flow": null,
            "grid_area": null,
            "grid_auto_columns": null,
            "grid_auto_flow": null,
            "grid_auto_rows": null,
            "grid_column": null,
            "grid_gap": null,
            "grid_row": null,
            "grid_template_areas": null,
            "grid_template_columns": null,
            "grid_template_rows": null,
            "height": null,
            "justify_content": null,
            "justify_items": null,
            "left": null,
            "margin": null,
            "max_height": null,
            "max_width": null,
            "min_height": null,
            "min_width": null,
            "object_fit": null,
            "object_position": null,
            "order": null,
            "overflow": null,
            "overflow_x": null,
            "overflow_y": null,
            "padding": null,
            "right": null,
            "top": null,
            "visibility": null,
            "width": null
          }
        },
        "fc91c65cc1304dafb394f484f6129d33": {
          "model_module": "@jupyter-widgets/controls",
          "model_name": "ProgressStyleModel",
          "state": {
            "_model_module": "@jupyter-widgets/controls",
            "_model_module_version": "1.5.0",
            "_model_name": "ProgressStyleModel",
            "_view_count": null,
            "_view_module": "@jupyter-widgets/base",
            "_view_module_version": "1.2.0",
            "_view_name": "StyleView",
            "bar_color": null,
            "description_width": "initial"
          }
        },
        "bca29274d1084336999e8ce4fb0350e6": {
          "model_module": "@jupyter-widgets/base",
          "model_name": "LayoutModel",
          "state": {
            "_model_module": "@jupyter-widgets/base",
            "_model_module_version": "1.2.0",
            "_model_name": "LayoutModel",
            "_view_count": null,
            "_view_module": "@jupyter-widgets/base",
            "_view_module_version": "1.2.0",
            "_view_name": "LayoutView",
            "align_content": null,
            "align_items": null,
            "align_self": null,
            "border": null,
            "bottom": null,
            "display": null,
            "flex": null,
            "flex_flow": null,
            "grid_area": null,
            "grid_auto_columns": null,
            "grid_auto_flow": null,
            "grid_auto_rows": null,
            "grid_column": null,
            "grid_gap": null,
            "grid_row": null,
            "grid_template_areas": null,
            "grid_template_columns": null,
            "grid_template_rows": null,
            "height": null,
            "justify_content": null,
            "justify_items": null,
            "left": null,
            "margin": null,
            "max_height": null,
            "max_width": null,
            "min_height": null,
            "min_width": null,
            "object_fit": null,
            "object_position": null,
            "order": null,
            "overflow": null,
            "overflow_x": null,
            "overflow_y": null,
            "padding": null,
            "right": null,
            "top": null,
            "visibility": null,
            "width": null
          }
        },
        "4511a95e917c4165b016265fdf6b0763": {
          "model_module": "@jupyter-widgets/controls",
          "model_name": "DescriptionStyleModel",
          "state": {
            "_model_module": "@jupyter-widgets/controls",
            "_model_module_version": "1.5.0",
            "_model_name": "DescriptionStyleModel",
            "_view_count": null,
            "_view_module": "@jupyter-widgets/base",
            "_view_module_version": "1.2.0",
            "_view_name": "StyleView",
            "description_width": ""
          }
        },
        "13da4b56e2e949cb8cee586982d62d5d": {
          "model_module": "@jupyter-widgets/controls",
          "model_name": "HBoxModel",
          "state": {
            "_dom_classes": [],
            "_model_module": "@jupyter-widgets/controls",
            "_model_module_version": "1.5.0",
            "_model_name": "HBoxModel",
            "_view_count": null,
            "_view_module": "@jupyter-widgets/controls",
            "_view_module_version": "1.5.0",
            "_view_name": "HBoxView",
            "box_style": "",
            "children": [
              "IPY_MODEL_4611ec698aef4aa08585c2cf14fd5fe1",
              "IPY_MODEL_2d587acb5fa747269542f3febfaf7486"
            ],
            "layout": "IPY_MODEL_0a5dc80f66cf49e59d8fce0fd0cb2df7"
          }
        },
        "4611ec698aef4aa08585c2cf14fd5fe1": {
          "model_module": "@jupyter-widgets/controls",
          "model_name": "FloatProgressModel",
          "state": {
            "_dom_classes": [],
            "_model_module": "@jupyter-widgets/controls",
            "_model_module_version": "1.5.0",
            "_model_name": "FloatProgressModel",
            "_view_count": null,
            "_view_module": "@jupyter-widgets/controls",
            "_view_module_version": "1.5.0",
            "_view_name": "ProgressView",
            "bar_style": "success",
            "description": "Val step: 100%",
            "description_tooltip": null,
            "layout": "IPY_MODEL_e1e98ab353ca43d6aa1e05dcb2ec5457",
            "max": 79,
            "min": 0,
            "orientation": "horizontal",
            "style": "IPY_MODEL_bf233e17d9fc438a901fa247056dd2d7",
            "value": 79
          }
        },
        "2d587acb5fa747269542f3febfaf7486": {
          "model_module": "@jupyter-widgets/controls",
          "model_name": "HTMLModel",
          "state": {
            "_dom_classes": [],
            "_model_module": "@jupyter-widgets/controls",
            "_model_module_version": "1.5.0",
            "_model_name": "HTMLModel",
            "_view_count": null,
            "_view_module": "@jupyter-widgets/controls",
            "_view_module_version": "1.5.0",
            "_view_name": "HTMLView",
            "description": "",
            "description_tooltip": null,
            "layout": "IPY_MODEL_f51df642169740cd811ccc2a102f8461",
            "placeholder": "​",
            "style": "IPY_MODEL_f7fcec5c7fb34995920edd9c82f4cda7",
            "value": " 79/79 [12:12&lt;00:00,  9.28s/it, loss=0.378]"
          }
        },
        "0a5dc80f66cf49e59d8fce0fd0cb2df7": {
          "model_module": "@jupyter-widgets/base",
          "model_name": "LayoutModel",
          "state": {
            "_model_module": "@jupyter-widgets/base",
            "_model_module_version": "1.2.0",
            "_model_name": "LayoutModel",
            "_view_count": null,
            "_view_module": "@jupyter-widgets/base",
            "_view_module_version": "1.2.0",
            "_view_name": "LayoutView",
            "align_content": null,
            "align_items": null,
            "align_self": null,
            "border": null,
            "bottom": null,
            "display": null,
            "flex": null,
            "flex_flow": null,
            "grid_area": null,
            "grid_auto_columns": null,
            "grid_auto_flow": null,
            "grid_auto_rows": null,
            "grid_column": null,
            "grid_gap": null,
            "grid_row": null,
            "grid_template_areas": null,
            "grid_template_columns": null,
            "grid_template_rows": null,
            "height": null,
            "justify_content": null,
            "justify_items": null,
            "left": null,
            "margin": null,
            "max_height": null,
            "max_width": null,
            "min_height": null,
            "min_width": null,
            "object_fit": null,
            "object_position": null,
            "order": null,
            "overflow": null,
            "overflow_x": null,
            "overflow_y": null,
            "padding": null,
            "right": null,
            "top": null,
            "visibility": null,
            "width": null
          }
        },
        "e1e98ab353ca43d6aa1e05dcb2ec5457": {
          "model_module": "@jupyter-widgets/base",
          "model_name": "LayoutModel",
          "state": {
            "_model_module": "@jupyter-widgets/base",
            "_model_module_version": "1.2.0",
            "_model_name": "LayoutModel",
            "_view_count": null,
            "_view_module": "@jupyter-widgets/base",
            "_view_module_version": "1.2.0",
            "_view_name": "LayoutView",
            "align_content": null,
            "align_items": null,
            "align_self": null,
            "border": null,
            "bottom": null,
            "display": null,
            "flex": null,
            "flex_flow": null,
            "grid_area": null,
            "grid_auto_columns": null,
            "grid_auto_flow": null,
            "grid_auto_rows": null,
            "grid_column": null,
            "grid_gap": null,
            "grid_row": null,
            "grid_template_areas": null,
            "grid_template_columns": null,
            "grid_template_rows": null,
            "height": null,
            "justify_content": null,
            "justify_items": null,
            "left": null,
            "margin": null,
            "max_height": null,
            "max_width": null,
            "min_height": null,
            "min_width": null,
            "object_fit": null,
            "object_position": null,
            "order": null,
            "overflow": null,
            "overflow_x": null,
            "overflow_y": null,
            "padding": null,
            "right": null,
            "top": null,
            "visibility": null,
            "width": null
          }
        },
        "bf233e17d9fc438a901fa247056dd2d7": {
          "model_module": "@jupyter-widgets/controls",
          "model_name": "ProgressStyleModel",
          "state": {
            "_model_module": "@jupyter-widgets/controls",
            "_model_module_version": "1.5.0",
            "_model_name": "ProgressStyleModel",
            "_view_count": null,
            "_view_module": "@jupyter-widgets/base",
            "_view_module_version": "1.2.0",
            "_view_name": "StyleView",
            "bar_color": null,
            "description_width": "initial"
          }
        },
        "f51df642169740cd811ccc2a102f8461": {
          "model_module": "@jupyter-widgets/base",
          "model_name": "LayoutModel",
          "state": {
            "_model_module": "@jupyter-widgets/base",
            "_model_module_version": "1.2.0",
            "_model_name": "LayoutModel",
            "_view_count": null,
            "_view_module": "@jupyter-widgets/base",
            "_view_module_version": "1.2.0",
            "_view_name": "LayoutView",
            "align_content": null,
            "align_items": null,
            "align_self": null,
            "border": null,
            "bottom": null,
            "display": null,
            "flex": null,
            "flex_flow": null,
            "grid_area": null,
            "grid_auto_columns": null,
            "grid_auto_flow": null,
            "grid_auto_rows": null,
            "grid_column": null,
            "grid_gap": null,
            "grid_row": null,
            "grid_template_areas": null,
            "grid_template_columns": null,
            "grid_template_rows": null,
            "height": null,
            "justify_content": null,
            "justify_items": null,
            "left": null,
            "margin": null,
            "max_height": null,
            "max_width": null,
            "min_height": null,
            "min_width": null,
            "object_fit": null,
            "object_position": null,
            "order": null,
            "overflow": null,
            "overflow_x": null,
            "overflow_y": null,
            "padding": null,
            "right": null,
            "top": null,
            "visibility": null,
            "width": null
          }
        },
        "f7fcec5c7fb34995920edd9c82f4cda7": {
          "model_module": "@jupyter-widgets/controls",
          "model_name": "DescriptionStyleModel",
          "state": {
            "_model_module": "@jupyter-widgets/controls",
            "_model_module_version": "1.5.0",
            "_model_name": "DescriptionStyleModel",
            "_view_count": null,
            "_view_module": "@jupyter-widgets/base",
            "_view_module_version": "1.2.0",
            "_view_name": "StyleView",
            "description_width": ""
          }
        },
        "bc61ddeb4aea4221bd4bb2bbbeb4b810": {
          "model_module": "@jupyter-widgets/controls",
          "model_name": "HBoxModel",
          "state": {
            "_dom_classes": [],
            "_model_module": "@jupyter-widgets/controls",
            "_model_module_version": "1.5.0",
            "_model_name": "HBoxModel",
            "_view_count": null,
            "_view_module": "@jupyter-widgets/controls",
            "_view_module_version": "1.5.0",
            "_view_name": "HBoxView",
            "box_style": "",
            "children": [
              "IPY_MODEL_79cc7f45163d45748f21ea43b680edd6",
              "IPY_MODEL_7d2856a142df471cb8ffeec224f20ca0"
            ],
            "layout": "IPY_MODEL_90c3314585934a7ba8dc12e03b236e58"
          }
        },
        "79cc7f45163d45748f21ea43b680edd6": {
          "model_module": "@jupyter-widgets/controls",
          "model_name": "FloatProgressModel",
          "state": {
            "_dom_classes": [],
            "_model_module": "@jupyter-widgets/controls",
            "_model_module_version": "1.5.0",
            "_model_name": "FloatProgressModel",
            "_view_count": null,
            "_view_module": "@jupyter-widgets/controls",
            "_view_module_version": "1.5.0",
            "_view_name": "ProgressView",
            "bar_style": "success",
            "description": "Train step: 100%",
            "description_tooltip": null,
            "layout": "IPY_MODEL_62f5675327be4ea59cf5b03ceb1f6c8d",
            "max": 391,
            "min": 0,
            "orientation": "horizontal",
            "style": "IPY_MODEL_397b9c3470f44a068c468c70de7888b9",
            "value": 391
          }
        },
        "7d2856a142df471cb8ffeec224f20ca0": {
          "model_module": "@jupyter-widgets/controls",
          "model_name": "HTMLModel",
          "state": {
            "_dom_classes": [],
            "_model_module": "@jupyter-widgets/controls",
            "_model_module_version": "1.5.0",
            "_model_name": "HTMLModel",
            "_view_count": null,
            "_view_module": "@jupyter-widgets/controls",
            "_view_module_version": "1.5.0",
            "_view_name": "HTMLView",
            "description": "",
            "description_tooltip": null,
            "layout": "IPY_MODEL_f291b47b9a0e456498e8a387b3cf073c",
            "placeholder": "​",
            "style": "IPY_MODEL_4ee1f1d27ab2426a9f366f0c3b0355c2",
            "value": " 391/391 [11:53&lt;00:00,  1.82s/it, loss=0.185]"
          }
        },
        "90c3314585934a7ba8dc12e03b236e58": {
          "model_module": "@jupyter-widgets/base",
          "model_name": "LayoutModel",
          "state": {
            "_model_module": "@jupyter-widgets/base",
            "_model_module_version": "1.2.0",
            "_model_name": "LayoutModel",
            "_view_count": null,
            "_view_module": "@jupyter-widgets/base",
            "_view_module_version": "1.2.0",
            "_view_name": "LayoutView",
            "align_content": null,
            "align_items": null,
            "align_self": null,
            "border": null,
            "bottom": null,
            "display": null,
            "flex": null,
            "flex_flow": null,
            "grid_area": null,
            "grid_auto_columns": null,
            "grid_auto_flow": null,
            "grid_auto_rows": null,
            "grid_column": null,
            "grid_gap": null,
            "grid_row": null,
            "grid_template_areas": null,
            "grid_template_columns": null,
            "grid_template_rows": null,
            "height": null,
            "justify_content": null,
            "justify_items": null,
            "left": null,
            "margin": null,
            "max_height": null,
            "max_width": null,
            "min_height": null,
            "min_width": null,
            "object_fit": null,
            "object_position": null,
            "order": null,
            "overflow": null,
            "overflow_x": null,
            "overflow_y": null,
            "padding": null,
            "right": null,
            "top": null,
            "visibility": null,
            "width": null
          }
        },
        "62f5675327be4ea59cf5b03ceb1f6c8d": {
          "model_module": "@jupyter-widgets/base",
          "model_name": "LayoutModel",
          "state": {
            "_model_module": "@jupyter-widgets/base",
            "_model_module_version": "1.2.0",
            "_model_name": "LayoutModel",
            "_view_count": null,
            "_view_module": "@jupyter-widgets/base",
            "_view_module_version": "1.2.0",
            "_view_name": "LayoutView",
            "align_content": null,
            "align_items": null,
            "align_self": null,
            "border": null,
            "bottom": null,
            "display": null,
            "flex": null,
            "flex_flow": null,
            "grid_area": null,
            "grid_auto_columns": null,
            "grid_auto_flow": null,
            "grid_auto_rows": null,
            "grid_column": null,
            "grid_gap": null,
            "grid_row": null,
            "grid_template_areas": null,
            "grid_template_columns": null,
            "grid_template_rows": null,
            "height": null,
            "justify_content": null,
            "justify_items": null,
            "left": null,
            "margin": null,
            "max_height": null,
            "max_width": null,
            "min_height": null,
            "min_width": null,
            "object_fit": null,
            "object_position": null,
            "order": null,
            "overflow": null,
            "overflow_x": null,
            "overflow_y": null,
            "padding": null,
            "right": null,
            "top": null,
            "visibility": null,
            "width": null
          }
        },
        "397b9c3470f44a068c468c70de7888b9": {
          "model_module": "@jupyter-widgets/controls",
          "model_name": "ProgressStyleModel",
          "state": {
            "_model_module": "@jupyter-widgets/controls",
            "_model_module_version": "1.5.0",
            "_model_name": "ProgressStyleModel",
            "_view_count": null,
            "_view_module": "@jupyter-widgets/base",
            "_view_module_version": "1.2.0",
            "_view_name": "StyleView",
            "bar_color": null,
            "description_width": "initial"
          }
        },
        "f291b47b9a0e456498e8a387b3cf073c": {
          "model_module": "@jupyter-widgets/base",
          "model_name": "LayoutModel",
          "state": {
            "_model_module": "@jupyter-widgets/base",
            "_model_module_version": "1.2.0",
            "_model_name": "LayoutModel",
            "_view_count": null,
            "_view_module": "@jupyter-widgets/base",
            "_view_module_version": "1.2.0",
            "_view_name": "LayoutView",
            "align_content": null,
            "align_items": null,
            "align_self": null,
            "border": null,
            "bottom": null,
            "display": null,
            "flex": null,
            "flex_flow": null,
            "grid_area": null,
            "grid_auto_columns": null,
            "grid_auto_flow": null,
            "grid_auto_rows": null,
            "grid_column": null,
            "grid_gap": null,
            "grid_row": null,
            "grid_template_areas": null,
            "grid_template_columns": null,
            "grid_template_rows": null,
            "height": null,
            "justify_content": null,
            "justify_items": null,
            "left": null,
            "margin": null,
            "max_height": null,
            "max_width": null,
            "min_height": null,
            "min_width": null,
            "object_fit": null,
            "object_position": null,
            "order": null,
            "overflow": null,
            "overflow_x": null,
            "overflow_y": null,
            "padding": null,
            "right": null,
            "top": null,
            "visibility": null,
            "width": null
          }
        },
        "4ee1f1d27ab2426a9f366f0c3b0355c2": {
          "model_module": "@jupyter-widgets/controls",
          "model_name": "DescriptionStyleModel",
          "state": {
            "_model_module": "@jupyter-widgets/controls",
            "_model_module_version": "1.5.0",
            "_model_name": "DescriptionStyleModel",
            "_view_count": null,
            "_view_module": "@jupyter-widgets/base",
            "_view_module_version": "1.2.0",
            "_view_name": "StyleView",
            "description_width": ""
          }
        },
        "1267bc7240ec427ca040c8c77f631ecc": {
          "model_module": "@jupyter-widgets/controls",
          "model_name": "HBoxModel",
          "state": {
            "_dom_classes": [],
            "_model_module": "@jupyter-widgets/controls",
            "_model_module_version": "1.5.0",
            "_model_name": "HBoxModel",
            "_view_count": null,
            "_view_module": "@jupyter-widgets/controls",
            "_view_module_version": "1.5.0",
            "_view_name": "HBoxView",
            "box_style": "",
            "children": [
              "IPY_MODEL_ffcd41c810474e7e9fbbcf575f3c681a",
              "IPY_MODEL_935f2c97be0e4cfbbfc7f17a6ae8804d"
            ],
            "layout": "IPY_MODEL_431182bae4d048b79eb5228a7c0d9c6e"
          }
        },
        "ffcd41c810474e7e9fbbcf575f3c681a": {
          "model_module": "@jupyter-widgets/controls",
          "model_name": "FloatProgressModel",
          "state": {
            "_dom_classes": [],
            "_model_module": "@jupyter-widgets/controls",
            "_model_module_version": "1.5.0",
            "_model_name": "FloatProgressModel",
            "_view_count": null,
            "_view_module": "@jupyter-widgets/controls",
            "_view_module_version": "1.5.0",
            "_view_name": "ProgressView",
            "bar_style": "success",
            "description": "Val step: 100%",
            "description_tooltip": null,
            "layout": "IPY_MODEL_e6d5cc248c164d66aae13d9b40e6f6bc",
            "max": 79,
            "min": 0,
            "orientation": "horizontal",
            "style": "IPY_MODEL_0269afd46a304a5b9d762128e9e19702",
            "value": 79
          }
        },
        "935f2c97be0e4cfbbfc7f17a6ae8804d": {
          "model_module": "@jupyter-widgets/controls",
          "model_name": "HTMLModel",
          "state": {
            "_dom_classes": [],
            "_model_module": "@jupyter-widgets/controls",
            "_model_module_version": "1.5.0",
            "_model_name": "HTMLModel",
            "_view_count": null,
            "_view_module": "@jupyter-widgets/controls",
            "_view_module_version": "1.5.0",
            "_view_name": "HTMLView",
            "description": "",
            "description_tooltip": null,
            "layout": "IPY_MODEL_df1c833a2f5b4ef3997941265ae4b96a",
            "placeholder": "​",
            "style": "IPY_MODEL_797d5a8fab6540ecb10b8e6738bc47ab",
            "value": " 79/79 [09:15&lt;00:00,  7.03s/it, loss=0.264]"
          }
        },
        "431182bae4d048b79eb5228a7c0d9c6e": {
          "model_module": "@jupyter-widgets/base",
          "model_name": "LayoutModel",
          "state": {
            "_model_module": "@jupyter-widgets/base",
            "_model_module_version": "1.2.0",
            "_model_name": "LayoutModel",
            "_view_count": null,
            "_view_module": "@jupyter-widgets/base",
            "_view_module_version": "1.2.0",
            "_view_name": "LayoutView",
            "align_content": null,
            "align_items": null,
            "align_self": null,
            "border": null,
            "bottom": null,
            "display": null,
            "flex": null,
            "flex_flow": null,
            "grid_area": null,
            "grid_auto_columns": null,
            "grid_auto_flow": null,
            "grid_auto_rows": null,
            "grid_column": null,
            "grid_gap": null,
            "grid_row": null,
            "grid_template_areas": null,
            "grid_template_columns": null,
            "grid_template_rows": null,
            "height": null,
            "justify_content": null,
            "justify_items": null,
            "left": null,
            "margin": null,
            "max_height": null,
            "max_width": null,
            "min_height": null,
            "min_width": null,
            "object_fit": null,
            "object_position": null,
            "order": null,
            "overflow": null,
            "overflow_x": null,
            "overflow_y": null,
            "padding": null,
            "right": null,
            "top": null,
            "visibility": null,
            "width": null
          }
        },
        "e6d5cc248c164d66aae13d9b40e6f6bc": {
          "model_module": "@jupyter-widgets/base",
          "model_name": "LayoutModel",
          "state": {
            "_model_module": "@jupyter-widgets/base",
            "_model_module_version": "1.2.0",
            "_model_name": "LayoutModel",
            "_view_count": null,
            "_view_module": "@jupyter-widgets/base",
            "_view_module_version": "1.2.0",
            "_view_name": "LayoutView",
            "align_content": null,
            "align_items": null,
            "align_self": null,
            "border": null,
            "bottom": null,
            "display": null,
            "flex": null,
            "flex_flow": null,
            "grid_area": null,
            "grid_auto_columns": null,
            "grid_auto_flow": null,
            "grid_auto_rows": null,
            "grid_column": null,
            "grid_gap": null,
            "grid_row": null,
            "grid_template_areas": null,
            "grid_template_columns": null,
            "grid_template_rows": null,
            "height": null,
            "justify_content": null,
            "justify_items": null,
            "left": null,
            "margin": null,
            "max_height": null,
            "max_width": null,
            "min_height": null,
            "min_width": null,
            "object_fit": null,
            "object_position": null,
            "order": null,
            "overflow": null,
            "overflow_x": null,
            "overflow_y": null,
            "padding": null,
            "right": null,
            "top": null,
            "visibility": null,
            "width": null
          }
        },
        "0269afd46a304a5b9d762128e9e19702": {
          "model_module": "@jupyter-widgets/controls",
          "model_name": "ProgressStyleModel",
          "state": {
            "_model_module": "@jupyter-widgets/controls",
            "_model_module_version": "1.5.0",
            "_model_name": "ProgressStyleModel",
            "_view_count": null,
            "_view_module": "@jupyter-widgets/base",
            "_view_module_version": "1.2.0",
            "_view_name": "StyleView",
            "bar_color": null,
            "description_width": "initial"
          }
        },
        "df1c833a2f5b4ef3997941265ae4b96a": {
          "model_module": "@jupyter-widgets/base",
          "model_name": "LayoutModel",
          "state": {
            "_model_module": "@jupyter-widgets/base",
            "_model_module_version": "1.2.0",
            "_model_name": "LayoutModel",
            "_view_count": null,
            "_view_module": "@jupyter-widgets/base",
            "_view_module_version": "1.2.0",
            "_view_name": "LayoutView",
            "align_content": null,
            "align_items": null,
            "align_self": null,
            "border": null,
            "bottom": null,
            "display": null,
            "flex": null,
            "flex_flow": null,
            "grid_area": null,
            "grid_auto_columns": null,
            "grid_auto_flow": null,
            "grid_auto_rows": null,
            "grid_column": null,
            "grid_gap": null,
            "grid_row": null,
            "grid_template_areas": null,
            "grid_template_columns": null,
            "grid_template_rows": null,
            "height": null,
            "justify_content": null,
            "justify_items": null,
            "left": null,
            "margin": null,
            "max_height": null,
            "max_width": null,
            "min_height": null,
            "min_width": null,
            "object_fit": null,
            "object_position": null,
            "order": null,
            "overflow": null,
            "overflow_x": null,
            "overflow_y": null,
            "padding": null,
            "right": null,
            "top": null,
            "visibility": null,
            "width": null
          }
        },
        "797d5a8fab6540ecb10b8e6738bc47ab": {
          "model_module": "@jupyter-widgets/controls",
          "model_name": "DescriptionStyleModel",
          "state": {
            "_model_module": "@jupyter-widgets/controls",
            "_model_module_version": "1.5.0",
            "_model_name": "DescriptionStyleModel",
            "_view_count": null,
            "_view_module": "@jupyter-widgets/base",
            "_view_module_version": "1.2.0",
            "_view_name": "StyleView",
            "description_width": ""
          }
        },
        "2755ceb7f3094012a9969740f0538ccd": {
          "model_module": "@jupyter-widgets/controls",
          "model_name": "HBoxModel",
          "state": {
            "_dom_classes": [],
            "_model_module": "@jupyter-widgets/controls",
            "_model_module_version": "1.5.0",
            "_model_name": "HBoxModel",
            "_view_count": null,
            "_view_module": "@jupyter-widgets/controls",
            "_view_module_version": "1.5.0",
            "_view_name": "HBoxView",
            "box_style": "",
            "children": [
              "IPY_MODEL_cfd775e7e73a42f0ad9aa3f396e85577",
              "IPY_MODEL_9c7b4f6e6b504cc5a5781f5ad36b4cbc"
            ],
            "layout": "IPY_MODEL_51f5e4a4b6a9422a8e60119790c58978"
          }
        },
        "cfd775e7e73a42f0ad9aa3f396e85577": {
          "model_module": "@jupyter-widgets/controls",
          "model_name": "FloatProgressModel",
          "state": {
            "_dom_classes": [],
            "_model_module": "@jupyter-widgets/controls",
            "_model_module_version": "1.5.0",
            "_model_name": "FloatProgressModel",
            "_view_count": null,
            "_view_module": "@jupyter-widgets/controls",
            "_view_module_version": "1.5.0",
            "_view_name": "ProgressView",
            "bar_style": "success",
            "description": "Train step: 100%",
            "description_tooltip": null,
            "layout": "IPY_MODEL_599d6d6cea7d417f971f6071bb4b72d4",
            "max": 391,
            "min": 0,
            "orientation": "horizontal",
            "style": "IPY_MODEL_4a2b56c0a7d249dba5d731995eeaa825",
            "value": 391
          }
        },
        "9c7b4f6e6b504cc5a5781f5ad36b4cbc": {
          "model_module": "@jupyter-widgets/controls",
          "model_name": "HTMLModel",
          "state": {
            "_dom_classes": [],
            "_model_module": "@jupyter-widgets/controls",
            "_model_module_version": "1.5.0",
            "_model_name": "HTMLModel",
            "_view_count": null,
            "_view_module": "@jupyter-widgets/controls",
            "_view_module_version": "1.5.0",
            "_view_name": "HTMLView",
            "description": "",
            "description_tooltip": null,
            "layout": "IPY_MODEL_b3801fffed0b4f02890dcf735db6abf5",
            "placeholder": "​",
            "style": "IPY_MODEL_83fdf8a6f6fd44d38e7ee47218b64176",
            "value": " 391/391 [08:55&lt;00:00,  1.37s/it, loss=0.27]"
          }
        },
        "51f5e4a4b6a9422a8e60119790c58978": {
          "model_module": "@jupyter-widgets/base",
          "model_name": "LayoutModel",
          "state": {
            "_model_module": "@jupyter-widgets/base",
            "_model_module_version": "1.2.0",
            "_model_name": "LayoutModel",
            "_view_count": null,
            "_view_module": "@jupyter-widgets/base",
            "_view_module_version": "1.2.0",
            "_view_name": "LayoutView",
            "align_content": null,
            "align_items": null,
            "align_self": null,
            "border": null,
            "bottom": null,
            "display": null,
            "flex": null,
            "flex_flow": null,
            "grid_area": null,
            "grid_auto_columns": null,
            "grid_auto_flow": null,
            "grid_auto_rows": null,
            "grid_column": null,
            "grid_gap": null,
            "grid_row": null,
            "grid_template_areas": null,
            "grid_template_columns": null,
            "grid_template_rows": null,
            "height": null,
            "justify_content": null,
            "justify_items": null,
            "left": null,
            "margin": null,
            "max_height": null,
            "max_width": null,
            "min_height": null,
            "min_width": null,
            "object_fit": null,
            "object_position": null,
            "order": null,
            "overflow": null,
            "overflow_x": null,
            "overflow_y": null,
            "padding": null,
            "right": null,
            "top": null,
            "visibility": null,
            "width": null
          }
        },
        "599d6d6cea7d417f971f6071bb4b72d4": {
          "model_module": "@jupyter-widgets/base",
          "model_name": "LayoutModel",
          "state": {
            "_model_module": "@jupyter-widgets/base",
            "_model_module_version": "1.2.0",
            "_model_name": "LayoutModel",
            "_view_count": null,
            "_view_module": "@jupyter-widgets/base",
            "_view_module_version": "1.2.0",
            "_view_name": "LayoutView",
            "align_content": null,
            "align_items": null,
            "align_self": null,
            "border": null,
            "bottom": null,
            "display": null,
            "flex": null,
            "flex_flow": null,
            "grid_area": null,
            "grid_auto_columns": null,
            "grid_auto_flow": null,
            "grid_auto_rows": null,
            "grid_column": null,
            "grid_gap": null,
            "grid_row": null,
            "grid_template_areas": null,
            "grid_template_columns": null,
            "grid_template_rows": null,
            "height": null,
            "justify_content": null,
            "justify_items": null,
            "left": null,
            "margin": null,
            "max_height": null,
            "max_width": null,
            "min_height": null,
            "min_width": null,
            "object_fit": null,
            "object_position": null,
            "order": null,
            "overflow": null,
            "overflow_x": null,
            "overflow_y": null,
            "padding": null,
            "right": null,
            "top": null,
            "visibility": null,
            "width": null
          }
        },
        "4a2b56c0a7d249dba5d731995eeaa825": {
          "model_module": "@jupyter-widgets/controls",
          "model_name": "ProgressStyleModel",
          "state": {
            "_model_module": "@jupyter-widgets/controls",
            "_model_module_version": "1.5.0",
            "_model_name": "ProgressStyleModel",
            "_view_count": null,
            "_view_module": "@jupyter-widgets/base",
            "_view_module_version": "1.2.0",
            "_view_name": "StyleView",
            "bar_color": null,
            "description_width": "initial"
          }
        },
        "b3801fffed0b4f02890dcf735db6abf5": {
          "model_module": "@jupyter-widgets/base",
          "model_name": "LayoutModel",
          "state": {
            "_model_module": "@jupyter-widgets/base",
            "_model_module_version": "1.2.0",
            "_model_name": "LayoutModel",
            "_view_count": null,
            "_view_module": "@jupyter-widgets/base",
            "_view_module_version": "1.2.0",
            "_view_name": "LayoutView",
            "align_content": null,
            "align_items": null,
            "align_self": null,
            "border": null,
            "bottom": null,
            "display": null,
            "flex": null,
            "flex_flow": null,
            "grid_area": null,
            "grid_auto_columns": null,
            "grid_auto_flow": null,
            "grid_auto_rows": null,
            "grid_column": null,
            "grid_gap": null,
            "grid_row": null,
            "grid_template_areas": null,
            "grid_template_columns": null,
            "grid_template_rows": null,
            "height": null,
            "justify_content": null,
            "justify_items": null,
            "left": null,
            "margin": null,
            "max_height": null,
            "max_width": null,
            "min_height": null,
            "min_width": null,
            "object_fit": null,
            "object_position": null,
            "order": null,
            "overflow": null,
            "overflow_x": null,
            "overflow_y": null,
            "padding": null,
            "right": null,
            "top": null,
            "visibility": null,
            "width": null
          }
        },
        "83fdf8a6f6fd44d38e7ee47218b64176": {
          "model_module": "@jupyter-widgets/controls",
          "model_name": "DescriptionStyleModel",
          "state": {
            "_model_module": "@jupyter-widgets/controls",
            "_model_module_version": "1.5.0",
            "_model_name": "DescriptionStyleModel",
            "_view_count": null,
            "_view_module": "@jupyter-widgets/base",
            "_view_module_version": "1.2.0",
            "_view_name": "StyleView",
            "description_width": ""
          }
        },
        "0a0002ee15ee48678b7b20eb4a146d99": {
          "model_module": "@jupyter-widgets/controls",
          "model_name": "HBoxModel",
          "state": {
            "_dom_classes": [],
            "_model_module": "@jupyter-widgets/controls",
            "_model_module_version": "1.5.0",
            "_model_name": "HBoxModel",
            "_view_count": null,
            "_view_module": "@jupyter-widgets/controls",
            "_view_module_version": "1.5.0",
            "_view_name": "HBoxView",
            "box_style": "",
            "children": [
              "IPY_MODEL_fb182fde28724473b5f9f5991975c1ef",
              "IPY_MODEL_35aec4f7d64e401bbe3fa0dad314f77c"
            ],
            "layout": "IPY_MODEL_ef1140821ef74167bd60e0647d82ad03"
          }
        },
        "fb182fde28724473b5f9f5991975c1ef": {
          "model_module": "@jupyter-widgets/controls",
          "model_name": "FloatProgressModel",
          "state": {
            "_dom_classes": [],
            "_model_module": "@jupyter-widgets/controls",
            "_model_module_version": "1.5.0",
            "_model_name": "FloatProgressModel",
            "_view_count": null,
            "_view_module": "@jupyter-widgets/controls",
            "_view_module_version": "1.5.0",
            "_view_name": "ProgressView",
            "bar_style": "success",
            "description": "Val step: 100%",
            "description_tooltip": null,
            "layout": "IPY_MODEL_242cbe7f9b92431e9dc4c3221c8d70a6",
            "max": 79,
            "min": 0,
            "orientation": "horizontal",
            "style": "IPY_MODEL_fadd7ca631e042178df3aa4c7836f030",
            "value": 79
          }
        },
        "35aec4f7d64e401bbe3fa0dad314f77c": {
          "model_module": "@jupyter-widgets/controls",
          "model_name": "HTMLModel",
          "state": {
            "_dom_classes": [],
            "_model_module": "@jupyter-widgets/controls",
            "_model_module_version": "1.5.0",
            "_model_name": "HTMLModel",
            "_view_count": null,
            "_view_module": "@jupyter-widgets/controls",
            "_view_module_version": "1.5.0",
            "_view_name": "HTMLView",
            "description": "",
            "description_tooltip": null,
            "layout": "IPY_MODEL_018332973ff141849e99323b2b9898a2",
            "placeholder": "​",
            "style": "IPY_MODEL_a19a5ee6044f4aa4b81d40fb6d5cb2e4",
            "value": " 79/79 [06:16&lt;00:00,  4.77s/it, loss=0.0727]"
          }
        },
        "ef1140821ef74167bd60e0647d82ad03": {
          "model_module": "@jupyter-widgets/base",
          "model_name": "LayoutModel",
          "state": {
            "_model_module": "@jupyter-widgets/base",
            "_model_module_version": "1.2.0",
            "_model_name": "LayoutModel",
            "_view_count": null,
            "_view_module": "@jupyter-widgets/base",
            "_view_module_version": "1.2.0",
            "_view_name": "LayoutView",
            "align_content": null,
            "align_items": null,
            "align_self": null,
            "border": null,
            "bottom": null,
            "display": null,
            "flex": null,
            "flex_flow": null,
            "grid_area": null,
            "grid_auto_columns": null,
            "grid_auto_flow": null,
            "grid_auto_rows": null,
            "grid_column": null,
            "grid_gap": null,
            "grid_row": null,
            "grid_template_areas": null,
            "grid_template_columns": null,
            "grid_template_rows": null,
            "height": null,
            "justify_content": null,
            "justify_items": null,
            "left": null,
            "margin": null,
            "max_height": null,
            "max_width": null,
            "min_height": null,
            "min_width": null,
            "object_fit": null,
            "object_position": null,
            "order": null,
            "overflow": null,
            "overflow_x": null,
            "overflow_y": null,
            "padding": null,
            "right": null,
            "top": null,
            "visibility": null,
            "width": null
          }
        },
        "242cbe7f9b92431e9dc4c3221c8d70a6": {
          "model_module": "@jupyter-widgets/base",
          "model_name": "LayoutModel",
          "state": {
            "_model_module": "@jupyter-widgets/base",
            "_model_module_version": "1.2.0",
            "_model_name": "LayoutModel",
            "_view_count": null,
            "_view_module": "@jupyter-widgets/base",
            "_view_module_version": "1.2.0",
            "_view_name": "LayoutView",
            "align_content": null,
            "align_items": null,
            "align_self": null,
            "border": null,
            "bottom": null,
            "display": null,
            "flex": null,
            "flex_flow": null,
            "grid_area": null,
            "grid_auto_columns": null,
            "grid_auto_flow": null,
            "grid_auto_rows": null,
            "grid_column": null,
            "grid_gap": null,
            "grid_row": null,
            "grid_template_areas": null,
            "grid_template_columns": null,
            "grid_template_rows": null,
            "height": null,
            "justify_content": null,
            "justify_items": null,
            "left": null,
            "margin": null,
            "max_height": null,
            "max_width": null,
            "min_height": null,
            "min_width": null,
            "object_fit": null,
            "object_position": null,
            "order": null,
            "overflow": null,
            "overflow_x": null,
            "overflow_y": null,
            "padding": null,
            "right": null,
            "top": null,
            "visibility": null,
            "width": null
          }
        },
        "fadd7ca631e042178df3aa4c7836f030": {
          "model_module": "@jupyter-widgets/controls",
          "model_name": "ProgressStyleModel",
          "state": {
            "_model_module": "@jupyter-widgets/controls",
            "_model_module_version": "1.5.0",
            "_model_name": "ProgressStyleModel",
            "_view_count": null,
            "_view_module": "@jupyter-widgets/base",
            "_view_module_version": "1.2.0",
            "_view_name": "StyleView",
            "bar_color": null,
            "description_width": "initial"
          }
        },
        "018332973ff141849e99323b2b9898a2": {
          "model_module": "@jupyter-widgets/base",
          "model_name": "LayoutModel",
          "state": {
            "_model_module": "@jupyter-widgets/base",
            "_model_module_version": "1.2.0",
            "_model_name": "LayoutModel",
            "_view_count": null,
            "_view_module": "@jupyter-widgets/base",
            "_view_module_version": "1.2.0",
            "_view_name": "LayoutView",
            "align_content": null,
            "align_items": null,
            "align_self": null,
            "border": null,
            "bottom": null,
            "display": null,
            "flex": null,
            "flex_flow": null,
            "grid_area": null,
            "grid_auto_columns": null,
            "grid_auto_flow": null,
            "grid_auto_rows": null,
            "grid_column": null,
            "grid_gap": null,
            "grid_row": null,
            "grid_template_areas": null,
            "grid_template_columns": null,
            "grid_template_rows": null,
            "height": null,
            "justify_content": null,
            "justify_items": null,
            "left": null,
            "margin": null,
            "max_height": null,
            "max_width": null,
            "min_height": null,
            "min_width": null,
            "object_fit": null,
            "object_position": null,
            "order": null,
            "overflow": null,
            "overflow_x": null,
            "overflow_y": null,
            "padding": null,
            "right": null,
            "top": null,
            "visibility": null,
            "width": null
          }
        },
        "a19a5ee6044f4aa4b81d40fb6d5cb2e4": {
          "model_module": "@jupyter-widgets/controls",
          "model_name": "DescriptionStyleModel",
          "state": {
            "_model_module": "@jupyter-widgets/controls",
            "_model_module_version": "1.5.0",
            "_model_name": "DescriptionStyleModel",
            "_view_count": null,
            "_view_module": "@jupyter-widgets/base",
            "_view_module_version": "1.2.0",
            "_view_name": "StyleView",
            "description_width": ""
          }
        },
        "ef739f5e3fce4ef8955733e8d3fa92a5": {
          "model_module": "@jupyter-widgets/controls",
          "model_name": "HBoxModel",
          "state": {
            "_dom_classes": [],
            "_model_module": "@jupyter-widgets/controls",
            "_model_module_version": "1.5.0",
            "_model_name": "HBoxModel",
            "_view_count": null,
            "_view_module": "@jupyter-widgets/controls",
            "_view_module_version": "1.5.0",
            "_view_name": "HBoxView",
            "box_style": "",
            "children": [
              "IPY_MODEL_890b2b6d724b42989d180abe3277ff2b",
              "IPY_MODEL_1604f1c080c645a294fbd89dcce1bd7f"
            ],
            "layout": "IPY_MODEL_bf458dbe50d04f61a3bc1e2d130f62aa"
          }
        },
        "890b2b6d724b42989d180abe3277ff2b": {
          "model_module": "@jupyter-widgets/controls",
          "model_name": "FloatProgressModel",
          "state": {
            "_dom_classes": [],
            "_model_module": "@jupyter-widgets/controls",
            "_model_module_version": "1.5.0",
            "_model_name": "FloatProgressModel",
            "_view_count": null,
            "_view_module": "@jupyter-widgets/controls",
            "_view_module_version": "1.5.0",
            "_view_name": "ProgressView",
            "bar_style": "success",
            "description": "Train step: 100%",
            "description_tooltip": null,
            "layout": "IPY_MODEL_176bb12319a04e0784b00813dff957d6",
            "max": 391,
            "min": 0,
            "orientation": "horizontal",
            "style": "IPY_MODEL_d9db319d0da44857aae748a5c21b12f0",
            "value": 391
          }
        },
        "1604f1c080c645a294fbd89dcce1bd7f": {
          "model_module": "@jupyter-widgets/controls",
          "model_name": "HTMLModel",
          "state": {
            "_dom_classes": [],
            "_model_module": "@jupyter-widgets/controls",
            "_model_module_version": "1.5.0",
            "_model_name": "HTMLModel",
            "_view_count": null,
            "_view_module": "@jupyter-widgets/controls",
            "_view_module_version": "1.5.0",
            "_view_name": "HTMLView",
            "description": "",
            "description_tooltip": null,
            "layout": "IPY_MODEL_ed683820b3714e16b258ba4487e3c0dd",
            "placeholder": "​",
            "style": "IPY_MODEL_7f7da6813be046f1824fecce4dc3a610",
            "value": " 391/391 [05:57&lt;00:00,  1.09it/s, loss=0.0617]"
          }
        },
        "bf458dbe50d04f61a3bc1e2d130f62aa": {
          "model_module": "@jupyter-widgets/base",
          "model_name": "LayoutModel",
          "state": {
            "_model_module": "@jupyter-widgets/base",
            "_model_module_version": "1.2.0",
            "_model_name": "LayoutModel",
            "_view_count": null,
            "_view_module": "@jupyter-widgets/base",
            "_view_module_version": "1.2.0",
            "_view_name": "LayoutView",
            "align_content": null,
            "align_items": null,
            "align_self": null,
            "border": null,
            "bottom": null,
            "display": null,
            "flex": null,
            "flex_flow": null,
            "grid_area": null,
            "grid_auto_columns": null,
            "grid_auto_flow": null,
            "grid_auto_rows": null,
            "grid_column": null,
            "grid_gap": null,
            "grid_row": null,
            "grid_template_areas": null,
            "grid_template_columns": null,
            "grid_template_rows": null,
            "height": null,
            "justify_content": null,
            "justify_items": null,
            "left": null,
            "margin": null,
            "max_height": null,
            "max_width": null,
            "min_height": null,
            "min_width": null,
            "object_fit": null,
            "object_position": null,
            "order": null,
            "overflow": null,
            "overflow_x": null,
            "overflow_y": null,
            "padding": null,
            "right": null,
            "top": null,
            "visibility": null,
            "width": null
          }
        },
        "176bb12319a04e0784b00813dff957d6": {
          "model_module": "@jupyter-widgets/base",
          "model_name": "LayoutModel",
          "state": {
            "_model_module": "@jupyter-widgets/base",
            "_model_module_version": "1.2.0",
            "_model_name": "LayoutModel",
            "_view_count": null,
            "_view_module": "@jupyter-widgets/base",
            "_view_module_version": "1.2.0",
            "_view_name": "LayoutView",
            "align_content": null,
            "align_items": null,
            "align_self": null,
            "border": null,
            "bottom": null,
            "display": null,
            "flex": null,
            "flex_flow": null,
            "grid_area": null,
            "grid_auto_columns": null,
            "grid_auto_flow": null,
            "grid_auto_rows": null,
            "grid_column": null,
            "grid_gap": null,
            "grid_row": null,
            "grid_template_areas": null,
            "grid_template_columns": null,
            "grid_template_rows": null,
            "height": null,
            "justify_content": null,
            "justify_items": null,
            "left": null,
            "margin": null,
            "max_height": null,
            "max_width": null,
            "min_height": null,
            "min_width": null,
            "object_fit": null,
            "object_position": null,
            "order": null,
            "overflow": null,
            "overflow_x": null,
            "overflow_y": null,
            "padding": null,
            "right": null,
            "top": null,
            "visibility": null,
            "width": null
          }
        },
        "d9db319d0da44857aae748a5c21b12f0": {
          "model_module": "@jupyter-widgets/controls",
          "model_name": "ProgressStyleModel",
          "state": {
            "_model_module": "@jupyter-widgets/controls",
            "_model_module_version": "1.5.0",
            "_model_name": "ProgressStyleModel",
            "_view_count": null,
            "_view_module": "@jupyter-widgets/base",
            "_view_module_version": "1.2.0",
            "_view_name": "StyleView",
            "bar_color": null,
            "description_width": "initial"
          }
        },
        "ed683820b3714e16b258ba4487e3c0dd": {
          "model_module": "@jupyter-widgets/base",
          "model_name": "LayoutModel",
          "state": {
            "_model_module": "@jupyter-widgets/base",
            "_model_module_version": "1.2.0",
            "_model_name": "LayoutModel",
            "_view_count": null,
            "_view_module": "@jupyter-widgets/base",
            "_view_module_version": "1.2.0",
            "_view_name": "LayoutView",
            "align_content": null,
            "align_items": null,
            "align_self": null,
            "border": null,
            "bottom": null,
            "display": null,
            "flex": null,
            "flex_flow": null,
            "grid_area": null,
            "grid_auto_columns": null,
            "grid_auto_flow": null,
            "grid_auto_rows": null,
            "grid_column": null,
            "grid_gap": null,
            "grid_row": null,
            "grid_template_areas": null,
            "grid_template_columns": null,
            "grid_template_rows": null,
            "height": null,
            "justify_content": null,
            "justify_items": null,
            "left": null,
            "margin": null,
            "max_height": null,
            "max_width": null,
            "min_height": null,
            "min_width": null,
            "object_fit": null,
            "object_position": null,
            "order": null,
            "overflow": null,
            "overflow_x": null,
            "overflow_y": null,
            "padding": null,
            "right": null,
            "top": null,
            "visibility": null,
            "width": null
          }
        },
        "7f7da6813be046f1824fecce4dc3a610": {
          "model_module": "@jupyter-widgets/controls",
          "model_name": "DescriptionStyleModel",
          "state": {
            "_model_module": "@jupyter-widgets/controls",
            "_model_module_version": "1.5.0",
            "_model_name": "DescriptionStyleModel",
            "_view_count": null,
            "_view_module": "@jupyter-widgets/base",
            "_view_module_version": "1.2.0",
            "_view_name": "StyleView",
            "description_width": ""
          }
        },
        "c6e4f3649a3749538dd2b7c3a4d18be7": {
          "model_module": "@jupyter-widgets/controls",
          "model_name": "HBoxModel",
          "state": {
            "_dom_classes": [],
            "_model_module": "@jupyter-widgets/controls",
            "_model_module_version": "1.5.0",
            "_model_name": "HBoxModel",
            "_view_count": null,
            "_view_module": "@jupyter-widgets/controls",
            "_view_module_version": "1.5.0",
            "_view_name": "HBoxView",
            "box_style": "",
            "children": [
              "IPY_MODEL_66e7c03d6a214ac5af23b806085e0d4f",
              "IPY_MODEL_68ce90aa5f564b189f94363da360c4b9"
            ],
            "layout": "IPY_MODEL_ed7bc5b9f28c49979d1d5999c754d656"
          }
        },
        "66e7c03d6a214ac5af23b806085e0d4f": {
          "model_module": "@jupyter-widgets/controls",
          "model_name": "FloatProgressModel",
          "state": {
            "_dom_classes": [],
            "_model_module": "@jupyter-widgets/controls",
            "_model_module_version": "1.5.0",
            "_model_name": "FloatProgressModel",
            "_view_count": null,
            "_view_module": "@jupyter-widgets/controls",
            "_view_module_version": "1.5.0",
            "_view_name": "ProgressView",
            "bar_style": "success",
            "description": "Val step: 100%",
            "description_tooltip": null,
            "layout": "IPY_MODEL_dd9ee10c08b8408d91be33b264441721",
            "max": 79,
            "min": 0,
            "orientation": "horizontal",
            "style": "IPY_MODEL_08dd7212b1b648959a0e2ba368951887",
            "value": 79
          }
        },
        "68ce90aa5f564b189f94363da360c4b9": {
          "model_module": "@jupyter-widgets/controls",
          "model_name": "HTMLModel",
          "state": {
            "_dom_classes": [],
            "_model_module": "@jupyter-widgets/controls",
            "_model_module_version": "1.5.0",
            "_model_name": "HTMLModel",
            "_view_count": null,
            "_view_module": "@jupyter-widgets/controls",
            "_view_module_version": "1.5.0",
            "_view_name": "HTMLView",
            "description": "",
            "description_tooltip": null,
            "layout": "IPY_MODEL_38433f39b55f4fdf8de9b063dd64df67",
            "placeholder": "​",
            "style": "IPY_MODEL_0af49bef097449099b6eba1b5d6dc54b",
            "value": " 79/79 [03:18&lt;00:00,  2.51s/it, loss=0.157]"
          }
        },
        "ed7bc5b9f28c49979d1d5999c754d656": {
          "model_module": "@jupyter-widgets/base",
          "model_name": "LayoutModel",
          "state": {
            "_model_module": "@jupyter-widgets/base",
            "_model_module_version": "1.2.0",
            "_model_name": "LayoutModel",
            "_view_count": null,
            "_view_module": "@jupyter-widgets/base",
            "_view_module_version": "1.2.0",
            "_view_name": "LayoutView",
            "align_content": null,
            "align_items": null,
            "align_self": null,
            "border": null,
            "bottom": null,
            "display": null,
            "flex": null,
            "flex_flow": null,
            "grid_area": null,
            "grid_auto_columns": null,
            "grid_auto_flow": null,
            "grid_auto_rows": null,
            "grid_column": null,
            "grid_gap": null,
            "grid_row": null,
            "grid_template_areas": null,
            "grid_template_columns": null,
            "grid_template_rows": null,
            "height": null,
            "justify_content": null,
            "justify_items": null,
            "left": null,
            "margin": null,
            "max_height": null,
            "max_width": null,
            "min_height": null,
            "min_width": null,
            "object_fit": null,
            "object_position": null,
            "order": null,
            "overflow": null,
            "overflow_x": null,
            "overflow_y": null,
            "padding": null,
            "right": null,
            "top": null,
            "visibility": null,
            "width": null
          }
        },
        "dd9ee10c08b8408d91be33b264441721": {
          "model_module": "@jupyter-widgets/base",
          "model_name": "LayoutModel",
          "state": {
            "_model_module": "@jupyter-widgets/base",
            "_model_module_version": "1.2.0",
            "_model_name": "LayoutModel",
            "_view_count": null,
            "_view_module": "@jupyter-widgets/base",
            "_view_module_version": "1.2.0",
            "_view_name": "LayoutView",
            "align_content": null,
            "align_items": null,
            "align_self": null,
            "border": null,
            "bottom": null,
            "display": null,
            "flex": null,
            "flex_flow": null,
            "grid_area": null,
            "grid_auto_columns": null,
            "grid_auto_flow": null,
            "grid_auto_rows": null,
            "grid_column": null,
            "grid_gap": null,
            "grid_row": null,
            "grid_template_areas": null,
            "grid_template_columns": null,
            "grid_template_rows": null,
            "height": null,
            "justify_content": null,
            "justify_items": null,
            "left": null,
            "margin": null,
            "max_height": null,
            "max_width": null,
            "min_height": null,
            "min_width": null,
            "object_fit": null,
            "object_position": null,
            "order": null,
            "overflow": null,
            "overflow_x": null,
            "overflow_y": null,
            "padding": null,
            "right": null,
            "top": null,
            "visibility": null,
            "width": null
          }
        },
        "08dd7212b1b648959a0e2ba368951887": {
          "model_module": "@jupyter-widgets/controls",
          "model_name": "ProgressStyleModel",
          "state": {
            "_model_module": "@jupyter-widgets/controls",
            "_model_module_version": "1.5.0",
            "_model_name": "ProgressStyleModel",
            "_view_count": null,
            "_view_module": "@jupyter-widgets/base",
            "_view_module_version": "1.2.0",
            "_view_name": "StyleView",
            "bar_color": null,
            "description_width": "initial"
          }
        },
        "38433f39b55f4fdf8de9b063dd64df67": {
          "model_module": "@jupyter-widgets/base",
          "model_name": "LayoutModel",
          "state": {
            "_model_module": "@jupyter-widgets/base",
            "_model_module_version": "1.2.0",
            "_model_name": "LayoutModel",
            "_view_count": null,
            "_view_module": "@jupyter-widgets/base",
            "_view_module_version": "1.2.0",
            "_view_name": "LayoutView",
            "align_content": null,
            "align_items": null,
            "align_self": null,
            "border": null,
            "bottom": null,
            "display": null,
            "flex": null,
            "flex_flow": null,
            "grid_area": null,
            "grid_auto_columns": null,
            "grid_auto_flow": null,
            "grid_auto_rows": null,
            "grid_column": null,
            "grid_gap": null,
            "grid_row": null,
            "grid_template_areas": null,
            "grid_template_columns": null,
            "grid_template_rows": null,
            "height": null,
            "justify_content": null,
            "justify_items": null,
            "left": null,
            "margin": null,
            "max_height": null,
            "max_width": null,
            "min_height": null,
            "min_width": null,
            "object_fit": null,
            "object_position": null,
            "order": null,
            "overflow": null,
            "overflow_x": null,
            "overflow_y": null,
            "padding": null,
            "right": null,
            "top": null,
            "visibility": null,
            "width": null
          }
        },
        "0af49bef097449099b6eba1b5d6dc54b": {
          "model_module": "@jupyter-widgets/controls",
          "model_name": "DescriptionStyleModel",
          "state": {
            "_model_module": "@jupyter-widgets/controls",
            "_model_module_version": "1.5.0",
            "_model_name": "DescriptionStyleModel",
            "_view_count": null,
            "_view_module": "@jupyter-widgets/base",
            "_view_module_version": "1.2.0",
            "_view_name": "StyleView",
            "description_width": ""
          }
        },
        "72c4e4bdd08c4b81bc2afcf1b1de19d0": {
          "model_module": "@jupyter-widgets/controls",
          "model_name": "HBoxModel",
          "state": {
            "_dom_classes": [],
            "_model_module": "@jupyter-widgets/controls",
            "_model_module_version": "1.5.0",
            "_model_name": "HBoxModel",
            "_view_count": null,
            "_view_module": "@jupyter-widgets/controls",
            "_view_module_version": "1.5.0",
            "_view_name": "HBoxView",
            "box_style": "",
            "children": [
              "IPY_MODEL_435217a95b2843bbb05d91e703f190eb",
              "IPY_MODEL_d6ea5043258d40228cf15e1b240516f9"
            ],
            "layout": "IPY_MODEL_9e4894927a90484e8c0a2ed27d418148"
          }
        },
        "435217a95b2843bbb05d91e703f190eb": {
          "model_module": "@jupyter-widgets/controls",
          "model_name": "FloatProgressModel",
          "state": {
            "_dom_classes": [],
            "_model_module": "@jupyter-widgets/controls",
            "_model_module_version": "1.5.0",
            "_model_name": "FloatProgressModel",
            "_view_count": null,
            "_view_module": "@jupyter-widgets/controls",
            "_view_module_version": "1.5.0",
            "_view_name": "ProgressView",
            "bar_style": "success",
            "description": "Train step: 100%",
            "description_tooltip": null,
            "layout": "IPY_MODEL_285d6726769a421e906a98d346df703a",
            "max": 391,
            "min": 0,
            "orientation": "horizontal",
            "style": "IPY_MODEL_d183d9bfdccc4cb1a2676361e1216051",
            "value": 391
          }
        },
        "d6ea5043258d40228cf15e1b240516f9": {
          "model_module": "@jupyter-widgets/controls",
          "model_name": "HTMLModel",
          "state": {
            "_dom_classes": [],
            "_model_module": "@jupyter-widgets/controls",
            "_model_module_version": "1.5.0",
            "_model_name": "HTMLModel",
            "_view_count": null,
            "_view_module": "@jupyter-widgets/controls",
            "_view_module_version": "1.5.0",
            "_view_name": "HTMLView",
            "description": "",
            "description_tooltip": null,
            "layout": "IPY_MODEL_4782027b51e74abb9b90b33d19e6a76e",
            "placeholder": "​",
            "style": "IPY_MODEL_210405c47b324e28a9be8e062b68a799",
            "value": " 391/391 [02:38&lt;00:00,  2.47it/s, loss=0.23]"
          }
        },
        "9e4894927a90484e8c0a2ed27d418148": {
          "model_module": "@jupyter-widgets/base",
          "model_name": "LayoutModel",
          "state": {
            "_model_module": "@jupyter-widgets/base",
            "_model_module_version": "1.2.0",
            "_model_name": "LayoutModel",
            "_view_count": null,
            "_view_module": "@jupyter-widgets/base",
            "_view_module_version": "1.2.0",
            "_view_name": "LayoutView",
            "align_content": null,
            "align_items": null,
            "align_self": null,
            "border": null,
            "bottom": null,
            "display": null,
            "flex": null,
            "flex_flow": null,
            "grid_area": null,
            "grid_auto_columns": null,
            "grid_auto_flow": null,
            "grid_auto_rows": null,
            "grid_column": null,
            "grid_gap": null,
            "grid_row": null,
            "grid_template_areas": null,
            "grid_template_columns": null,
            "grid_template_rows": null,
            "height": null,
            "justify_content": null,
            "justify_items": null,
            "left": null,
            "margin": null,
            "max_height": null,
            "max_width": null,
            "min_height": null,
            "min_width": null,
            "object_fit": null,
            "object_position": null,
            "order": null,
            "overflow": null,
            "overflow_x": null,
            "overflow_y": null,
            "padding": null,
            "right": null,
            "top": null,
            "visibility": null,
            "width": null
          }
        },
        "285d6726769a421e906a98d346df703a": {
          "model_module": "@jupyter-widgets/base",
          "model_name": "LayoutModel",
          "state": {
            "_model_module": "@jupyter-widgets/base",
            "_model_module_version": "1.2.0",
            "_model_name": "LayoutModel",
            "_view_count": null,
            "_view_module": "@jupyter-widgets/base",
            "_view_module_version": "1.2.0",
            "_view_name": "LayoutView",
            "align_content": null,
            "align_items": null,
            "align_self": null,
            "border": null,
            "bottom": null,
            "display": null,
            "flex": null,
            "flex_flow": null,
            "grid_area": null,
            "grid_auto_columns": null,
            "grid_auto_flow": null,
            "grid_auto_rows": null,
            "grid_column": null,
            "grid_gap": null,
            "grid_row": null,
            "grid_template_areas": null,
            "grid_template_columns": null,
            "grid_template_rows": null,
            "height": null,
            "justify_content": null,
            "justify_items": null,
            "left": null,
            "margin": null,
            "max_height": null,
            "max_width": null,
            "min_height": null,
            "min_width": null,
            "object_fit": null,
            "object_position": null,
            "order": null,
            "overflow": null,
            "overflow_x": null,
            "overflow_y": null,
            "padding": null,
            "right": null,
            "top": null,
            "visibility": null,
            "width": null
          }
        },
        "d183d9bfdccc4cb1a2676361e1216051": {
          "model_module": "@jupyter-widgets/controls",
          "model_name": "ProgressStyleModel",
          "state": {
            "_model_module": "@jupyter-widgets/controls",
            "_model_module_version": "1.5.0",
            "_model_name": "ProgressStyleModel",
            "_view_count": null,
            "_view_module": "@jupyter-widgets/base",
            "_view_module_version": "1.2.0",
            "_view_name": "StyleView",
            "bar_color": null,
            "description_width": "initial"
          }
        },
        "4782027b51e74abb9b90b33d19e6a76e": {
          "model_module": "@jupyter-widgets/base",
          "model_name": "LayoutModel",
          "state": {
            "_model_module": "@jupyter-widgets/base",
            "_model_module_version": "1.2.0",
            "_model_name": "LayoutModel",
            "_view_count": null,
            "_view_module": "@jupyter-widgets/base",
            "_view_module_version": "1.2.0",
            "_view_name": "LayoutView",
            "align_content": null,
            "align_items": null,
            "align_self": null,
            "border": null,
            "bottom": null,
            "display": null,
            "flex": null,
            "flex_flow": null,
            "grid_area": null,
            "grid_auto_columns": null,
            "grid_auto_flow": null,
            "grid_auto_rows": null,
            "grid_column": null,
            "grid_gap": null,
            "grid_row": null,
            "grid_template_areas": null,
            "grid_template_columns": null,
            "grid_template_rows": null,
            "height": null,
            "justify_content": null,
            "justify_items": null,
            "left": null,
            "margin": null,
            "max_height": null,
            "max_width": null,
            "min_height": null,
            "min_width": null,
            "object_fit": null,
            "object_position": null,
            "order": null,
            "overflow": null,
            "overflow_x": null,
            "overflow_y": null,
            "padding": null,
            "right": null,
            "top": null,
            "visibility": null,
            "width": null
          }
        },
        "210405c47b324e28a9be8e062b68a799": {
          "model_module": "@jupyter-widgets/controls",
          "model_name": "DescriptionStyleModel",
          "state": {
            "_model_module": "@jupyter-widgets/controls",
            "_model_module_version": "1.5.0",
            "_model_name": "DescriptionStyleModel",
            "_view_count": null,
            "_view_module": "@jupyter-widgets/base",
            "_view_module_version": "1.2.0",
            "_view_name": "StyleView",
            "description_width": ""
          }
        },
        "178f378a700a4be4bf4556c0fcfe8e71": {
          "model_module": "@jupyter-widgets/controls",
          "model_name": "HBoxModel",
          "state": {
            "_dom_classes": [],
            "_model_module": "@jupyter-widgets/controls",
            "_model_module_version": "1.5.0",
            "_model_name": "HBoxModel",
            "_view_count": null,
            "_view_module": "@jupyter-widgets/controls",
            "_view_module_version": "1.5.0",
            "_view_name": "HBoxView",
            "box_style": "",
            "children": [
              "IPY_MODEL_ad6d1bccabf14423a628677aff62e873",
              "IPY_MODEL_2a2931734d5b4111aad8294e8724e60b"
            ],
            "layout": "IPY_MODEL_3ac31325a26643cdbe79c19ec65df33a"
          }
        },
        "ad6d1bccabf14423a628677aff62e873": {
          "model_module": "@jupyter-widgets/controls",
          "model_name": "FloatProgressModel",
          "state": {
            "_dom_classes": [],
            "_model_module": "@jupyter-widgets/controls",
            "_model_module_version": "1.5.0",
            "_model_name": "FloatProgressModel",
            "_view_count": null,
            "_view_module": "@jupyter-widgets/controls",
            "_view_module_version": "1.5.0",
            "_view_name": "ProgressView",
            "bar_style": "success",
            "description": "Val step: 100%",
            "description_tooltip": null,
            "layout": "IPY_MODEL_7eb511634fa54674b0649bcc39baed48",
            "max": 79,
            "min": 0,
            "orientation": "horizontal",
            "style": "IPY_MODEL_16753860e33b4505870275ff4d15a3c5",
            "value": 79
          }
        },
        "2a2931734d5b4111aad8294e8724e60b": {
          "model_module": "@jupyter-widgets/controls",
          "model_name": "HTMLModel",
          "state": {
            "_dom_classes": [],
            "_model_module": "@jupyter-widgets/controls",
            "_model_module_version": "1.5.0",
            "_model_name": "HTMLModel",
            "_view_count": null,
            "_view_module": "@jupyter-widgets/controls",
            "_view_module_version": "1.5.0",
            "_view_name": "HTMLView",
            "description": "",
            "description_tooltip": null,
            "layout": "IPY_MODEL_9d616484684b404c82523e8f45be67ad",
            "placeholder": "​",
            "style": "IPY_MODEL_1c049fe444fa40efa16e65ef578fce46",
            "value": " 79/79 [00:19&lt;00:00,  4.01it/s, loss=0.493]"
          }
        },
        "3ac31325a26643cdbe79c19ec65df33a": {
          "model_module": "@jupyter-widgets/base",
          "model_name": "LayoutModel",
          "state": {
            "_model_module": "@jupyter-widgets/base",
            "_model_module_version": "1.2.0",
            "_model_name": "LayoutModel",
            "_view_count": null,
            "_view_module": "@jupyter-widgets/base",
            "_view_module_version": "1.2.0",
            "_view_name": "LayoutView",
            "align_content": null,
            "align_items": null,
            "align_self": null,
            "border": null,
            "bottom": null,
            "display": null,
            "flex": null,
            "flex_flow": null,
            "grid_area": null,
            "grid_auto_columns": null,
            "grid_auto_flow": null,
            "grid_auto_rows": null,
            "grid_column": null,
            "grid_gap": null,
            "grid_row": null,
            "grid_template_areas": null,
            "grid_template_columns": null,
            "grid_template_rows": null,
            "height": null,
            "justify_content": null,
            "justify_items": null,
            "left": null,
            "margin": null,
            "max_height": null,
            "max_width": null,
            "min_height": null,
            "min_width": null,
            "object_fit": null,
            "object_position": null,
            "order": null,
            "overflow": null,
            "overflow_x": null,
            "overflow_y": null,
            "padding": null,
            "right": null,
            "top": null,
            "visibility": null,
            "width": null
          }
        },
        "7eb511634fa54674b0649bcc39baed48": {
          "model_module": "@jupyter-widgets/base",
          "model_name": "LayoutModel",
          "state": {
            "_model_module": "@jupyter-widgets/base",
            "_model_module_version": "1.2.0",
            "_model_name": "LayoutModel",
            "_view_count": null,
            "_view_module": "@jupyter-widgets/base",
            "_view_module_version": "1.2.0",
            "_view_name": "LayoutView",
            "align_content": null,
            "align_items": null,
            "align_self": null,
            "border": null,
            "bottom": null,
            "display": null,
            "flex": null,
            "flex_flow": null,
            "grid_area": null,
            "grid_auto_columns": null,
            "grid_auto_flow": null,
            "grid_auto_rows": null,
            "grid_column": null,
            "grid_gap": null,
            "grid_row": null,
            "grid_template_areas": null,
            "grid_template_columns": null,
            "grid_template_rows": null,
            "height": null,
            "justify_content": null,
            "justify_items": null,
            "left": null,
            "margin": null,
            "max_height": null,
            "max_width": null,
            "min_height": null,
            "min_width": null,
            "object_fit": null,
            "object_position": null,
            "order": null,
            "overflow": null,
            "overflow_x": null,
            "overflow_y": null,
            "padding": null,
            "right": null,
            "top": null,
            "visibility": null,
            "width": null
          }
        },
        "16753860e33b4505870275ff4d15a3c5": {
          "model_module": "@jupyter-widgets/controls",
          "model_name": "ProgressStyleModel",
          "state": {
            "_model_module": "@jupyter-widgets/controls",
            "_model_module_version": "1.5.0",
            "_model_name": "ProgressStyleModel",
            "_view_count": null,
            "_view_module": "@jupyter-widgets/base",
            "_view_module_version": "1.2.0",
            "_view_name": "StyleView",
            "bar_color": null,
            "description_width": "initial"
          }
        },
        "9d616484684b404c82523e8f45be67ad": {
          "model_module": "@jupyter-widgets/base",
          "model_name": "LayoutModel",
          "state": {
            "_model_module": "@jupyter-widgets/base",
            "_model_module_version": "1.2.0",
            "_model_name": "LayoutModel",
            "_view_count": null,
            "_view_module": "@jupyter-widgets/base",
            "_view_module_version": "1.2.0",
            "_view_name": "LayoutView",
            "align_content": null,
            "align_items": null,
            "align_self": null,
            "border": null,
            "bottom": null,
            "display": null,
            "flex": null,
            "flex_flow": null,
            "grid_area": null,
            "grid_auto_columns": null,
            "grid_auto_flow": null,
            "grid_auto_rows": null,
            "grid_column": null,
            "grid_gap": null,
            "grid_row": null,
            "grid_template_areas": null,
            "grid_template_columns": null,
            "grid_template_rows": null,
            "height": null,
            "justify_content": null,
            "justify_items": null,
            "left": null,
            "margin": null,
            "max_height": null,
            "max_width": null,
            "min_height": null,
            "min_width": null,
            "object_fit": null,
            "object_position": null,
            "order": null,
            "overflow": null,
            "overflow_x": null,
            "overflow_y": null,
            "padding": null,
            "right": null,
            "top": null,
            "visibility": null,
            "width": null
          }
        },
        "1c049fe444fa40efa16e65ef578fce46": {
          "model_module": "@jupyter-widgets/controls",
          "model_name": "DescriptionStyleModel",
          "state": {
            "_model_module": "@jupyter-widgets/controls",
            "_model_module_version": "1.5.0",
            "_model_name": "DescriptionStyleModel",
            "_view_count": null,
            "_view_module": "@jupyter-widgets/base",
            "_view_module_version": "1.2.0",
            "_view_name": "StyleView",
            "description_width": ""
          }
        },
        "861058a5c6be41578bf55acbafda1fbc": {
          "model_module": "@jupyter-widgets/controls",
          "model_name": "HBoxModel",
          "state": {
            "_dom_classes": [],
            "_model_module": "@jupyter-widgets/controls",
            "_model_module_version": "1.5.0",
            "_model_name": "HBoxModel",
            "_view_count": null,
            "_view_module": "@jupyter-widgets/controls",
            "_view_module_version": "1.5.0",
            "_view_name": "HBoxView",
            "box_style": "",
            "children": [
              "IPY_MODEL_78756547e30b4820bde3cc76cd58aa3b",
              "IPY_MODEL_e7d743b69bd0465b806c8cf5e3c658aa"
            ],
            "layout": "IPY_MODEL_68f061ab2e814b33878daae9285431c6"
          }
        },
        "78756547e30b4820bde3cc76cd58aa3b": {
          "model_module": "@jupyter-widgets/controls",
          "model_name": "FloatProgressModel",
          "state": {
            "_dom_classes": [],
            "_model_module": "@jupyter-widgets/controls",
            "_model_module_version": "1.5.0",
            "_model_name": "FloatProgressModel",
            "_view_count": null,
            "_view_module": "@jupyter-widgets/controls",
            "_view_module_version": "1.5.0",
            "_view_name": "ProgressView",
            "bar_style": "success",
            "description": "Train step: 100%",
            "description_tooltip": null,
            "layout": "IPY_MODEL_cd3a86e764da4cef943196031cd36a1e",
            "max": 391,
            "min": 0,
            "orientation": "horizontal",
            "style": "IPY_MODEL_e0bf192ae8fb4825ac7a3b3659e41c89",
            "value": 391
          }
        },
        "e7d743b69bd0465b806c8cf5e3c658aa": {
          "model_module": "@jupyter-widgets/controls",
          "model_name": "HTMLModel",
          "state": {
            "_dom_classes": [],
            "_model_module": "@jupyter-widgets/controls",
            "_model_module_version": "1.5.0",
            "_model_name": "HTMLModel",
            "_view_count": null,
            "_view_module": "@jupyter-widgets/controls",
            "_view_module_version": "1.5.0",
            "_view_name": "HTMLView",
            "description": "",
            "description_tooltip": null,
            "layout": "IPY_MODEL_419e3b8ae8034198817f4aff633ffeae",
            "placeholder": "​",
            "style": "IPY_MODEL_1c420aee92b04e70a8af4aff85b1da75",
            "value": " 391/391 [02:39&lt;00:00,  2.44it/s, loss=0.132]"
          }
        },
        "68f061ab2e814b33878daae9285431c6": {
          "model_module": "@jupyter-widgets/base",
          "model_name": "LayoutModel",
          "state": {
            "_model_module": "@jupyter-widgets/base",
            "_model_module_version": "1.2.0",
            "_model_name": "LayoutModel",
            "_view_count": null,
            "_view_module": "@jupyter-widgets/base",
            "_view_module_version": "1.2.0",
            "_view_name": "LayoutView",
            "align_content": null,
            "align_items": null,
            "align_self": null,
            "border": null,
            "bottom": null,
            "display": null,
            "flex": null,
            "flex_flow": null,
            "grid_area": null,
            "grid_auto_columns": null,
            "grid_auto_flow": null,
            "grid_auto_rows": null,
            "grid_column": null,
            "grid_gap": null,
            "grid_row": null,
            "grid_template_areas": null,
            "grid_template_columns": null,
            "grid_template_rows": null,
            "height": null,
            "justify_content": null,
            "justify_items": null,
            "left": null,
            "margin": null,
            "max_height": null,
            "max_width": null,
            "min_height": null,
            "min_width": null,
            "object_fit": null,
            "object_position": null,
            "order": null,
            "overflow": null,
            "overflow_x": null,
            "overflow_y": null,
            "padding": null,
            "right": null,
            "top": null,
            "visibility": null,
            "width": null
          }
        },
        "cd3a86e764da4cef943196031cd36a1e": {
          "model_module": "@jupyter-widgets/base",
          "model_name": "LayoutModel",
          "state": {
            "_model_module": "@jupyter-widgets/base",
            "_model_module_version": "1.2.0",
            "_model_name": "LayoutModel",
            "_view_count": null,
            "_view_module": "@jupyter-widgets/base",
            "_view_module_version": "1.2.0",
            "_view_name": "LayoutView",
            "align_content": null,
            "align_items": null,
            "align_self": null,
            "border": null,
            "bottom": null,
            "display": null,
            "flex": null,
            "flex_flow": null,
            "grid_area": null,
            "grid_auto_columns": null,
            "grid_auto_flow": null,
            "grid_auto_rows": null,
            "grid_column": null,
            "grid_gap": null,
            "grid_row": null,
            "grid_template_areas": null,
            "grid_template_columns": null,
            "grid_template_rows": null,
            "height": null,
            "justify_content": null,
            "justify_items": null,
            "left": null,
            "margin": null,
            "max_height": null,
            "max_width": null,
            "min_height": null,
            "min_width": null,
            "object_fit": null,
            "object_position": null,
            "order": null,
            "overflow": null,
            "overflow_x": null,
            "overflow_y": null,
            "padding": null,
            "right": null,
            "top": null,
            "visibility": null,
            "width": null
          }
        },
        "e0bf192ae8fb4825ac7a3b3659e41c89": {
          "model_module": "@jupyter-widgets/controls",
          "model_name": "ProgressStyleModel",
          "state": {
            "_model_module": "@jupyter-widgets/controls",
            "_model_module_version": "1.5.0",
            "_model_name": "ProgressStyleModel",
            "_view_count": null,
            "_view_module": "@jupyter-widgets/base",
            "_view_module_version": "1.2.0",
            "_view_name": "StyleView",
            "bar_color": null,
            "description_width": "initial"
          }
        },
        "419e3b8ae8034198817f4aff633ffeae": {
          "model_module": "@jupyter-widgets/base",
          "model_name": "LayoutModel",
          "state": {
            "_model_module": "@jupyter-widgets/base",
            "_model_module_version": "1.2.0",
            "_model_name": "LayoutModel",
            "_view_count": null,
            "_view_module": "@jupyter-widgets/base",
            "_view_module_version": "1.2.0",
            "_view_name": "LayoutView",
            "align_content": null,
            "align_items": null,
            "align_self": null,
            "border": null,
            "bottom": null,
            "display": null,
            "flex": null,
            "flex_flow": null,
            "grid_area": null,
            "grid_auto_columns": null,
            "grid_auto_flow": null,
            "grid_auto_rows": null,
            "grid_column": null,
            "grid_gap": null,
            "grid_row": null,
            "grid_template_areas": null,
            "grid_template_columns": null,
            "grid_template_rows": null,
            "height": null,
            "justify_content": null,
            "justify_items": null,
            "left": null,
            "margin": null,
            "max_height": null,
            "max_width": null,
            "min_height": null,
            "min_width": null,
            "object_fit": null,
            "object_position": null,
            "order": null,
            "overflow": null,
            "overflow_x": null,
            "overflow_y": null,
            "padding": null,
            "right": null,
            "top": null,
            "visibility": null,
            "width": null
          }
        },
        "1c420aee92b04e70a8af4aff85b1da75": {
          "model_module": "@jupyter-widgets/controls",
          "model_name": "DescriptionStyleModel",
          "state": {
            "_model_module": "@jupyter-widgets/controls",
            "_model_module_version": "1.5.0",
            "_model_name": "DescriptionStyleModel",
            "_view_count": null,
            "_view_module": "@jupyter-widgets/base",
            "_view_module_version": "1.2.0",
            "_view_name": "StyleView",
            "description_width": ""
          }
        },
        "fab11f1b1e8f41aa861d407db64cd73b": {
          "model_module": "@jupyter-widgets/controls",
          "model_name": "HBoxModel",
          "state": {
            "_dom_classes": [],
            "_model_module": "@jupyter-widgets/controls",
            "_model_module_version": "1.5.0",
            "_model_name": "HBoxModel",
            "_view_count": null,
            "_view_module": "@jupyter-widgets/controls",
            "_view_module_version": "1.5.0",
            "_view_name": "HBoxView",
            "box_style": "",
            "children": [
              "IPY_MODEL_749207d5338e4ebd9479f45d4cea7372",
              "IPY_MODEL_522bd05bd8794a3d93c605d73a5d7515"
            ],
            "layout": "IPY_MODEL_57dc67bd843148cb889cff779ded0b08"
          }
        },
        "749207d5338e4ebd9479f45d4cea7372": {
          "model_module": "@jupyter-widgets/controls",
          "model_name": "FloatProgressModel",
          "state": {
            "_dom_classes": [],
            "_model_module": "@jupyter-widgets/controls",
            "_model_module_version": "1.5.0",
            "_model_name": "FloatProgressModel",
            "_view_count": null,
            "_view_module": "@jupyter-widgets/controls",
            "_view_module_version": "1.5.0",
            "_view_name": "ProgressView",
            "bar_style": "success",
            "description": "Val step: 100%",
            "description_tooltip": null,
            "layout": "IPY_MODEL_6b0fc830a3a44a71bfd603f4987bf2de",
            "max": 79,
            "min": 0,
            "orientation": "horizontal",
            "style": "IPY_MODEL_5123714987a043a584a33e38d8f04e14",
            "value": 79
          }
        },
        "522bd05bd8794a3d93c605d73a5d7515": {
          "model_module": "@jupyter-widgets/controls",
          "model_name": "HTMLModel",
          "state": {
            "_dom_classes": [],
            "_model_module": "@jupyter-widgets/controls",
            "_model_module_version": "1.5.0",
            "_model_name": "HTMLModel",
            "_view_count": null,
            "_view_module": "@jupyter-widgets/controls",
            "_view_module_version": "1.5.0",
            "_view_name": "HTMLView",
            "description": "",
            "description_tooltip": null,
            "layout": "IPY_MODEL_c8ef0cfbbab54f86ae790c584c6a0e56",
            "placeholder": "​",
            "style": "IPY_MODEL_6b5de0e5d608478894ed827b1e92e110",
            "value": " 79/79 [00:20&lt;00:00,  3.87it/s, loss=0.163]"
          }
        },
        "57dc67bd843148cb889cff779ded0b08": {
          "model_module": "@jupyter-widgets/base",
          "model_name": "LayoutModel",
          "state": {
            "_model_module": "@jupyter-widgets/base",
            "_model_module_version": "1.2.0",
            "_model_name": "LayoutModel",
            "_view_count": null,
            "_view_module": "@jupyter-widgets/base",
            "_view_module_version": "1.2.0",
            "_view_name": "LayoutView",
            "align_content": null,
            "align_items": null,
            "align_self": null,
            "border": null,
            "bottom": null,
            "display": null,
            "flex": null,
            "flex_flow": null,
            "grid_area": null,
            "grid_auto_columns": null,
            "grid_auto_flow": null,
            "grid_auto_rows": null,
            "grid_column": null,
            "grid_gap": null,
            "grid_row": null,
            "grid_template_areas": null,
            "grid_template_columns": null,
            "grid_template_rows": null,
            "height": null,
            "justify_content": null,
            "justify_items": null,
            "left": null,
            "margin": null,
            "max_height": null,
            "max_width": null,
            "min_height": null,
            "min_width": null,
            "object_fit": null,
            "object_position": null,
            "order": null,
            "overflow": null,
            "overflow_x": null,
            "overflow_y": null,
            "padding": null,
            "right": null,
            "top": null,
            "visibility": null,
            "width": null
          }
        },
        "6b0fc830a3a44a71bfd603f4987bf2de": {
          "model_module": "@jupyter-widgets/base",
          "model_name": "LayoutModel",
          "state": {
            "_model_module": "@jupyter-widgets/base",
            "_model_module_version": "1.2.0",
            "_model_name": "LayoutModel",
            "_view_count": null,
            "_view_module": "@jupyter-widgets/base",
            "_view_module_version": "1.2.0",
            "_view_name": "LayoutView",
            "align_content": null,
            "align_items": null,
            "align_self": null,
            "border": null,
            "bottom": null,
            "display": null,
            "flex": null,
            "flex_flow": null,
            "grid_area": null,
            "grid_auto_columns": null,
            "grid_auto_flow": null,
            "grid_auto_rows": null,
            "grid_column": null,
            "grid_gap": null,
            "grid_row": null,
            "grid_template_areas": null,
            "grid_template_columns": null,
            "grid_template_rows": null,
            "height": null,
            "justify_content": null,
            "justify_items": null,
            "left": null,
            "margin": null,
            "max_height": null,
            "max_width": null,
            "min_height": null,
            "min_width": null,
            "object_fit": null,
            "object_position": null,
            "order": null,
            "overflow": null,
            "overflow_x": null,
            "overflow_y": null,
            "padding": null,
            "right": null,
            "top": null,
            "visibility": null,
            "width": null
          }
        },
        "5123714987a043a584a33e38d8f04e14": {
          "model_module": "@jupyter-widgets/controls",
          "model_name": "ProgressStyleModel",
          "state": {
            "_model_module": "@jupyter-widgets/controls",
            "_model_module_version": "1.5.0",
            "_model_name": "ProgressStyleModel",
            "_view_count": null,
            "_view_module": "@jupyter-widgets/base",
            "_view_module_version": "1.2.0",
            "_view_name": "StyleView",
            "bar_color": null,
            "description_width": "initial"
          }
        },
        "c8ef0cfbbab54f86ae790c584c6a0e56": {
          "model_module": "@jupyter-widgets/base",
          "model_name": "LayoutModel",
          "state": {
            "_model_module": "@jupyter-widgets/base",
            "_model_module_version": "1.2.0",
            "_model_name": "LayoutModel",
            "_view_count": null,
            "_view_module": "@jupyter-widgets/base",
            "_view_module_version": "1.2.0",
            "_view_name": "LayoutView",
            "align_content": null,
            "align_items": null,
            "align_self": null,
            "border": null,
            "bottom": null,
            "display": null,
            "flex": null,
            "flex_flow": null,
            "grid_area": null,
            "grid_auto_columns": null,
            "grid_auto_flow": null,
            "grid_auto_rows": null,
            "grid_column": null,
            "grid_gap": null,
            "grid_row": null,
            "grid_template_areas": null,
            "grid_template_columns": null,
            "grid_template_rows": null,
            "height": null,
            "justify_content": null,
            "justify_items": null,
            "left": null,
            "margin": null,
            "max_height": null,
            "max_width": null,
            "min_height": null,
            "min_width": null,
            "object_fit": null,
            "object_position": null,
            "order": null,
            "overflow": null,
            "overflow_x": null,
            "overflow_y": null,
            "padding": null,
            "right": null,
            "top": null,
            "visibility": null,
            "width": null
          }
        },
        "6b5de0e5d608478894ed827b1e92e110": {
          "model_module": "@jupyter-widgets/controls",
          "model_name": "DescriptionStyleModel",
          "state": {
            "_model_module": "@jupyter-widgets/controls",
            "_model_module_version": "1.5.0",
            "_model_name": "DescriptionStyleModel",
            "_view_count": null,
            "_view_module": "@jupyter-widgets/base",
            "_view_module_version": "1.2.0",
            "_view_name": "StyleView",
            "description_width": ""
          }
        },
        "965bea28366f47bcaf116e049d5164df": {
          "model_module": "@jupyter-widgets/controls",
          "model_name": "HBoxModel",
          "state": {
            "_dom_classes": [],
            "_model_module": "@jupyter-widgets/controls",
            "_model_module_version": "1.5.0",
            "_model_name": "HBoxModel",
            "_view_count": null,
            "_view_module": "@jupyter-widgets/controls",
            "_view_module_version": "1.5.0",
            "_view_name": "HBoxView",
            "box_style": "",
            "children": [
              "IPY_MODEL_37853496ee8e49a895aa9270037d6478",
              "IPY_MODEL_bed0ebd7e84f4cf09337f3f75f002cda"
            ],
            "layout": "IPY_MODEL_7d9da0e49d744deb86eb08dea63b853d"
          }
        },
        "37853496ee8e49a895aa9270037d6478": {
          "model_module": "@jupyter-widgets/controls",
          "model_name": "FloatProgressModel",
          "state": {
            "_dom_classes": [],
            "_model_module": "@jupyter-widgets/controls",
            "_model_module_version": "1.5.0",
            "_model_name": "FloatProgressModel",
            "_view_count": null,
            "_view_module": "@jupyter-widgets/controls",
            "_view_module_version": "1.5.0",
            "_view_name": "ProgressView",
            "bar_style": "success",
            "description": "Train step: 100%",
            "description_tooltip": null,
            "layout": "IPY_MODEL_0d6b0dc5cb55465aa2a7ea7febfe9cd9",
            "max": 391,
            "min": 0,
            "orientation": "horizontal",
            "style": "IPY_MODEL_0712e618c0e74d0e819e27b31d75f1e7",
            "value": 391
          }
        },
        "bed0ebd7e84f4cf09337f3f75f002cda": {
          "model_module": "@jupyter-widgets/controls",
          "model_name": "HTMLModel",
          "state": {
            "_dom_classes": [],
            "_model_module": "@jupyter-widgets/controls",
            "_model_module_version": "1.5.0",
            "_model_name": "HTMLModel",
            "_view_count": null,
            "_view_module": "@jupyter-widgets/controls",
            "_view_module_version": "1.5.0",
            "_view_name": "HTMLView",
            "description": "",
            "description_tooltip": null,
            "layout": "IPY_MODEL_e729103c524b43fc8805fe639d141c76",
            "placeholder": "​",
            "style": "IPY_MODEL_d030b24ee85446faa77dd8b2a97838be",
            "value": " 391/391 [02:40&lt;00:00,  2.44it/s, loss=0.0565]"
          }
        },
        "7d9da0e49d744deb86eb08dea63b853d": {
          "model_module": "@jupyter-widgets/base",
          "model_name": "LayoutModel",
          "state": {
            "_model_module": "@jupyter-widgets/base",
            "_model_module_version": "1.2.0",
            "_model_name": "LayoutModel",
            "_view_count": null,
            "_view_module": "@jupyter-widgets/base",
            "_view_module_version": "1.2.0",
            "_view_name": "LayoutView",
            "align_content": null,
            "align_items": null,
            "align_self": null,
            "border": null,
            "bottom": null,
            "display": null,
            "flex": null,
            "flex_flow": null,
            "grid_area": null,
            "grid_auto_columns": null,
            "grid_auto_flow": null,
            "grid_auto_rows": null,
            "grid_column": null,
            "grid_gap": null,
            "grid_row": null,
            "grid_template_areas": null,
            "grid_template_columns": null,
            "grid_template_rows": null,
            "height": null,
            "justify_content": null,
            "justify_items": null,
            "left": null,
            "margin": null,
            "max_height": null,
            "max_width": null,
            "min_height": null,
            "min_width": null,
            "object_fit": null,
            "object_position": null,
            "order": null,
            "overflow": null,
            "overflow_x": null,
            "overflow_y": null,
            "padding": null,
            "right": null,
            "top": null,
            "visibility": null,
            "width": null
          }
        },
        "0d6b0dc5cb55465aa2a7ea7febfe9cd9": {
          "model_module": "@jupyter-widgets/base",
          "model_name": "LayoutModel",
          "state": {
            "_model_module": "@jupyter-widgets/base",
            "_model_module_version": "1.2.0",
            "_model_name": "LayoutModel",
            "_view_count": null,
            "_view_module": "@jupyter-widgets/base",
            "_view_module_version": "1.2.0",
            "_view_name": "LayoutView",
            "align_content": null,
            "align_items": null,
            "align_self": null,
            "border": null,
            "bottom": null,
            "display": null,
            "flex": null,
            "flex_flow": null,
            "grid_area": null,
            "grid_auto_columns": null,
            "grid_auto_flow": null,
            "grid_auto_rows": null,
            "grid_column": null,
            "grid_gap": null,
            "grid_row": null,
            "grid_template_areas": null,
            "grid_template_columns": null,
            "grid_template_rows": null,
            "height": null,
            "justify_content": null,
            "justify_items": null,
            "left": null,
            "margin": null,
            "max_height": null,
            "max_width": null,
            "min_height": null,
            "min_width": null,
            "object_fit": null,
            "object_position": null,
            "order": null,
            "overflow": null,
            "overflow_x": null,
            "overflow_y": null,
            "padding": null,
            "right": null,
            "top": null,
            "visibility": null,
            "width": null
          }
        },
        "0712e618c0e74d0e819e27b31d75f1e7": {
          "model_module": "@jupyter-widgets/controls",
          "model_name": "ProgressStyleModel",
          "state": {
            "_model_module": "@jupyter-widgets/controls",
            "_model_module_version": "1.5.0",
            "_model_name": "ProgressStyleModel",
            "_view_count": null,
            "_view_module": "@jupyter-widgets/base",
            "_view_module_version": "1.2.0",
            "_view_name": "StyleView",
            "bar_color": null,
            "description_width": "initial"
          }
        },
        "e729103c524b43fc8805fe639d141c76": {
          "model_module": "@jupyter-widgets/base",
          "model_name": "LayoutModel",
          "state": {
            "_model_module": "@jupyter-widgets/base",
            "_model_module_version": "1.2.0",
            "_model_name": "LayoutModel",
            "_view_count": null,
            "_view_module": "@jupyter-widgets/base",
            "_view_module_version": "1.2.0",
            "_view_name": "LayoutView",
            "align_content": null,
            "align_items": null,
            "align_self": null,
            "border": null,
            "bottom": null,
            "display": null,
            "flex": null,
            "flex_flow": null,
            "grid_area": null,
            "grid_auto_columns": null,
            "grid_auto_flow": null,
            "grid_auto_rows": null,
            "grid_column": null,
            "grid_gap": null,
            "grid_row": null,
            "grid_template_areas": null,
            "grid_template_columns": null,
            "grid_template_rows": null,
            "height": null,
            "justify_content": null,
            "justify_items": null,
            "left": null,
            "margin": null,
            "max_height": null,
            "max_width": null,
            "min_height": null,
            "min_width": null,
            "object_fit": null,
            "object_position": null,
            "order": null,
            "overflow": null,
            "overflow_x": null,
            "overflow_y": null,
            "padding": null,
            "right": null,
            "top": null,
            "visibility": null,
            "width": null
          }
        },
        "d030b24ee85446faa77dd8b2a97838be": {
          "model_module": "@jupyter-widgets/controls",
          "model_name": "DescriptionStyleModel",
          "state": {
            "_model_module": "@jupyter-widgets/controls",
            "_model_module_version": "1.5.0",
            "_model_name": "DescriptionStyleModel",
            "_view_count": null,
            "_view_module": "@jupyter-widgets/base",
            "_view_module_version": "1.2.0",
            "_view_name": "StyleView",
            "description_width": ""
          }
        },
        "fb8b7e6e705644a3813c2bfbd2b59b10": {
          "model_module": "@jupyter-widgets/controls",
          "model_name": "HBoxModel",
          "state": {
            "_dom_classes": [],
            "_model_module": "@jupyter-widgets/controls",
            "_model_module_version": "1.5.0",
            "_model_name": "HBoxModel",
            "_view_count": null,
            "_view_module": "@jupyter-widgets/controls",
            "_view_module_version": "1.5.0",
            "_view_name": "HBoxView",
            "box_style": "",
            "children": [
              "IPY_MODEL_bce8a16dc682494b8f6e04f6b2b2e0e1",
              "IPY_MODEL_73c7c7e122c14338a8e5c6e4f703c7b0"
            ],
            "layout": "IPY_MODEL_23e49462748e4eec8a1c2a99c033b7c9"
          }
        },
        "bce8a16dc682494b8f6e04f6b2b2e0e1": {
          "model_module": "@jupyter-widgets/controls",
          "model_name": "FloatProgressModel",
          "state": {
            "_dom_classes": [],
            "_model_module": "@jupyter-widgets/controls",
            "_model_module_version": "1.5.0",
            "_model_name": "FloatProgressModel",
            "_view_count": null,
            "_view_module": "@jupyter-widgets/controls",
            "_view_module_version": "1.5.0",
            "_view_name": "ProgressView",
            "bar_style": "success",
            "description": "Val step: 100%",
            "description_tooltip": null,
            "layout": "IPY_MODEL_06d52910b8b448ed9ffb18825a0d4691",
            "max": 79,
            "min": 0,
            "orientation": "horizontal",
            "style": "IPY_MODEL_b6c99115faff41fd99aa7fd44413bed8",
            "value": 79
          }
        },
        "73c7c7e122c14338a8e5c6e4f703c7b0": {
          "model_module": "@jupyter-widgets/controls",
          "model_name": "HTMLModel",
          "state": {
            "_dom_classes": [],
            "_model_module": "@jupyter-widgets/controls",
            "_model_module_version": "1.5.0",
            "_model_name": "HTMLModel",
            "_view_count": null,
            "_view_module": "@jupyter-widgets/controls",
            "_view_module_version": "1.5.0",
            "_view_name": "HTMLView",
            "description": "",
            "description_tooltip": null,
            "layout": "IPY_MODEL_09bcd4a1e5704be2bb8a1d7f60cb035c",
            "placeholder": "​",
            "style": "IPY_MODEL_93ce4efa6a8a4fbf9c72c02645f4f566",
            "value": " 79/79 [00:20&lt;00:00,  3.88it/s, loss=0.134]"
          }
        },
        "23e49462748e4eec8a1c2a99c033b7c9": {
          "model_module": "@jupyter-widgets/base",
          "model_name": "LayoutModel",
          "state": {
            "_model_module": "@jupyter-widgets/base",
            "_model_module_version": "1.2.0",
            "_model_name": "LayoutModel",
            "_view_count": null,
            "_view_module": "@jupyter-widgets/base",
            "_view_module_version": "1.2.0",
            "_view_name": "LayoutView",
            "align_content": null,
            "align_items": null,
            "align_self": null,
            "border": null,
            "bottom": null,
            "display": null,
            "flex": null,
            "flex_flow": null,
            "grid_area": null,
            "grid_auto_columns": null,
            "grid_auto_flow": null,
            "grid_auto_rows": null,
            "grid_column": null,
            "grid_gap": null,
            "grid_row": null,
            "grid_template_areas": null,
            "grid_template_columns": null,
            "grid_template_rows": null,
            "height": null,
            "justify_content": null,
            "justify_items": null,
            "left": null,
            "margin": null,
            "max_height": null,
            "max_width": null,
            "min_height": null,
            "min_width": null,
            "object_fit": null,
            "object_position": null,
            "order": null,
            "overflow": null,
            "overflow_x": null,
            "overflow_y": null,
            "padding": null,
            "right": null,
            "top": null,
            "visibility": null,
            "width": null
          }
        },
        "06d52910b8b448ed9ffb18825a0d4691": {
          "model_module": "@jupyter-widgets/base",
          "model_name": "LayoutModel",
          "state": {
            "_model_module": "@jupyter-widgets/base",
            "_model_module_version": "1.2.0",
            "_model_name": "LayoutModel",
            "_view_count": null,
            "_view_module": "@jupyter-widgets/base",
            "_view_module_version": "1.2.0",
            "_view_name": "LayoutView",
            "align_content": null,
            "align_items": null,
            "align_self": null,
            "border": null,
            "bottom": null,
            "display": null,
            "flex": null,
            "flex_flow": null,
            "grid_area": null,
            "grid_auto_columns": null,
            "grid_auto_flow": null,
            "grid_auto_rows": null,
            "grid_column": null,
            "grid_gap": null,
            "grid_row": null,
            "grid_template_areas": null,
            "grid_template_columns": null,
            "grid_template_rows": null,
            "height": null,
            "justify_content": null,
            "justify_items": null,
            "left": null,
            "margin": null,
            "max_height": null,
            "max_width": null,
            "min_height": null,
            "min_width": null,
            "object_fit": null,
            "object_position": null,
            "order": null,
            "overflow": null,
            "overflow_x": null,
            "overflow_y": null,
            "padding": null,
            "right": null,
            "top": null,
            "visibility": null,
            "width": null
          }
        },
        "b6c99115faff41fd99aa7fd44413bed8": {
          "model_module": "@jupyter-widgets/controls",
          "model_name": "ProgressStyleModel",
          "state": {
            "_model_module": "@jupyter-widgets/controls",
            "_model_module_version": "1.5.0",
            "_model_name": "ProgressStyleModel",
            "_view_count": null,
            "_view_module": "@jupyter-widgets/base",
            "_view_module_version": "1.2.0",
            "_view_name": "StyleView",
            "bar_color": null,
            "description_width": "initial"
          }
        },
        "09bcd4a1e5704be2bb8a1d7f60cb035c": {
          "model_module": "@jupyter-widgets/base",
          "model_name": "LayoutModel",
          "state": {
            "_model_module": "@jupyter-widgets/base",
            "_model_module_version": "1.2.0",
            "_model_name": "LayoutModel",
            "_view_count": null,
            "_view_module": "@jupyter-widgets/base",
            "_view_module_version": "1.2.0",
            "_view_name": "LayoutView",
            "align_content": null,
            "align_items": null,
            "align_self": null,
            "border": null,
            "bottom": null,
            "display": null,
            "flex": null,
            "flex_flow": null,
            "grid_area": null,
            "grid_auto_columns": null,
            "grid_auto_flow": null,
            "grid_auto_rows": null,
            "grid_column": null,
            "grid_gap": null,
            "grid_row": null,
            "grid_template_areas": null,
            "grid_template_columns": null,
            "grid_template_rows": null,
            "height": null,
            "justify_content": null,
            "justify_items": null,
            "left": null,
            "margin": null,
            "max_height": null,
            "max_width": null,
            "min_height": null,
            "min_width": null,
            "object_fit": null,
            "object_position": null,
            "order": null,
            "overflow": null,
            "overflow_x": null,
            "overflow_y": null,
            "padding": null,
            "right": null,
            "top": null,
            "visibility": null,
            "width": null
          }
        },
        "93ce4efa6a8a4fbf9c72c02645f4f566": {
          "model_module": "@jupyter-widgets/controls",
          "model_name": "DescriptionStyleModel",
          "state": {
            "_model_module": "@jupyter-widgets/controls",
            "_model_module_version": "1.5.0",
            "_model_name": "DescriptionStyleModel",
            "_view_count": null,
            "_view_module": "@jupyter-widgets/base",
            "_view_module_version": "1.2.0",
            "_view_name": "StyleView",
            "description_width": ""
          }
        },
        "86b8c4b67d7f4e3789229f8902e011aa": {
          "model_module": "@jupyter-widgets/controls",
          "model_name": "HBoxModel",
          "state": {
            "_dom_classes": [],
            "_model_module": "@jupyter-widgets/controls",
            "_model_module_version": "1.5.0",
            "_model_name": "HBoxModel",
            "_view_count": null,
            "_view_module": "@jupyter-widgets/controls",
            "_view_module_version": "1.5.0",
            "_view_name": "HBoxView",
            "box_style": "",
            "children": [
              "IPY_MODEL_55c9a880c237426b81a1095076f145b3",
              "IPY_MODEL_51f720e02ffb499f88e662c12ce400e8"
            ],
            "layout": "IPY_MODEL_8efeb3eae654402498279188f75af2e9"
          }
        },
        "55c9a880c237426b81a1095076f145b3": {
          "model_module": "@jupyter-widgets/controls",
          "model_name": "FloatProgressModel",
          "state": {
            "_dom_classes": [],
            "_model_module": "@jupyter-widgets/controls",
            "_model_module_version": "1.5.0",
            "_model_name": "FloatProgressModel",
            "_view_count": null,
            "_view_module": "@jupyter-widgets/controls",
            "_view_module_version": "1.5.0",
            "_view_name": "ProgressView",
            "bar_style": "",
            "description": "Train step:   2%",
            "description_tooltip": null,
            "layout": "IPY_MODEL_7b9aae177a304a2e865acf49b845f93b",
            "max": 391,
            "min": 0,
            "orientation": "horizontal",
            "style": "IPY_MODEL_cdbfe3c783dd4a4a885534995324ad5f",
            "value": 9
          }
        },
        "51f720e02ffb499f88e662c12ce400e8": {
          "model_module": "@jupyter-widgets/controls",
          "model_name": "HTMLModel",
          "state": {
            "_dom_classes": [],
            "_model_module": "@jupyter-widgets/controls",
            "_model_module_version": "1.5.0",
            "_model_name": "HTMLModel",
            "_view_count": null,
            "_view_module": "@jupyter-widgets/controls",
            "_view_module_version": "1.5.0",
            "_view_name": "HTMLView",
            "description": "",
            "description_tooltip": null,
            "layout": "IPY_MODEL_ed6b8088ab8340c992ba0aac0cbaea6a",
            "placeholder": "​",
            "style": "IPY_MODEL_1adc7d769a244238a6041b1b2fc10b41",
            "value": " 9/391 [00:04&lt;02:50,  2.25it/s, loss=0.0424]"
          }
        },
        "8efeb3eae654402498279188f75af2e9": {
          "model_module": "@jupyter-widgets/base",
          "model_name": "LayoutModel",
          "state": {
            "_model_module": "@jupyter-widgets/base",
            "_model_module_version": "1.2.0",
            "_model_name": "LayoutModel",
            "_view_count": null,
            "_view_module": "@jupyter-widgets/base",
            "_view_module_version": "1.2.0",
            "_view_name": "LayoutView",
            "align_content": null,
            "align_items": null,
            "align_self": null,
            "border": null,
            "bottom": null,
            "display": null,
            "flex": null,
            "flex_flow": null,
            "grid_area": null,
            "grid_auto_columns": null,
            "grid_auto_flow": null,
            "grid_auto_rows": null,
            "grid_column": null,
            "grid_gap": null,
            "grid_row": null,
            "grid_template_areas": null,
            "grid_template_columns": null,
            "grid_template_rows": null,
            "height": null,
            "justify_content": null,
            "justify_items": null,
            "left": null,
            "margin": null,
            "max_height": null,
            "max_width": null,
            "min_height": null,
            "min_width": null,
            "object_fit": null,
            "object_position": null,
            "order": null,
            "overflow": null,
            "overflow_x": null,
            "overflow_y": null,
            "padding": null,
            "right": null,
            "top": null,
            "visibility": null,
            "width": null
          }
        },
        "7b9aae177a304a2e865acf49b845f93b": {
          "model_module": "@jupyter-widgets/base",
          "model_name": "LayoutModel",
          "state": {
            "_model_module": "@jupyter-widgets/base",
            "_model_module_version": "1.2.0",
            "_model_name": "LayoutModel",
            "_view_count": null,
            "_view_module": "@jupyter-widgets/base",
            "_view_module_version": "1.2.0",
            "_view_name": "LayoutView",
            "align_content": null,
            "align_items": null,
            "align_self": null,
            "border": null,
            "bottom": null,
            "display": null,
            "flex": null,
            "flex_flow": null,
            "grid_area": null,
            "grid_auto_columns": null,
            "grid_auto_flow": null,
            "grid_auto_rows": null,
            "grid_column": null,
            "grid_gap": null,
            "grid_row": null,
            "grid_template_areas": null,
            "grid_template_columns": null,
            "grid_template_rows": null,
            "height": null,
            "justify_content": null,
            "justify_items": null,
            "left": null,
            "margin": null,
            "max_height": null,
            "max_width": null,
            "min_height": null,
            "min_width": null,
            "object_fit": null,
            "object_position": null,
            "order": null,
            "overflow": null,
            "overflow_x": null,
            "overflow_y": null,
            "padding": null,
            "right": null,
            "top": null,
            "visibility": null,
            "width": null
          }
        },
        "cdbfe3c783dd4a4a885534995324ad5f": {
          "model_module": "@jupyter-widgets/controls",
          "model_name": "ProgressStyleModel",
          "state": {
            "_model_module": "@jupyter-widgets/controls",
            "_model_module_version": "1.5.0",
            "_model_name": "ProgressStyleModel",
            "_view_count": null,
            "_view_module": "@jupyter-widgets/base",
            "_view_module_version": "1.2.0",
            "_view_name": "StyleView",
            "bar_color": null,
            "description_width": "initial"
          }
        },
        "ed6b8088ab8340c992ba0aac0cbaea6a": {
          "model_module": "@jupyter-widgets/base",
          "model_name": "LayoutModel",
          "state": {
            "_model_module": "@jupyter-widgets/base",
            "_model_module_version": "1.2.0",
            "_model_name": "LayoutModel",
            "_view_count": null,
            "_view_module": "@jupyter-widgets/base",
            "_view_module_version": "1.2.0",
            "_view_name": "LayoutView",
            "align_content": null,
            "align_items": null,
            "align_self": null,
            "border": null,
            "bottom": null,
            "display": null,
            "flex": null,
            "flex_flow": null,
            "grid_area": null,
            "grid_auto_columns": null,
            "grid_auto_flow": null,
            "grid_auto_rows": null,
            "grid_column": null,
            "grid_gap": null,
            "grid_row": null,
            "grid_template_areas": null,
            "grid_template_columns": null,
            "grid_template_rows": null,
            "height": null,
            "justify_content": null,
            "justify_items": null,
            "left": null,
            "margin": null,
            "max_height": null,
            "max_width": null,
            "min_height": null,
            "min_width": null,
            "object_fit": null,
            "object_position": null,
            "order": null,
            "overflow": null,
            "overflow_x": null,
            "overflow_y": null,
            "padding": null,
            "right": null,
            "top": null,
            "visibility": null,
            "width": null
          }
        },
        "1adc7d769a244238a6041b1b2fc10b41": {
          "model_module": "@jupyter-widgets/controls",
          "model_name": "DescriptionStyleModel",
          "state": {
            "_model_module": "@jupyter-widgets/controls",
            "_model_module_version": "1.5.0",
            "_model_name": "DescriptionStyleModel",
            "_view_count": null,
            "_view_module": "@jupyter-widgets/base",
            "_view_module_version": "1.2.0",
            "_view_name": "StyleView",
            "description_width": ""
          }
        }
      }
    }
  },
  "cells": [
    {
      "cell_type": "markdown",
      "metadata": {
        "id": "view-in-github",
        "colab_type": "text"
      },
      "source": [
        "<a href=\"https://colab.research.google.com/github/ZackPashkin/swin-transformer-pytorch-starter/blob/main/resnet50_vs_swin_transformer_tiny_pytorch_starter.ipynb\" target=\"_parent\"><img src=\"https://colab.research.google.com/assets/colab-badge.svg\" alt=\"Open In Colab\"/></a>"
      ]
    },
    {
      "cell_type": "code",
      "metadata": {
        "colab": {
          "base_uri": "https://localhost:8080/"
        },
        "id": "3rxA3IT-LdVt",
        "outputId": "875a4eb7-71f8-4c67-83f2-0a6bb2c4a77a"
      },
      "source": [
        "!nvidia-smi"
      ],
      "execution_count": null,
      "outputs": [
        {
          "output_type": "stream",
          "text": [
            "Tue Jul 20 13:19:12 2021       \n",
            "+-----------------------------------------------------------------------------+\n",
            "| NVIDIA-SMI 470.42.01    Driver Version: 460.32.03    CUDA Version: 11.2     |\n",
            "|-------------------------------+----------------------+----------------------+\n",
            "| GPU  Name        Persistence-M| Bus-Id        Disp.A | Volatile Uncorr. ECC |\n",
            "| Fan  Temp  Perf  Pwr:Usage/Cap|         Memory-Usage | GPU-Util  Compute M. |\n",
            "|                               |                      |               MIG M. |\n",
            "|===============================+======================+======================|\n",
            "|   0  Tesla V100-SXM2...  Off  | 00000000:00:04.0 Off |                    0 |\n",
            "| N/A   45C    P0    41W / 300W |   1655MiB / 16160MiB |      0%      Default |\n",
            "|                               |                      |                  N/A |\n",
            "+-------------------------------+----------------------+----------------------+\n",
            "                                                                               \n",
            "+-----------------------------------------------------------------------------+\n",
            "| Processes:                                                                  |\n",
            "|  GPU   GI   CI        PID   Type   Process name                  GPU Memory |\n",
            "|        ID   ID                                                   Usage      |\n",
            "|=============================================================================|\n",
            "|  No running processes found                                                 |\n",
            "+-----------------------------------------------------------------------------+\n"
          ],
          "name": "stdout"
        }
      ]
    },
    {
      "cell_type": "code",
      "metadata": {
        "colab": {
          "base_uri": "https://localhost:8080/"
        },
        "id": "MOW4xCeNIF1Z",
        "outputId": "75f0e4e7-b899-4fde-85af-3be8b775467f"
      },
      "source": [
        "!pip install wandb -qqq\n",
        "import wandb\n",
        "# Log in to your W&B account\n",
        "wandb.login()"
      ],
      "execution_count": null,
      "outputs": [
        {
          "output_type": "execute_result",
          "data": {
            "text/plain": [
              "True"
            ]
          },
          "metadata": {
            "tags": []
          },
          "execution_count": 12
        }
      ]
    },
    {
      "cell_type": "code",
      "metadata": {
        "id": "Bb0WI13yAJyI"
      },
      "source": [
        "import torch\n",
        "import torchvision\n",
        "import torchvision.transforms as transforms\n",
        "import torch.nn as nn\n",
        "\n",
        "%matplotlib inline\n",
        "import matplotlib.pyplot as plt\n",
        "import numpy as np"
      ],
      "execution_count": null,
      "outputs": []
    },
    {
      "cell_type": "code",
      "metadata": {
        "id": "vVHzEHkrEBzP"
      },
      "source": [
        "torch.manual_seed(42)\n",
        "device = torch.device(\"cuda:0\" if torch.cuda.is_available() else \"cpu\")\n",
        "\n",
        "batch_size = 128\n",
        "epochs = 20"
      ],
      "execution_count": null,
      "outputs": []
    },
    {
      "cell_type": "code",
      "metadata": {
        "colab": {
          "base_uri": "https://localhost:8080/"
        },
        "id": "7Ew6WPmyAJyJ",
        "outputId": "3f6d3432-a369-44a9-90b4-1838731312a7"
      },
      "source": [
        "transform = transforms.Compose(\n",
        "    [transforms.Resize((224,224)),\n",
        "     transforms.ToTensor(),\n",
        "     transforms.Normalize((0.5, 0.5, 0.5), (0.5, 0.5, 0.5))])\n",
        "\n",
        "\n",
        "trainset = torchvision.datasets.CIFAR10(root='./data', train=True,\n",
        "                                        download=True, transform=transform)\n",
        "\n",
        "trainloader = torch.utils.data.DataLoader(trainset, batch_size=batch_size,\n",
        "                                          shuffle=True, num_workers=2)\n",
        "\n",
        "\n",
        "valset = torchvision.datasets.CIFAR10(root='./data', train=False,\n",
        "                                       download=True, transform=transform)\n",
        "\n",
        "valloader = torch.utils.data.DataLoader(valset, batch_size=batch_size,\n",
        "                                         shuffle=False, num_workers=2)\n",
        "\n",
        "classes = ('plane', 'car', 'bird', 'cat',\n",
        "           'deer', 'dog', 'frog', 'horse', 'ship', 'truck')"
      ],
      "execution_count": null,
      "outputs": [
        {
          "output_type": "stream",
          "text": [
            "Files already downloaded and verified\n",
            "Files already downloaded and verified\n"
          ],
          "name": "stdout"
        }
      ]
    },
    {
      "cell_type": "code",
      "metadata": {
        "colab": {
          "base_uri": "https://localhost:8080/",
          "height": 306
        },
        "id": "1B20jtiOAJyK",
        "outputId": "f37cbd11-8d04-453a-ea3b-81c23d9af47e"
      },
      "source": [
        "def imshow(img):\n",
        "    img = img / 2 + 0.5     # unnormalize\n",
        "    npimg = img.numpy()\n",
        "    plt.imshow(np.transpose(npimg, (1, 2, 0)))\n",
        "    plt.show()\n",
        "\n",
        "\n",
        "# get some random training images\n",
        "dataiter = iter(trainloader)\n",
        "images, labels = dataiter.next()\n",
        "\n",
        "# show images\n",
        "imshow(torchvision.utils.make_grid(images))\n",
        "# print labels\n",
        "print(' '.join('%5s' % classes[labels[j]] for j in range(batch_size)))"
      ],
      "execution_count": null,
      "outputs": [
        {
          "output_type": "display_data",
          "data": {
            "image/png": "[encoded data removed]",
            "text/plain": [
              "<Figure size 432x288 with 1 Axes>"
            ]
          },
          "metadata": {
            "tags": []
          }
        },
        {
          "output_type": "stream",
          "text": [
            " frog plane  deer   car  bird horse truck  deer horse  ship  deer   dog  frog plane  deer  bird plane   car  frog   car  deer   cat  bird   cat  bird  deer plane horse   dog   car  ship  frog   cat   cat horse plane  deer   car horse   car   cat   car   car   dog  frog   cat horse  ship  bird   cat  deer  ship  bird   car   dog  frog truck truck  frog truck  ship   cat  deer horse  ship horse plane  bird   dog  bird   dog  ship  frog horse  deer plane   dog  bird plane   dog   car   dog   dog   dog   car  ship  frog   dog horse  deer truck   cat  bird  frog  frog horse plane   car  bird   cat  deer  frog   dog truck   cat   dog  ship  ship  bird  frog   dog plane plane  bird  bird plane  deer  deer   dog  bird  ship horse  deer horse  bird  bird plane   cat\n"
          ],
          "name": "stdout"
        }
      ]
    },
    {
      "cell_type": "code",
      "metadata": {
        "id": "ZOqJdc5_B_en"
      },
      "source": [
        "import torchvision.models as models\n",
        "net = models.resnet50(pretrained=True)\n",
        "net.fc = nn.Linear(net.fc.in_features, 10)\n",
        "\n",
        "\n",
        "dummy_x = torch.randn(1, 3, 224, 224)\n",
        "logits = net(dummy_x)  \n",
        "net = net.to(device)"
      ],
      "execution_count": null,
      "outputs": []
    },
    {
      "cell_type": "code",
      "metadata": {
        "colab": {
          "base_uri": "https://localhost:8080/",
          "height": 1000
        },
        "id": "a8lwq9-yH9bv",
        "outputId": "b2455bb6-7877-43b2-ae3f-353ca1e959e7"
      },
      "source": [
        "# model description\n",
        "import pandas as pd\n",
        "import torch\n",
        "import torch.nn as nn\n",
        "from torch.autograd import Variable\n",
        "\n",
        "from collections import OrderedDict\n",
        "import numpy as np\n",
        "\n",
        "model = net\n",
        "input_size = (3,224,224)\n",
        "batch_size= 128\n",
        "device=\"cuda\"\n",
        "\n",
        "def register_hook(module):\n",
        "\n",
        "    def hook(module, input, output):\n",
        "        class_name = str(module.__class__).split(\".\")[-1].split(\"'\")[0]\n",
        "        module_idx = len(summary)\n",
        "\n",
        "        m_key = \"%s-%i\" % (class_name, module_idx + 1)\n",
        "        summary[m_key] = OrderedDict()\n",
        "        summary[m_key][\"input_shape\"] = list(input[0].size())\n",
        "        summary[m_key][\"input_shape\"][0] = batch_size\n",
        "        if isinstance(output, (list, tuple)):\n",
        "            summary[m_key][\"output_shape\"] = [\n",
        "                [-1] + list(o.size())[1:] for o in output\n",
        "            ]\n",
        "        else:\n",
        "            summary[m_key][\"output_shape\"] = list(output.size())\n",
        "            summary[m_key][\"output_shape\"][0] = batch_size\n",
        "\n",
        "        params = 0\n",
        "        if hasattr(module, \"weight\") and hasattr(module.weight, \"size\"):\n",
        "            params += torch.prod(torch.LongTensor(list(module.weight.size())))\n",
        "            summary[m_key][\"trainable\"] = module.weight.requires_grad\n",
        "        if hasattr(module, \"bias\") and hasattr(module.bias, \"size\"):\n",
        "            params += torch.prod(torch.LongTensor(list(module.bias.size())))\n",
        "        summary[m_key][\"nb_params\"] = params\n",
        "\n",
        "    if (\n",
        "        not isinstance(module, nn.Sequential)\n",
        "        and not isinstance(module, nn.ModuleList)\n",
        "        and not (module == model)\n",
        "    ):\n",
        "        hooks.append(module.register_forward_hook(hook))\n",
        "\n",
        "device = device.lower()\n",
        "assert device in [\n",
        "    \"cuda\",\n",
        "    \"cpu\",\n",
        "], \"Input device is not valid, please specify 'cuda' or 'cpu'\"\n",
        "\n",
        "if device == \"cuda\" and torch.cuda.is_available():\n",
        "    dtype = torch.cuda.FloatTensor\n",
        "else:\n",
        "    dtype = torch.FloatTensor\n",
        "\n",
        "# multiple inputs to the network\n",
        "if isinstance(input_size, tuple):\n",
        "    input_size = [input_size]\n",
        "\n",
        "# batch_size of 2 for batchnorm\n",
        "x = [torch.rand(2, *in_size).type(dtype) for in_size in input_size]\n",
        "# print(type(x[0]))\n",
        "\n",
        "# create properties\n",
        "summary = OrderedDict()\n",
        "hooks = []\n",
        "\n",
        "# register hook\n",
        "model.apply(register_hook)\n",
        "\n",
        "# make a forward pass\n",
        "# print(x.shape)\n",
        "model(*x)\n",
        "\n",
        "# remove these hooks\n",
        "for h in hooks:\n",
        "    h.remove()\n",
        "\n",
        "print(\"----------------------------------------------------------------\")\n",
        "line_new = \"{:>20}  {:>25} {:>15}\".format(\"Layer (type)\", \"Output Shape\", \"Param #\")\n",
        "print(line_new)\n",
        "print(\"================================================================\")\n",
        "total_params = 0\n",
        "total_output = 0\n",
        "trainable_params = 0\n",
        "for layer in summary:\n",
        "    # input_shape, output_shape, trainable, nb_params\n",
        "    line_new = \"{:>20}  {:>25} {:>15}\".format(\n",
        "        layer,\n",
        "        str(summary[layer][\"output_shape\"]),\n",
        "        \"{0:,}\".format(summary[layer][\"nb_params\"]),\n",
        "    )\n",
        "    total_params += summary[layer][\"nb_params\"]\n",
        "    total_output += np.prod(summary[layer][\"output_shape\"])\n",
        "    if \"trainable\" in summary[layer]:\n",
        "        if summary[layer][\"trainable\"] == True:\n",
        "            trainable_params += summary[layer][\"nb_params\"]\n",
        "    print(line_new)\n",
        "\n",
        "# assume 4 bytes/number (float on cuda).\n",
        "total_input_size = abs(np.prod(input_size) * batch_size * 4. / (1024 ** 2.))\n",
        "total_output_size = abs(2. * total_output * 4. / (1024 ** 2.))  # x2 for gradients\n",
        "total_params_size = abs(total_params.numpy() * 4. / (1024 ** 2.))\n",
        "total_size = total_params_size + total_output_size + total_input_size\n",
        "\n",
        "\n",
        "summary_df = pd.DataFrame({\"Total params\": int(total_params),\n",
        "                   \"Trainable params\": int(trainable_params),\n",
        "                   \"Non-trainable params\": int(total_params - trainable_params),\n",
        "                   \"Input size (MB)\": total_input_size,\n",
        "                   \"Forward/backward pass size (MB)\":total_output_size,\n",
        "                   \"Params size (MB)\":total_params_size,\n",
        "                   \"Estimated Total Size (MB)\": total_size},index=[0]).reset_index(drop=True).T\n",
        "\n",
        "summary_df"
      ],
      "execution_count": null,
      "outputs": [
        {
          "output_type": "stream",
          "text": [
            "----------------------------------------------------------------\n",
            "        Layer (type)               Output Shape         Param #\n",
            "================================================================\n",
            "            Conv2d-1        [128, 64, 112, 112]           9,408\n",
            "       BatchNorm2d-2        [128, 64, 112, 112]             128\n",
            "              ReLU-3        [128, 64, 112, 112]               0\n",
            "         MaxPool2d-4          [128, 64, 56, 56]               0\n",
            "            Conv2d-5          [128, 64, 56, 56]           4,096\n",
            "       BatchNorm2d-6          [128, 64, 56, 56]             128\n",
            "              ReLU-7          [128, 64, 56, 56]               0\n",
            "            Conv2d-8          [128, 64, 56, 56]          36,864\n",
            "       BatchNorm2d-9          [128, 64, 56, 56]             128\n",
            "             ReLU-10          [128, 64, 56, 56]               0\n",
            "           Conv2d-11         [128, 256, 56, 56]          16,384\n",
            "      BatchNorm2d-12         [128, 256, 56, 56]             512\n",
            "           Conv2d-13         [128, 256, 56, 56]          16,384\n",
            "      BatchNorm2d-14         [128, 256, 56, 56]             512\n",
            "             ReLU-15         [128, 256, 56, 56]               0\n",
            "       Bottleneck-16         [128, 256, 56, 56]               0\n",
            "           Conv2d-17          [128, 64, 56, 56]          16,384\n",
            "      BatchNorm2d-18          [128, 64, 56, 56]             128\n",
            "             ReLU-19          [128, 64, 56, 56]               0\n",
            "           Conv2d-20          [128, 64, 56, 56]          36,864\n",
            "      BatchNorm2d-21          [128, 64, 56, 56]             128\n",
            "             ReLU-22          [128, 64, 56, 56]               0\n",
            "           Conv2d-23         [128, 256, 56, 56]          16,384\n",
            "      BatchNorm2d-24         [128, 256, 56, 56]             512\n",
            "             ReLU-25         [128, 256, 56, 56]               0\n",
            "       Bottleneck-26         [128, 256, 56, 56]               0\n",
            "           Conv2d-27          [128, 64, 56, 56]          16,384\n",
            "      BatchNorm2d-28          [128, 64, 56, 56]             128\n",
            "             ReLU-29          [128, 64, 56, 56]               0\n",
            "           Conv2d-30          [128, 64, 56, 56]          36,864\n",
            "      BatchNorm2d-31          [128, 64, 56, 56]             128\n",
            "             ReLU-32          [128, 64, 56, 56]               0\n",
            "           Conv2d-33         [128, 256, 56, 56]          16,384\n",
            "      BatchNorm2d-34         [128, 256, 56, 56]             512\n",
            "             ReLU-35         [128, 256, 56, 56]               0\n",
            "       Bottleneck-36         [128, 256, 56, 56]               0\n",
            "           Conv2d-37         [128, 128, 56, 56]          32,768\n",
            "      BatchNorm2d-38         [128, 128, 56, 56]             256\n",
            "             ReLU-39         [128, 128, 56, 56]               0\n",
            "           Conv2d-40         [128, 128, 28, 28]         147,456\n",
            "      BatchNorm2d-41         [128, 128, 28, 28]             256\n",
            "             ReLU-42         [128, 128, 28, 28]               0\n",
            "           Conv2d-43         [128, 512, 28, 28]          65,536\n",
            "      BatchNorm2d-44         [128, 512, 28, 28]           1,024\n",
            "           Conv2d-45         [128, 512, 28, 28]         131,072\n",
            "      BatchNorm2d-46         [128, 512, 28, 28]           1,024\n",
            "             ReLU-47         [128, 512, 28, 28]               0\n",
            "       Bottleneck-48         [128, 512, 28, 28]               0\n",
            "           Conv2d-49         [128, 128, 28, 28]          65,536\n",
            "      BatchNorm2d-50         [128, 128, 28, 28]             256\n",
            "             ReLU-51         [128, 128, 28, 28]               0\n",
            "           Conv2d-52         [128, 128, 28, 28]         147,456\n",
            "      BatchNorm2d-53         [128, 128, 28, 28]             256\n",
            "             ReLU-54         [128, 128, 28, 28]               0\n",
            "           Conv2d-55         [128, 512, 28, 28]          65,536\n",
            "      BatchNorm2d-56         [128, 512, 28, 28]           1,024\n",
            "             ReLU-57         [128, 512, 28, 28]               0\n",
            "       Bottleneck-58         [128, 512, 28, 28]               0\n",
            "           Conv2d-59         [128, 128, 28, 28]          65,536\n",
            "      BatchNorm2d-60         [128, 128, 28, 28]             256\n",
            "             ReLU-61         [128, 128, 28, 28]               0\n",
            "           Conv2d-62         [128, 128, 28, 28]         147,456\n",
            "      BatchNorm2d-63         [128, 128, 28, 28]             256\n",
            "             ReLU-64         [128, 128, 28, 28]               0\n",
            "           Conv2d-65         [128, 512, 28, 28]          65,536\n",
            "      BatchNorm2d-66         [128, 512, 28, 28]           1,024\n",
            "             ReLU-67         [128, 512, 28, 28]               0\n",
            "       Bottleneck-68         [128, 512, 28, 28]               0\n",
            "           Conv2d-69         [128, 128, 28, 28]          65,536\n",
            "      BatchNorm2d-70         [128, 128, 28, 28]             256\n",
            "             ReLU-71         [128, 128, 28, 28]               0\n",
            "           Conv2d-72         [128, 128, 28, 28]         147,456\n",
            "      BatchNorm2d-73         [128, 128, 28, 28]             256\n",
            "             ReLU-74         [128, 128, 28, 28]               0\n",
            "           Conv2d-75         [128, 512, 28, 28]          65,536\n",
            "      BatchNorm2d-76         [128, 512, 28, 28]           1,024\n",
            "             ReLU-77         [128, 512, 28, 28]               0\n",
            "       Bottleneck-78         [128, 512, 28, 28]               0\n",
            "           Conv2d-79         [128, 256, 28, 28]         131,072\n",
            "      BatchNorm2d-80         [128, 256, 28, 28]             512\n",
            "             ReLU-81         [128, 256, 28, 28]               0\n",
            "           Conv2d-82         [128, 256, 14, 14]         589,824\n",
            "      BatchNorm2d-83         [128, 256, 14, 14]             512\n",
            "             ReLU-84         [128, 256, 14, 14]               0\n",
            "           Conv2d-85        [128, 1024, 14, 14]         262,144\n",
            "      BatchNorm2d-86        [128, 1024, 14, 14]           2,048\n",
            "           Conv2d-87        [128, 1024, 14, 14]         524,288\n",
            "      BatchNorm2d-88        [128, 1024, 14, 14]           2,048\n",
            "             ReLU-89        [128, 1024, 14, 14]               0\n",
            "       Bottleneck-90        [128, 1024, 14, 14]               0\n",
            "           Conv2d-91         [128, 256, 14, 14]         262,144\n",
            "      BatchNorm2d-92         [128, 256, 14, 14]             512\n",
            "             ReLU-93         [128, 256, 14, 14]               0\n",
            "           Conv2d-94         [128, 256, 14, 14]         589,824\n",
            "      BatchNorm2d-95         [128, 256, 14, 14]             512\n",
            "             ReLU-96         [128, 256, 14, 14]               0\n",
            "           Conv2d-97        [128, 1024, 14, 14]         262,144\n",
            "      BatchNorm2d-98        [128, 1024, 14, 14]           2,048\n",
            "             ReLU-99        [128, 1024, 14, 14]               0\n",
            "      Bottleneck-100        [128, 1024, 14, 14]               0\n",
            "          Conv2d-101         [128, 256, 14, 14]         262,144\n",
            "     BatchNorm2d-102         [128, 256, 14, 14]             512\n",
            "            ReLU-103         [128, 256, 14, 14]               0\n",
            "          Conv2d-104         [128, 256, 14, 14]         589,824\n",
            "     BatchNorm2d-105         [128, 256, 14, 14]             512\n",
            "            ReLU-106         [128, 256, 14, 14]               0\n",
            "          Conv2d-107        [128, 1024, 14, 14]         262,144\n",
            "     BatchNorm2d-108        [128, 1024, 14, 14]           2,048\n",
            "            ReLU-109        [128, 1024, 14, 14]               0\n",
            "      Bottleneck-110        [128, 1024, 14, 14]               0\n",
            "          Conv2d-111         [128, 256, 14, 14]         262,144\n",
            "     BatchNorm2d-112         [128, 256, 14, 14]             512\n",
            "            ReLU-113         [128, 256, 14, 14]               0\n",
            "          Conv2d-114         [128, 256, 14, 14]         589,824\n",
            "     BatchNorm2d-115         [128, 256, 14, 14]             512\n",
            "            ReLU-116         [128, 256, 14, 14]               0\n",
            "          Conv2d-117        [128, 1024, 14, 14]         262,144\n",
            "     BatchNorm2d-118        [128, 1024, 14, 14]           2,048\n",
            "            ReLU-119        [128, 1024, 14, 14]               0\n",
            "      Bottleneck-120        [128, 1024, 14, 14]               0\n",
            "          Conv2d-121         [128, 256, 14, 14]         262,144\n",
            "     BatchNorm2d-122         [128, 256, 14, 14]             512\n",
            "            ReLU-123         [128, 256, 14, 14]               0\n",
            "          Conv2d-124         [128, 256, 14, 14]         589,824\n",
            "     BatchNorm2d-125         [128, 256, 14, 14]             512\n",
            "            ReLU-126         [128, 256, 14, 14]               0\n",
            "          Conv2d-127        [128, 1024, 14, 14]         262,144\n",
            "     BatchNorm2d-128        [128, 1024, 14, 14]           2,048\n",
            "            ReLU-129        [128, 1024, 14, 14]               0\n",
            "      Bottleneck-130        [128, 1024, 14, 14]               0\n",
            "          Conv2d-131         [128, 256, 14, 14]         262,144\n",
            "     BatchNorm2d-132         [128, 256, 14, 14]             512\n",
            "            ReLU-133         [128, 256, 14, 14]               0\n",
            "          Conv2d-134         [128, 256, 14, 14]         589,824\n",
            "     BatchNorm2d-135         [128, 256, 14, 14]             512\n",
            "            ReLU-136         [128, 256, 14, 14]               0\n",
            "          Conv2d-137        [128, 1024, 14, 14]         262,144\n",
            "     BatchNorm2d-138        [128, 1024, 14, 14]           2,048\n",
            "            ReLU-139        [128, 1024, 14, 14]               0\n",
            "      Bottleneck-140        [128, 1024, 14, 14]               0\n",
            "          Conv2d-141         [128, 512, 14, 14]         524,288\n",
            "     BatchNorm2d-142         [128, 512, 14, 14]           1,024\n",
            "            ReLU-143         [128, 512, 14, 14]               0\n",
            "          Conv2d-144           [128, 512, 7, 7]       2,359,296\n",
            "     BatchNorm2d-145           [128, 512, 7, 7]           1,024\n",
            "            ReLU-146           [128, 512, 7, 7]               0\n",
            "          Conv2d-147          [128, 2048, 7, 7]       1,048,576\n",
            "     BatchNorm2d-148          [128, 2048, 7, 7]           4,096\n",
            "          Conv2d-149          [128, 2048, 7, 7]       2,097,152\n",
            "     BatchNorm2d-150          [128, 2048, 7, 7]           4,096\n",
            "            ReLU-151          [128, 2048, 7, 7]               0\n",
            "      Bottleneck-152          [128, 2048, 7, 7]               0\n",
            "          Conv2d-153           [128, 512, 7, 7]       1,048,576\n",
            "     BatchNorm2d-154           [128, 512, 7, 7]           1,024\n",
            "            ReLU-155           [128, 512, 7, 7]               0\n",
            "          Conv2d-156           [128, 512, 7, 7]       2,359,296\n",
            "     BatchNorm2d-157           [128, 512, 7, 7]           1,024\n",
            "            ReLU-158           [128, 512, 7, 7]               0\n",
            "          Conv2d-159          [128, 2048, 7, 7]       1,048,576\n",
            "     BatchNorm2d-160          [128, 2048, 7, 7]           4,096\n",
            "            ReLU-161          [128, 2048, 7, 7]               0\n",
            "      Bottleneck-162          [128, 2048, 7, 7]               0\n",
            "          Conv2d-163           [128, 512, 7, 7]       1,048,576\n",
            "     BatchNorm2d-164           [128, 512, 7, 7]           1,024\n",
            "            ReLU-165           [128, 512, 7, 7]               0\n",
            "          Conv2d-166           [128, 512, 7, 7]       2,359,296\n",
            "     BatchNorm2d-167           [128, 512, 7, 7]           1,024\n",
            "            ReLU-168           [128, 512, 7, 7]               0\n",
            "          Conv2d-169          [128, 2048, 7, 7]       1,048,576\n",
            "     BatchNorm2d-170          [128, 2048, 7, 7]           4,096\n",
            "            ReLU-171          [128, 2048, 7, 7]               0\n",
            "      Bottleneck-172          [128, 2048, 7, 7]               0\n",
            "AdaptiveAvgPool2d-173          [128, 2048, 1, 1]               0\n",
            "          Linear-174                  [128, 10]          20,490\n"
          ],
          "name": "stdout"
        },
        {
          "output_type": "execute_result",
          "data": {
            "text/html": [
              "<div>\n",
              "<style scoped>\n",
              "    .dataframe tbody tr th:only-of-type {\n",
              "        vertical-align: middle;\n",
              "    }\n",
              "\n",
              "    .dataframe tbody tr th {\n",
              "        vertical-align: top;\n",
              "    }\n",
              "\n",
              "    .dataframe thead th {\n",
              "        text-align: right;\n",
              "    }\n",
              "</style>\n",
              "<table border=\"1\" class=\"dataframe\">\n",
              "  <thead>\n",
              "    <tr style=\"text-align: right;\">\n",
              "      <th></th>\n",
              "      <th>0</th>\n",
              "    </tr>\n",
              "  </thead>\n",
              "  <tbody>\n",
              "    <tr>\n",
              "      <th>Total params</th>\n",
              "      <td>2.352852e+07</td>\n",
              "    </tr>\n",
              "    <tr>\n",
              "      <th>Trainable params</th>\n",
              "      <td>2.352852e+07</td>\n",
              "    </tr>\n",
              "    <tr>\n",
              "      <th>Non-trainable params</th>\n",
              "      <td>0.000000e+00</td>\n",
              "    </tr>\n",
              "    <tr>\n",
              "      <th>Input size (MB)</th>\n",
              "      <td>7.350000e+01</td>\n",
              "    </tr>\n",
              "    <tr>\n",
              "      <th>Forward/backward pass size (MB)</th>\n",
              "      <td>3.667851e+04</td>\n",
              "    </tr>\n",
              "    <tr>\n",
              "      <th>Params size (MB)</th>\n",
              "      <td>8.975419e+01</td>\n",
              "    </tr>\n",
              "    <tr>\n",
              "      <th>Estimated Total Size (MB)</th>\n",
              "      <td>3.684176e+04</td>\n",
              "    </tr>\n",
              "  </tbody>\n",
              "</table>\n",
              "</div>"
            ],
            "text/plain": [
              "                                            0\n",
              "Total params                     2.352852e+07\n",
              "Trainable params                 2.352852e+07\n",
              "Non-trainable params             0.000000e+00\n",
              "Input size (MB)                  7.350000e+01\n",
              "Forward/backward pass size (MB)  3.667851e+04\n",
              "Params size (MB)                 8.975419e+01\n",
              "Estimated Total Size (MB)        3.684176e+04"
            ]
          },
          "metadata": {
            "tags": []
          },
          "execution_count": 18
        }
      ]
    },
    {
      "cell_type": "code",
      "metadata": {
        "id": "WyhPsy4WAJyM"
      },
      "source": [
        "import torch.optim as optim\n",
        "lr = 5e-4\n",
        "criterion = nn.CrossEntropyLoss()\n",
        "optimizer = optim.Adam(net.parameters(), lr=lr)"
      ],
      "execution_count": null,
      "outputs": []
    },
    {
      "cell_type": "code",
      "metadata": {
        "colab": {
          "base_uri": "https://localhost:8080/",
          "height": 119
        },
        "id": "no68djCiqVGT",
        "outputId": "0eb7a6c4-74bf-4bdc-c53f-3f9a07bfeeec"
      },
      "source": [
        "# Start a run, tracking hyperparameters\n",
        "wandb.init(\n",
        "  project=\"resnet50 vs swin transformer tiny\",\n",
        "  config={\n",
        "      \"summary\": summary_df,\n",
        "      \"optimizer\": optimizer,\n",
        "      \"loss\": criterion,\n",
        "      \"learning rate\": lr,\n",
        "      \"metric\": \"accuracy\",\n",
        "      \"epoch\": epochs,\n",
        "      \"batch_size\": batch_size,\n",
        "  })\n",
        "config = wandb.config"
      ],
      "execution_count": null,
      "outputs": [
        {
          "output_type": "display_data",
          "data": {
            "text/html": [
              "\n",
              "                Tracking run with wandb version 0.11.0<br/>\n",
              "                Syncing run <strong style=\"color:#cdcd00\">proud-hill-1</strong> to <a href=\"https://wandb.ai\" target=\"_blank\">Weights & Biases</a> <a href=\"https://docs.wandb.com/integrations/jupyter.html\" target=\"_blank\">(Documentation)</a>.<br/>\n",
              "                Project page: <a href=\"https://wandb.ai/zack_/resnet50%20vs%20swin%20transformer%20tiny\" target=\"_blank\">https://wandb.ai/zack_/resnet50%20vs%20swin%20transformer%20tiny</a><br/>\n",
              "                Run page: <a href=\"https://wandb.ai/zack_/resnet50%20vs%20swin%20transformer%20tiny/runs/2vk6vzt6\" target=\"_blank\">https://wandb.ai/zack_/resnet50%20vs%20swin%20transformer%20tiny/runs/2vk6vzt6</a><br/>\n",
              "                Run data is saved locally in <code>/content/wandb/run-20210720_131921-2vk6vzt6</code><br/><br/>\n",
              "            "
            ],
            "text/plain": [
              "<IPython.core.display.HTML object>"
            ]
          },
          "metadata": {
            "tags": []
          }
        }
      ]
    },
    {
      "cell_type": "code",
      "metadata": {
        "colab": {
          "background_save": true,
          "base_uri": "https://localhost:8080/",
          "height": 1000,
          "referenced_widgets": [
            "162598b9db7a4ffaa0b6bdf0b20bd426",
            "c8343def71c14d42972a005479678b75",
            "aa2f92ceba8b4a4eadd79891e718055d",
            "447a4fa6ec5d48b4be8aa364988916b6",
            "d327137e40e44ff2bda0dfc61fd7149e",
            "02dfd4b3e62347d1ba8530dc4d5defb5",
            "0548b31ef7bd42619bd71a73fc40b4f7",
            "c08cf0b5e34042d1bf8deb9578f75de4",
            "9c65f01c623e43a696286573351274e8",
            "8f930a7d7d1849ef842c5c553046de88",
            "1102ab0b61fa4b799640f29142a334f4",
            "a732f811364d4836821082ca8d1d5fec",
            "bbbec94eb2994102ad46c6feb70ee010",
            "fc91c65cc1304dafb394f484f6129d33",
            "bca29274d1084336999e8ce4fb0350e6",
            "4511a95e917c4165b016265fdf6b0763",
            "13da4b56e2e949cb8cee586982d62d5d",
            "4611ec698aef4aa08585c2cf14fd5fe1",
            "2d587acb5fa747269542f3febfaf7486",
            "0a5dc80f66cf49e59d8fce0fd0cb2df7",
            "e1e98ab353ca43d6aa1e05dcb2ec5457",
            "bf233e17d9fc438a901fa247056dd2d7",
            "f51df642169740cd811ccc2a102f8461",
            "f7fcec5c7fb34995920edd9c82f4cda7",
            "bc61ddeb4aea4221bd4bb2bbbeb4b810",
            "79cc7f45163d45748f21ea43b680edd6",
            "7d2856a142df471cb8ffeec224f20ca0",
            "90c3314585934a7ba8dc12e03b236e58",
            "62f5675327be4ea59cf5b03ceb1f6c8d",
            "397b9c3470f44a068c468c70de7888b9",
            "f291b47b9a0e456498e8a387b3cf073c",
            "4ee1f1d27ab2426a9f366f0c3b0355c2",
            "1267bc7240ec427ca040c8c77f631ecc",
            "ffcd41c810474e7e9fbbcf575f3c681a",
            "935f2c97be0e4cfbbfc7f17a6ae8804d",
            "431182bae4d048b79eb5228a7c0d9c6e",
            "e6d5cc248c164d66aae13d9b40e6f6bc",
            "0269afd46a304a5b9d762128e9e19702",
            "df1c833a2f5b4ef3997941265ae4b96a",
            "797d5a8fab6540ecb10b8e6738bc47ab",
            "2755ceb7f3094012a9969740f0538ccd",
            "cfd775e7e73a42f0ad9aa3f396e85577",
            "9c7b4f6e6b504cc5a5781f5ad36b4cbc",
            "51f5e4a4b6a9422a8e60119790c58978",
            "599d6d6cea7d417f971f6071bb4b72d4",
            "4a2b56c0a7d249dba5d731995eeaa825",
            "b3801fffed0b4f02890dcf735db6abf5",
            "83fdf8a6f6fd44d38e7ee47218b64176",
            "0a0002ee15ee48678b7b20eb4a146d99",
            "fb182fde28724473b5f9f5991975c1ef",
            "35aec4f7d64e401bbe3fa0dad314f77c",
            "ef1140821ef74167bd60e0647d82ad03",
            "242cbe7f9b92431e9dc4c3221c8d70a6",
            "fadd7ca631e042178df3aa4c7836f030",
            "018332973ff141849e99323b2b9898a2",
            "a19a5ee6044f4aa4b81d40fb6d5cb2e4",
            "ef739f5e3fce4ef8955733e8d3fa92a5",
            "890b2b6d724b42989d180abe3277ff2b",
            "1604f1c080c645a294fbd89dcce1bd7f",
            "bf458dbe50d04f61a3bc1e2d130f62aa",
            "176bb12319a04e0784b00813dff957d6",
            "d9db319d0da44857aae748a5c21b12f0",
            "ed683820b3714e16b258ba4487e3c0dd",
            "7f7da6813be046f1824fecce4dc3a610",
            "c6e4f3649a3749538dd2b7c3a4d18be7",
            "66e7c03d6a214ac5af23b806085e0d4f",
            "68ce90aa5f564b189f94363da360c4b9",
            "ed7bc5b9f28c49979d1d5999c754d656",
            "dd9ee10c08b8408d91be33b264441721",
            "08dd7212b1b648959a0e2ba368951887",
            "38433f39b55f4fdf8de9b063dd64df67",
            "0af49bef097449099b6eba1b5d6dc54b",
            "72c4e4bdd08c4b81bc2afcf1b1de19d0",
            "435217a95b2843bbb05d91e703f190eb",
            "d6ea5043258d40228cf15e1b240516f9",
            "9e4894927a90484e8c0a2ed27d418148",
            "285d6726769a421e906a98d346df703a",
            "d183d9bfdccc4cb1a2676361e1216051",
            "4782027b51e74abb9b90b33d19e6a76e",
            "210405c47b324e28a9be8e062b68a799",
            "178f378a700a4be4bf4556c0fcfe8e71",
            "ad6d1bccabf14423a628677aff62e873",
            "2a2931734d5b4111aad8294e8724e60b",
            "3ac31325a26643cdbe79c19ec65df33a",
            "7eb511634fa54674b0649bcc39baed48",
            "16753860e33b4505870275ff4d15a3c5",
            "9d616484684b404c82523e8f45be67ad",
            "1c049fe444fa40efa16e65ef578fce46",
            "861058a5c6be41578bf55acbafda1fbc",
            "78756547e30b4820bde3cc76cd58aa3b",
            "e7d743b69bd0465b806c8cf5e3c658aa",
            "68f061ab2e814b33878daae9285431c6",
            "cd3a86e764da4cef943196031cd36a1e",
            "e0bf192ae8fb4825ac7a3b3659e41c89",
            "419e3b8ae8034198817f4aff633ffeae",
            "1c420aee92b04e70a8af4aff85b1da75",
            "fab11f1b1e8f41aa861d407db64cd73b",
            "749207d5338e4ebd9479f45d4cea7372",
            "522bd05bd8794a3d93c605d73a5d7515",
            "57dc67bd843148cb889cff779ded0b08",
            "6b0fc830a3a44a71bfd603f4987bf2de",
            "5123714987a043a584a33e38d8f04e14",
            "c8ef0cfbbab54f86ae790c584c6a0e56",
            "6b5de0e5d608478894ed827b1e92e110",
            "965bea28366f47bcaf116e049d5164df",
            "37853496ee8e49a895aa9270037d6478",
            "bed0ebd7e84f4cf09337f3f75f002cda",
            "7d9da0e49d744deb86eb08dea63b853d",
            "0d6b0dc5cb55465aa2a7ea7febfe9cd9",
            "0712e618c0e74d0e819e27b31d75f1e7",
            "e729103c524b43fc8805fe639d141c76",
            "d030b24ee85446faa77dd8b2a97838be",
            "fb8b7e6e705644a3813c2bfbd2b59b10",
            "bce8a16dc682494b8f6e04f6b2b2e0e1",
            "73c7c7e122c14338a8e5c6e4f703c7b0",
            "23e49462748e4eec8a1c2a99c033b7c9",
            "06d52910b8b448ed9ffb18825a0d4691",
            "b6c99115faff41fd99aa7fd44413bed8",
            "09bcd4a1e5704be2bb8a1d7f60cb035c",
            "93ce4efa6a8a4fbf9c72c02645f4f566",
            "86b8c4b67d7f4e3789229f8902e011aa",
            "55c9a880c237426b81a1095076f145b3",
            "51f720e02ffb499f88e662c12ce400e8",
            "8efeb3eae654402498279188f75af2e9",
            "7b9aae177a304a2e865acf49b845f93b",
            "cdbfe3c783dd4a4a885534995324ad5f",
            "ed6b8088ab8340c992ba0aac0cbaea6a",
            "1adc7d769a244238a6041b1b2fc10b41",
            "ac83ca1377cf43e8829160de862d6eb6",
            "19dfeaca08a148f68f0c2e0fd7052ddd",
            "b9a938c898a447eca4d49543a43d1ee4",
            "5a8762c5ab0a4864a2330d56d37536d1",
            "de55c572d097498cb88910ee72571b1c",
            "3b97befd8a2c4eeea9bd9f29d2a0be4b",
            "73288c44da5d4b7eb06e288768e6dc2a",
            "6ca6ccafc63646cc9c2fc753fb6652f3",
            "a48250fa26a0499db94c58e083239309",
            "ab6bb8d2b6cc4aa4bd070645b32f13f7",
            "4cdd1156bb6a4d04a39dc9e0d12bd8ce",
            "9f9b26af62254b909589129f599c490b",
            "8ec17a28eb49441b95f84684b5c21224",
            "04c6895d0854428988c1b7c423181012",
            "21d90fc69fba4e59b7895c483e5b4576",
            "471d4e74ebbb4e7cbfab70cb0fa84c48",
            "62d073872f6d485abcce021da8ae143b",
            "40f253ac8c23474b92aa87bf39f96ae4",
            "833fec5ba39c400e904f5f07b630929a",
            "a2a3a4da669d44ff8f6bf83f8bda95a6",
            "eaffcf781137442783dbf9c909881a2a",
            "0c9f21ce8eaa4ad78966469ed18d542c",
            "6ccd85aa778d4176a4e0d882797e544b",
            "64912b5887184d40be314c5b8c912b26",
            "523d0a135703400881c659e88a0d005e",
            "3a113b4cfe444f22a6ba49aa0958979d"
          ]
        },
        "id": "OyPySHxtAJyM",
        "outputId": "e950c8f6-c2e6-4865-bc18-435aeff0a9ac"
      },
      "source": [
        "from tqdm.notebook import tqdm\n",
        "from time import time\n",
        "\n",
        "for epoch in tqdm(range(epochs), \"Epoch: \"): \n",
        "    net.train()\n",
        "    optimizer.zero_grad()\n",
        "\n",
        "    start = time()\n",
        "\n",
        "\n",
        "    running_loss = 0.0\n",
        "    tqdm_train = tqdm(enumerate(trainloader, 0), \"Train step: \", total=len(trainloader))\n",
        "    for i, data in tqdm_train:\n",
        "\n",
        "        inputs, labels = data[0].to(device), data[1].to(device)\n",
        "\n",
        "        # zero the parameter gradients\n",
        "        optimizer.zero_grad()\n",
        "\n",
        "        # forward + backward + optimize\n",
        "        outputs = net(inputs)\n",
        "        loss = criterion(outputs, labels)\n",
        "        loss.backward()\n",
        "        optimizer.step()\n",
        "\n",
        "        # print statistics\n",
        "        running_loss += loss.item()\n",
        "        tqdm_train.set_postfix(loss=loss.item())\n",
        "        \n",
        "\n",
        "    \n",
        "    epoch_time = time() - start\n",
        "    print(f\"Epoch time: {epoch_time/60:.3f} min\" )\n",
        "    print(f\"Epoch {epoch + 1} Train loss: {running_loss / len(trainloader):.3f}\")\n",
        "    len_trainloader = len(trainloader)\n",
        "    wandb.log({\"Epoch\":epoch + 1,\n",
        "               \"Epoch time\": epoch_time/60,\n",
        "               \"Train loss\":running_loss/len_trainloader,\n",
        "               })\n",
        "    \n",
        "    running_loss = 0.0\n",
        "    correct_pred = {classname: 0 for classname in classes}\n",
        "    total_pred = {classname: 0 for classname in classes}\n",
        "\n",
        "    with torch.no_grad():\n",
        "        net.eval()\n",
        "        tqdm_val = tqdm(enumerate(valloader, 0), \"Val step: \", total=len(valloader))\n",
        "        for i, data in tqdm_val:\n",
        "            inputs, labels = data[0].to(device), data[1].to(device)  \n",
        "            outputs = net(inputs)\n",
        "            loss = criterion(outputs, labels)\n",
        "            # print statistics\n",
        "            running_loss += loss.item()\n",
        "            tqdm_val.set_postfix(loss=loss.item())\n",
        "            _, predictions = torch.max(outputs, 1)\n",
        "            # collect the correct predictions for each class\n",
        "            for label, prediction in list(zip(labels, predictions)):\n",
        "                if label == prediction:\n",
        "                    correct_pred[classes[label]] += 1\n",
        "                total_pred[classes[label]] += 1 \n",
        "               \n",
        "    # print accuracy for each class\n",
        "    accuracy_sum = []\n",
        "    classnames = []\n",
        "    for classname, correct_count in correct_pred.items():\n",
        "        accuracy = 100 * float(correct_count) / total_pred[classname]\n",
        "        accuracy_sum.append(accuracy)\n",
        "        classnames.append(classname)\n",
        "        print(f\"Accuracy for class {classname}: {accuracy:.1f}%\")  \n",
        "        \n",
        "    classnames_accuracy = list(zip(classnames,accuracy_sum))\n",
        "    print(f\"Epoch {epoch + 1} Val loss: {running_loss / len(valloader):.3f}\")\n",
        "    print(f\"Total accuracy: {sum(accuracy_sum)/len(accuracy_sum)}\")\n",
        "    len_valloader = len(valloader)\n",
        "    wandb.log({\"Epoch\":epoch + 1, \n",
        "               \"Val loss\":running_loss / len_valloader,\n",
        "               \"Accuracy by class\": classnames_accuracy,\n",
        "               \"Total accuracy\": sum(accuracy_sum)/len(accuracy_sum),\n",
        "               })\n",
        "\n",
        "# Mark the run as finished\n",
        "wandb.finish()\n",
        "print('Training comleted')"
      ],
      "execution_count": null,
      "outputs": [
        {
          "output_type": "display_data",
          "data": {
            "application/vnd.jupyter.widget-view+json": {
              "model_id": "162598b9db7a4ffaa0b6bdf0b20bd426",
              "version_major": 2,
              "version_minor": 0
            },
            "text/plain": [
              "HBox(children=(FloatProgress(value=0.0, description='Epoch: ', max=20.0, style=ProgressStyle(description_width…"
            ]
          },
          "metadata": {
            "tags": []
          }
        },
        {
          "output_type": "display_data",
          "data": {
            "application/vnd.jupyter.widget-view+json": {
              "model_id": "9c65f01c623e43a696286573351274e8",
              "version_major": 2,
              "version_minor": 0
            },
            "text/plain": [
              "HBox(children=(FloatProgress(value=0.0, description='Train step: ', max=391.0, style=ProgressStyle(description…"
            ]
          },
          "metadata": {
            "tags": []
          }
        },
        {
          "output_type": "stream",
          "text": [
            "\n",
            "Epoch time: 2.637 min\n",
            "Epoch 1 Train loss: 0.436\n"
          ],
          "name": "stdout"
        },
        {
          "output_type": "display_data",
          "data": {
            "application/vnd.jupyter.widget-view+json": {
              "model_id": "13da4b56e2e949cb8cee586982d62d5d",
              "version_major": 2,
              "version_minor": 0
            },
            "text/plain": [
              "HBox(children=(FloatProgress(value=0.0, description='Val step: ', max=79.0, style=ProgressStyle(description_wi…"
            ]
          },
          "metadata": {
            "tags": []
          }
        },
        {
          "output_type": "stream",
          "text": [
            "\n",
            "Accuracy for class plane: 92.2%\n",
            "Accuracy for class car: 98.9%\n",
            "Accuracy for class bird: 84.4%\n",
            "Accuracy for class cat: 85.2%\n",
            "Accuracy for class deer: 93.3%\n",
            "Accuracy for class dog: 70.1%\n",
            "Accuracy for class frog: 94.7%\n",
            "Accuracy for class horse: 92.5%\n",
            "Accuracy for class ship: 86.8%\n",
            "Accuracy for class truck: 86.1%\n",
            "Epoch 1 Val loss: 0.354\n",
            "Total accuracy: 88.42\n"
          ],
          "name": "stdout"
        },
        {
          "output_type": "display_data",
          "data": {
            "application/vnd.jupyter.widget-view+json": {
              "model_id": "bc61ddeb4aea4221bd4bb2bbbeb4b810",
              "version_major": 2,
              "version_minor": 0
            },
            "text/plain": [
              "HBox(children=(FloatProgress(value=0.0, description='Train step: ', max=391.0, style=ProgressStyle(description…"
            ]
          },
          "metadata": {
            "tags": []
          }
        },
        {
          "output_type": "stream",
          "text": [
            "\n",
            "Epoch time: 2.630 min\n",
            "Epoch 2 Train loss: 0.247\n"
          ],
          "name": "stdout"
        },
        {
          "output_type": "display_data",
          "data": {
            "application/vnd.jupyter.widget-view+json": {
              "model_id": "1267bc7240ec427ca040c8c77f631ecc",
              "version_major": 2,
              "version_minor": 0
            },
            "text/plain": [
              "HBox(children=(FloatProgress(value=0.0, description='Val step: ', max=79.0, style=ProgressStyle(description_wi…"
            ]
          },
          "metadata": {
            "tags": []
          }
        },
        {
          "output_type": "stream",
          "text": [
            "\n",
            "Accuracy for class plane: 90.7%\n",
            "Accuracy for class car: 97.2%\n",
            "Accuracy for class bird: 85.1%\n",
            "Accuracy for class cat: 91.9%\n",
            "Accuracy for class deer: 87.7%\n",
            "Accuracy for class dog: 79.8%\n",
            "Accuracy for class frog: 95.0%\n",
            "Accuracy for class horse: 80.8%\n",
            "Accuracy for class ship: 95.8%\n",
            "Accuracy for class truck: 88.0%\n",
            "Epoch 2 Val loss: 0.332\n",
            "Total accuracy: 89.19999999999999\n"
          ],
          "name": "stdout"
        },
        {
          "output_type": "display_data",
          "data": {
            "application/vnd.jupyter.widget-view+json": {
              "model_id": "2755ceb7f3094012a9969740f0538ccd",
              "version_major": 2,
              "version_minor": 0
            },
            "text/plain": [
              "HBox(children=(FloatProgress(value=0.0, description='Train step: ', max=391.0, style=ProgressStyle(description…"
            ]
          },
          "metadata": {
            "tags": []
          }
        },
        {
          "output_type": "stream",
          "text": [
            "\n",
            "Epoch time: 2.638 min\n",
            "Epoch 3 Train loss: 0.173\n"
          ],
          "name": "stdout"
        },
        {
          "output_type": "display_data",
          "data": {
            "application/vnd.jupyter.widget-view+json": {
              "model_id": "0a0002ee15ee48678b7b20eb4a146d99",
              "version_major": 2,
              "version_minor": 0
            },
            "text/plain": [
              "HBox(children=(FloatProgress(value=0.0, description='Val step: ', max=79.0, style=ProgressStyle(description_wi…"
            ]
          },
          "metadata": {
            "tags": []
          }
        },
        {
          "output_type": "stream",
          "text": [
            "\n",
            "Accuracy for class plane: 95.3%\n",
            "Accuracy for class car: 96.4%\n",
            "Accuracy for class bird: 89.1%\n",
            "Accuracy for class cat: 78.1%\n",
            "Accuracy for class deer: 88.7%\n",
            "Accuracy for class dog: 92.1%\n",
            "Accuracy for class frog: 92.2%\n",
            "Accuracy for class horse: 88.8%\n",
            "Accuracy for class ship: 92.9%\n",
            "Accuracy for class truck: 90.2%\n",
            "Epoch 3 Val loss: 0.284\n",
            "Total accuracy: 90.38\n"
          ],
          "name": "stdout"
        },
        {
          "output_type": "display_data",
          "data": {
            "application/vnd.jupyter.widget-view+json": {
              "model_id": "ef739f5e3fce4ef8955733e8d3fa92a5",
              "version_major": 2,
              "version_minor": 0
            },
            "text/plain": [
              "HBox(children=(FloatProgress(value=0.0, description='Train step: ', max=391.0, style=ProgressStyle(description…"
            ]
          },
          "metadata": {
            "tags": []
          }
        },
        {
          "output_type": "stream",
          "text": [
            "\n",
            "Epoch time: 2.643 min\n",
            "Epoch 4 Train loss: 0.135\n"
          ],
          "name": "stdout"
        },
        {
          "output_type": "display_data",
          "data": {
            "application/vnd.jupyter.widget-view+json": {
              "model_id": "c6e4f3649a3749538dd2b7c3a4d18be7",
              "version_major": 2,
              "version_minor": 0
            },
            "text/plain": [
              "HBox(children=(FloatProgress(value=0.0, description='Val step: ', max=79.0, style=ProgressStyle(description_wi…"
            ]
          },
          "metadata": {
            "tags": []
          }
        },
        {
          "output_type": "stream",
          "text": [
            "\n",
            "Accuracy for class plane: 94.2%\n",
            "Accuracy for class car: 95.7%\n",
            "Accuracy for class bird: 92.2%\n",
            "Accuracy for class cat: 85.1%\n",
            "Accuracy for class deer: 93.1%\n",
            "Accuracy for class dog: 82.3%\n",
            "Accuracy for class frog: 95.8%\n",
            "Accuracy for class horse: 94.9%\n",
            "Accuracy for class ship: 93.2%\n",
            "Accuracy for class truck: 93.5%\n",
            "Epoch 4 Val loss: 0.241\n",
            "Total accuracy: 92.0\n"
          ],
          "name": "stdout"
        },
        {
          "output_type": "display_data",
          "data": {
            "application/vnd.jupyter.widget-view+json": {
              "model_id": "72c4e4bdd08c4b81bc2afcf1b1de19d0",
              "version_major": 2,
              "version_minor": 0
            },
            "text/plain": [
              "HBox(children=(FloatProgress(value=0.0, description='Train step: ', max=391.0, style=ProgressStyle(description…"
            ]
          },
          "metadata": {
            "tags": []
          }
        },
        {
          "output_type": "stream",
          "text": [
            "\n",
            "Epoch time: 2.642 min\n",
            "Epoch 5 Train loss: 0.106\n"
          ],
          "name": "stdout"
        },
        {
          "output_type": "display_data",
          "data": {
            "application/vnd.jupyter.widget-view+json": {
              "model_id": "178f378a700a4be4bf4556c0fcfe8e71",
              "version_major": 2,
              "version_minor": 0
            },
            "text/plain": [
              "HBox(children=(FloatProgress(value=0.0, description='Val step: ', max=79.0, style=ProgressStyle(description_wi…"
            ]
          },
          "metadata": {
            "tags": []
          }
        },
        {
          "output_type": "stream",
          "text": [
            "\n",
            "Accuracy for class plane: 92.7%\n",
            "Accuracy for class car: 97.7%\n",
            "Accuracy for class bird: 86.8%\n",
            "Accuracy for class cat: 88.1%\n",
            "Accuracy for class deer: 95.2%\n",
            "Accuracy for class dog: 75.9%\n",
            "Accuracy for class frog: 96.6%\n",
            "Accuracy for class horse: 94.7%\n",
            "Accuracy for class ship: 91.7%\n",
            "Accuracy for class truck: 86.5%\n",
            "Epoch 5 Val loss: 0.322\n",
            "Total accuracy: 90.59\n"
          ],
          "name": "stdout"
        },
        {
          "output_type": "display_data",
          "data": {
            "application/vnd.jupyter.widget-view+json": {
              "model_id": "861058a5c6be41578bf55acbafda1fbc",
              "version_major": 2,
              "version_minor": 0
            },
            "text/plain": [
              "HBox(children=(FloatProgress(value=0.0, description='Train step: ', max=391.0, style=ProgressStyle(description…"
            ]
          },
          "metadata": {
            "tags": []
          }
        },
        {
          "output_type": "stream",
          "text": [
            "\n",
            "Epoch time: 2.667 min\n",
            "Epoch 6 Train loss: 0.093\n"
          ],
          "name": "stdout"
        },
        {
          "output_type": "display_data",
          "data": {
            "application/vnd.jupyter.widget-view+json": {
              "model_id": "fab11f1b1e8f41aa861d407db64cd73b",
              "version_major": 2,
              "version_minor": 0
            },
            "text/plain": [
              "HBox(children=(FloatProgress(value=0.0, description='Val step: ', max=79.0, style=ProgressStyle(description_wi…"
            ]
          },
          "metadata": {
            "tags": []
          }
        },
        {
          "output_type": "stream",
          "text": [
            "\n",
            "Accuracy for class plane: 98.0%\n",
            "Accuracy for class car: 98.7%\n",
            "Accuracy for class bird: 88.1%\n",
            "Accuracy for class cat: 86.8%\n",
            "Accuracy for class deer: 89.3%\n",
            "Accuracy for class dog: 79.3%\n",
            "Accuracy for class frog: 97.1%\n",
            "Accuracy for class horse: 95.6%\n",
            "Accuracy for class ship: 91.9%\n",
            "Accuracy for class truck: 90.5%\n",
            "Epoch 6 Val loss: 0.291\n",
            "Total accuracy: 91.53\n"
          ],
          "name": "stdout"
        },
        {
          "output_type": "display_data",
          "data": {
            "application/vnd.jupyter.widget-view+json": {
              "model_id": "965bea28366f47bcaf116e049d5164df",
              "version_major": 2,
              "version_minor": 0
            },
            "text/plain": [
              "HBox(children=(FloatProgress(value=0.0, description='Train step: ', max=391.0, style=ProgressStyle(description…"
            ]
          },
          "metadata": {
            "tags": []
          }
        },
        {
          "output_type": "stream",
          "text": [
            "\n",
            "Epoch time: 2.672 min\n",
            "Epoch 7 Train loss: 0.071\n"
          ],
          "name": "stdout"
        },
        {
          "output_type": "display_data",
          "data": {
            "application/vnd.jupyter.widget-view+json": {
              "model_id": "fb8b7e6e705644a3813c2bfbd2b59b10",
              "version_major": 2,
              "version_minor": 0
            },
            "text/plain": [
              "HBox(children=(FloatProgress(value=0.0, description='Val step: ', max=79.0, style=ProgressStyle(description_wi…"
            ]
          },
          "metadata": {
            "tags": []
          }
        },
        {
          "output_type": "stream",
          "text": [
            "\n",
            "Accuracy for class plane: 96.4%\n",
            "Accuracy for class car: 95.8%\n",
            "Accuracy for class bird: 91.0%\n",
            "Accuracy for class cat: 85.8%\n",
            "Accuracy for class deer: 89.9%\n",
            "Accuracy for class dog: 85.1%\n",
            "Accuracy for class frog: 95.2%\n",
            "Accuracy for class horse: 94.9%\n",
            "Accuracy for class ship: 94.2%\n",
            "Accuracy for class truck: 94.7%\n",
            "Epoch 7 Val loss: 0.264\n",
            "Total accuracy: 92.30000000000001\n"
          ],
          "name": "stdout"
        },
        {
          "output_type": "display_data",
          "data": {
            "application/vnd.jupyter.widget-view+json": {
              "model_id": "86b8c4b67d7f4e3789229f8902e011aa",
              "version_major": 2,
              "version_minor": 0
            },
            "text/plain": [
              "HBox(children=(FloatProgress(value=0.0, description='Train step: ', max=391.0, style=ProgressStyle(description…"
            ]
          },
          "metadata": {
            "tags": []
          }
        },
        {
          "output_type": "stream",
          "text": [
            "\n",
            "Epoch time: 2.668 min\n",
            "Epoch 8 Train loss: 0.068\n"
          ],
          "name": "stdout"
        },
        {
          "output_type": "display_data",
          "data": {
            "application/vnd.jupyter.widget-view+json": {
              "model_id": "ac83ca1377cf43e8829160de862d6eb6",
              "version_major": 2,
              "version_minor": 0
            },
            "text/plain": [
              "HBox(children=(FloatProgress(value=0.0, description='Val step: ', max=79.0, style=ProgressStyle(description_wi…"
            ]
          },
          "metadata": {
            "tags": []
          }
        },
        {
          "output_type": "stream",
          "text": [
            "\n",
            "Accuracy for class plane: 86.5%\n",
            "Accuracy for class car: 95.3%\n",
            "Accuracy for class bird: 89.7%\n",
            "Accuracy for class cat: 73.8%\n",
            "Accuracy for class deer: 93.2%\n",
            "Accuracy for class dog: 86.2%\n",
            "Accuracy for class frog: 97.0%\n",
            "Accuracy for class horse: 93.0%\n",
            "Accuracy for class ship: 96.0%\n",
            "Accuracy for class truck: 93.3%\n",
            "Epoch 8 Val loss: 0.347\n",
            "Total accuracy: 90.4\n"
          ],
          "name": "stdout"
        },
        {
          "output_type": "display_data",
          "data": {
            "application/vnd.jupyter.widget-view+json": {
              "model_id": "19dfeaca08a148f68f0c2e0fd7052ddd",
              "version_major": 2,
              "version_minor": 0
            },
            "text/plain": [
              "HBox(children=(FloatProgress(value=0.0, description='Train step: ', max=391.0, style=ProgressStyle(description…"
            ]
          },
          "metadata": {
            "tags": []
          }
        },
        {
          "output_type": "stream",
          "text": [
            "\n",
            "Epoch time: 2.655 min\n",
            "Epoch 9 Train loss: 0.059\n"
          ],
          "name": "stdout"
        },
        {
          "output_type": "display_data",
          "data": {
            "application/vnd.jupyter.widget-view+json": {
              "model_id": "b9a938c898a447eca4d49543a43d1ee4",
              "version_major": 2,
              "version_minor": 0
            },
            "text/plain": [
              "HBox(children=(FloatProgress(value=0.0, description='Val step: ', max=79.0, style=ProgressStyle(description_wi…"
            ]
          },
          "metadata": {
            "tags": []
          }
        },
        {
          "output_type": "stream",
          "text": [
            "\n",
            "Accuracy for class plane: 92.8%\n",
            "Accuracy for class car: 95.0%\n",
            "Accuracy for class bird: 86.7%\n",
            "Accuracy for class cat: 84.2%\n",
            "Accuracy for class deer: 92.5%\n",
            "Accuracy for class dog: 83.8%\n",
            "Accuracy for class frog: 98.4%\n",
            "Accuracy for class horse: 93.3%\n",
            "Accuracy for class ship: 94.1%\n",
            "Accuracy for class truck: 97.3%\n",
            "Epoch 9 Val loss: 0.296\n",
            "Total accuracy: 91.80999999999999\n"
          ],
          "name": "stdout"
        },
        {
          "output_type": "display_data",
          "data": {
            "application/vnd.jupyter.widget-view+json": {
              "model_id": "5a8762c5ab0a4864a2330d56d37536d1",
              "version_major": 2,
              "version_minor": 0
            },
            "text/plain": [
              "HBox(children=(FloatProgress(value=0.0, description='Train step: ', max=391.0, style=ProgressStyle(description…"
            ]
          },
          "metadata": {
            "tags": []
          }
        },
        {
          "output_type": "stream",
          "text": [
            "\n",
            "Epoch time: 2.644 min\n",
            "Epoch 10 Train loss: 0.057\n"
          ],
          "name": "stdout"
        },
        {
          "output_type": "display_data",
          "data": {
            "application/vnd.jupyter.widget-view+json": {
              "model_id": "de55c572d097498cb88910ee72571b1c",
              "version_major": 2,
              "version_minor": 0
            },
            "text/plain": [
              "HBox(children=(FloatProgress(value=0.0, description='Val step: ', max=79.0, style=ProgressStyle(description_wi…"
            ]
          },
          "metadata": {
            "tags": []
          }
        },
        {
          "output_type": "stream",
          "text": [
            "\n",
            "Accuracy for class plane: 92.3%\n",
            "Accuracy for class car: 81.3%\n",
            "Accuracy for class bird: 87.7%\n",
            "Accuracy for class cat: 81.1%\n",
            "Accuracy for class deer: 92.0%\n",
            "Accuracy for class dog: 89.9%\n",
            "Accuracy for class frog: 96.3%\n",
            "Accuracy for class horse: 92.8%\n",
            "Accuracy for class ship: 94.2%\n",
            "Accuracy for class truck: 97.6%\n",
            "Epoch 10 Val loss: 0.370\n",
            "Total accuracy: 90.52\n"
          ],
          "name": "stdout"
        },
        {
          "output_type": "display_data",
          "data": {
            "application/vnd.jupyter.widget-view+json": {
              "model_id": "3b97befd8a2c4eeea9bd9f29d2a0be4b",
              "version_major": 2,
              "version_minor": 0
            },
            "text/plain": [
              "HBox(children=(FloatProgress(value=0.0, description='Train step: ', max=391.0, style=ProgressStyle(description…"
            ]
          },
          "metadata": {
            "tags": []
          }
        },
        {
          "output_type": "stream",
          "text": [
            "\n",
            "Epoch time: 2.639 min\n",
            "Epoch 11 Train loss: 0.051\n"
          ],
          "name": "stdout"
        },
        {
          "output_type": "display_data",
          "data": {
            "application/vnd.jupyter.widget-view+json": {
              "model_id": "73288c44da5d4b7eb06e288768e6dc2a",
              "version_major": 2,
              "version_minor": 0
            },
            "text/plain": [
              "HBox(children=(FloatProgress(value=0.0, description='Val step: ', max=79.0, style=ProgressStyle(description_wi…"
            ]
          },
          "metadata": {
            "tags": []
          }
        },
        {
          "output_type": "stream",
          "text": [
            "\n",
            "Accuracy for class plane: 97.5%\n",
            "Accuracy for class car: 91.7%\n",
            "Accuracy for class bird: 83.7%\n",
            "Accuracy for class cat: 83.5%\n",
            "Accuracy for class deer: 89.1%\n",
            "Accuracy for class dog: 92.7%\n",
            "Accuracy for class frog: 95.2%\n",
            "Accuracy for class horse: 86.4%\n",
            "Accuracy for class ship: 95.5%\n",
            "Accuracy for class truck: 94.6%\n",
            "Epoch 11 Val loss: 0.352\n",
            "Total accuracy: 90.99000000000001\n"
          ],
          "name": "stdout"
        },
        {
          "output_type": "display_data",
          "data": {
            "application/vnd.jupyter.widget-view+json": {
              "model_id": "6ca6ccafc63646cc9c2fc753fb6652f3",
              "version_major": 2,
              "version_minor": 0
            },
            "text/plain": [
              "HBox(children=(FloatProgress(value=0.0, description='Train step: ', max=391.0, style=ProgressStyle(description…"
            ]
          },
          "metadata": {
            "tags": []
          }
        },
        {
          "output_type": "stream",
          "text": [
            "\n",
            "Epoch time: 2.647 min\n",
            "Epoch 12 Train loss: 0.043\n"
          ],
          "name": "stdout"
        },
        {
          "output_type": "display_data",
          "data": {
            "application/vnd.jupyter.widget-view+json": {
              "model_id": "a48250fa26a0499db94c58e083239309",
              "version_major": 2,
              "version_minor": 0
            },
            "text/plain": [
              "HBox(children=(FloatProgress(value=0.0, description='Val step: ', max=79.0, style=ProgressStyle(description_wi…"
            ]
          },
          "metadata": {
            "tags": []
          }
        },
        {
          "output_type": "stream",
          "text": [
            "\n",
            "Accuracy for class plane: 91.4%\n",
            "Accuracy for class car: 91.1%\n",
            "Accuracy for class bird: 85.9%\n",
            "Accuracy for class cat: 82.1%\n",
            "Accuracy for class deer: 95.8%\n",
            "Accuracy for class dog: 91.2%\n",
            "Accuracy for class frog: 95.5%\n",
            "Accuracy for class horse: 93.6%\n",
            "Accuracy for class ship: 95.6%\n",
            "Accuracy for class truck: 95.7%\n",
            "Epoch 12 Val loss: 0.311\n",
            "Total accuracy: 91.79\n"
          ],
          "name": "stdout"
        },
        {
          "output_type": "display_data",
          "data": {
            "application/vnd.jupyter.widget-view+json": {
              "model_id": "ab6bb8d2b6cc4aa4bd070645b32f13f7",
              "version_major": 2,
              "version_minor": 0
            },
            "text/plain": [
              "HBox(children=(FloatProgress(value=0.0, description='Train step: ', max=391.0, style=ProgressStyle(description…"
            ]
          },
          "metadata": {
            "tags": []
          }
        },
        {
          "output_type": "stream",
          "text": [
            "\n",
            "Epoch time: 2.634 min\n",
            "Epoch 13 Train loss: 0.046\n"
          ],
          "name": "stdout"
        },
        {
          "output_type": "display_data",
          "data": {
            "application/vnd.jupyter.widget-view+json": {
              "model_id": "4cdd1156bb6a4d04a39dc9e0d12bd8ce",
              "version_major": 2,
              "version_minor": 0
            },
            "text/plain": [
              "HBox(children=(FloatProgress(value=0.0, description='Val step: ', max=79.0, style=ProgressStyle(description_wi…"
            ]
          },
          "metadata": {
            "tags": []
          }
        },
        {
          "output_type": "stream",
          "text": [
            "\n",
            "Accuracy for class plane: 91.7%\n",
            "Accuracy for class car: 88.1%\n",
            "Accuracy for class bird: 92.6%\n",
            "Accuracy for class cat: 79.8%\n",
            "Accuracy for class deer: 89.4%\n",
            "Accuracy for class dog: 90.5%\n",
            "Accuracy for class frog: 87.2%\n",
            "Accuracy for class horse: 94.4%\n",
            "Accuracy for class ship: 95.0%\n",
            "Accuracy for class truck: 97.3%\n",
            "Epoch 13 Val loss: 0.356\n",
            "Total accuracy: 90.6\n"
          ],
          "name": "stdout"
        },
        {
          "output_type": "display_data",
          "data": {
            "application/vnd.jupyter.widget-view+json": {
              "model_id": "9f9b26af62254b909589129f599c490b",
              "version_major": 2,
              "version_minor": 0
            },
            "text/plain": [
              "HBox(children=(FloatProgress(value=0.0, description='Train step: ', max=391.0, style=ProgressStyle(description…"
            ]
          },
          "metadata": {
            "tags": []
          }
        },
        {
          "output_type": "stream",
          "text": [
            "\n",
            "Epoch time: 2.631 min\n",
            "Epoch 14 Train loss: 0.044\n"
          ],
          "name": "stdout"
        },
        {
          "output_type": "display_data",
          "data": {
            "application/vnd.jupyter.widget-view+json": {
              "model_id": "8ec17a28eb49441b95f84684b5c21224",
              "version_major": 2,
              "version_minor": 0
            },
            "text/plain": [
              "HBox(children=(FloatProgress(value=0.0, description='Val step: ', max=79.0, style=ProgressStyle(description_wi…"
            ]
          },
          "metadata": {
            "tags": []
          }
        },
        {
          "output_type": "stream",
          "text": [
            "\n",
            "Accuracy for class plane: 88.0%\n",
            "Accuracy for class car: 97.1%\n",
            "Accuracy for class bird: 90.8%\n",
            "Accuracy for class cat: 82.0%\n",
            "Accuracy for class deer: 91.7%\n",
            "Accuracy for class dog: 87.3%\n",
            "Accuracy for class frog: 94.6%\n",
            "Accuracy for class horse: 95.5%\n",
            "Accuracy for class ship: 96.3%\n",
            "Accuracy for class truck: 85.2%\n",
            "Epoch 14 Val loss: 0.353\n",
            "Total accuracy: 90.85\n"
          ],
          "name": "stdout"
        },
        {
          "output_type": "display_data",
          "data": {
            "application/vnd.jupyter.widget-view+json": {
              "model_id": "04c6895d0854428988c1b7c423181012",
              "version_major": 2,
              "version_minor": 0
            },
            "text/plain": [
              "HBox(children=(FloatProgress(value=0.0, description='Train step: ', max=391.0, style=ProgressStyle(description…"
            ]
          },
          "metadata": {
            "tags": []
          }
        },
        {
          "output_type": "stream",
          "text": [
            "\n",
            "Epoch time: 2.635 min\n",
            "Epoch 15 Train loss: 0.032\n"
          ],
          "name": "stdout"
        },
        {
          "output_type": "display_data",
          "data": {
            "application/vnd.jupyter.widget-view+json": {
              "model_id": "21d90fc69fba4e59b7895c483e5b4576",
              "version_major": 2,
              "version_minor": 0
            },
            "text/plain": [
              "HBox(children=(FloatProgress(value=0.0, description='Val step: ', max=79.0, style=ProgressStyle(description_wi…"
            ]
          },
          "metadata": {
            "tags": []
          }
        },
        {
          "output_type": "stream",
          "text": [
            "\n",
            "Accuracy for class plane: 94.5%\n",
            "Accuracy for class car: 93.7%\n",
            "Accuracy for class bird: 90.0%\n",
            "Accuracy for class cat: 88.1%\n",
            "Accuracy for class deer: 93.1%\n",
            "Accuracy for class dog: 80.9%\n",
            "Accuracy for class frog: 96.3%\n",
            "Accuracy for class horse: 94.3%\n",
            "Accuracy for class ship: 91.4%\n",
            "Accuracy for class truck: 96.6%\n",
            "Epoch 15 Val loss: 0.310\n",
            "Total accuracy: 91.88999999999999\n"
          ],
          "name": "stdout"
        },
        {
          "output_type": "display_data",
          "data": {
            "application/vnd.jupyter.widget-view+json": {
              "model_id": "471d4e74ebbb4e7cbfab70cb0fa84c48",
              "version_major": 2,
              "version_minor": 0
            },
            "text/plain": [
              "HBox(children=(FloatProgress(value=0.0, description='Train step: ', max=391.0, style=ProgressStyle(description…"
            ]
          },
          "metadata": {
            "tags": []
          }
        },
        {
          "output_type": "stream",
          "text": [
            "\n",
            "Epoch time: 2.635 min\n",
            "Epoch 16 Train loss: 0.038\n"
          ],
          "name": "stdout"
        },
        {
          "output_type": "display_data",
          "data": {
            "application/vnd.jupyter.widget-view+json": {
              "model_id": "62d073872f6d485abcce021da8ae143b",
              "version_major": 2,
              "version_minor": 0
            },
            "text/plain": [
              "HBox(children=(FloatProgress(value=0.0, description='Val step: ', max=79.0, style=ProgressStyle(description_wi…"
            ]
          },
          "metadata": {
            "tags": []
          }
        },
        {
          "output_type": "stream",
          "text": [
            "\n",
            "Accuracy for class plane: 96.7%\n",
            "Accuracy for class car: 95.4%\n",
            "Accuracy for class bird: 87.7%\n",
            "Accuracy for class cat: 86.6%\n",
            "Accuracy for class deer: 94.7%\n",
            "Accuracy for class dog: 87.4%\n",
            "Accuracy for class frog: 94.9%\n",
            "Accuracy for class horse: 92.9%\n",
            "Accuracy for class ship: 92.3%\n",
            "Accuracy for class truck: 94.8%\n",
            "Epoch 16 Val loss: 0.300\n",
            "Total accuracy: 92.33999999999999\n"
          ],
          "name": "stdout"
        },
        {
          "output_type": "display_data",
          "data": {
            "application/vnd.jupyter.widget-view+json": {
              "model_id": "40f253ac8c23474b92aa87bf39f96ae4",
              "version_major": 2,
              "version_minor": 0
            },
            "text/plain": [
              "HBox(children=(FloatProgress(value=0.0, description='Train step: ', max=391.0, style=ProgressStyle(description…"
            ]
          },
          "metadata": {
            "tags": []
          }
        },
        {
          "output_type": "stream",
          "text": [
            "\n",
            "Epoch time: 2.631 min\n",
            "Epoch 17 Train loss: 0.032\n"
          ],
          "name": "stdout"
        },
        {
          "output_type": "display_data",
          "data": {
            "application/vnd.jupyter.widget-view+json": {
              "model_id": "833fec5ba39c400e904f5f07b630929a",
              "version_major": 2,
              "version_minor": 0
            },
            "text/plain": [
              "HBox(children=(FloatProgress(value=0.0, description='Val step: ', max=79.0, style=ProgressStyle(description_wi…"
            ]
          },
          "metadata": {
            "tags": []
          }
        },
        {
          "output_type": "stream",
          "text": [
            "\n",
            "Accuracy for class plane: 93.4%\n",
            "Accuracy for class car: 97.5%\n",
            "Accuracy for class bird: 88.9%\n",
            "Accuracy for class cat: 81.0%\n",
            "Accuracy for class deer: 93.9%\n",
            "Accuracy for class dog: 87.0%\n",
            "Accuracy for class frog: 98.1%\n",
            "Accuracy for class horse: 97.6%\n",
            "Accuracy for class ship: 93.8%\n",
            "Accuracy for class truck: 94.1%\n",
            "Epoch 17 Val loss: 0.306\n",
            "Total accuracy: 92.53\n"
          ],
          "name": "stdout"
        },
        {
          "output_type": "display_data",
          "data": {
            "application/vnd.jupyter.widget-view+json": {
              "model_id": "a2a3a4da669d44ff8f6bf83f8bda95a6",
              "version_major": 2,
              "version_minor": 0
            },
            "text/plain": [
              "HBox(children=(FloatProgress(value=0.0, description='Train step: ', max=391.0, style=ProgressStyle(description…"
            ]
          },
          "metadata": {
            "tags": []
          }
        },
        {
          "output_type": "stream",
          "text": [
            "\n",
            "Epoch time: 2.642 min\n",
            "Epoch 18 Train loss: 0.031\n"
          ],
          "name": "stdout"
        },
        {
          "output_type": "display_data",
          "data": {
            "application/vnd.jupyter.widget-view+json": {
              "model_id": "eaffcf781137442783dbf9c909881a2a",
              "version_major": 2,
              "version_minor": 0
            },
            "text/plain": [
              "HBox(children=(FloatProgress(value=0.0, description='Val step: ', max=79.0, style=ProgressStyle(description_wi…"
            ]
          },
          "metadata": {
            "tags": []
          }
        },
        {
          "output_type": "stream",
          "text": [
            "\n",
            "Accuracy for class plane: 88.3%\n",
            "Accuracy for class car: 95.5%\n",
            "Accuracy for class bird: 87.0%\n",
            "Accuracy for class cat: 86.0%\n",
            "Accuracy for class deer: 92.0%\n",
            "Accuracy for class dog: 86.7%\n",
            "Accuracy for class frog: 89.2%\n",
            "Accuracy for class horse: 95.6%\n",
            "Accuracy for class ship: 95.5%\n",
            "Accuracy for class truck: 94.0%\n",
            "Epoch 18 Val loss: 0.369\n",
            "Total accuracy: 90.98\n"
          ],
          "name": "stdout"
        },
        {
          "output_type": "display_data",
          "data": {
            "application/vnd.jupyter.widget-view+json": {
              "model_id": "0c9f21ce8eaa4ad78966469ed18d542c",
              "version_major": 2,
              "version_minor": 0
            },
            "text/plain": [
              "HBox(children=(FloatProgress(value=0.0, description='Train step: ', max=391.0, style=ProgressStyle(description…"
            ]
          },
          "metadata": {
            "tags": []
          }
        },
        {
          "output_type": "stream",
          "text": [
            "\n",
            "Epoch time: 2.633 min\n",
            "Epoch 19 Train loss: 0.037\n"
          ],
          "name": "stdout"
        },
        {
          "output_type": "display_data",
          "data": {
            "application/vnd.jupyter.widget-view+json": {
              "model_id": "6ccd85aa778d4176a4e0d882797e544b",
              "version_major": 2,
              "version_minor": 0
            },
            "text/plain": [
              "HBox(children=(FloatProgress(value=0.0, description='Val step: ', max=79.0, style=ProgressStyle(description_wi…"
            ]
          },
          "metadata": {
            "tags": []
          }
        },
        {
          "output_type": "stream",
          "text": [
            "\n",
            "Accuracy for class plane: 93.4%\n",
            "Accuracy for class car: 96.5%\n",
            "Accuracy for class bird: 89.4%\n",
            "Accuracy for class cat: 83.4%\n",
            "Accuracy for class deer: 90.5%\n",
            "Accuracy for class dog: 88.3%\n",
            "Accuracy for class frog: 96.8%\n",
            "Accuracy for class horse: 96.1%\n",
            "Accuracy for class ship: 95.4%\n",
            "Accuracy for class truck: 93.3%\n",
            "Epoch 19 Val loss: 0.319\n",
            "Total accuracy: 92.30999999999999\n"
          ],
          "name": "stdout"
        },
        {
          "output_type": "display_data",
          "data": {
            "application/vnd.jupyter.widget-view+json": {
              "model_id": "64912b5887184d40be314c5b8c912b26",
              "version_major": 2,
              "version_minor": 0
            },
            "text/plain": [
              "HBox(children=(FloatProgress(value=0.0, description='Train step: ', max=391.0, style=ProgressStyle(description…"
            ]
          },
          "metadata": {
            "tags": []
          }
        },
        {
          "output_type": "stream",
          "text": [
            "\n",
            "Epoch time: 2.639 min\n",
            "Epoch 20 Train loss: 0.030\n"
          ],
          "name": "stdout"
        },
        {
          "output_type": "display_data",
          "data": {
            "application/vnd.jupyter.widget-view+json": {
              "model_id": "523d0a135703400881c659e88a0d005e",
              "version_major": 2,
              "version_minor": 0
            },
            "text/plain": [
              "HBox(children=(FloatProgress(value=0.0, description='Val step: ', max=79.0, style=ProgressStyle(description_wi…"
            ]
          },
          "metadata": {
            "tags": []
          }
        },
        {
          "output_type": "stream",
          "text": [
            "\n",
            "Accuracy for class plane: 92.8%\n",
            "Accuracy for class car: 95.8%\n",
            "Accuracy for class bird: 90.0%\n",
            "Accuracy for class cat: 87.9%\n",
            "Accuracy for class deer: 92.7%\n",
            "Accuracy for class dog: 85.9%\n",
            "Accuracy for class frog: 94.9%\n",
            "Accuracy for class horse: 95.8%\n",
            "Accuracy for class ship: 94.0%\n",
            "Accuracy for class truck: 96.3%\n",
            "Epoch 20 Val loss: 0.300\n",
            "Total accuracy: 92.60999999999999\n",
            "\n"
          ],
          "name": "stdout"
        },
        {
          "output_type": "display_data",
          "data": {
            "text/html": [
              "<br/>Waiting for W&B process to finish, PID 605892<br/>Program ended successfully."
            ],
            "text/plain": [
              "<IPython.core.display.HTML object>"
            ]
          },
          "metadata": {
            "tags": []
          }
        },
        {
          "output_type": "display_data",
          "data": {
            "application/vnd.jupyter.widget-view+json": {
              "model_id": "3a113b4cfe444f22a6ba49aa0958979d",
              "version_major": 2,
              "version_minor": 0
            },
            "text/plain": [
              "VBox(children=(Label(value=' 0.00MB of 0.00MB uploaded (0.00MB deduped)\\r'), FloatProgress(value=1.0, max=1.0)…"
            ]
          },
          "metadata": {
            "tags": []
          }
        },
        {
          "output_type": "display_data",
          "data": {
            "text/html": [
              "Find user logs for this run at: <code>/content/wandb/run-20210720_131921-2vk6vzt6/logs/debug.log</code>"
            ],
            "text/plain": [
              "<IPython.core.display.HTML object>"
            ]
          },
          "metadata": {
            "tags": []
          }
        },
        {
          "output_type": "display_data",
          "data": {
            "text/html": [
              "Find internal logs for this run at: <code>/content/wandb/run-20210720_131921-2vk6vzt6/logs/debug-internal.log</code>"
            ],
            "text/plain": [
              "<IPython.core.display.HTML object>"
            ]
          },
          "metadata": {
            "tags": []
          }
        },
        {
          "output_type": "display_data",
          "data": {
            "text/html": [
              "<h3>Run summary:</h3><br/><style>\n",
              "    table.wandb td:nth-child(1) { padding: 0 10px; text-align: right }\n",
              "    </style><table class=\"wandb\">\n",
              "<tr><td>Epoch</td><td>20</td></tr><tr><td>Epoch time</td><td>2.63902</td></tr><tr><td>Train loss</td><td>0.03002</td></tr><tr><td>_runtime</td><td>3576</td></tr><tr><td>_timestamp</td><td>1626790738</td></tr><tr><td>_step</td><td>39</td></tr><tr><td>Val loss</td><td>0.2996</td></tr><tr><td>Total accuracy</td><td>92.61</td></tr></table>"
            ],
            "text/plain": [
              "<IPython.core.display.HTML object>"
            ]
          },
          "metadata": {
            "tags": []
          }
        },
        {
          "output_type": "display_data",
          "data": {
            "text/html": [
              "<h3>Run history:</h3><br/><style>\n",
              "    table.wandb td:nth-child(1) { padding: 0 10px; text-align: right }\n",
              "    </style><table class=\"wandb\">\n",
              "<tr><td>Epoch</td><td>▁▁▁▁▂▂▂▂▂▂▃▃▃▃▄▄▄▄▄▄▅▅▅▅▅▅▆▆▆▆▇▇▇▇▇▇████</td></tr><tr><td>Epoch time</td><td>▂▁▂▃▃▇█▇▅▃▃▄▂▁▂▂▁▃▂▃</td></tr><tr><td>Train loss</td><td>█▅▃▃▂▂▂▂▁▁▁▁▁▁▁▁▁▁▁▁</td></tr><tr><td>_runtime</td><td>▁▁▁▁▂▂▂▂▂▃▃▃▃▃▄▄▄▄▄▄▅▅▅▅▅▅▆▆▆▆▆▇▇▇▇▇████</td></tr><tr><td>_timestamp</td><td>▁▁▁▁▂▂▂▂▂▃▃▃▃▃▄▄▄▄▄▄▅▅▅▅▅▅▆▆▆▆▆▇▇▇▇▇████</td></tr><tr><td>_step</td><td>▁▁▁▂▂▂▂▂▂▃▃▃▃▃▄▄▄▄▄▄▅▅▅▅▅▅▆▆▆▆▆▇▇▇▇▇▇███</td></tr><tr><td>Val loss</td><td>▇▆▃▁▅▄▂▇▄█▇▅▇▇▅▄▅█▅▄</td></tr><tr><td>Total accuracy</td><td>▁▂▄▇▅▆▇▄▇▅▅▇▅▅▇██▅▇█</td></tr></table><br/>"
            ],
            "text/plain": [
              "<IPython.core.display.HTML object>"
            ]
          },
          "metadata": {
            "tags": []
          }
        },
        {
          "output_type": "display_data",
          "data": {
            "text/html": [
              "Synced 5 W&B file(s), 0 media file(s), 0 artifact file(s) and 0 other file(s)"
            ],
            "text/plain": [
              "<IPython.core.display.HTML object>"
            ]
          },
          "metadata": {
            "tags": []
          }
        },
        {
          "output_type": "display_data",
          "data": {
            "text/html": [
              "\n",
              "                    <br/>Synced <strong style=\"color:#cdcd00\">proud-hill-1</strong>: <a href=\"https://wandb.ai/zack_/resnet50%20vs%20swin%20transformer%20tiny/runs/2vk6vzt6\" target=\"_blank\">https://wandb.ai/zack_/resnet50%20vs%20swin%20transformer%20tiny/runs/2vk6vzt6</a><br/>\n",
              "                "
            ],
            "text/plain": [
              "<IPython.core.display.HTML object>"
            ]
          },
          "metadata": {
            "tags": []
          }
        },
        {
          "output_type": "stream",
          "text": [
            "Training comleted\n"
          ],
          "name": "stdout"
        }
      ]
    },
    {
      "cell_type": "code",
      "metadata": {
        "colab": {
          "background_save": true
        },
        "id": "IF5RMKW8E51N"
      },
      "source": [
        "# gpu load  14569MiB"
      ],
      "execution_count": null,
      "outputs": []
    },
    {
      "cell_type": "code",
      "metadata": {
        "colab": {
          "background_save": true
        },
        "id": "ncSixb9iAJyN"
      },
      "source": [
        "PATH = './model.pt'\n",
        "torch.save(net.state_dict(), PATH)"
      ],
      "execution_count": null,
      "outputs": []
    },
    {
      "cell_type": "code",
      "metadata": {
        "colab": {
          "background_save": true
        },
        "id": "KZUN9MxdAJyO",
        "outputId": "a517c5ae-6709-41f9-8623-d0a82be33eec"
      },
      "source": [
        "dataiter = iter(valloader)\n",
        "images, labels = dataiter.next()\n",
        "\n",
        "# print images\n",
        "imshow(torchvision.utils.make_grid(images))\n",
        "print('GroundTruth: ', ' '.join('%5s' % classes[labels[j]] for j in range(4)))"
      ],
      "execution_count": null,
      "outputs": [
        {
          "output_type": "display_data",
          "data": {
            "image/png": "[encoded data removed]",
            "text/plain": [
              "<Figure size 432x288 with 1 Axes>"
            ]
          },
          "metadata": {
            "tags": []
          }
        },
        {
          "output_type": "stream",
          "text": [
            "GroundTruth:    cat  ship  ship plane\n"
          ],
          "name": "stdout"
        }
      ]
    },
    {
      "cell_type": "code",
      "metadata": {
        "colab": {
          "background_save": true
        },
        "id": "u7IT8DjqAJyO",
        "outputId": "e907d24e-0bf6-4793-c47b-d924353c61e9"
      },
      "source": [
        "net.load_state_dict(torch.load(PATH))"
      ],
      "execution_count": null,
      "outputs": [
        {
          "output_type": "execute_result",
          "data": {
            "text/plain": [
              "<All keys matched successfully>"
            ]
          },
          "metadata": {
            "tags": []
          },
          "execution_count": 0
        }
      ]
    },
    {
      "cell_type": "code",
      "metadata": {
        "colab": {
          "background_save": true
        },
        "id": "5IJCaF7ZAJyO",
        "outputId": "63a212f8-7ed5-4381-81ab-eac0bc3d3007"
      },
      "source": [
        "outputs = net(images)"
      ],
      "execution_count": null,
      "outputs": [
        {
          "output_type": "error",
          "ename": "RuntimeError",
          "evalue": "ignored",
          "traceback": [
            "\u001b[0;31m---------------------------------------------------------------------------\u001b[0m",
            "\u001b[0;31mRuntimeError\u001b[0m                              Traceback (most recent call last)",
            "\u001b[0;32m<ipython-input-26-6e53c5807822>\u001b[0m in \u001b[0;36m<module>\u001b[0;34m()\u001b[0m\n\u001b[0;32m----> 1\u001b[0;31m \u001b[0moutputs\u001b[0m \u001b[0;34m=\u001b[0m \u001b[0mnet\u001b[0m\u001b[0;34m(\u001b[0m\u001b[0mimages\u001b[0m\u001b[0;34m)\u001b[0m\u001b[0;34m\u001b[0m\u001b[0;34m\u001b[0m\u001b[0m\n\u001b[0m",
            "\u001b[0;32m/usr/local/lib/python3.7/dist-packages/torch/nn/modules/module.py\u001b[0m in \u001b[0;36m_call_impl\u001b[0;34m(self, *input, **kwargs)\u001b[0m\n\u001b[1;32m   1049\u001b[0m         if not (self._backward_hooks or self._forward_hooks or self._forward_pre_hooks or _global_backward_hooks\n\u001b[1;32m   1050\u001b[0m                 or _global_forward_hooks or _global_forward_pre_hooks):\n\u001b[0;32m-> 1051\u001b[0;31m             \u001b[0;32mreturn\u001b[0m \u001b[0mforward_call\u001b[0m\u001b[0;34m(\u001b[0m\u001b[0;34m*\u001b[0m\u001b[0minput\u001b[0m\u001b[0;34m,\u001b[0m \u001b[0;34m**\u001b[0m\u001b[0mkwargs\u001b[0m\u001b[0;34m)\u001b[0m\u001b[0;34m\u001b[0m\u001b[0;34m\u001b[0m\u001b[0m\n\u001b[0m\u001b[1;32m   1052\u001b[0m         \u001b[0;31m# Do not call functions when jit is used\u001b[0m\u001b[0;34m\u001b[0m\u001b[0;34m\u001b[0m\u001b[0;34m\u001b[0m\u001b[0m\n\u001b[1;32m   1053\u001b[0m         \u001b[0mfull_backward_hooks\u001b[0m\u001b[0;34m,\u001b[0m \u001b[0mnon_full_backward_hooks\u001b[0m \u001b[0;34m=\u001b[0m \u001b[0;34m[\u001b[0m\u001b[0;34m]\u001b[0m\u001b[0;34m,\u001b[0m \u001b[0;34m[\u001b[0m\u001b[0;34m]\u001b[0m\u001b[0;34m\u001b[0m\u001b[0;34m\u001b[0m\u001b[0m\n",
            "\u001b[0;32m/usr/local/lib/python3.7/dist-packages/torchvision/models/resnet.py\u001b[0m in \u001b[0;36mforward\u001b[0;34m(self, x)\u001b[0m\n\u001b[1;32m    247\u001b[0m \u001b[0;34m\u001b[0m\u001b[0m\n\u001b[1;32m    248\u001b[0m     \u001b[0;32mdef\u001b[0m \u001b[0mforward\u001b[0m\u001b[0;34m(\u001b[0m\u001b[0mself\u001b[0m\u001b[0;34m,\u001b[0m \u001b[0mx\u001b[0m\u001b[0;34m:\u001b[0m \u001b[0mTensor\u001b[0m\u001b[0;34m)\u001b[0m \u001b[0;34m->\u001b[0m \u001b[0mTensor\u001b[0m\u001b[0;34m:\u001b[0m\u001b[0;34m\u001b[0m\u001b[0;34m\u001b[0m\u001b[0m\n\u001b[0;32m--> 249\u001b[0;31m         \u001b[0;32mreturn\u001b[0m \u001b[0mself\u001b[0m\u001b[0;34m.\u001b[0m\u001b[0m_forward_impl\u001b[0m\u001b[0;34m(\u001b[0m\u001b[0mx\u001b[0m\u001b[0;34m)\u001b[0m\u001b[0;34m\u001b[0m\u001b[0;34m\u001b[0m\u001b[0m\n\u001b[0m\u001b[1;32m    250\u001b[0m \u001b[0;34m\u001b[0m\u001b[0m\n\u001b[1;32m    251\u001b[0m \u001b[0;34m\u001b[0m\u001b[0m\n",
            "\u001b[0;32m/usr/local/lib/python3.7/dist-packages/torchvision/models/resnet.py\u001b[0m in \u001b[0;36m_forward_impl\u001b[0;34m(self, x)\u001b[0m\n\u001b[1;32m    230\u001b[0m     \u001b[0;32mdef\u001b[0m \u001b[0m_forward_impl\u001b[0m\u001b[0;34m(\u001b[0m\u001b[0mself\u001b[0m\u001b[0;34m,\u001b[0m \u001b[0mx\u001b[0m\u001b[0;34m:\u001b[0m \u001b[0mTensor\u001b[0m\u001b[0;34m)\u001b[0m \u001b[0;34m->\u001b[0m \u001b[0mTensor\u001b[0m\u001b[0;34m:\u001b[0m\u001b[0;34m\u001b[0m\u001b[0;34m\u001b[0m\u001b[0m\n\u001b[1;32m    231\u001b[0m         \u001b[0;31m# See note [TorchScript super()]\u001b[0m\u001b[0;34m\u001b[0m\u001b[0;34m\u001b[0m\u001b[0;34m\u001b[0m\u001b[0m\n\u001b[0;32m--> 232\u001b[0;31m         \u001b[0mx\u001b[0m \u001b[0;34m=\u001b[0m \u001b[0mself\u001b[0m\u001b[0;34m.\u001b[0m\u001b[0mconv1\u001b[0m\u001b[0;34m(\u001b[0m\u001b[0mx\u001b[0m\u001b[0;34m)\u001b[0m\u001b[0;34m\u001b[0m\u001b[0;34m\u001b[0m\u001b[0m\n\u001b[0m\u001b[1;32m    233\u001b[0m         \u001b[0mx\u001b[0m \u001b[0;34m=\u001b[0m \u001b[0mself\u001b[0m\u001b[0;34m.\u001b[0m\u001b[0mbn1\u001b[0m\u001b[0;34m(\u001b[0m\u001b[0mx\u001b[0m\u001b[0;34m)\u001b[0m\u001b[0;34m\u001b[0m\u001b[0;34m\u001b[0m\u001b[0m\n\u001b[1;32m    234\u001b[0m         \u001b[0mx\u001b[0m \u001b[0;34m=\u001b[0m \u001b[0mself\u001b[0m\u001b[0;34m.\u001b[0m\u001b[0mrelu\u001b[0m\u001b[0;34m(\u001b[0m\u001b[0mx\u001b[0m\u001b[0;34m)\u001b[0m\u001b[0;34m\u001b[0m\u001b[0;34m\u001b[0m\u001b[0m\n",
            "\u001b[0;32m/usr/local/lib/python3.7/dist-packages/torch/nn/modules/module.py\u001b[0m in \u001b[0;36m_call_impl\u001b[0;34m(self, *input, **kwargs)\u001b[0m\n\u001b[1;32m   1049\u001b[0m         if not (self._backward_hooks or self._forward_hooks or self._forward_pre_hooks or _global_backward_hooks\n\u001b[1;32m   1050\u001b[0m                 or _global_forward_hooks or _global_forward_pre_hooks):\n\u001b[0;32m-> 1051\u001b[0;31m             \u001b[0;32mreturn\u001b[0m \u001b[0mforward_call\u001b[0m\u001b[0;34m(\u001b[0m\u001b[0;34m*\u001b[0m\u001b[0minput\u001b[0m\u001b[0;34m,\u001b[0m \u001b[0;34m**\u001b[0m\u001b[0mkwargs\u001b[0m\u001b[0;34m)\u001b[0m\u001b[0;34m\u001b[0m\u001b[0;34m\u001b[0m\u001b[0m\n\u001b[0m\u001b[1;32m   1052\u001b[0m         \u001b[0;31m# Do not call functions when jit is used\u001b[0m\u001b[0;34m\u001b[0m\u001b[0;34m\u001b[0m\u001b[0;34m\u001b[0m\u001b[0m\n\u001b[1;32m   1053\u001b[0m         \u001b[0mfull_backward_hooks\u001b[0m\u001b[0;34m,\u001b[0m \u001b[0mnon_full_backward_hooks\u001b[0m \u001b[0;34m=\u001b[0m \u001b[0;34m[\u001b[0m\u001b[0;34m]\u001b[0m\u001b[0;34m,\u001b[0m \u001b[0;34m[\u001b[0m\u001b[0;34m]\u001b[0m\u001b[0;34m\u001b[0m\u001b[0;34m\u001b[0m\u001b[0m\n",
            "\u001b[0;32m/usr/local/lib/python3.7/dist-packages/torch/nn/modules/conv.py\u001b[0m in \u001b[0;36mforward\u001b[0;34m(self, input)\u001b[0m\n\u001b[1;32m    441\u001b[0m \u001b[0;34m\u001b[0m\u001b[0m\n\u001b[1;32m    442\u001b[0m     \u001b[0;32mdef\u001b[0m \u001b[0mforward\u001b[0m\u001b[0;34m(\u001b[0m\u001b[0mself\u001b[0m\u001b[0;34m,\u001b[0m \u001b[0minput\u001b[0m\u001b[0;34m:\u001b[0m \u001b[0mTensor\u001b[0m\u001b[0;34m)\u001b[0m \u001b[0;34m->\u001b[0m \u001b[0mTensor\u001b[0m\u001b[0;34m:\u001b[0m\u001b[0;34m\u001b[0m\u001b[0;34m\u001b[0m\u001b[0m\n\u001b[0;32m--> 443\u001b[0;31m         \u001b[0;32mreturn\u001b[0m \u001b[0mself\u001b[0m\u001b[0;34m.\u001b[0m\u001b[0m_conv_forward\u001b[0m\u001b[0;34m(\u001b[0m\u001b[0minput\u001b[0m\u001b[0;34m,\u001b[0m \u001b[0mself\u001b[0m\u001b[0;34m.\u001b[0m\u001b[0mweight\u001b[0m\u001b[0;34m,\u001b[0m \u001b[0mself\u001b[0m\u001b[0;34m.\u001b[0m\u001b[0mbias\u001b[0m\u001b[0;34m)\u001b[0m\u001b[0;34m\u001b[0m\u001b[0;34m\u001b[0m\u001b[0m\n\u001b[0m\u001b[1;32m    444\u001b[0m \u001b[0;34m\u001b[0m\u001b[0m\n\u001b[1;32m    445\u001b[0m \u001b[0;32mclass\u001b[0m \u001b[0mConv3d\u001b[0m\u001b[0;34m(\u001b[0m\u001b[0m_ConvNd\u001b[0m\u001b[0;34m)\u001b[0m\u001b[0;34m:\u001b[0m\u001b[0;34m\u001b[0m\u001b[0;34m\u001b[0m\u001b[0m\n",
            "\u001b[0;32m/usr/local/lib/python3.7/dist-packages/torch/nn/modules/conv.py\u001b[0m in \u001b[0;36m_conv_forward\u001b[0;34m(self, input, weight, bias)\u001b[0m\n\u001b[1;32m    438\u001b[0m                             _pair(0), self.dilation, self.groups)\n\u001b[1;32m    439\u001b[0m         return F.conv2d(input, weight, bias, self.stride,\n\u001b[0;32m--> 440\u001b[0;31m                         self.padding, self.dilation, self.groups)\n\u001b[0m\u001b[1;32m    441\u001b[0m \u001b[0;34m\u001b[0m\u001b[0m\n\u001b[1;32m    442\u001b[0m     \u001b[0;32mdef\u001b[0m \u001b[0mforward\u001b[0m\u001b[0;34m(\u001b[0m\u001b[0mself\u001b[0m\u001b[0;34m,\u001b[0m \u001b[0minput\u001b[0m\u001b[0;34m:\u001b[0m \u001b[0mTensor\u001b[0m\u001b[0;34m)\u001b[0m \u001b[0;34m->\u001b[0m \u001b[0mTensor\u001b[0m\u001b[0;34m:\u001b[0m\u001b[0;34m\u001b[0m\u001b[0;34m\u001b[0m\u001b[0m\n",
            "\u001b[0;31mRuntimeError\u001b[0m: Input type (torch.FloatTensor) and weight type (torch.cuda.FloatTensor) should be the same or input should be a MKLDNN tensor and weight is a dense tensor"
          ]
        }
      ]
    },
    {
      "cell_type": "code",
      "metadata": {
        "colab": {
          "background_save": true
        },
        "id": "8ehbINgTAJyP"
      },
      "source": [
        "_, predicted = torch.max(outputs, 1)\n",
        "print('Predicted: ', ' '.join('%5s' % classes[predicted[j]]\n",
        "                              for j in range(4)))"
      ],
      "execution_count": null,
      "outputs": []
    },
    {
      "cell_type": "markdown",
      "metadata": {
        "id": "528G3Uij-oHd"
      },
      "source": [
        "# Note: \n",
        "## model specs\n",
        "\n",
        "Total params\t23,528,522\n",
        "\n",
        "Trainable params\t23,528,522\n",
        "\n",
        "Non-trainable params\t0\n",
        "\n",
        "Input size (MB)\t7.350000e+01\n",
        "\n",
        "Forward/backward pass size (MB)\t3.667851e+04\n",
        "\n",
        "Params size (MB)\t8.975419e+01\n",
        "\n",
        "Estimated Total Size (MB)\t3.684176e+04\n",
        "\n",
        "\n"
      ]
    },
    {
      "cell_type": "markdown",
      "metadata": {
        "id": "oHxpQG2s_NL1"
      },
      "source": [
        "# Reference\n",
        "\n",
        "\n",
        "https://github.com/sksq96/pytorch-summary#multiple-inputs\n",
        "\n",
        "https://github.com/berniwal/swin-transformer-pytorch\n",
        "\n",
        "https://arxiv.org/pdf/2103.14030.pdf"
      ]
    },
    {
      "cell_type": "code",
      "metadata": {
        "colab": {
          "background_save": true
        },
        "id": "DroAy-8R-noL"
      },
      "source": [
        ""
      ],
      "execution_count": null,
      "outputs": []
    }
  ]
}