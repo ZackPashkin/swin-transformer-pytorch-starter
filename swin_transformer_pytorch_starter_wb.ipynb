{
  "nbformat": 4,
  "nbformat_minor": 0,
  "metadata": {
    "accelerator": "GPU",
    "colab": {
      "name": "swin transformer pytorch starter wb.ipynb",
      "provenance": [],
      "include_colab_link": true
    },
    "kernelspec": {
      "display_name": "Python 3",
      "language": "python",
      "name": "python3"
    },
    "language_info": {
      "codemirror_mode": {
        "name": "ipython",
        "version": 3
      },
      "file_extension": ".py",
      "mimetype": "text/x-python",
      "name": "python",
      "nbconvert_exporter": "python",
      "pygments_lexer": "ipython3",
      "version": "3.6.12"
    },
    "widgets": {
      "application/vnd.jupyter.widget-state+json": {
        "3cc3370959954d4096a0768ca637235a": {
          "model_module": "@jupyter-widgets/controls",
          "model_name": "HBoxModel",
          "state": {
            "_dom_classes": [],
            "_model_module": "@jupyter-widgets/controls",
            "_model_module_version": "1.5.0",
            "_model_name": "HBoxModel",
            "_view_count": null,
            "_view_module": "@jupyter-widgets/controls",
            "_view_module_version": "1.5.0",
            "_view_name": "HBoxView",
            "box_style": "",
            "children": [
              "IPY_MODEL_6db0c17483e648bca48675bfb4d87878",
              "IPY_MODEL_43fff35951364667bf656d1a17807627"
            ],
            "layout": "IPY_MODEL_9c78d113cc8e46d9b41d05cf93be6f12"
          }
        },
        "6db0c17483e648bca48675bfb4d87878": {
          "model_module": "@jupyter-widgets/controls",
          "model_name": "FloatProgressModel",
          "state": {
            "_dom_classes": [],
            "_model_module": "@jupyter-widgets/controls",
            "_model_module_version": "1.5.0",
            "_model_name": "FloatProgressModel",
            "_view_count": null,
            "_view_module": "@jupyter-widgets/controls",
            "_view_module_version": "1.5.0",
            "_view_name": "ProgressView",
            "bar_style": "success",
            "description": "",
            "description_tooltip": null,
            "layout": "IPY_MODEL_a78eaeae7acb4037b366e6641a586162",
            "max": 170498071,
            "min": 0,
            "orientation": "horizontal",
            "style": "IPY_MODEL_3dc3b005ae0b49cb9be24753ec4672e1",
            "value": 170498071
          }
        },
        "43fff35951364667bf656d1a17807627": {
          "model_module": "@jupyter-widgets/controls",
          "model_name": "HTMLModel",
          "state": {
            "_dom_classes": [],
            "_model_module": "@jupyter-widgets/controls",
            "_model_module_version": "1.5.0",
            "_model_name": "HTMLModel",
            "_view_count": null,
            "_view_module": "@jupyter-widgets/controls",
            "_view_module_version": "1.5.0",
            "_view_name": "HTMLView",
            "description": "",
            "description_tooltip": null,
            "layout": "IPY_MODEL_abd1e377eb51468ca3161d6fe6872b85",
            "placeholder": "​",
            "style": "IPY_MODEL_7bde6a838e0743a9861f08d6e0188b37",
            "value": " 170499072/? [00:12&lt;00:00, 13917648.80it/s]"
          }
        },
        "9c78d113cc8e46d9b41d05cf93be6f12": {
          "model_module": "@jupyter-widgets/base",
          "model_name": "LayoutModel",
          "state": {
            "_model_module": "@jupyter-widgets/base",
            "_model_module_version": "1.2.0",
            "_model_name": "LayoutModel",
            "_view_count": null,
            "_view_module": "@jupyter-widgets/base",
            "_view_module_version": "1.2.0",
            "_view_name": "LayoutView",
            "align_content": null,
            "align_items": null,
            "align_self": null,
            "border": null,
            "bottom": null,
            "display": null,
            "flex": null,
            "flex_flow": null,
            "grid_area": null,
            "grid_auto_columns": null,
            "grid_auto_flow": null,
            "grid_auto_rows": null,
            "grid_column": null,
            "grid_gap": null,
            "grid_row": null,
            "grid_template_areas": null,
            "grid_template_columns": null,
            "grid_template_rows": null,
            "height": null,
            "justify_content": null,
            "justify_items": null,
            "left": null,
            "margin": null,
            "max_height": null,
            "max_width": null,
            "min_height": null,
            "min_width": null,
            "object_fit": null,
            "object_position": null,
            "order": null,
            "overflow": null,
            "overflow_x": null,
            "overflow_y": null,
            "padding": null,
            "right": null,
            "top": null,
            "visibility": null,
            "width": null
          }
        },
        "a78eaeae7acb4037b366e6641a586162": {
          "model_module": "@jupyter-widgets/base",
          "model_name": "LayoutModel",
          "state": {
            "_model_module": "@jupyter-widgets/base",
            "_model_module_version": "1.2.0",
            "_model_name": "LayoutModel",
            "_view_count": null,
            "_view_module": "@jupyter-widgets/base",
            "_view_module_version": "1.2.0",
            "_view_name": "LayoutView",
            "align_content": null,
            "align_items": null,
            "align_self": null,
            "border": null,
            "bottom": null,
            "display": null,
            "flex": null,
            "flex_flow": null,
            "grid_area": null,
            "grid_auto_columns": null,
            "grid_auto_flow": null,
            "grid_auto_rows": null,
            "grid_column": null,
            "grid_gap": null,
            "grid_row": null,
            "grid_template_areas": null,
            "grid_template_columns": null,
            "grid_template_rows": null,
            "height": null,
            "justify_content": null,
            "justify_items": null,
            "left": null,
            "margin": null,
            "max_height": null,
            "max_width": null,
            "min_height": null,
            "min_width": null,
            "object_fit": null,
            "object_position": null,
            "order": null,
            "overflow": null,
            "overflow_x": null,
            "overflow_y": null,
            "padding": null,
            "right": null,
            "top": null,
            "visibility": null,
            "width": null
          }
        },
        "3dc3b005ae0b49cb9be24753ec4672e1": {
          "model_module": "@jupyter-widgets/controls",
          "model_name": "ProgressStyleModel",
          "state": {
            "_model_module": "@jupyter-widgets/controls",
            "_model_module_version": "1.5.0",
            "_model_name": "ProgressStyleModel",
            "_view_count": null,
            "_view_module": "@jupyter-widgets/base",
            "_view_module_version": "1.2.0",
            "_view_name": "StyleView",
            "bar_color": null,
            "description_width": "initial"
          }
        },
        "abd1e377eb51468ca3161d6fe6872b85": {
          "model_module": "@jupyter-widgets/base",
          "model_name": "LayoutModel",
          "state": {
            "_model_module": "@jupyter-widgets/base",
            "_model_module_version": "1.2.0",
            "_model_name": "LayoutModel",
            "_view_count": null,
            "_view_module": "@jupyter-widgets/base",
            "_view_module_version": "1.2.0",
            "_view_name": "LayoutView",
            "align_content": null,
            "align_items": null,
            "align_self": null,
            "border": null,
            "bottom": null,
            "display": null,
            "flex": null,
            "flex_flow": null,
            "grid_area": null,
            "grid_auto_columns": null,
            "grid_auto_flow": null,
            "grid_auto_rows": null,
            "grid_column": null,
            "grid_gap": null,
            "grid_row": null,
            "grid_template_areas": null,
            "grid_template_columns": null,
            "grid_template_rows": null,
            "height": null,
            "justify_content": null,
            "justify_items": null,
            "left": null,
            "margin": null,
            "max_height": null,
            "max_width": null,
            "min_height": null,
            "min_width": null,
            "object_fit": null,
            "object_position": null,
            "order": null,
            "overflow": null,
            "overflow_x": null,
            "overflow_y": null,
            "padding": null,
            "right": null,
            "top": null,
            "visibility": null,
            "width": null
          }
        },
        "7bde6a838e0743a9861f08d6e0188b37": {
          "model_module": "@jupyter-widgets/controls",
          "model_name": "DescriptionStyleModel",
          "state": {
            "_model_module": "@jupyter-widgets/controls",
            "_model_module_version": "1.5.0",
            "_model_name": "DescriptionStyleModel",
            "_view_count": null,
            "_view_module": "@jupyter-widgets/base",
            "_view_module_version": "1.2.0",
            "_view_name": "StyleView",
            "description_width": ""
          }
        },
        "6383f7880e49406d81f91ab973810305": {
          "model_module": "@jupyter-widgets/controls",
          "model_name": "HBoxModel",
          "state": {
            "_dom_classes": [],
            "_model_module": "@jupyter-widgets/controls",
            "_model_module_version": "1.5.0",
            "_model_name": "HBoxModel",
            "_view_count": null,
            "_view_module": "@jupyter-widgets/controls",
            "_view_module_version": "1.5.0",
            "_view_name": "HBoxView",
            "box_style": "",
            "children": [
              "IPY_MODEL_1f305b7cf4c0488caf731a489301c056",
              "IPY_MODEL_09625f2bb3fc4842956f27567fec7349"
            ],
            "layout": "IPY_MODEL_d734d8d0fd114b9a96e65d28ec78cf2b"
          }
        },
        "1f305b7cf4c0488caf731a489301c056": {
          "model_module": "@jupyter-widgets/controls",
          "model_name": "FloatProgressModel",
          "state": {
            "_dom_classes": [],
            "_model_module": "@jupyter-widgets/controls",
            "_model_module_version": "1.5.0",
            "_model_name": "FloatProgressModel",
            "_view_count": null,
            "_view_module": "@jupyter-widgets/controls",
            "_view_module_version": "1.5.0",
            "_view_name": "ProgressView",
            "bar_style": "",
            "description": "Epoch:   7%",
            "description_tooltip": null,
            "layout": "IPY_MODEL_c787ed7b83264ba69973a92e937ea101",
            "max": 30,
            "min": 0,
            "orientation": "horizontal",
            "style": "IPY_MODEL_354b7fb64e954a179c45f5c2a95af7ba",
            "value": 2
          }
        },
        "09625f2bb3fc4842956f27567fec7349": {
          "model_module": "@jupyter-widgets/controls",
          "model_name": "HTMLModel",
          "state": {
            "_dom_classes": [],
            "_model_module": "@jupyter-widgets/controls",
            "_model_module_version": "1.5.0",
            "_model_name": "HTMLModel",
            "_view_count": null,
            "_view_module": "@jupyter-widgets/controls",
            "_view_module_version": "1.5.0",
            "_view_name": "HTMLView",
            "description": "",
            "description_tooltip": null,
            "layout": "IPY_MODEL_1fd472ee800a4e72b0d8d476b3ffd4da",
            "placeholder": "​",
            "style": "IPY_MODEL_dc1725c279f247fe98dafba3095af987",
            "value": " 2/30 [11:18&lt;2:38:06, 338.80s/it]"
          }
        },
        "d734d8d0fd114b9a96e65d28ec78cf2b": {
          "model_module": "@jupyter-widgets/base",
          "model_name": "LayoutModel",
          "state": {
            "_model_module": "@jupyter-widgets/base",
            "_model_module_version": "1.2.0",
            "_model_name": "LayoutModel",
            "_view_count": null,
            "_view_module": "@jupyter-widgets/base",
            "_view_module_version": "1.2.0",
            "_view_name": "LayoutView",
            "align_content": null,
            "align_items": null,
            "align_self": null,
            "border": null,
            "bottom": null,
            "display": null,
            "flex": null,
            "flex_flow": null,
            "grid_area": null,
            "grid_auto_columns": null,
            "grid_auto_flow": null,
            "grid_auto_rows": null,
            "grid_column": null,
            "grid_gap": null,
            "grid_row": null,
            "grid_template_areas": null,
            "grid_template_columns": null,
            "grid_template_rows": null,
            "height": null,
            "justify_content": null,
            "justify_items": null,
            "left": null,
            "margin": null,
            "max_height": null,
            "max_width": null,
            "min_height": null,
            "min_width": null,
            "object_fit": null,
            "object_position": null,
            "order": null,
            "overflow": null,
            "overflow_x": null,
            "overflow_y": null,
            "padding": null,
            "right": null,
            "top": null,
            "visibility": null,
            "width": null
          }
        },
        "c787ed7b83264ba69973a92e937ea101": {
          "model_module": "@jupyter-widgets/base",
          "model_name": "LayoutModel",
          "state": {
            "_model_module": "@jupyter-widgets/base",
            "_model_module_version": "1.2.0",
            "_model_name": "LayoutModel",
            "_view_count": null,
            "_view_module": "@jupyter-widgets/base",
            "_view_module_version": "1.2.0",
            "_view_name": "LayoutView",
            "align_content": null,
            "align_items": null,
            "align_self": null,
            "border": null,
            "bottom": null,
            "display": null,
            "flex": null,
            "flex_flow": null,
            "grid_area": null,
            "grid_auto_columns": null,
            "grid_auto_flow": null,
            "grid_auto_rows": null,
            "grid_column": null,
            "grid_gap": null,
            "grid_row": null,
            "grid_template_areas": null,
            "grid_template_columns": null,
            "grid_template_rows": null,
            "height": null,
            "justify_content": null,
            "justify_items": null,
            "left": null,
            "margin": null,
            "max_height": null,
            "max_width": null,
            "min_height": null,
            "min_width": null,
            "object_fit": null,
            "object_position": null,
            "order": null,
            "overflow": null,
            "overflow_x": null,
            "overflow_y": null,
            "padding": null,
            "right": null,
            "top": null,
            "visibility": null,
            "width": null
          }
        },
        "354b7fb64e954a179c45f5c2a95af7ba": {
          "model_module": "@jupyter-widgets/controls",
          "model_name": "ProgressStyleModel",
          "state": {
            "_model_module": "@jupyter-widgets/controls",
            "_model_module_version": "1.5.0",
            "_model_name": "ProgressStyleModel",
            "_view_count": null,
            "_view_module": "@jupyter-widgets/base",
            "_view_module_version": "1.2.0",
            "_view_name": "StyleView",
            "bar_color": null,
            "description_width": "initial"
          }
        },
        "1fd472ee800a4e72b0d8d476b3ffd4da": {
          "model_module": "@jupyter-widgets/base",
          "model_name": "LayoutModel",
          "state": {
            "_model_module": "@jupyter-widgets/base",
            "_model_module_version": "1.2.0",
            "_model_name": "LayoutModel",
            "_view_count": null,
            "_view_module": "@jupyter-widgets/base",
            "_view_module_version": "1.2.0",
            "_view_name": "LayoutView",
            "align_content": null,
            "align_items": null,
            "align_self": null,
            "border": null,
            "bottom": null,
            "display": null,
            "flex": null,
            "flex_flow": null,
            "grid_area": null,
            "grid_auto_columns": null,
            "grid_auto_flow": null,
            "grid_auto_rows": null,
            "grid_column": null,
            "grid_gap": null,
            "grid_row": null,
            "grid_template_areas": null,
            "grid_template_columns": null,
            "grid_template_rows": null,
            "height": null,
            "justify_content": null,
            "justify_items": null,
            "left": null,
            "margin": null,
            "max_height": null,
            "max_width": null,
            "min_height": null,
            "min_width": null,
            "object_fit": null,
            "object_position": null,
            "order": null,
            "overflow": null,
            "overflow_x": null,
            "overflow_y": null,
            "padding": null,
            "right": null,
            "top": null,
            "visibility": null,
            "width": null
          }
        },
        "dc1725c279f247fe98dafba3095af987": {
          "model_module": "@jupyter-widgets/controls",
          "model_name": "DescriptionStyleModel",
          "state": {
            "_model_module": "@jupyter-widgets/controls",
            "_model_module_version": "1.5.0",
            "_model_name": "DescriptionStyleModel",
            "_view_count": null,
            "_view_module": "@jupyter-widgets/base",
            "_view_module_version": "1.2.0",
            "_view_name": "StyleView",
            "description_width": ""
          }
        },
        "f624a2a0a2d243b999f332895c0281dc": {
          "model_module": "@jupyter-widgets/controls",
          "model_name": "HBoxModel",
          "state": {
            "_dom_classes": [],
            "_model_module": "@jupyter-widgets/controls",
            "_model_module_version": "1.5.0",
            "_model_name": "HBoxModel",
            "_view_count": null,
            "_view_module": "@jupyter-widgets/controls",
            "_view_module_version": "1.5.0",
            "_view_name": "HBoxView",
            "box_style": "",
            "children": [
              "IPY_MODEL_c188d341d76d43e8bf3f14c898bfe50a",
              "IPY_MODEL_cc9e31256342453baecfd4d87b788622"
            ],
            "layout": "IPY_MODEL_8c4c0c876623433b9c7317f53601e006"
          }
        },
        "c188d341d76d43e8bf3f14c898bfe50a": {
          "model_module": "@jupyter-widgets/controls",
          "model_name": "FloatProgressModel",
          "state": {
            "_dom_classes": [],
            "_model_module": "@jupyter-widgets/controls",
            "_model_module_version": "1.5.0",
            "_model_name": "FloatProgressModel",
            "_view_count": null,
            "_view_module": "@jupyter-widgets/controls",
            "_view_module_version": "1.5.0",
            "_view_name": "ProgressView",
            "bar_style": "success",
            "description": "Train step: 100%",
            "description_tooltip": null,
            "layout": "IPY_MODEL_4e814302d66b48628b8745db9478c314",
            "max": 391,
            "min": 0,
            "orientation": "horizontal",
            "style": "IPY_MODEL_d15d2490b4fb44be8c9e2000fcdfd171",
            "value": 391
          }
        },
        "cc9e31256342453baecfd4d87b788622": {
          "model_module": "@jupyter-widgets/controls",
          "model_name": "HTMLModel",
          "state": {
            "_dom_classes": [],
            "_model_module": "@jupyter-widgets/controls",
            "_model_module_version": "1.5.0",
            "_model_name": "HTMLModel",
            "_view_count": null,
            "_view_module": "@jupyter-widgets/controls",
            "_view_module_version": "1.5.0",
            "_view_name": "HTMLView",
            "description": "",
            "description_tooltip": null,
            "layout": "IPY_MODEL_d23a00012ac84a118b1d5f10cf10aeb4",
            "placeholder": "​",
            "style": "IPY_MODEL_977cefa0b6134aff8e23e3fde763cc30",
            "value": " 391/391 [05:14&lt;00:00,  1.24it/s, loss=1.93]"
          }
        },
        "8c4c0c876623433b9c7317f53601e006": {
          "model_module": "@jupyter-widgets/base",
          "model_name": "LayoutModel",
          "state": {
            "_model_module": "@jupyter-widgets/base",
            "_model_module_version": "1.2.0",
            "_model_name": "LayoutModel",
            "_view_count": null,
            "_view_module": "@jupyter-widgets/base",
            "_view_module_version": "1.2.0",
            "_view_name": "LayoutView",
            "align_content": null,
            "align_items": null,
            "align_self": null,
            "border": null,
            "bottom": null,
            "display": null,
            "flex": null,
            "flex_flow": null,
            "grid_area": null,
            "grid_auto_columns": null,
            "grid_auto_flow": null,
            "grid_auto_rows": null,
            "grid_column": null,
            "grid_gap": null,
            "grid_row": null,
            "grid_template_areas": null,
            "grid_template_columns": null,
            "grid_template_rows": null,
            "height": null,
            "justify_content": null,
            "justify_items": null,
            "left": null,
            "margin": null,
            "max_height": null,
            "max_width": null,
            "min_height": null,
            "min_width": null,
            "object_fit": null,
            "object_position": null,
            "order": null,
            "overflow": null,
            "overflow_x": null,
            "overflow_y": null,
            "padding": null,
            "right": null,
            "top": null,
            "visibility": null,
            "width": null
          }
        },
        "4e814302d66b48628b8745db9478c314": {
          "model_module": "@jupyter-widgets/base",
          "model_name": "LayoutModel",
          "state": {
            "_model_module": "@jupyter-widgets/base",
            "_model_module_version": "1.2.0",
            "_model_name": "LayoutModel",
            "_view_count": null,
            "_view_module": "@jupyter-widgets/base",
            "_view_module_version": "1.2.0",
            "_view_name": "LayoutView",
            "align_content": null,
            "align_items": null,
            "align_self": null,
            "border": null,
            "bottom": null,
            "display": null,
            "flex": null,
            "flex_flow": null,
            "grid_area": null,
            "grid_auto_columns": null,
            "grid_auto_flow": null,
            "grid_auto_rows": null,
            "grid_column": null,
            "grid_gap": null,
            "grid_row": null,
            "grid_template_areas": null,
            "grid_template_columns": null,
            "grid_template_rows": null,
            "height": null,
            "justify_content": null,
            "justify_items": null,
            "left": null,
            "margin": null,
            "max_height": null,
            "max_width": null,
            "min_height": null,
            "min_width": null,
            "object_fit": null,
            "object_position": null,
            "order": null,
            "overflow": null,
            "overflow_x": null,
            "overflow_y": null,
            "padding": null,
            "right": null,
            "top": null,
            "visibility": null,
            "width": null
          }
        },
        "d15d2490b4fb44be8c9e2000fcdfd171": {
          "model_module": "@jupyter-widgets/controls",
          "model_name": "ProgressStyleModel",
          "state": {
            "_model_module": "@jupyter-widgets/controls",
            "_model_module_version": "1.5.0",
            "_model_name": "ProgressStyleModel",
            "_view_count": null,
            "_view_module": "@jupyter-widgets/base",
            "_view_module_version": "1.2.0",
            "_view_name": "StyleView",
            "bar_color": null,
            "description_width": "initial"
          }
        },
        "d23a00012ac84a118b1d5f10cf10aeb4": {
          "model_module": "@jupyter-widgets/base",
          "model_name": "LayoutModel",
          "state": {
            "_model_module": "@jupyter-widgets/base",
            "_model_module_version": "1.2.0",
            "_model_name": "LayoutModel",
            "_view_count": null,
            "_view_module": "@jupyter-widgets/base",
            "_view_module_version": "1.2.0",
            "_view_name": "LayoutView",
            "align_content": null,
            "align_items": null,
            "align_self": null,
            "border": null,
            "bottom": null,
            "display": null,
            "flex": null,
            "flex_flow": null,
            "grid_area": null,
            "grid_auto_columns": null,
            "grid_auto_flow": null,
            "grid_auto_rows": null,
            "grid_column": null,
            "grid_gap": null,
            "grid_row": null,
            "grid_template_areas": null,
            "grid_template_columns": null,
            "grid_template_rows": null,
            "height": null,
            "justify_content": null,
            "justify_items": null,
            "left": null,
            "margin": null,
            "max_height": null,
            "max_width": null,
            "min_height": null,
            "min_width": null,
            "object_fit": null,
            "object_position": null,
            "order": null,
            "overflow": null,
            "overflow_x": null,
            "overflow_y": null,
            "padding": null,
            "right": null,
            "top": null,
            "visibility": null,
            "width": null
          }
        },
        "977cefa0b6134aff8e23e3fde763cc30": {
          "model_module": "@jupyter-widgets/controls",
          "model_name": "DescriptionStyleModel",
          "state": {
            "_model_module": "@jupyter-widgets/controls",
            "_model_module_version": "1.5.0",
            "_model_name": "DescriptionStyleModel",
            "_view_count": null,
            "_view_module": "@jupyter-widgets/base",
            "_view_module_version": "1.2.0",
            "_view_name": "StyleView",
            "description_width": ""
          }
        },
        "bdeb28005a2f49f4bf1a28a70d371f20": {
          "model_module": "@jupyter-widgets/controls",
          "model_name": "HBoxModel",
          "state": {
            "_dom_classes": [],
            "_model_module": "@jupyter-widgets/controls",
            "_model_module_version": "1.5.0",
            "_model_name": "HBoxModel",
            "_view_count": null,
            "_view_module": "@jupyter-widgets/controls",
            "_view_module_version": "1.5.0",
            "_view_name": "HBoxView",
            "box_style": "",
            "children": [
              "IPY_MODEL_96db352d2d5c4f7eb1d7212d03f327ab",
              "IPY_MODEL_af81ce5e4b344aca88b0a681a5a5c1e8"
            ],
            "layout": "IPY_MODEL_d853162ba5724a5f93fd696dd4690805"
          }
        },
        "96db352d2d5c4f7eb1d7212d03f327ab": {
          "model_module": "@jupyter-widgets/controls",
          "model_name": "FloatProgressModel",
          "state": {
            "_dom_classes": [],
            "_model_module": "@jupyter-widgets/controls",
            "_model_module_version": "1.5.0",
            "_model_name": "FloatProgressModel",
            "_view_count": null,
            "_view_module": "@jupyter-widgets/controls",
            "_view_module_version": "1.5.0",
            "_view_name": "ProgressView",
            "bar_style": "success",
            "description": "Val step: 100%",
            "description_tooltip": null,
            "layout": "IPY_MODEL_59aedef730174330a5f3f9fe0df10de7",
            "max": 79,
            "min": 0,
            "orientation": "horizontal",
            "style": "IPY_MODEL_498081fe940e47bdab124e7b1e0407e5",
            "value": 79
          }
        },
        "af81ce5e4b344aca88b0a681a5a5c1e8": {
          "model_module": "@jupyter-widgets/controls",
          "model_name": "HTMLModel",
          "state": {
            "_dom_classes": [],
            "_model_module": "@jupyter-widgets/controls",
            "_model_module_version": "1.5.0",
            "_model_name": "HTMLModel",
            "_view_count": null,
            "_view_module": "@jupyter-widgets/controls",
            "_view_module_version": "1.5.0",
            "_view_name": "HTMLView",
            "description": "",
            "description_tooltip": null,
            "layout": "IPY_MODEL_d714d03b3f46497eb9a23c8a835bc290",
            "placeholder": "​",
            "style": "IPY_MODEL_8b091452fb1a4fa4a2657f9c7dc3477a",
            "value": " 79/79 [00:22&lt;00:00,  3.47it/s, loss=1.44]"
          }
        },
        "d853162ba5724a5f93fd696dd4690805": {
          "model_module": "@jupyter-widgets/base",
          "model_name": "LayoutModel",
          "state": {
            "_model_module": "@jupyter-widgets/base",
            "_model_module_version": "1.2.0",
            "_model_name": "LayoutModel",
            "_view_count": null,
            "_view_module": "@jupyter-widgets/base",
            "_view_module_version": "1.2.0",
            "_view_name": "LayoutView",
            "align_content": null,
            "align_items": null,
            "align_self": null,
            "border": null,
            "bottom": null,
            "display": null,
            "flex": null,
            "flex_flow": null,
            "grid_area": null,
            "grid_auto_columns": null,
            "grid_auto_flow": null,
            "grid_auto_rows": null,
            "grid_column": null,
            "grid_gap": null,
            "grid_row": null,
            "grid_template_areas": null,
            "grid_template_columns": null,
            "grid_template_rows": null,
            "height": null,
            "justify_content": null,
            "justify_items": null,
            "left": null,
            "margin": null,
            "max_height": null,
            "max_width": null,
            "min_height": null,
            "min_width": null,
            "object_fit": null,
            "object_position": null,
            "order": null,
            "overflow": null,
            "overflow_x": null,
            "overflow_y": null,
            "padding": null,
            "right": null,
            "top": null,
            "visibility": null,
            "width": null
          }
        },
        "59aedef730174330a5f3f9fe0df10de7": {
          "model_module": "@jupyter-widgets/base",
          "model_name": "LayoutModel",
          "state": {
            "_model_module": "@jupyter-widgets/base",
            "_model_module_version": "1.2.0",
            "_model_name": "LayoutModel",
            "_view_count": null,
            "_view_module": "@jupyter-widgets/base",
            "_view_module_version": "1.2.0",
            "_view_name": "LayoutView",
            "align_content": null,
            "align_items": null,
            "align_self": null,
            "border": null,
            "bottom": null,
            "display": null,
            "flex": null,
            "flex_flow": null,
            "grid_area": null,
            "grid_auto_columns": null,
            "grid_auto_flow": null,
            "grid_auto_rows": null,
            "grid_column": null,
            "grid_gap": null,
            "grid_row": null,
            "grid_template_areas": null,
            "grid_template_columns": null,
            "grid_template_rows": null,
            "height": null,
            "justify_content": null,
            "justify_items": null,
            "left": null,
            "margin": null,
            "max_height": null,
            "max_width": null,
            "min_height": null,
            "min_width": null,
            "object_fit": null,
            "object_position": null,
            "order": null,
            "overflow": null,
            "overflow_x": null,
            "overflow_y": null,
            "padding": null,
            "right": null,
            "top": null,
            "visibility": null,
            "width": null
          }
        },
        "498081fe940e47bdab124e7b1e0407e5": {
          "model_module": "@jupyter-widgets/controls",
          "model_name": "ProgressStyleModel",
          "state": {
            "_model_module": "@jupyter-widgets/controls",
            "_model_module_version": "1.5.0",
            "_model_name": "ProgressStyleModel",
            "_view_count": null,
            "_view_module": "@jupyter-widgets/base",
            "_view_module_version": "1.2.0",
            "_view_name": "StyleView",
            "bar_color": null,
            "description_width": "initial"
          }
        },
        "d714d03b3f46497eb9a23c8a835bc290": {
          "model_module": "@jupyter-widgets/base",
          "model_name": "LayoutModel",
          "state": {
            "_model_module": "@jupyter-widgets/base",
            "_model_module_version": "1.2.0",
            "_model_name": "LayoutModel",
            "_view_count": null,
            "_view_module": "@jupyter-widgets/base",
            "_view_module_version": "1.2.0",
            "_view_name": "LayoutView",
            "align_content": null,
            "align_items": null,
            "align_self": null,
            "border": null,
            "bottom": null,
            "display": null,
            "flex": null,
            "flex_flow": null,
            "grid_area": null,
            "grid_auto_columns": null,
            "grid_auto_flow": null,
            "grid_auto_rows": null,
            "grid_column": null,
            "grid_gap": null,
            "grid_row": null,
            "grid_template_areas": null,
            "grid_template_columns": null,
            "grid_template_rows": null,
            "height": null,
            "justify_content": null,
            "justify_items": null,
            "left": null,
            "margin": null,
            "max_height": null,
            "max_width": null,
            "min_height": null,
            "min_width": null,
            "object_fit": null,
            "object_position": null,
            "order": null,
            "overflow": null,
            "overflow_x": null,
            "overflow_y": null,
            "padding": null,
            "right": null,
            "top": null,
            "visibility": null,
            "width": null
          }
        },
        "8b091452fb1a4fa4a2657f9c7dc3477a": {
          "model_module": "@jupyter-widgets/controls",
          "model_name": "DescriptionStyleModel",
          "state": {
            "_model_module": "@jupyter-widgets/controls",
            "_model_module_version": "1.5.0",
            "_model_name": "DescriptionStyleModel",
            "_view_count": null,
            "_view_module": "@jupyter-widgets/base",
            "_view_module_version": "1.2.0",
            "_view_name": "StyleView",
            "description_width": ""
          }
        },
        "b72e086fd94141a58d9f0589001d58bd": {
          "model_module": "@jupyter-widgets/controls",
          "model_name": "HBoxModel",
          "state": {
            "_dom_classes": [],
            "_model_module": "@jupyter-widgets/controls",
            "_model_module_version": "1.5.0",
            "_model_name": "HBoxModel",
            "_view_count": null,
            "_view_module": "@jupyter-widgets/controls",
            "_view_module_version": "1.5.0",
            "_view_name": "HBoxView",
            "box_style": "",
            "children": [
              "IPY_MODEL_f1ade7b0863a47b292aabe17564261e9",
              "IPY_MODEL_2e169819ab034d32a3d3afe18f712ac6"
            ],
            "layout": "IPY_MODEL_29713ccccf484407a1fcf162e3b4c343"
          }
        },
        "f1ade7b0863a47b292aabe17564261e9": {
          "model_module": "@jupyter-widgets/controls",
          "model_name": "FloatProgressModel",
          "state": {
            "_dom_classes": [],
            "_model_module": "@jupyter-widgets/controls",
            "_model_module_version": "1.5.0",
            "_model_name": "FloatProgressModel",
            "_view_count": null,
            "_view_module": "@jupyter-widgets/controls",
            "_view_module_version": "1.5.0",
            "_view_name": "ProgressView",
            "bar_style": "success",
            "description": "Train step: 100%",
            "description_tooltip": null,
            "layout": "IPY_MODEL_71560fe79f2143d6bec49f29b89f75d2",
            "max": 391,
            "min": 0,
            "orientation": "horizontal",
            "style": "IPY_MODEL_4c0b0b8588ba4e4c889bbe3c76a29471",
            "value": 391
          }
        },
        "2e169819ab034d32a3d3afe18f712ac6": {
          "model_module": "@jupyter-widgets/controls",
          "model_name": "HTMLModel",
          "state": {
            "_dom_classes": [],
            "_model_module": "@jupyter-widgets/controls",
            "_model_module_version": "1.5.0",
            "_model_name": "HTMLModel",
            "_view_count": null,
            "_view_module": "@jupyter-widgets/controls",
            "_view_module_version": "1.5.0",
            "_view_name": "HTMLView",
            "description": "",
            "description_tooltip": null,
            "layout": "IPY_MODEL_29480184f6d0485d9c84804ae1e60c9b",
            "placeholder": "​",
            "style": "IPY_MODEL_4e9c43be5fe24ca28a99986cae83c8fa",
            "value": " 391/391 [05:16&lt;00:00,  1.24it/s, loss=1.61]"
          }
        },
        "29713ccccf484407a1fcf162e3b4c343": {
          "model_module": "@jupyter-widgets/base",
          "model_name": "LayoutModel",
          "state": {
            "_model_module": "@jupyter-widgets/base",
            "_model_module_version": "1.2.0",
            "_model_name": "LayoutModel",
            "_view_count": null,
            "_view_module": "@jupyter-widgets/base",
            "_view_module_version": "1.2.0",
            "_view_name": "LayoutView",
            "align_content": null,
            "align_items": null,
            "align_self": null,
            "border": null,
            "bottom": null,
            "display": null,
            "flex": null,
            "flex_flow": null,
            "grid_area": null,
            "grid_auto_columns": null,
            "grid_auto_flow": null,
            "grid_auto_rows": null,
            "grid_column": null,
            "grid_gap": null,
            "grid_row": null,
            "grid_template_areas": null,
            "grid_template_columns": null,
            "grid_template_rows": null,
            "height": null,
            "justify_content": null,
            "justify_items": null,
            "left": null,
            "margin": null,
            "max_height": null,
            "max_width": null,
            "min_height": null,
            "min_width": null,
            "object_fit": null,
            "object_position": null,
            "order": null,
            "overflow": null,
            "overflow_x": null,
            "overflow_y": null,
            "padding": null,
            "right": null,
            "top": null,
            "visibility": null,
            "width": null
          }
        },
        "71560fe79f2143d6bec49f29b89f75d2": {
          "model_module": "@jupyter-widgets/base",
          "model_name": "LayoutModel",
          "state": {
            "_model_module": "@jupyter-widgets/base",
            "_model_module_version": "1.2.0",
            "_model_name": "LayoutModel",
            "_view_count": null,
            "_view_module": "@jupyter-widgets/base",
            "_view_module_version": "1.2.0",
            "_view_name": "LayoutView",
            "align_content": null,
            "align_items": null,
            "align_self": null,
            "border": null,
            "bottom": null,
            "display": null,
            "flex": null,
            "flex_flow": null,
            "grid_area": null,
            "grid_auto_columns": null,
            "grid_auto_flow": null,
            "grid_auto_rows": null,
            "grid_column": null,
            "grid_gap": null,
            "grid_row": null,
            "grid_template_areas": null,
            "grid_template_columns": null,
            "grid_template_rows": null,
            "height": null,
            "justify_content": null,
            "justify_items": null,
            "left": null,
            "margin": null,
            "max_height": null,
            "max_width": null,
            "min_height": null,
            "min_width": null,
            "object_fit": null,
            "object_position": null,
            "order": null,
            "overflow": null,
            "overflow_x": null,
            "overflow_y": null,
            "padding": null,
            "right": null,
            "top": null,
            "visibility": null,
            "width": null
          }
        },
        "4c0b0b8588ba4e4c889bbe3c76a29471": {
          "model_module": "@jupyter-widgets/controls",
          "model_name": "ProgressStyleModel",
          "state": {
            "_model_module": "@jupyter-widgets/controls",
            "_model_module_version": "1.5.0",
            "_model_name": "ProgressStyleModel",
            "_view_count": null,
            "_view_module": "@jupyter-widgets/base",
            "_view_module_version": "1.2.0",
            "_view_name": "StyleView",
            "bar_color": null,
            "description_width": "initial"
          }
        },
        "29480184f6d0485d9c84804ae1e60c9b": {
          "model_module": "@jupyter-widgets/base",
          "model_name": "LayoutModel",
          "state": {
            "_model_module": "@jupyter-widgets/base",
            "_model_module_version": "1.2.0",
            "_model_name": "LayoutModel",
            "_view_count": null,
            "_view_module": "@jupyter-widgets/base",
            "_view_module_version": "1.2.0",
            "_view_name": "LayoutView",
            "align_content": null,
            "align_items": null,
            "align_self": null,
            "border": null,
            "bottom": null,
            "display": null,
            "flex": null,
            "flex_flow": null,
            "grid_area": null,
            "grid_auto_columns": null,
            "grid_auto_flow": null,
            "grid_auto_rows": null,
            "grid_column": null,
            "grid_gap": null,
            "grid_row": null,
            "grid_template_areas": null,
            "grid_template_columns": null,
            "grid_template_rows": null,
            "height": null,
            "justify_content": null,
            "justify_items": null,
            "left": null,
            "margin": null,
            "max_height": null,
            "max_width": null,
            "min_height": null,
            "min_width": null,
            "object_fit": null,
            "object_position": null,
            "order": null,
            "overflow": null,
            "overflow_x": null,
            "overflow_y": null,
            "padding": null,
            "right": null,
            "top": null,
            "visibility": null,
            "width": null
          }
        },
        "4e9c43be5fe24ca28a99986cae83c8fa": {
          "model_module": "@jupyter-widgets/controls",
          "model_name": "DescriptionStyleModel",
          "state": {
            "_model_module": "@jupyter-widgets/controls",
            "_model_module_version": "1.5.0",
            "_model_name": "DescriptionStyleModel",
            "_view_count": null,
            "_view_module": "@jupyter-widgets/base",
            "_view_module_version": "1.2.0",
            "_view_name": "StyleView",
            "description_width": ""
          }
        },
        "0140b6d2c5e8454f92e474cae1bad669": {
          "model_module": "@jupyter-widgets/controls",
          "model_name": "HBoxModel",
          "state": {
            "_dom_classes": [],
            "_model_module": "@jupyter-widgets/controls",
            "_model_module_version": "1.5.0",
            "_model_name": "HBoxModel",
            "_view_count": null,
            "_view_module": "@jupyter-widgets/controls",
            "_view_module_version": "1.5.0",
            "_view_name": "HBoxView",
            "box_style": "",
            "children": [
              "IPY_MODEL_def7be4ca2064961bbda04b1fd186a3c",
              "IPY_MODEL_50d381a1bc7d4715bb6e92a8cd5e3516"
            ],
            "layout": "IPY_MODEL_4bf1cb4736924dfead6209a630c91775"
          }
        },
        "def7be4ca2064961bbda04b1fd186a3c": {
          "model_module": "@jupyter-widgets/controls",
          "model_name": "FloatProgressModel",
          "state": {
            "_dom_classes": [],
            "_model_module": "@jupyter-widgets/controls",
            "_model_module_version": "1.5.0",
            "_model_name": "FloatProgressModel",
            "_view_count": null,
            "_view_module": "@jupyter-widgets/controls",
            "_view_module_version": "1.5.0",
            "_view_name": "ProgressView",
            "bar_style": "success",
            "description": "Val step: 100%",
            "description_tooltip": null,
            "layout": "IPY_MODEL_a7069bb28402479bb102c8a83f879c38",
            "max": 79,
            "min": 0,
            "orientation": "horizontal",
            "style": "IPY_MODEL_e96c5303779d4f0796e62ba4d6b2b26e",
            "value": 79
          }
        },
        "50d381a1bc7d4715bb6e92a8cd5e3516": {
          "model_module": "@jupyter-widgets/controls",
          "model_name": "HTMLModel",
          "state": {
            "_dom_classes": [],
            "_model_module": "@jupyter-widgets/controls",
            "_model_module_version": "1.5.0",
            "_model_name": "HTMLModel",
            "_view_count": null,
            "_view_module": "@jupyter-widgets/controls",
            "_view_module_version": "1.5.0",
            "_view_name": "HTMLView",
            "description": "",
            "description_tooltip": null,
            "layout": "IPY_MODEL_a3d6152dd0784b03913a959d08c27d36",
            "placeholder": "​",
            "style": "IPY_MODEL_4284a135bf6346b6b4d72122f0992510",
            "value": " 79/79 [00:24&lt;00:00,  3.28it/s, loss=1.19]"
          }
        },
        "4bf1cb4736924dfead6209a630c91775": {
          "model_module": "@jupyter-widgets/base",
          "model_name": "LayoutModel",
          "state": {
            "_model_module": "@jupyter-widgets/base",
            "_model_module_version": "1.2.0",
            "_model_name": "LayoutModel",
            "_view_count": null,
            "_view_module": "@jupyter-widgets/base",
            "_view_module_version": "1.2.0",
            "_view_name": "LayoutView",
            "align_content": null,
            "align_items": null,
            "align_self": null,
            "border": null,
            "bottom": null,
            "display": null,
            "flex": null,
            "flex_flow": null,
            "grid_area": null,
            "grid_auto_columns": null,
            "grid_auto_flow": null,
            "grid_auto_rows": null,
            "grid_column": null,
            "grid_gap": null,
            "grid_row": null,
            "grid_template_areas": null,
            "grid_template_columns": null,
            "grid_template_rows": null,
            "height": null,
            "justify_content": null,
            "justify_items": null,
            "left": null,
            "margin": null,
            "max_height": null,
            "max_width": null,
            "min_height": null,
            "min_width": null,
            "object_fit": null,
            "object_position": null,
            "order": null,
            "overflow": null,
            "overflow_x": null,
            "overflow_y": null,
            "padding": null,
            "right": null,
            "top": null,
            "visibility": null,
            "width": null
          }
        },
        "a7069bb28402479bb102c8a83f879c38": {
          "model_module": "@jupyter-widgets/base",
          "model_name": "LayoutModel",
          "state": {
            "_model_module": "@jupyter-widgets/base",
            "_model_module_version": "1.2.0",
            "_model_name": "LayoutModel",
            "_view_count": null,
            "_view_module": "@jupyter-widgets/base",
            "_view_module_version": "1.2.0",
            "_view_name": "LayoutView",
            "align_content": null,
            "align_items": null,
            "align_self": null,
            "border": null,
            "bottom": null,
            "display": null,
            "flex": null,
            "flex_flow": null,
            "grid_area": null,
            "grid_auto_columns": null,
            "grid_auto_flow": null,
            "grid_auto_rows": null,
            "grid_column": null,
            "grid_gap": null,
            "grid_row": null,
            "grid_template_areas": null,
            "grid_template_columns": null,
            "grid_template_rows": null,
            "height": null,
            "justify_content": null,
            "justify_items": null,
            "left": null,
            "margin": null,
            "max_height": null,
            "max_width": null,
            "min_height": null,
            "min_width": null,
            "object_fit": null,
            "object_position": null,
            "order": null,
            "overflow": null,
            "overflow_x": null,
            "overflow_y": null,
            "padding": null,
            "right": null,
            "top": null,
            "visibility": null,
            "width": null
          }
        },
        "e96c5303779d4f0796e62ba4d6b2b26e": {
          "model_module": "@jupyter-widgets/controls",
          "model_name": "ProgressStyleModel",
          "state": {
            "_model_module": "@jupyter-widgets/controls",
            "_model_module_version": "1.5.0",
            "_model_name": "ProgressStyleModel",
            "_view_count": null,
            "_view_module": "@jupyter-widgets/base",
            "_view_module_version": "1.2.0",
            "_view_name": "StyleView",
            "bar_color": null,
            "description_width": "initial"
          }
        },
        "a3d6152dd0784b03913a959d08c27d36": {
          "model_module": "@jupyter-widgets/base",
          "model_name": "LayoutModel",
          "state": {
            "_model_module": "@jupyter-widgets/base",
            "_model_module_version": "1.2.0",
            "_model_name": "LayoutModel",
            "_view_count": null,
            "_view_module": "@jupyter-widgets/base",
            "_view_module_version": "1.2.0",
            "_view_name": "LayoutView",
            "align_content": null,
            "align_items": null,
            "align_self": null,
            "border": null,
            "bottom": null,
            "display": null,
            "flex": null,
            "flex_flow": null,
            "grid_area": null,
            "grid_auto_columns": null,
            "grid_auto_flow": null,
            "grid_auto_rows": null,
            "grid_column": null,
            "grid_gap": null,
            "grid_row": null,
            "grid_template_areas": null,
            "grid_template_columns": null,
            "grid_template_rows": null,
            "height": null,
            "justify_content": null,
            "justify_items": null,
            "left": null,
            "margin": null,
            "max_height": null,
            "max_width": null,
            "min_height": null,
            "min_width": null,
            "object_fit": null,
            "object_position": null,
            "order": null,
            "overflow": null,
            "overflow_x": null,
            "overflow_y": null,
            "padding": null,
            "right": null,
            "top": null,
            "visibility": null,
            "width": null
          }
        },
        "4284a135bf6346b6b4d72122f0992510": {
          "model_module": "@jupyter-widgets/controls",
          "model_name": "DescriptionStyleModel",
          "state": {
            "_model_module": "@jupyter-widgets/controls",
            "_model_module_version": "1.5.0",
            "_model_name": "DescriptionStyleModel",
            "_view_count": null,
            "_view_module": "@jupyter-widgets/base",
            "_view_module_version": "1.2.0",
            "_view_name": "StyleView",
            "description_width": ""
          }
        },
        "d286a0e06b734c4d91c1a9875548ac96": {
          "model_module": "@jupyter-widgets/controls",
          "model_name": "HBoxModel",
          "state": {
            "_dom_classes": [],
            "_model_module": "@jupyter-widgets/controls",
            "_model_module_version": "1.5.0",
            "_model_name": "HBoxModel",
            "_view_count": null,
            "_view_module": "@jupyter-widgets/controls",
            "_view_module_version": "1.5.0",
            "_view_name": "HBoxView",
            "box_style": "",
            "children": [
              "IPY_MODEL_bf18dca2eee2436aa52758948accb71d",
              "IPY_MODEL_711f2a1c6b1946f085011e480ff9afb2"
            ],
            "layout": "IPY_MODEL_989e656559ef4d01afe2bcdc924e16bd"
          }
        },
        "bf18dca2eee2436aa52758948accb71d": {
          "model_module": "@jupyter-widgets/controls",
          "model_name": "FloatProgressModel",
          "state": {
            "_dom_classes": [],
            "_model_module": "@jupyter-widgets/controls",
            "_model_module_version": "1.5.0",
            "_model_name": "FloatProgressModel",
            "_view_count": null,
            "_view_module": "@jupyter-widgets/controls",
            "_view_module_version": "1.5.0",
            "_view_name": "ProgressView",
            "bar_style": "",
            "description": "Train step:  43%",
            "description_tooltip": null,
            "layout": "IPY_MODEL_8138999e6b8444bb8d6d37c234097f63",
            "max": 391,
            "min": 0,
            "orientation": "horizontal",
            "style": "IPY_MODEL_172cefdb4e4044e0b9eef420583f039f",
            "value": 170
          }
        },
        "711f2a1c6b1946f085011e480ff9afb2": {
          "model_module": "@jupyter-widgets/controls",
          "model_name": "HTMLModel",
          "state": {
            "_dom_classes": [],
            "_model_module": "@jupyter-widgets/controls",
            "_model_module_version": "1.5.0",
            "_model_name": "HTMLModel",
            "_view_count": null,
            "_view_module": "@jupyter-widgets/controls",
            "_view_module_version": "1.5.0",
            "_view_name": "HTMLView",
            "description": "",
            "description_tooltip": null,
            "layout": "IPY_MODEL_023cb23911ef44e9804fd5d2c502ca67",
            "placeholder": "​",
            "style": "IPY_MODEL_8c4733900e4047879da5f170da27de38",
            "value": " 170/391 [02:19&lt;02:59,  1.23it/s, loss=1.26]"
          }
        },
        "989e656559ef4d01afe2bcdc924e16bd": {
          "model_module": "@jupyter-widgets/base",
          "model_name": "LayoutModel",
          "state": {
            "_model_module": "@jupyter-widgets/base",
            "_model_module_version": "1.2.0",
            "_model_name": "LayoutModel",
            "_view_count": null,
            "_view_module": "@jupyter-widgets/base",
            "_view_module_version": "1.2.0",
            "_view_name": "LayoutView",
            "align_content": null,
            "align_items": null,
            "align_self": null,
            "border": null,
            "bottom": null,
            "display": null,
            "flex": null,
            "flex_flow": null,
            "grid_area": null,
            "grid_auto_columns": null,
            "grid_auto_flow": null,
            "grid_auto_rows": null,
            "grid_column": null,
            "grid_gap": null,
            "grid_row": null,
            "grid_template_areas": null,
            "grid_template_columns": null,
            "grid_template_rows": null,
            "height": null,
            "justify_content": null,
            "justify_items": null,
            "left": null,
            "margin": null,
            "max_height": null,
            "max_width": null,
            "min_height": null,
            "min_width": null,
            "object_fit": null,
            "object_position": null,
            "order": null,
            "overflow": null,
            "overflow_x": null,
            "overflow_y": null,
            "padding": null,
            "right": null,
            "top": null,
            "visibility": null,
            "width": null
          }
        },
        "8138999e6b8444bb8d6d37c234097f63": {
          "model_module": "@jupyter-widgets/base",
          "model_name": "LayoutModel",
          "state": {
            "_model_module": "@jupyter-widgets/base",
            "_model_module_version": "1.2.0",
            "_model_name": "LayoutModel",
            "_view_count": null,
            "_view_module": "@jupyter-widgets/base",
            "_view_module_version": "1.2.0",
            "_view_name": "LayoutView",
            "align_content": null,
            "align_items": null,
            "align_self": null,
            "border": null,
            "bottom": null,
            "display": null,
            "flex": null,
            "flex_flow": null,
            "grid_area": null,
            "grid_auto_columns": null,
            "grid_auto_flow": null,
            "grid_auto_rows": null,
            "grid_column": null,
            "grid_gap": null,
            "grid_row": null,
            "grid_template_areas": null,
            "grid_template_columns": null,
            "grid_template_rows": null,
            "height": null,
            "justify_content": null,
            "justify_items": null,
            "left": null,
            "margin": null,
            "max_height": null,
            "max_width": null,
            "min_height": null,
            "min_width": null,
            "object_fit": null,
            "object_position": null,
            "order": null,
            "overflow": null,
            "overflow_x": null,
            "overflow_y": null,
            "padding": null,
            "right": null,
            "top": null,
            "visibility": null,
            "width": null
          }
        },
        "172cefdb4e4044e0b9eef420583f039f": {
          "model_module": "@jupyter-widgets/controls",
          "model_name": "ProgressStyleModel",
          "state": {
            "_model_module": "@jupyter-widgets/controls",
            "_model_module_version": "1.5.0",
            "_model_name": "ProgressStyleModel",
            "_view_count": null,
            "_view_module": "@jupyter-widgets/base",
            "_view_module_version": "1.2.0",
            "_view_name": "StyleView",
            "bar_color": null,
            "description_width": "initial"
          }
        },
        "023cb23911ef44e9804fd5d2c502ca67": {
          "model_module": "@jupyter-widgets/base",
          "model_name": "LayoutModel",
          "state": {
            "_model_module": "@jupyter-widgets/base",
            "_model_module_version": "1.2.0",
            "_model_name": "LayoutModel",
            "_view_count": null,
            "_view_module": "@jupyter-widgets/base",
            "_view_module_version": "1.2.0",
            "_view_name": "LayoutView",
            "align_content": null,
            "align_items": null,
            "align_self": null,
            "border": null,
            "bottom": null,
            "display": null,
            "flex": null,
            "flex_flow": null,
            "grid_area": null,
            "grid_auto_columns": null,
            "grid_auto_flow": null,
            "grid_auto_rows": null,
            "grid_column": null,
            "grid_gap": null,
            "grid_row": null,
            "grid_template_areas": null,
            "grid_template_columns": null,
            "grid_template_rows": null,
            "height": null,
            "justify_content": null,
            "justify_items": null,
            "left": null,
            "margin": null,
            "max_height": null,
            "max_width": null,
            "min_height": null,
            "min_width": null,
            "object_fit": null,
            "object_position": null,
            "order": null,
            "overflow": null,
            "overflow_x": null,
            "overflow_y": null,
            "padding": null,
            "right": null,
            "top": null,
            "visibility": null,
            "width": null
          }
        },
        "8c4733900e4047879da5f170da27de38": {
          "model_module": "@jupyter-widgets/controls",
          "model_name": "DescriptionStyleModel",
          "state": {
            "_model_module": "@jupyter-widgets/controls",
            "_model_module_version": "1.5.0",
            "_model_name": "DescriptionStyleModel",
            "_view_count": null,
            "_view_module": "@jupyter-widgets/base",
            "_view_module_version": "1.2.0",
            "_view_name": "StyleView",
            "description_width": ""
          }
        }
      }
    }
  },
  "cells": [
    {
      "cell_type": "markdown",
      "metadata": {
        "id": "view-in-github",
        "colab_type": "text"
      },
      "source": [
        "<a href=\"https://colab.research.google.com/github/ZackPashkin/swin-transformer-pytorch-starter/blob/main/swin_transformer_pytorch_starter_wb.ipynb\" target=\"_parent\"><img src=\"https://colab.research.google.com/assets/colab-badge.svg\" alt=\"Open In Colab\"/></a>"
      ]
    },
    {
      "cell_type": "code",
      "metadata": {
        "colab": {
          "base_uri": "https://localhost:8080/"
        },
        "id": "3rxA3IT-LdVt",
        "outputId": "f3fea07a-4e20-4f71-99e3-d7f81c070ea5"
      },
      "source": [
        "!nvidia-smi"
      ],
      "execution_count": null,
      "outputs": [
        {
          "output_type": "stream",
          "text": [
            "Tue Jul 20 13:19:54 2021       \n",
            "+-----------------------------------------------------------------------------+\n",
            "| NVIDIA-SMI 470.42.01    Driver Version: 460.32.03    CUDA Version: 11.2     |\n",
            "|-------------------------------+----------------------+----------------------+\n",
            "| GPU  Name        Persistence-M| Bus-Id        Disp.A | Volatile Uncorr. ECC |\n",
            "| Fan  Temp  Perf  Pwr:Usage/Cap|         Memory-Usage | GPU-Util  Compute M. |\n",
            "|                               |                      |               MIG M. |\n",
            "|===============================+======================+======================|\n",
            "|   0  Tesla V100-SXM2...  Off  | 00000000:00:04.0 Off |                    0 |\n",
            "| N/A   38C    P0    39W / 300W |   1541MiB / 16160MiB |      0%      Default |\n",
            "|                               |                      |                  N/A |\n",
            "+-------------------------------+----------------------+----------------------+\n",
            "                                                                               \n",
            "+-----------------------------------------------------------------------------+\n",
            "| Processes:                                                                  |\n",
            "|  GPU   GI   CI        PID   Type   Process name                  GPU Memory |\n",
            "|        ID   ID                                                   Usage      |\n",
            "|=============================================================================|\n",
            "|  No running processes found                                                 |\n",
            "+-----------------------------------------------------------------------------+\n"
          ],
          "name": "stdout"
        }
      ]
    },
    {
      "cell_type": "code",
      "metadata": {
        "id": "FTaik_C2ym7S"
      },
      "source": [
        "# uncomment for the first run\n",
        "!git clone https://github.com/microsoft/Swin-Transformer.git\n",
        "!pip install timm\n",
        "!wget https://github.com/SwinTransformer/storage/releases/download/v1.0.0/swin_tiny_patch4_window7_224.pth ./"
      ],
      "execution_count": null,
      "outputs": []
    },
    {
      "cell_type": "code",
      "metadata": {
        "colab": {
          "base_uri": "https://localhost:8080/"
        },
        "id": "pGEZGPcL7b_q",
        "outputId": "dfbae1b5-df5b-436f-8d44-32f7b40b993c"
      },
      "source": [
        "!pip install wandb -qqq\n",
        "import wandb\n",
        "# Log in to your W&B account\n",
        "wandb.login()"
      ],
      "execution_count": null,
      "outputs": [
        {
          "output_type": "execute_result",
          "data": {
            "text/plain": [
              "True"
            ]
          },
          "metadata": {
            "tags": []
          },
          "execution_count": 15
        }
      ]
    },
    {
      "cell_type": "code",
      "metadata": {
        "id": "Bb0WI13yAJyI"
      },
      "source": [
        "%matplotlib inline\n",
        "import torch\n",
        "import torchvision\n",
        "import torchvision.transforms as transforms\n",
        "import torch.nn as nn\n",
        "\n",
        "import matplotlib.pyplot as plt\n",
        "import numpy as np"
      ],
      "execution_count": null,
      "outputs": []
    },
    {
      "cell_type": "code",
      "metadata": {
        "id": "vVHzEHkrEBzP"
      },
      "source": [
        "torch.manual_seed(42)\n",
        "device = torch.device(\"cuda:0\" if torch.cuda.is_available() else \"cpu\")\n",
        "batch_size = 128\n",
        "epochs = 30"
      ],
      "execution_count": null,
      "outputs": []
    },
    {
      "cell_type": "code",
      "metadata": {
        "colab": {
          "base_uri": "https://localhost:8080/",
          "height": 117,
          "referenced_widgets": [
            "3cc3370959954d4096a0768ca637235a",
            "6db0c17483e648bca48675bfb4d87878",
            "43fff35951364667bf656d1a17807627",
            "9c78d113cc8e46d9b41d05cf93be6f12",
            "a78eaeae7acb4037b366e6641a586162",
            "3dc3b005ae0b49cb9be24753ec4672e1",
            "abd1e377eb51468ca3161d6fe6872b85",
            "7bde6a838e0743a9861f08d6e0188b37"
          ]
        },
        "id": "7Ew6WPmyAJyJ",
        "outputId": "9fa63625-2b50-4727-e6d4-ecf24fbbea57"
      },
      "source": [
        "transform = transforms.Compose(\n",
        "    [transforms.Resize((224,224)),\n",
        "     transforms.ToTensor(),\n",
        "     transforms.Normalize((0.5, 0.5, 0.5), (0.5, 0.5, 0.5))])\n",
        "\n",
        "\n",
        "trainset = torchvision.datasets.CIFAR10(root='./data', train=True,\n",
        "                                        download=True, transform=transform)\n",
        "\n",
        "trainloader = torch.utils.data.DataLoader(trainset, batch_size=batch_size,\n",
        "                                          shuffle=True, num_workers=2)\n",
        "\n",
        "\n",
        "valset = torchvision.datasets.CIFAR10(root='./data', train=False,\n",
        "                                       download=True, transform=transform)\n",
        "\n",
        "valloader = torch.utils.data.DataLoader(valset, batch_size=batch_size,\n",
        "                                         shuffle=False, num_workers=2)\n",
        "\n",
        "classes = ('plane', 'car', 'bird', 'cat',\n",
        "           'deer', 'dog', 'frog', 'horse', 'ship', 'truck')"
      ],
      "execution_count": null,
      "outputs": [
        {
          "output_type": "stream",
          "text": [
            "Downloading https://www.cs.toronto.edu/~kriz/cifar-10-python.tar.gz to ./data/cifar-10-python.tar.gz\n"
          ],
          "name": "stdout"
        },
        {
          "output_type": "display_data",
          "data": {
            "application/vnd.jupyter.widget-view+json": {
              "model_id": "3cc3370959954d4096a0768ca637235a",
              "version_major": 2,
              "version_minor": 0
            },
            "text/plain": [
              "HBox(children=(FloatProgress(value=0.0, max=170498071.0), HTML(value='')))"
            ]
          },
          "metadata": {
            "tags": []
          }
        },
        {
          "output_type": "stream",
          "text": [
            "\n",
            "Extracting ./data/cifar-10-python.tar.gz to ./data\n",
            "Files already downloaded and verified\n"
          ],
          "name": "stdout"
        }
      ]
    },
    {
      "cell_type": "code",
      "metadata": {
        "colab": {
          "base_uri": "https://localhost:8080/",
          "height": 306
        },
        "id": "1B20jtiOAJyK",
        "outputId": "11d6b650-d9b8-4ad3-c85b-e4ba2a8ecc8c"
      },
      "source": [
        "def imshow(img):\n",
        "    img = img / 2 + 0.5     # unnormalize\n",
        "    npimg = img.numpy()\n",
        "    plt.imshow(np.transpose(npimg, (1, 2, 0)))\n",
        "    plt.show()\n",
        "\n",
        "\n",
        "# get some random training images\n",
        "dataiter = iter(trainloader)\n",
        "images, labels = dataiter.next()\n",
        "\n",
        "# show images\n",
        "imshow(torchvision.utils.make_grid(images))\n",
        "# print labels\n",
        "print(' '.join('%5s' % classes[labels[j]] for j in range(batch_size)))"
      ],
      "execution_count": null,
      "outputs": [
        {
          "output_type": "display_data",
          "data": {
            "image/png": "[encoded data removed]",
            "text/plain": [
              "<Figure size 432x288 with 1 Axes>"
            ]
          },
          "metadata": {
            "tags": []
          }
        },
        {
          "output_type": "stream",
          "text": [
            " frog plane  deer   car  bird horse truck  deer horse  ship  deer   dog  frog plane  deer  bird plane   car  frog   car  deer   cat  bird   cat  bird  deer plane horse   dog   car  ship  frog   cat   cat horse plane  deer   car horse   car   cat   car   car   dog  frog   cat horse  ship  bird   cat  deer  ship  bird   car   dog  frog truck truck  frog truck  ship   cat  deer horse  ship horse plane  bird   dog  bird   dog  ship  frog horse  deer plane   dog  bird plane   dog   car   dog   dog   dog   car  ship  frog   dog horse  deer truck   cat  bird  frog  frog horse plane   car  bird   cat  deer  frog   dog truck   cat   dog  ship  ship  bird  frog   dog plane plane  bird  bird plane  deer  deer   dog  bird  ship horse  deer horse  bird  bird plane   cat\n"
          ],
          "name": "stdout"
        }
      ]
    },
    {
      "cell_type": "code",
      "metadata": {
        "colab": {
          "base_uri": "https://localhost:8080/"
        },
        "id": "ZOqJdc5_B_en",
        "outputId": "ac1008f6-6fd2-4305-9a95-57af404a5258"
      },
      "source": [
        "%cd \"/content/Swin-Transformer\"\n",
        "from models.swin_transformer import SwinTransformer\n",
        "net = SwinTransformer(img_size=224,\n",
        "                                patch_size=4,\n",
        "                                in_chans=3,\n",
        "                                num_classes=1000,\n",
        "                                embed_dim=96,\n",
        "                                depths=[2, 2, 6, 2],\n",
        "                                num_heads=[ 3, 6, 12, 24 ],\n",
        "                                window_size=7,\n",
        "                                mlp_ratio=4.,\n",
        "                                qkv_bias=True,\n",
        "                                qk_scale=True,\n",
        "                                drop_rate=0.0,\n",
        "                                drop_path_rate=0.2,\n",
        "                                ape=False,\n",
        "                                patch_norm=True,\n",
        "                                use_checkpoint=True)\n",
        "\n",
        "net.load_state_dict(torch.load('/content/swin_tiny_patch4_window7_224.pth')['model'],strict=True)\n",
        "net.head = nn.Linear(net.head.in_features, 10)\n",
        "\n",
        "dummy_x = torch.randn(1, 3, 224, 224)\n",
        "logits = net(dummy_x) \n",
        "net = net.to(device)\n",
        "print(logits.shape)\n",
        "print(net.head.bias.shape)"
      ],
      "execution_count": null,
      "outputs": [
        {
          "output_type": "stream",
          "text": [
            "/content/Swin-Transformer\n",
            "torch.Size([1, 10])\n",
            "torch.Size([10])\n"
          ],
          "name": "stdout"
        }
      ]
    },
    {
      "cell_type": "code",
      "metadata": {
        "colab": {
          "base_uri": "https://localhost:8080/",
          "height": 1000
        },
        "id": "a8lwq9-yH9bv",
        "outputId": "c8185af3-4afc-4388-e78a-0f3308905087"
      },
      "source": [
        "# model description\n",
        "import pandas as pd\n",
        "import torch\n",
        "import torch.nn as nn\n",
        "from torch.autograd import Variable\n",
        "\n",
        "from collections import OrderedDict\n",
        "import numpy as np\n",
        "\n",
        "model = net\n",
        "input_size = (3,224,224)\n",
        "batch_size= 128\n",
        "device=\"cuda\"\n",
        "\n",
        "def register_hook(module):\n",
        "\n",
        "    def hook(module, input, output):\n",
        "        class_name = str(module.__class__).split(\".\")[-1].split(\"'\")[0]\n",
        "        module_idx = len(summary)\n",
        "\n",
        "        m_key = \"%s-%i\" % (class_name, module_idx + 1)\n",
        "        summary[m_key] = OrderedDict()\n",
        "        summary[m_key][\"input_shape\"] = list(input[0].size())\n",
        "        summary[m_key][\"input_shape\"][0] = batch_size\n",
        "        if isinstance(output, (list, tuple)):\n",
        "            summary[m_key][\"output_shape\"] = [\n",
        "                [-1] + list(o.size())[1:] for o in output\n",
        "            ]\n",
        "        else:\n",
        "            summary[m_key][\"output_shape\"] = list(output.size())\n",
        "            summary[m_key][\"output_shape\"][0] = batch_size\n",
        "\n",
        "        params = 0\n",
        "        if hasattr(module, \"weight\") and hasattr(module.weight, \"size\"):\n",
        "            params += torch.prod(torch.LongTensor(list(module.weight.size())))\n",
        "            summary[m_key][\"trainable\"] = module.weight.requires_grad\n",
        "        if hasattr(module, \"bias\") and hasattr(module.bias, \"size\"):\n",
        "            params += torch.prod(torch.LongTensor(list(module.bias.size())))\n",
        "        summary[m_key][\"nb_params\"] = params\n",
        "\n",
        "    if (\n",
        "        not isinstance(module, nn.Sequential)\n",
        "        and not isinstance(module, nn.ModuleList)\n",
        "        and not (module == model)\n",
        "    ):\n",
        "        hooks.append(module.register_forward_hook(hook))\n",
        "\n",
        "device = device.lower()\n",
        "assert device in [\n",
        "    \"cuda\",\n",
        "    \"cpu\",\n",
        "], \"Input device is not valid, please specify 'cuda' or 'cpu'\"\n",
        "\n",
        "if device == \"cuda\" and torch.cuda.is_available():\n",
        "    dtype = torch.cuda.FloatTensor\n",
        "else:\n",
        "    dtype = torch.FloatTensor\n",
        "\n",
        "# multiple inputs to the network\n",
        "if isinstance(input_size, tuple):\n",
        "    input_size = [input_size]\n",
        "\n",
        "# batch_size of 2 for batchnorm\n",
        "x = [torch.rand(2, *in_size).type(dtype) for in_size in input_size]\n",
        "# print(type(x[0]))\n",
        "\n",
        "# create properties\n",
        "summary = OrderedDict()\n",
        "hooks = []\n",
        "\n",
        "# register hook\n",
        "model.apply(register_hook)\n",
        "\n",
        "# make a forward pass\n",
        "# print(x.shape)\n",
        "model(*x)\n",
        "\n",
        "# remove these hooks\n",
        "for h in hooks:\n",
        "    h.remove()\n",
        "\n",
        "print(\"----------------------------------------------------------------\")\n",
        "line_new = \"{:>20}  {:>25} {:>15}\".format(\"Layer (type)\", \"Output Shape\", \"Param #\")\n",
        "print(line_new)\n",
        "print(\"================================================================\")\n",
        "total_params = 0\n",
        "total_output = 0\n",
        "trainable_params = 0\n",
        "for layer in summary:\n",
        "    # input_shape, output_shape, trainable, nb_params\n",
        "    line_new = \"{:>20}  {:>25} {:>15}\".format(\n",
        "        layer,\n",
        "        str(summary[layer][\"output_shape\"]),\n",
        "        \"{0:,}\".format(summary[layer][\"nb_params\"]),\n",
        "    )\n",
        "    total_params += summary[layer][\"nb_params\"]\n",
        "    total_output += np.prod(summary[layer][\"output_shape\"])\n",
        "    if \"trainable\" in summary[layer]:\n",
        "        if summary[layer][\"trainable\"] == True:\n",
        "            trainable_params += summary[layer][\"nb_params\"]\n",
        "    print(line_new)\n",
        "\n",
        "# assume 4 bytes/number (float on cuda).\n",
        "total_input_size = abs(np.prod(input_size) * batch_size * 4. / (1024 ** 2.))\n",
        "total_output_size = abs(2. * total_output * 4. / (1024 ** 2.))  # x2 for gradients\n",
        "total_params_size = abs(total_params.numpy() * 4. / (1024 ** 2.))\n",
        "total_size = total_params_size + total_output_size + total_input_size\n",
        "\n",
        "\n",
        "summary_df = pd.DataFrame({\"Total params\": int(total_params),\n",
        "                   \"Trainable params\": int(trainable_params),\n",
        "                   \"Non-trainable params\": int(total_params - trainable_params),\n",
        "                   \"Input size (MB)\": total_input_size,\n",
        "                   \"Forward/backward pass size (MB)\":total_output_size,\n",
        "                   \"Params size (MB)\":total_params_size,\n",
        "                   \"Estimated Total Size (MB)\": total_size},index=[0]).reset_index(drop=True).T\n",
        "\n",
        "summary_df"
      ],
      "execution_count": null,
      "outputs": [
        {
          "output_type": "stream",
          "text": [
            "----------------------------------------------------------------\n",
            "        Layer (type)               Output Shape         Param #\n",
            "================================================================\n",
            "            Conv2d-1          [128, 96, 56, 56]           4,704\n",
            "         LayerNorm-2            [128, 3136, 96]             192\n",
            "        PatchEmbed-3            [128, 3136, 96]               0\n",
            "           Dropout-4            [128, 3136, 96]               0\n",
            "         LayerNorm-5            [128, 3136, 96]             192\n",
            "            Linear-6             [128, 49, 288]          27,936\n",
            "           Softmax-7           [128, 3, 49, 49]               0\n",
            "           Dropout-8           [128, 3, 49, 49]               0\n",
            "            Linear-9              [128, 49, 96]           9,312\n",
            "          Dropout-10              [128, 49, 96]               0\n",
            "  WindowAttention-11              [128, 49, 96]               0\n",
            "         Identity-12            [128, 3136, 96]               0\n",
            "        LayerNorm-13            [128, 3136, 96]             192\n",
            "           Linear-14           [128, 3136, 384]          37,248\n",
            "             GELU-15           [128, 3136, 384]               0\n",
            "          Dropout-16           [128, 3136, 384]               0\n",
            "           Linear-17            [128, 3136, 96]          36,960\n",
            "          Dropout-18            [128, 3136, 96]               0\n",
            "              Mlp-19            [128, 3136, 96]               0\n",
            "         Identity-20            [128, 3136, 96]               0\n",
            "SwinTransformerBlock-21            [128, 3136, 96]               0\n",
            "        LayerNorm-22            [128, 3136, 96]             192\n",
            "           Linear-23             [128, 49, 288]          27,936\n",
            "          Softmax-24           [128, 3, 49, 49]               0\n",
            "          Dropout-25           [128, 3, 49, 49]               0\n",
            "           Linear-26              [128, 49, 96]           9,312\n",
            "          Dropout-27              [128, 49, 96]               0\n",
            "  WindowAttention-28              [128, 49, 96]               0\n",
            "         DropPath-29            [128, 3136, 96]               0\n",
            "        LayerNorm-30            [128, 3136, 96]             192\n",
            "           Linear-31           [128, 3136, 384]          37,248\n",
            "             GELU-32           [128, 3136, 384]               0\n",
            "          Dropout-33           [128, 3136, 384]               0\n",
            "           Linear-34            [128, 3136, 96]          36,960\n",
            "          Dropout-35            [128, 3136, 96]               0\n",
            "              Mlp-36            [128, 3136, 96]               0\n",
            "         DropPath-37            [128, 3136, 96]               0\n",
            "SwinTransformerBlock-38            [128, 3136, 96]               0\n",
            "        LayerNorm-39            [128, 784, 384]             768\n",
            "           Linear-40            [128, 784, 192]          73,728\n",
            "     PatchMerging-41            [128, 784, 192]               0\n",
            "       BasicLayer-42            [128, 784, 192]               0\n",
            "        LayerNorm-43            [128, 784, 192]             384\n",
            "           Linear-44             [128, 49, 576]         111,168\n",
            "          Softmax-45           [128, 6, 49, 49]               0\n",
            "          Dropout-46           [128, 6, 49, 49]               0\n",
            "           Linear-47             [128, 49, 192]          37,056\n",
            "          Dropout-48             [128, 49, 192]               0\n",
            "  WindowAttention-49             [128, 49, 192]               0\n",
            "         DropPath-50            [128, 784, 192]               0\n",
            "        LayerNorm-51            [128, 784, 192]             384\n",
            "           Linear-52            [128, 784, 768]         148,224\n",
            "             GELU-53            [128, 784, 768]               0\n",
            "          Dropout-54            [128, 784, 768]               0\n",
            "           Linear-55            [128, 784, 192]         147,648\n",
            "          Dropout-56            [128, 784, 192]               0\n",
            "              Mlp-57            [128, 784, 192]               0\n",
            "         DropPath-58            [128, 784, 192]               0\n",
            "SwinTransformerBlock-59            [128, 784, 192]               0\n",
            "        LayerNorm-60            [128, 784, 192]             384\n",
            "           Linear-61             [128, 49, 576]         111,168\n",
            "          Softmax-62           [128, 6, 49, 49]               0\n",
            "          Dropout-63           [128, 6, 49, 49]               0\n",
            "           Linear-64             [128, 49, 192]          37,056\n",
            "          Dropout-65             [128, 49, 192]               0\n",
            "  WindowAttention-66             [128, 49, 192]               0\n",
            "         DropPath-67            [128, 784, 192]               0\n",
            "        LayerNorm-68            [128, 784, 192]             384\n",
            "           Linear-69            [128, 784, 768]         148,224\n",
            "             GELU-70            [128, 784, 768]               0\n",
            "          Dropout-71            [128, 784, 768]               0\n",
            "           Linear-72            [128, 784, 192]         147,648\n",
            "          Dropout-73            [128, 784, 192]               0\n",
            "              Mlp-74            [128, 784, 192]               0\n",
            "         DropPath-75            [128, 784, 192]               0\n",
            "SwinTransformerBlock-76            [128, 784, 192]               0\n",
            "        LayerNorm-77            [128, 196, 768]           1,536\n",
            "           Linear-78            [128, 196, 384]         294,912\n",
            "     PatchMerging-79            [128, 196, 384]               0\n",
            "       BasicLayer-80            [128, 196, 384]               0\n",
            "        LayerNorm-81            [128, 196, 384]             768\n",
            "           Linear-82            [128, 49, 1152]         443,520\n",
            "          Softmax-83          [128, 12, 49, 49]               0\n",
            "          Dropout-84          [128, 12, 49, 49]               0\n",
            "           Linear-85             [128, 49, 384]         147,840\n",
            "          Dropout-86             [128, 49, 384]               0\n",
            "  WindowAttention-87             [128, 49, 384]               0\n",
            "         DropPath-88            [128, 196, 384]               0\n",
            "        LayerNorm-89            [128, 196, 384]             768\n",
            "           Linear-90           [128, 196, 1536]         591,360\n",
            "             GELU-91           [128, 196, 1536]               0\n",
            "          Dropout-92           [128, 196, 1536]               0\n",
            "           Linear-93            [128, 196, 384]         590,208\n",
            "          Dropout-94            [128, 196, 384]               0\n",
            "              Mlp-95            [128, 196, 384]               0\n",
            "         DropPath-96            [128, 196, 384]               0\n",
            "SwinTransformerBlock-97            [128, 196, 384]               0\n",
            "        LayerNorm-98            [128, 196, 384]             768\n",
            "           Linear-99            [128, 49, 1152]         443,520\n",
            "         Softmax-100          [128, 12, 49, 49]               0\n",
            "         Dropout-101          [128, 12, 49, 49]               0\n",
            "          Linear-102             [128, 49, 384]         147,840\n",
            "         Dropout-103             [128, 49, 384]               0\n",
            " WindowAttention-104             [128, 49, 384]               0\n",
            "        DropPath-105            [128, 196, 384]               0\n",
            "       LayerNorm-106            [128, 196, 384]             768\n",
            "          Linear-107           [128, 196, 1536]         591,360\n",
            "            GELU-108           [128, 196, 1536]               0\n",
            "         Dropout-109           [128, 196, 1536]               0\n",
            "          Linear-110            [128, 196, 384]         590,208\n",
            "         Dropout-111            [128, 196, 384]               0\n",
            "             Mlp-112            [128, 196, 384]               0\n",
            "        DropPath-113            [128, 196, 384]               0\n",
            "SwinTransformerBlock-114            [128, 196, 384]               0\n",
            "       LayerNorm-115            [128, 196, 384]             768\n",
            "          Linear-116            [128, 49, 1152]         443,520\n",
            "         Softmax-117          [128, 12, 49, 49]               0\n",
            "         Dropout-118          [128, 12, 49, 49]               0\n",
            "          Linear-119             [128, 49, 384]         147,840\n",
            "         Dropout-120             [128, 49, 384]               0\n",
            " WindowAttention-121             [128, 49, 384]               0\n",
            "        DropPath-122            [128, 196, 384]               0\n",
            "       LayerNorm-123            [128, 196, 384]             768\n",
            "          Linear-124           [128, 196, 1536]         591,360\n",
            "            GELU-125           [128, 196, 1536]               0\n",
            "         Dropout-126           [128, 196, 1536]               0\n",
            "          Linear-127            [128, 196, 384]         590,208\n",
            "         Dropout-128            [128, 196, 384]               0\n",
            "             Mlp-129            [128, 196, 384]               0\n",
            "        DropPath-130            [128, 196, 384]               0\n",
            "SwinTransformerBlock-131            [128, 196, 384]               0\n",
            "       LayerNorm-132            [128, 196, 384]             768\n",
            "          Linear-133            [128, 49, 1152]         443,520\n",
            "         Softmax-134          [128, 12, 49, 49]               0\n",
            "         Dropout-135          [128, 12, 49, 49]               0\n",
            "          Linear-136             [128, 49, 384]         147,840\n",
            "         Dropout-137             [128, 49, 384]               0\n",
            " WindowAttention-138             [128, 49, 384]               0\n",
            "        DropPath-139            [128, 196, 384]               0\n",
            "       LayerNorm-140            [128, 196, 384]             768\n",
            "          Linear-141           [128, 196, 1536]         591,360\n",
            "            GELU-142           [128, 196, 1536]               0\n",
            "         Dropout-143           [128, 196, 1536]               0\n",
            "          Linear-144            [128, 196, 384]         590,208\n",
            "         Dropout-145            [128, 196, 384]               0\n",
            "             Mlp-146            [128, 196, 384]               0\n",
            "        DropPath-147            [128, 196, 384]               0\n",
            "SwinTransformerBlock-148            [128, 196, 384]               0\n",
            "       LayerNorm-149            [128, 196, 384]             768\n",
            "          Linear-150            [128, 49, 1152]         443,520\n",
            "         Softmax-151          [128, 12, 49, 49]               0\n",
            "         Dropout-152          [128, 12, 49, 49]               0\n",
            "          Linear-153             [128, 49, 384]         147,840\n",
            "         Dropout-154             [128, 49, 384]               0\n",
            " WindowAttention-155             [128, 49, 384]               0\n",
            "        DropPath-156            [128, 196, 384]               0\n",
            "       LayerNorm-157            [128, 196, 384]             768\n",
            "          Linear-158           [128, 196, 1536]         591,360\n",
            "            GELU-159           [128, 196, 1536]               0\n",
            "         Dropout-160           [128, 196, 1536]               0\n",
            "          Linear-161            [128, 196, 384]         590,208\n",
            "         Dropout-162            [128, 196, 384]               0\n",
            "             Mlp-163            [128, 196, 384]               0\n",
            "        DropPath-164            [128, 196, 384]               0\n",
            "SwinTransformerBlock-165            [128, 196, 384]               0\n",
            "       LayerNorm-166            [128, 196, 384]             768\n",
            "          Linear-167            [128, 49, 1152]         443,520\n",
            "         Softmax-168          [128, 12, 49, 49]               0\n",
            "         Dropout-169          [128, 12, 49, 49]               0\n",
            "          Linear-170             [128, 49, 384]         147,840\n",
            "         Dropout-171             [128, 49, 384]               0\n",
            " WindowAttention-172             [128, 49, 384]               0\n",
            "        DropPath-173            [128, 196, 384]               0\n",
            "       LayerNorm-174            [128, 196, 384]             768\n",
            "          Linear-175           [128, 196, 1536]         591,360\n",
            "            GELU-176           [128, 196, 1536]               0\n",
            "         Dropout-177           [128, 196, 1536]               0\n",
            "          Linear-178            [128, 196, 384]         590,208\n",
            "         Dropout-179            [128, 196, 384]               0\n",
            "             Mlp-180            [128, 196, 384]               0\n",
            "        DropPath-181            [128, 196, 384]               0\n",
            "SwinTransformerBlock-182            [128, 196, 384]               0\n",
            "       LayerNorm-183            [128, 49, 1536]           3,072\n",
            "          Linear-184             [128, 49, 768]       1,179,648\n",
            "    PatchMerging-185             [128, 49, 768]               0\n",
            "      BasicLayer-186             [128, 49, 768]               0\n",
            "       LayerNorm-187             [128, 49, 768]           1,536\n",
            "          Linear-188            [128, 49, 2304]       1,771,776\n",
            "         Softmax-189          [128, 24, 49, 49]               0\n",
            "         Dropout-190          [128, 24, 49, 49]               0\n",
            "          Linear-191             [128, 49, 768]         590,592\n",
            "         Dropout-192             [128, 49, 768]               0\n",
            " WindowAttention-193             [128, 49, 768]               0\n",
            "        DropPath-194             [128, 49, 768]               0\n",
            "       LayerNorm-195             [128, 49, 768]           1,536\n",
            "          Linear-196            [128, 49, 3072]       2,362,368\n",
            "            GELU-197            [128, 49, 3072]               0\n",
            "         Dropout-198            [128, 49, 3072]               0\n",
            "          Linear-199             [128, 49, 768]       2,360,064\n",
            "         Dropout-200             [128, 49, 768]               0\n",
            "             Mlp-201             [128, 49, 768]               0\n",
            "        DropPath-202             [128, 49, 768]               0\n",
            "SwinTransformerBlock-203             [128, 49, 768]               0\n",
            "       LayerNorm-204             [128, 49, 768]           1,536\n",
            "          Linear-205            [128, 49, 2304]       1,771,776\n",
            "         Softmax-206          [128, 24, 49, 49]               0\n",
            "         Dropout-207          [128, 24, 49, 49]               0\n",
            "          Linear-208             [128, 49, 768]         590,592\n",
            "         Dropout-209             [128, 49, 768]               0\n",
            " WindowAttention-210             [128, 49, 768]               0\n",
            "        DropPath-211             [128, 49, 768]               0\n",
            "       LayerNorm-212             [128, 49, 768]           1,536\n",
            "          Linear-213            [128, 49, 3072]       2,362,368\n",
            "            GELU-214            [128, 49, 3072]               0\n",
            "         Dropout-215            [128, 49, 3072]               0\n",
            "          Linear-216             [128, 49, 768]       2,360,064\n",
            "         Dropout-217             [128, 49, 768]               0\n",
            "             Mlp-218             [128, 49, 768]               0\n",
            "        DropPath-219             [128, 49, 768]               0\n",
            "SwinTransformerBlock-220             [128, 49, 768]               0\n",
            "      BasicLayer-221             [128, 49, 768]               0\n",
            "       LayerNorm-222             [128, 49, 768]           1,536\n",
            "AdaptiveAvgPool1d-223              [128, 768, 1]               0\n",
            "          Linear-224                  [128, 10]           7,690\n"
          ],
          "name": "stdout"
        },
        {
          "output_type": "execute_result",
          "data": {
            "text/html": [
              "<div>\n",
              "<style scoped>\n",
              "    .dataframe tbody tr th:only-of-type {\n",
              "        vertical-align: middle;\n",
              "    }\n",
              "\n",
              "    .dataframe tbody tr th {\n",
              "        vertical-align: top;\n",
              "    }\n",
              "\n",
              "    .dataframe thead th {\n",
              "        text-align: right;\n",
              "    }\n",
              "</style>\n",
              "<table border=\"1\" class=\"dataframe\">\n",
              "  <thead>\n",
              "    <tr style=\"text-align: right;\">\n",
              "      <th></th>\n",
              "      <th>0</th>\n",
              "    </tr>\n",
              "  </thead>\n",
              "  <tbody>\n",
              "    <tr>\n",
              "      <th>Total params</th>\n",
              "      <td>2.750372e+07</td>\n",
              "    </tr>\n",
              "    <tr>\n",
              "      <th>Trainable params</th>\n",
              "      <td>2.750372e+07</td>\n",
              "    </tr>\n",
              "    <tr>\n",
              "      <th>Non-trainable params</th>\n",
              "      <td>0.000000e+00</td>\n",
              "    </tr>\n",
              "    <tr>\n",
              "      <th>Input size (MB)</th>\n",
              "      <td>7.350000e+01</td>\n",
              "    </tr>\n",
              "    <tr>\n",
              "      <th>Forward/backward pass size (MB)</th>\n",
              "      <td>3.238153e+04</td>\n",
              "    </tr>\n",
              "    <tr>\n",
              "      <th>Params size (MB)</th>\n",
              "      <td>1.049184e+02</td>\n",
              "    </tr>\n",
              "    <tr>\n",
              "      <th>Estimated Total Size (MB)</th>\n",
              "      <td>3.255995e+04</td>\n",
              "    </tr>\n",
              "  </tbody>\n",
              "</table>\n",
              "</div>"
            ],
            "text/plain": [
              "                                            0\n",
              "Total params                     2.750372e+07\n",
              "Trainable params                 2.750372e+07\n",
              "Non-trainable params             0.000000e+00\n",
              "Input size (MB)                  7.350000e+01\n",
              "Forward/backward pass size (MB)  3.238153e+04\n",
              "Params size (MB)                 1.049184e+02\n",
              "Estimated Total Size (MB)        3.255995e+04"
            ]
          },
          "metadata": {
            "tags": []
          },
          "execution_count": 22
        }
      ]
    },
    {
      "cell_type": "code",
      "metadata": {
        "id": "WyhPsy4WAJyM"
      },
      "source": [
        "import torch.optim as optim\n",
        "lr = 5e-4\n",
        "criterion = nn.CrossEntropyLoss()\n",
        "optimizer = optim.SGD(net.parameters(), lr=lr, momentum=0.9)"
      ],
      "execution_count": null,
      "outputs": []
    },
    {
      "cell_type": "code",
      "metadata": {
        "colab": {
          "base_uri": "https://localhost:8080/",
          "height": 119
        },
        "id": "-NpCkoiYvd8J",
        "outputId": "5606d03f-5dad-44b8-d659-dec7c35e4278"
      },
      "source": [
        "# Start a run, tracking hyperparameters\n",
        "wandb.init(\n",
        "  project=\"resnet50 vs swin transformer tiny\",\n",
        "  config={\n",
        "      \"summary\": summary_df,\n",
        "      \"optimizer\": optimizer,\n",
        "      \"loss\": criterion,\n",
        "      \"learning rate\": lr,\n",
        "      \"metric\": \"accuracy\",\n",
        "      \"epoch\": epochs,\n",
        "      \"batch_size\": batch_size,\n",
        "  })\n",
        "config = wandb.config"
      ],
      "execution_count": null,
      "outputs": [
        {
          "output_type": "display_data",
          "data": {
            "text/html": [
              "\n",
              "                Tracking run with wandb version 0.11.0<br/>\n",
              "                Syncing run <strong style=\"color:#cdcd00\">earnest-thunder-2</strong> to <a href=\"https://wandb.ai\" target=\"_blank\">Weights & Biases</a> <a href=\"https://docs.wandb.com/integrations/jupyter.html\" target=\"_blank\">(Documentation)</a>.<br/>\n",
              "                Project page: <a href=\"https://wandb.ai/zack_/resnet50%20vs%20swin%20transformer%20tiny\" target=\"_blank\">https://wandb.ai/zack_/resnet50%20vs%20swin%20transformer%20tiny</a><br/>\n",
              "                Run page: <a href=\"https://wandb.ai/zack_/resnet50%20vs%20swin%20transformer%20tiny/runs/3j4c1vs3\" target=\"_blank\">https://wandb.ai/zack_/resnet50%20vs%20swin%20transformer%20tiny/runs/3j4c1vs3</a><br/>\n",
              "                Run data is saved locally in <code>/content/Swin-Transformer/wandb/run-20210720_132012-3j4c1vs3</code><br/><br/>\n",
              "            "
            ],
            "text/plain": [
              "<IPython.core.display.HTML object>"
            ]
          },
          "metadata": {
            "tags": []
          }
        }
      ]
    },
    {
      "cell_type": "code",
      "metadata": {
        "colab": {
          "background_save": true,
          "base_uri": "https://localhost:8080/",
          "height": 1000,
          "referenced_widgets": [
            "6383f7880e49406d81f91ab973810305",
            "1f305b7cf4c0488caf731a489301c056",
            "09625f2bb3fc4842956f27567fec7349",
            "d734d8d0fd114b9a96e65d28ec78cf2b",
            "c787ed7b83264ba69973a92e937ea101",
            "354b7fb64e954a179c45f5c2a95af7ba",
            "1fd472ee800a4e72b0d8d476b3ffd4da",
            "dc1725c279f247fe98dafba3095af987",
            "f624a2a0a2d243b999f332895c0281dc",
            "c188d341d76d43e8bf3f14c898bfe50a",
            "cc9e31256342453baecfd4d87b788622",
            "8c4c0c876623433b9c7317f53601e006",
            "4e814302d66b48628b8745db9478c314",
            "d15d2490b4fb44be8c9e2000fcdfd171",
            "d23a00012ac84a118b1d5f10cf10aeb4",
            "977cefa0b6134aff8e23e3fde763cc30",
            "bdeb28005a2f49f4bf1a28a70d371f20",
            "96db352d2d5c4f7eb1d7212d03f327ab",
            "af81ce5e4b344aca88b0a681a5a5c1e8",
            "d853162ba5724a5f93fd696dd4690805",
            "59aedef730174330a5f3f9fe0df10de7",
            "498081fe940e47bdab124e7b1e0407e5",
            "d714d03b3f46497eb9a23c8a835bc290",
            "8b091452fb1a4fa4a2657f9c7dc3477a",
            "b72e086fd94141a58d9f0589001d58bd",
            "f1ade7b0863a47b292aabe17564261e9",
            "2e169819ab034d32a3d3afe18f712ac6",
            "29713ccccf484407a1fcf162e3b4c343",
            "71560fe79f2143d6bec49f29b89f75d2",
            "4c0b0b8588ba4e4c889bbe3c76a29471",
            "29480184f6d0485d9c84804ae1e60c9b",
            "4e9c43be5fe24ca28a99986cae83c8fa",
            "0140b6d2c5e8454f92e474cae1bad669",
            "def7be4ca2064961bbda04b1fd186a3c",
            "50d381a1bc7d4715bb6e92a8cd5e3516",
            "4bf1cb4736924dfead6209a630c91775",
            "a7069bb28402479bb102c8a83f879c38",
            "e96c5303779d4f0796e62ba4d6b2b26e",
            "a3d6152dd0784b03913a959d08c27d36",
            "4284a135bf6346b6b4d72122f0992510",
            "d286a0e06b734c4d91c1a9875548ac96",
            "bf18dca2eee2436aa52758948accb71d",
            "711f2a1c6b1946f085011e480ff9afb2",
            "989e656559ef4d01afe2bcdc924e16bd",
            "8138999e6b8444bb8d6d37c234097f63",
            "172cefdb4e4044e0b9eef420583f039f",
            "023cb23911ef44e9804fd5d2c502ca67",
            "8c4733900e4047879da5f170da27de38",
            "7eb0c6574a8240499e9c720101e0883e",
            "793ad592dc4743359999ddf8f3a56fbf",
            "81c4a5e175ba4958a8f41e9be6e0eb4e",
            "7f02a7eac1234069b90e5279a64d8e29",
            "053cadea4ef2442fb77dec1fbe93f6b4",
            "8f0bbacd626f492cbf425ef5bd633a70",
            "ec63f79da7c84c92b9a138864c952f14",
            "9d2d7e3cfc3d419a919e0e3f043b5762",
            "80ef8b10f17649949de9498ed21d68fd",
            "d2faa5d1ba6b4ed3af732ae284f803f6",
            "472fb2b331ff4d1c9d27cba7894a7f6e",
            "586ea188e68748a7bac18aafda6f7173",
            "49b2e32c513547c08bf70155c71a0198",
            "c8fdc452869b4be5825829114beb9eb3",
            "0987db6a414d4b5f9c32f93f28d80fe7",
            "ad4e4d4579a2423298305272452446ea",
            "f5f945c8e0c74e16bb2f0ccdc37ebc6d",
            "f1c6e99e4bc7449e97ebf1187a02baa2",
            "9616372c9c3243f59abfb56390281429",
            "ae73a2fc0c0c4e3fa343c7f05f31f843",
            "1c1e171b71be4aa89cd155ed9021917e",
            "b21a5d35126f4e209ddcf091e186f0bd",
            "f5eea598cb6a492592e99eb532d57e92",
            "eff4a43ada064d5faf3787cb99102810",
            "78801a7ee9044ad3aacd8533bc6d55f6",
            "1291defabd7045c1958ccd112db1c51c"
          ]
        },
        "id": "OyPySHxtAJyM",
        "outputId": "8036a6ee-e818-4f98-c16c-aad68a0750ca"
      },
      "source": [
        "from tqdm.notebook import tqdm\n",
        "from time import time\n",
        "\n",
        "for epoch in tqdm(range(epochs), \"Epoch: \"): \n",
        "    net.train()\n",
        "    optimizer.zero_grad()\n",
        "\n",
        "    start = time()\n",
        "\n",
        "\n",
        "    running_loss = 0.0\n",
        "    tqdm_train = tqdm(enumerate(trainloader, 0), \"Train step: \", total=len(trainloader))\n",
        "    for i, data in tqdm_train:\n",
        "\n",
        "        inputs, labels = data[0].to(device), data[1].to(device)\n",
        "\n",
        "        # zero the parameter gradients\n",
        "        optimizer.zero_grad()\n",
        "\n",
        "        # forward + backward + optimize\n",
        "        outputs = net(inputs)\n",
        "        loss = criterion(outputs, labels)\n",
        "        loss.backward()\n",
        "        optimizer.step()\n",
        "\n",
        "        # print statistics\n",
        "        running_loss += loss.item()\n",
        "        tqdm_train.set_postfix(loss=loss.item())\n",
        "        \n",
        "\n",
        "    \n",
        "    epoch_time = time() - start\n",
        "    print(f\"Epoch time: {epoch_time/60:.3f} min\" )\n",
        "    print(f\"Epoch {epoch + 1} Train loss: {running_loss / len(trainloader):.3f}\")\n",
        "    len_trainloader = len(trainloader)\n",
        "    wandb.log({\"Epoch\":epoch + 1,\n",
        "               \"Epoch time\": epoch_time/60,\n",
        "               \"Train loss\":running_loss/len_trainloader,\n",
        "               })\n",
        "    \n",
        "    running_loss = 0.0\n",
        "    correct_pred = {classname: 0 for classname in classes}\n",
        "    total_pred = {classname: 0 for classname in classes}\n",
        "\n",
        "    with torch.no_grad():\n",
        "        net.eval()\n",
        "        tqdm_val = tqdm(enumerate(valloader, 0), \"Val step: \", total=len(valloader))\n",
        "        for i, data in tqdm_val:\n",
        "            inputs, labels = data[0].to(device), data[1].to(device)  \n",
        "            outputs = net(inputs)\n",
        "            loss = criterion(outputs, labels)\n",
        "            # print statistics\n",
        "            running_loss += loss.item()\n",
        "            tqdm_val.set_postfix(loss=loss.item())\n",
        "            _, predictions = torch.max(outputs, 1)\n",
        "            # collect the correct predictions for each class\n",
        "            for label, prediction in list(zip(labels, predictions)):\n",
        "                if label == prediction:\n",
        "                    correct_pred[classes[label]] += 1\n",
        "                total_pred[classes[label]] += 1 \n",
        "               \n",
        "    # print accuracy for each class\n",
        "    accuracy_sum = []\n",
        "    classnames = []\n",
        "    for classname, correct_count in correct_pred.items():\n",
        "        accuracy = 100 * float(correct_count) / total_pred[classname]\n",
        "        accuracy_sum.append(accuracy)\n",
        "        classnames.append(classname)\n",
        "        print(f\"Accuracy for class {classname}: {accuracy:.1f}%\")  \n",
        "        \n",
        "    classnames_accuracy = list(zip(classnames,accuracy_sum))\n",
        "    print(f\"Epoch {epoch + 1} Val loss: {running_loss / len(valloader):.3f}\")\n",
        "    print(f\"Total accuracy: {sum(accuracy_sum)/len(accuracy_sum)}\")\n",
        "    len_valloader = len(valloader)\n",
        "    wandb.log({\"Epoch\":epoch + 1, \n",
        "               \"Val loss\":running_loss / len_valloader,\n",
        "               \"Accuracy by class\": classnames_accuracy,\n",
        "               \"Total accuracy\": sum(accuracy_sum)/len(accuracy_sum),\n",
        "               })\n",
        "\n",
        "# Mark the run as finished\n",
        "wandb.finish()\n",
        "print('Training comleted')"
      ],
      "execution_count": null,
      "outputs": [
        {
          "output_type": "display_data",
          "data": {
            "application/vnd.jupyter.widget-view+json": {
              "model_id": "6383f7880e49406d81f91ab973810305",
              "version_major": 2,
              "version_minor": 0
            },
            "text/plain": [
              "HBox(children=(FloatProgress(value=0.0, description='Epoch: ', max=30.0, style=ProgressStyle(description_width…"
            ]
          },
          "metadata": {
            "tags": []
          }
        },
        {
          "output_type": "display_data",
          "data": {
            "application/vnd.jupyter.widget-view+json": {
              "model_id": "f624a2a0a2d243b999f332895c0281dc",
              "version_major": 2,
              "version_minor": 0
            },
            "text/plain": [
              "HBox(children=(FloatProgress(value=0.0, description='Train step: ', max=391.0, style=ProgressStyle(description…"
            ]
          },
          "metadata": {
            "tags": []
          }
        },
        {
          "output_type": "stream",
          "text": [
            "\n",
            "Epoch time: 5.251 min\n",
            "Epoch 1 Train loss: 2.085\n"
          ],
          "name": "stdout"
        },
        {
          "output_type": "display_data",
          "data": {
            "application/vnd.jupyter.widget-view+json": {
              "model_id": "bdeb28005a2f49f4bf1a28a70d371f20",
              "version_major": 2,
              "version_minor": 0
            },
            "text/plain": [
              "HBox(children=(FloatProgress(value=0.0, description='Val step: ', max=79.0, style=ProgressStyle(description_wi…"
            ]
          },
          "metadata": {
            "tags": []
          }
        },
        {
          "output_type": "stream",
          "text": [
            "/usr/local/lib/python3.7/dist-packages/torch/utils/checkpoint.py:25: UserWarning: None of the inputs have requires_grad=True. Gradients will be None\n",
            "  warnings.warn(\"None of the inputs have requires_grad=True. Gradients will be None\")\n"
          ],
          "name": "stderr"
        },
        {
          "output_type": "stream",
          "text": [
            "\n",
            "Accuracy for class plane: 46.6%\n",
            "Accuracy for class car: 38.5%\n",
            "Accuracy for class bird: 17.2%\n",
            "Accuracy for class cat: 11.6%\n",
            "Accuracy for class deer: 21.9%\n",
            "Accuracy for class dog: 55.4%\n",
            "Accuracy for class frog: 32.9%\n",
            "Accuracy for class horse: 38.0%\n",
            "Accuracy for class ship: 33.8%\n",
            "Accuracy for class truck: 42.7%\n",
            "Epoch 1 Val loss: 1.758\n",
            "Total accuracy: 33.86\n"
          ],
          "name": "stdout"
        },
        {
          "output_type": "display_data",
          "data": {
            "application/vnd.jupyter.widget-view+json": {
              "model_id": "b72e086fd94141a58d9f0589001d58bd",
              "version_major": 2,
              "version_minor": 0
            },
            "text/plain": [
              "HBox(children=(FloatProgress(value=0.0, description='Train step: ', max=391.0, style=ProgressStyle(description…"
            ]
          },
          "metadata": {
            "tags": []
          }
        },
        {
          "output_type": "stream",
          "text": [
            "\n",
            "Epoch time: 5.275 min\n",
            "Epoch 2 Train loss: 1.691\n"
          ],
          "name": "stdout"
        },
        {
          "output_type": "display_data",
          "data": {
            "application/vnd.jupyter.widget-view+json": {
              "model_id": "0140b6d2c5e8454f92e474cae1bad669",
              "version_major": 2,
              "version_minor": 0
            },
            "text/plain": [
              "HBox(children=(FloatProgress(value=0.0, description='Val step: ', max=79.0, style=ProgressStyle(description_wi…"
            ]
          },
          "metadata": {
            "tags": []
          }
        },
        {
          "output_type": "stream",
          "text": [
            "\n",
            "Accuracy for class plane: 52.3%\n",
            "Accuracy for class car: 62.1%\n",
            "Accuracy for class bird: 29.6%\n",
            "Accuracy for class cat: 28.5%\n",
            "Accuracy for class deer: 42.4%\n",
            "Accuracy for class dog: 51.4%\n",
            "Accuracy for class frog: 64.4%\n",
            "Accuracy for class horse: 50.3%\n",
            "Accuracy for class ship: 67.4%\n",
            "Accuracy for class truck: 34.0%\n",
            "Epoch 2 Val loss: 1.426\n",
            "Total accuracy: 48.24000000000001\n"
          ],
          "name": "stdout"
        },
        {
          "output_type": "display_data",
          "data": {
            "application/vnd.jupyter.widget-view+json": {
              "model_id": "d286a0e06b734c4d91c1a9875548ac96",
              "version_major": 2,
              "version_minor": 0
            },
            "text/plain": [
              "HBox(children=(FloatProgress(value=0.0, description='Train step: ', max=391.0, style=ProgressStyle(description…"
            ]
          },
          "metadata": {
            "tags": []
          }
        },
        {
          "output_type": "stream",
          "text": [
            "\n",
            "Epoch time: 5.299 min\n",
            "Epoch 3 Train loss: 1.306\n"
          ],
          "name": "stdout"
        },
        {
          "output_type": "display_data",
          "data": {
            "application/vnd.jupyter.widget-view+json": {
              "model_id": "7eb0c6574a8240499e9c720101e0883e",
              "version_major": 2,
              "version_minor": 0
            },
            "text/plain": [
              "HBox(children=(FloatProgress(value=0.0, description='Val step: ', max=79.0, style=ProgressStyle(description_wi…"
            ]
          },
          "metadata": {
            "tags": []
          }
        },
        {
          "output_type": "stream",
          "text": [
            "\n",
            "Accuracy for class plane: 66.3%\n",
            "Accuracy for class car: 81.5%\n",
            "Accuracy for class bird: 59.8%\n",
            "Accuracy for class cat: 60.3%\n",
            "Accuracy for class deer: 51.1%\n",
            "Accuracy for class dog: 54.6%\n",
            "Accuracy for class frog: 62.3%\n",
            "Accuracy for class horse: 70.1%\n",
            "Accuracy for class ship: 78.1%\n",
            "Accuracy for class truck: 72.6%\n",
            "Epoch 3 Val loss: 0.973\n",
            "Total accuracy: 65.67000000000002\n"
          ],
          "name": "stdout"
        },
        {
          "output_type": "display_data",
          "data": {
            "application/vnd.jupyter.widget-view+json": {
              "model_id": "793ad592dc4743359999ddf8f3a56fbf",
              "version_major": 2,
              "version_minor": 0
            },
            "text/plain": [
              "HBox(children=(FloatProgress(value=0.0, description='Train step: ', max=391.0, style=ProgressStyle(description…"
            ]
          },
          "metadata": {
            "tags": []
          }
        },
        {
          "output_type": "stream",
          "text": [
            "\n",
            "Epoch time: 5.288 min\n",
            "Epoch 4 Train loss: 0.897\n"
          ],
          "name": "stdout"
        },
        {
          "output_type": "display_data",
          "data": {
            "application/vnd.jupyter.widget-view+json": {
              "model_id": "81c4a5e175ba4958a8f41e9be6e0eb4e",
              "version_major": 2,
              "version_minor": 0
            },
            "text/plain": [
              "HBox(children=(FloatProgress(value=0.0, description='Val step: ', max=79.0, style=ProgressStyle(description_wi…"
            ]
          },
          "metadata": {
            "tags": []
          }
        },
        {
          "output_type": "stream",
          "text": [
            "\n",
            "Accuracy for class plane: 86.5%\n",
            "Accuracy for class car: 89.3%\n",
            "Accuracy for class bird: 66.9%\n",
            "Accuracy for class cat: 61.3%\n",
            "Accuracy for class deer: 83.1%\n",
            "Accuracy for class dog: 74.9%\n",
            "Accuracy for class frog: 84.3%\n",
            "Accuracy for class horse: 80.4%\n",
            "Accuracy for class ship: 82.8%\n",
            "Accuracy for class truck: 90.7%\n",
            "Epoch 4 Val loss: 0.590\n",
            "Total accuracy: 80.02\n"
          ],
          "name": "stdout"
        },
        {
          "output_type": "display_data",
          "data": {
            "application/vnd.jupyter.widget-view+json": {
              "model_id": "7f02a7eac1234069b90e5279a64d8e29",
              "version_major": 2,
              "version_minor": 0
            },
            "text/plain": [
              "HBox(children=(FloatProgress(value=0.0, description='Train step: ', max=391.0, style=ProgressStyle(description…"
            ]
          },
          "metadata": {
            "tags": []
          }
        },
        {
          "output_type": "stream",
          "text": [
            "\n",
            "Epoch time: 5.284 min\n",
            "Epoch 5 Train loss: 0.581\n"
          ],
          "name": "stdout"
        },
        {
          "output_type": "display_data",
          "data": {
            "application/vnd.jupyter.widget-view+json": {
              "model_id": "053cadea4ef2442fb77dec1fbe93f6b4",
              "version_major": 2,
              "version_minor": 0
            },
            "text/plain": [
              "HBox(children=(FloatProgress(value=0.0, description='Val step: ', max=79.0, style=ProgressStyle(description_wi…"
            ]
          },
          "metadata": {
            "tags": []
          }
        },
        {
          "output_type": "stream",
          "text": [
            "\n",
            "Accuracy for class plane: 86.8%\n",
            "Accuracy for class car: 96.1%\n",
            "Accuracy for class bird: 80.6%\n",
            "Accuracy for class cat: 80.4%\n",
            "Accuracy for class deer: 89.4%\n",
            "Accuracy for class dog: 87.3%\n",
            "Accuracy for class frog: 89.6%\n",
            "Accuracy for class horse: 90.8%\n",
            "Accuracy for class ship: 92.8%\n",
            "Accuracy for class truck: 91.2%\n",
            "Epoch 5 Val loss: 0.351\n",
            "Total accuracy: 88.49999999999999\n"
          ],
          "name": "stdout"
        },
        {
          "output_type": "display_data",
          "data": {
            "application/vnd.jupyter.widget-view+json": {
              "model_id": "8f0bbacd626f492cbf425ef5bd633a70",
              "version_major": 2,
              "version_minor": 0
            },
            "text/plain": [
              "HBox(children=(FloatProgress(value=0.0, description='Train step: ', max=391.0, style=ProgressStyle(description…"
            ]
          },
          "metadata": {
            "tags": []
          }
        },
        {
          "output_type": "stream",
          "text": [
            "\n",
            "Epoch time: 5.283 min\n",
            "Epoch 6 Train loss: 0.390\n"
          ],
          "name": "stdout"
        },
        {
          "output_type": "display_data",
          "data": {
            "application/vnd.jupyter.widget-view+json": {
              "model_id": "ec63f79da7c84c92b9a138864c952f14",
              "version_major": 2,
              "version_minor": 0
            },
            "text/plain": [
              "HBox(children=(FloatProgress(value=0.0, description='Val step: ', max=79.0, style=ProgressStyle(description_wi…"
            ]
          },
          "metadata": {
            "tags": []
          }
        },
        {
          "output_type": "stream",
          "text": [
            "\n",
            "Accuracy for class plane: 90.9%\n",
            "Accuracy for class car: 95.8%\n",
            "Accuracy for class bird: 91.3%\n",
            "Accuracy for class cat: 81.4%\n",
            "Accuracy for class deer: 90.0%\n",
            "Accuracy for class dog: 90.3%\n",
            "Accuracy for class frog: 90.6%\n",
            "Accuracy for class horse: 93.9%\n",
            "Accuracy for class ship: 94.3%\n",
            "Accuracy for class truck: 95.3%\n",
            "Epoch 6 Val loss: 0.249\n",
            "Total accuracy: 91.37999999999998\n"
          ],
          "name": "stdout"
        },
        {
          "output_type": "display_data",
          "data": {
            "application/vnd.jupyter.widget-view+json": {
              "model_id": "9d2d7e3cfc3d419a919e0e3f043b5762",
              "version_major": 2,
              "version_minor": 0
            },
            "text/plain": [
              "HBox(children=(FloatProgress(value=0.0, description='Train step: ', max=391.0, style=ProgressStyle(description…"
            ]
          },
          "metadata": {
            "tags": []
          }
        },
        {
          "output_type": "stream",
          "text": [
            "\n",
            "Epoch time: 5.281 min\n",
            "Epoch 7 Train loss: 0.309\n"
          ],
          "name": "stdout"
        },
        {
          "output_type": "display_data",
          "data": {
            "application/vnd.jupyter.widget-view+json": {
              "model_id": "80ef8b10f17649949de9498ed21d68fd",
              "version_major": 2,
              "version_minor": 0
            },
            "text/plain": [
              "HBox(children=(FloatProgress(value=0.0, description='Val step: ', max=79.0, style=ProgressStyle(description_wi…"
            ]
          },
          "metadata": {
            "tags": []
          }
        },
        {
          "output_type": "stream",
          "text": [
            "\n",
            "Accuracy for class plane: 95.3%\n",
            "Accuracy for class car: 95.1%\n",
            "Accuracy for class bird: 91.3%\n",
            "Accuracy for class cat: 80.3%\n",
            "Accuracy for class deer: 90.3%\n",
            "Accuracy for class dog: 93.1%\n",
            "Accuracy for class frog: 95.7%\n",
            "Accuracy for class horse: 94.7%\n",
            "Accuracy for class ship: 95.1%\n",
            "Accuracy for class truck: 96.0%\n",
            "Epoch 7 Val loss: 0.211\n",
            "Total accuracy: 92.69000000000001\n"
          ],
          "name": "stdout"
        },
        {
          "output_type": "display_data",
          "data": {
            "application/vnd.jupyter.widget-view+json": {
              "model_id": "d2faa5d1ba6b4ed3af732ae284f803f6",
              "version_major": 2,
              "version_minor": 0
            },
            "text/plain": [
              "HBox(children=(FloatProgress(value=0.0, description='Train step: ', max=391.0, style=ProgressStyle(description…"
            ]
          },
          "metadata": {
            "tags": []
          }
        },
        {
          "output_type": "stream",
          "text": [
            "\n",
            "Epoch time: 5.277 min\n",
            "Epoch 8 Train loss: 0.253\n"
          ],
          "name": "stdout"
        },
        {
          "output_type": "display_data",
          "data": {
            "application/vnd.jupyter.widget-view+json": {
              "model_id": "472fb2b331ff4d1c9d27cba7894a7f6e",
              "version_major": 2,
              "version_minor": 0
            },
            "text/plain": [
              "HBox(children=(FloatProgress(value=0.0, description='Val step: ', max=79.0, style=ProgressStyle(description_wi…"
            ]
          },
          "metadata": {
            "tags": []
          }
        },
        {
          "output_type": "stream",
          "text": [
            "\n",
            "Accuracy for class plane: 93.5%\n",
            "Accuracy for class car: 98.4%\n",
            "Accuracy for class bird: 93.3%\n",
            "Accuracy for class cat: 86.7%\n",
            "Accuracy for class deer: 92.7%\n",
            "Accuracy for class dog: 90.9%\n",
            "Accuracy for class frog: 97.2%\n",
            "Accuracy for class horse: 96.3%\n",
            "Accuracy for class ship: 96.8%\n",
            "Accuracy for class truck: 95.1%\n",
            "Epoch 8 Val loss: 0.181\n",
            "Total accuracy: 94.09\n"
          ],
          "name": "stdout"
        },
        {
          "output_type": "display_data",
          "data": {
            "application/vnd.jupyter.widget-view+json": {
              "model_id": "586ea188e68748a7bac18aafda6f7173",
              "version_major": 2,
              "version_minor": 0
            },
            "text/plain": [
              "HBox(children=(FloatProgress(value=0.0, description='Train step: ', max=391.0, style=ProgressStyle(description…"
            ]
          },
          "metadata": {
            "tags": []
          }
        },
        {
          "output_type": "stream",
          "text": [
            "\n",
            "Epoch time: 5.283 min\n",
            "Epoch 9 Train loss: 0.223\n"
          ],
          "name": "stdout"
        },
        {
          "output_type": "display_data",
          "data": {
            "application/vnd.jupyter.widget-view+json": {
              "model_id": "49b2e32c513547c08bf70155c71a0198",
              "version_major": 2,
              "version_minor": 0
            },
            "text/plain": [
              "HBox(children=(FloatProgress(value=0.0, description='Val step: ', max=79.0, style=ProgressStyle(description_wi…"
            ]
          },
          "metadata": {
            "tags": []
          }
        },
        {
          "output_type": "stream",
          "text": [
            "\n",
            "Accuracy for class plane: 95.1%\n",
            "Accuracy for class car: 97.6%\n",
            "Accuracy for class bird: 92.0%\n",
            "Accuracy for class cat: 85.9%\n",
            "Accuracy for class deer: 93.8%\n",
            "Accuracy for class dog: 92.7%\n",
            "Accuracy for class frog: 97.5%\n",
            "Accuracy for class horse: 94.5%\n",
            "Accuracy for class ship: 97.5%\n",
            "Accuracy for class truck: 94.9%\n",
            "Epoch 9 Val loss: 0.172\n",
            "Total accuracy: 94.15\n"
          ],
          "name": "stdout"
        },
        {
          "output_type": "display_data",
          "data": {
            "application/vnd.jupyter.widget-view+json": {
              "model_id": "c8fdc452869b4be5825829114beb9eb3",
              "version_major": 2,
              "version_minor": 0
            },
            "text/plain": [
              "HBox(children=(FloatProgress(value=0.0, description='Train step: ', max=391.0, style=ProgressStyle(description…"
            ]
          },
          "metadata": {
            "tags": []
          }
        },
        {
          "output_type": "stream",
          "text": [
            "\n",
            "Epoch time: 5.275 min\n",
            "Epoch 10 Train loss: 0.198\n"
          ],
          "name": "stdout"
        },
        {
          "output_type": "display_data",
          "data": {
            "application/vnd.jupyter.widget-view+json": {
              "model_id": "0987db6a414d4b5f9c32f93f28d80fe7",
              "version_major": 2,
              "version_minor": 0
            },
            "text/plain": [
              "HBox(children=(FloatProgress(value=0.0, description='Val step: ', max=79.0, style=ProgressStyle(description_wi…"
            ]
          },
          "metadata": {
            "tags": []
          }
        },
        {
          "output_type": "stream",
          "text": [
            "\n",
            "Accuracy for class plane: 96.4%\n",
            "Accuracy for class car: 98.6%\n",
            "Accuracy for class bird: 95.8%\n",
            "Accuracy for class cat: 88.4%\n",
            "Accuracy for class deer: 94.7%\n",
            "Accuracy for class dog: 91.8%\n",
            "Accuracy for class frog: 95.9%\n",
            "Accuracy for class horse: 95.1%\n",
            "Accuracy for class ship: 95.2%\n",
            "Accuracy for class truck: 95.6%\n",
            "Epoch 10 Val loss: 0.159\n",
            "Total accuracy: 94.75000000000001\n"
          ],
          "name": "stdout"
        },
        {
          "output_type": "display_data",
          "data": {
            "application/vnd.jupyter.widget-view+json": {
              "model_id": "ad4e4d4579a2423298305272452446ea",
              "version_major": 2,
              "version_minor": 0
            },
            "text/plain": [
              "HBox(children=(FloatProgress(value=0.0, description='Train step: ', max=391.0, style=ProgressStyle(description…"
            ]
          },
          "metadata": {
            "tags": []
          }
        },
        {
          "output_type": "stream",
          "text": [
            "\n",
            "Epoch time: 5.281 min\n",
            "Epoch 11 Train loss: 0.180\n"
          ],
          "name": "stdout"
        },
        {
          "output_type": "display_data",
          "data": {
            "application/vnd.jupyter.widget-view+json": {
              "model_id": "f5f945c8e0c74e16bb2f0ccdc37ebc6d",
              "version_major": 2,
              "version_minor": 0
            },
            "text/plain": [
              "HBox(children=(FloatProgress(value=0.0, description='Val step: ', max=79.0, style=ProgressStyle(description_wi…"
            ]
          },
          "metadata": {
            "tags": []
          }
        },
        {
          "output_type": "stream",
          "text": [
            "\n",
            "Accuracy for class plane: 97.2%\n",
            "Accuracy for class car: 98.0%\n",
            "Accuracy for class bird: 91.6%\n",
            "Accuracy for class cat: 89.5%\n",
            "Accuracy for class deer: 95.1%\n",
            "Accuracy for class dog: 93.1%\n",
            "Accuracy for class frog: 96.7%\n",
            "Accuracy for class horse: 95.3%\n",
            "Accuracy for class ship: 95.2%\n",
            "Accuracy for class truck: 96.9%\n",
            "Epoch 11 Val loss: 0.155\n",
            "Total accuracy: 94.86\n"
          ],
          "name": "stdout"
        },
        {
          "output_type": "display_data",
          "data": {
            "application/vnd.jupyter.widget-view+json": {
              "model_id": "f1c6e99e4bc7449e97ebf1187a02baa2",
              "version_major": 2,
              "version_minor": 0
            },
            "text/plain": [
              "HBox(children=(FloatProgress(value=0.0, description='Train step: ', max=391.0, style=ProgressStyle(description…"
            ]
          },
          "metadata": {
            "tags": []
          }
        },
        {
          "output_type": "stream",
          "text": [
            "\n",
            "Epoch time: 5.276 min\n",
            "Epoch 12 Train loss: 0.160\n"
          ],
          "name": "stdout"
        },
        {
          "output_type": "display_data",
          "data": {
            "application/vnd.jupyter.widget-view+json": {
              "model_id": "9616372c9c3243f59abfb56390281429",
              "version_major": 2,
              "version_minor": 0
            },
            "text/plain": [
              "HBox(children=(FloatProgress(value=0.0, description='Val step: ', max=79.0, style=ProgressStyle(description_wi…"
            ]
          },
          "metadata": {
            "tags": []
          }
        },
        {
          "output_type": "stream",
          "text": [
            "\n",
            "Accuracy for class plane: 95.5%\n",
            "Accuracy for class car: 98.2%\n",
            "Accuracy for class bird: 94.1%\n",
            "Accuracy for class cat: 88.9%\n",
            "Accuracy for class deer: 95.8%\n",
            "Accuracy for class dog: 93.9%\n",
            "Accuracy for class frog: 98.5%\n",
            "Accuracy for class horse: 93.7%\n",
            "Accuracy for class ship: 97.9%\n",
            "Accuracy for class truck: 96.0%\n",
            "Epoch 12 Val loss: 0.145\n",
            "Total accuracy: 95.25\n"
          ],
          "name": "stdout"
        },
        {
          "output_type": "display_data",
          "data": {
            "application/vnd.jupyter.widget-view+json": {
              "model_id": "ae73a2fc0c0c4e3fa343c7f05f31f843",
              "version_major": 2,
              "version_minor": 0
            },
            "text/plain": [
              "HBox(children=(FloatProgress(value=0.0, description='Train step: ', max=391.0, style=ProgressStyle(description…"
            ]
          },
          "metadata": {
            "tags": []
          }
        },
        {
          "output_type": "stream",
          "text": [
            "\n",
            "Epoch time: 5.273 min\n",
            "Epoch 13 Train loss: 0.147\n"
          ],
          "name": "stdout"
        },
        {
          "output_type": "display_data",
          "data": {
            "application/vnd.jupyter.widget-view+json": {
              "model_id": "1c1e171b71be4aa89cd155ed9021917e",
              "version_major": 2,
              "version_minor": 0
            },
            "text/plain": [
              "HBox(children=(FloatProgress(value=0.0, description='Val step: ', max=79.0, style=ProgressStyle(description_wi…"
            ]
          },
          "metadata": {
            "tags": []
          }
        },
        {
          "output_type": "stream",
          "text": [
            "\n",
            "Accuracy for class plane: 95.0%\n",
            "Accuracy for class car: 98.2%\n",
            "Accuracy for class bird: 94.9%\n",
            "Accuracy for class cat: 89.1%\n",
            "Accuracy for class deer: 93.3%\n",
            "Accuracy for class dog: 93.5%\n",
            "Accuracy for class frog: 98.2%\n",
            "Accuracy for class horse: 96.3%\n",
            "Accuracy for class ship: 97.3%\n",
            "Accuracy for class truck: 96.6%\n",
            "Epoch 13 Val loss: 0.136\n",
            "Total accuracy: 95.24\n"
          ],
          "name": "stdout"
        },
        {
          "output_type": "display_data",
          "data": {
            "application/vnd.jupyter.widget-view+json": {
              "model_id": "b21a5d35126f4e209ddcf091e186f0bd",
              "version_major": 2,
              "version_minor": 0
            },
            "text/plain": [
              "HBox(children=(FloatProgress(value=0.0, description='Train step: ', max=391.0, style=ProgressStyle(description…"
            ]
          },
          "metadata": {
            "tags": []
          }
        },
        {
          "output_type": "stream",
          "text": [
            "\n",
            "Epoch time: 5.278 min\n",
            "Epoch 14 Train loss: 0.137\n"
          ],
          "name": "stdout"
        },
        {
          "output_type": "display_data",
          "data": {
            "application/vnd.jupyter.widget-view+json": {
              "model_id": "f5eea598cb6a492592e99eb532d57e92",
              "version_major": 2,
              "version_minor": 0
            },
            "text/plain": [
              "HBox(children=(FloatProgress(value=0.0, description='Val step: ', max=79.0, style=ProgressStyle(description_wi…"
            ]
          },
          "metadata": {
            "tags": []
          }
        },
        {
          "output_type": "stream",
          "text": [
            "\n",
            "Accuracy for class plane: 97.1%\n",
            "Accuracy for class car: 98.6%\n",
            "Accuracy for class bird: 94.5%\n",
            "Accuracy for class cat: 87.9%\n",
            "Accuracy for class deer: 95.3%\n",
            "Accuracy for class dog: 94.7%\n",
            "Accuracy for class frog: 97.1%\n",
            "Accuracy for class horse: 96.2%\n",
            "Accuracy for class ship: 96.2%\n",
            "Accuracy for class truck: 96.9%\n",
            "Epoch 14 Val loss: 0.136\n",
            "Total accuracy: 95.45000000000002\n"
          ],
          "name": "stdout"
        },
        {
          "output_type": "display_data",
          "data": {
            "application/vnd.jupyter.widget-view+json": {
              "model_id": "eff4a43ada064d5faf3787cb99102810",
              "version_major": 2,
              "version_minor": 0
            },
            "text/plain": [
              "HBox(children=(FloatProgress(value=0.0, description='Train step: ', max=391.0, style=ProgressStyle(description…"
            ]
          },
          "metadata": {
            "tags": []
          }
        },
        {
          "output_type": "stream",
          "text": [
            "\n",
            "Epoch time: 5.281 min\n",
            "Epoch 15 Train loss: 0.122\n"
          ],
          "name": "stdout"
        },
        {
          "output_type": "display_data",
          "data": {
            "application/vnd.jupyter.widget-view+json": {
              "model_id": "78801a7ee9044ad3aacd8533bc6d55f6",
              "version_major": 2,
              "version_minor": 0
            },
            "text/plain": [
              "HBox(children=(FloatProgress(value=0.0, description='Val step: ', max=79.0, style=ProgressStyle(description_wi…"
            ]
          },
          "metadata": {
            "tags": []
          }
        },
        {
          "output_type": "stream",
          "text": [
            "\n",
            "Accuracy for class plane: 97.9%\n",
            "Accuracy for class car: 98.7%\n",
            "Accuracy for class bird: 93.4%\n",
            "Accuracy for class cat: 90.4%\n",
            "Accuracy for class deer: 95.3%\n",
            "Accuracy for class dog: 93.2%\n",
            "Accuracy for class frog: 98.4%\n",
            "Accuracy for class horse: 96.6%\n",
            "Accuracy for class ship: 96.2%\n",
            "Accuracy for class truck: 95.9%\n",
            "Epoch 15 Val loss: 0.141\n",
            "Total accuracy: 95.6\n"
          ],
          "name": "stdout"
        },
        {
          "output_type": "display_data",
          "data": {
            "application/vnd.jupyter.widget-view+json": {
              "model_id": "1291defabd7045c1958ccd112db1c51c",
              "version_major": 2,
              "version_minor": 0
            },
            "text/plain": [
              "HBox(children=(FloatProgress(value=0.0, description='Train step: ', max=391.0, style=ProgressStyle(description…"
            ]
          },
          "metadata": {
            "tags": []
          }
        }
      ]
    },
    {
      "cell_type": "code",
      "metadata": {
        "id": "Fq-4dOMkE0xN"
      },
      "source": [
        "# gpu load  7107MiB"
      ],
      "execution_count": null,
      "outputs": []
    },
    {
      "cell_type": "code",
      "metadata": {
        "id": "ncSixb9iAJyN"
      },
      "source": [
        "PATH = './model.pt'\n",
        "torch.save(net.state_dict(), PATH)"
      ],
      "execution_count": null,
      "outputs": []
    },
    {
      "cell_type": "code",
      "metadata": {
        "id": "KZUN9MxdAJyO"
      },
      "source": [
        "dataiter = iter(valloader)\n",
        "images, labels = dataiter.next()\n",
        "\n",
        "# print images\n",
        "imshow(torchvision.utils.make_grid(images))\n",
        "print('GroundTruth: ', ' '.join('%5s' % classes[labels[j]] for j in range(4)))"
      ],
      "execution_count": null,
      "outputs": []
    },
    {
      "cell_type": "code",
      "metadata": {
        "id": "u7IT8DjqAJyO"
      },
      "source": [
        "net.load_state_dict(torch.load(PATH))"
      ],
      "execution_count": null,
      "outputs": []
    },
    {
      "cell_type": "code",
      "metadata": {
        "id": "5IJCaF7ZAJyO"
      },
      "source": [
        "outputs = net(images)"
      ],
      "execution_count": null,
      "outputs": []
    },
    {
      "cell_type": "code",
      "metadata": {
        "id": "8ehbINgTAJyP"
      },
      "source": [
        "_, predicted = torch.max(outputs, 1)\n",
        "\n",
        "print('Predicted: ', ' '.join('%5s' % classes[predicted[j]]\n",
        "                              for j in range(4)))"
      ],
      "execution_count": null,
      "outputs": []
    },
    {
      "cell_type": "markdown",
      "metadata": {
        "id": "528G3Uij-oHd"
      },
      "source": [
        "# Note: \n",
        "## model specs\n",
        "\n",
        "Total params: 27,486,250\n",
        "\n",
        "Trainable params: 27,486,250\n",
        "\n",
        "Non-trainable params: 0\n",
        "----------------------------------------------------------------\n",
        "Input size (MB): 0.57\n",
        "\n",
        "Forward/backward pass size (MB): 269.03\n",
        "\n",
        "Params size (MB): 104.85\n",
        "\n",
        "Estimated Total Size (MB): 374.45\n",
        "\n",
        "\n",
        "See available weights here https://github.com/microsoft/Swin-Transformer\n",
        "\n"
      ]
    },
    {
      "cell_type": "markdown",
      "metadata": {
        "id": "oHxpQG2s_NL1"
      },
      "source": [
        "# Reference\n",
        "\n",
        "\n",
        "https://github.com/sksq96/pytorch-summary#multiple-inputs\n",
        "\n",
        "https://github.com/berniwal/swin-transformer-pytorch\n",
        "\n",
        "https://arxiv.org/pdf/2103.14030.pdf"
      ]
    },
    {
      "cell_type": "code",
      "metadata": {
        "id": "DroAy-8R-noL"
      },
      "source": [
        ""
      ],
      "execution_count": null,
      "outputs": []
    }
  ]
}